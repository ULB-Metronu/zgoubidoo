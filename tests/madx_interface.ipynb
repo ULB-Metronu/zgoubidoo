{
  "cells": [
    {
      "cell_type": "code",
      "execution_count": 1,
      "metadata": {
        "collapsed": true,
        "pycharm": {
          "is_executing": false
        }
      },
      "outputs": [],
      "source": "from zgoubidoo.commands import End\nfrom zgoubidoo.commands.madx import *\nfrom zgoubidoo import Input\nfrom zgoubidoo import Zgoubi\n"
    },
    {
      "cell_type": "code",
      "execution_count": 2,
      "outputs": [
        {
          "name": "stdout",
          "text": [
            "Calling execute for mapping {}\n"
          ],
          "output_type": "stream"
        }
      ],
      "source": "zi \u003d Input(name\u003d\u0027TEST\u0027, line\u003d[End()])\nz \u003d Zgoubi()\nzr \u003d z(zi).collect()\n",
      "metadata": {
        "pycharm": {
          "metadata": false,
          "name": "#%%\n",
          "is_executing": false
        }
      }
    },
    {
      "cell_type": "code",
      "execution_count": null,
      "outputs": [],
      "source": "\n",
      "metadata": {
        "pycharm": {
          "metadata": false,
          "name": "#%%\n"
        }
      }
    }
  ],
  "metadata": {
    "language_info": {
      "codemirror_mode": {
        "name": "ipython",
        "version": 2
      },
      "file_extension": ".py",
      "mimetype": "text/x-python",
      "name": "python",
      "nbconvert_exporter": "python",
      "pygments_lexer": "ipython2",
      "version": "2.7.6"
    },
    "kernelspec": {
      "name": "pycharm-406db87e",
      "language": "python",
      "display_name": "PyCharm (zgoubidoo)"
    }
  },
  "nbformat": 4,
  "nbformat_minor": 0
}