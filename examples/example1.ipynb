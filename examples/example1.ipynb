{
 "cells": [
  {
   "cell_type": "code",
   "execution_count": 1,
   "metadata": {
    "collapsed": true
   },
   "outputs": [
    {
     "ename": "ModuleNotFoundError",
     "evalue": "No module named 'matplotlib'",
     "traceback": [
      "\u001b[0;31m---------------------------------------------------------------------------\u001b[0m",
      "\u001b[0;31mModuleNotFoundError\u001b[0m                       Traceback (most recent call last)",
      "\u001b[0;32m<ipython-input-1-f00f07f774b7>\u001b[0m in \u001b[0;36m<module>\u001b[0;34m()\u001b[0m\n\u001b[0;32m----> 1\u001b[0;31m \u001b[0;32mimport\u001b[0m \u001b[0mmatplotlib\u001b[0m\u001b[0;34m.\u001b[0m\u001b[0mpyplot\u001b[0m \u001b[0;32mas\u001b[0m \u001b[0mplt\u001b[0m\u001b[0;34m\u001b[0m\u001b[0m\n\u001b[0m\u001b[1;32m      2\u001b[0m \u001b[0;32mimport\u001b[0m \u001b[0mpandas\u001b[0m \u001b[0;32mas\u001b[0m \u001b[0mpd\u001b[0m\u001b[0;34m\u001b[0m\u001b[0m\n\u001b[1;32m      3\u001b[0m \u001b[0;32mimport\u001b[0m \u001b[0mnumpy\u001b[0m \u001b[0;32mas\u001b[0m \u001b[0mnp\u001b[0m\u001b[0;34m\u001b[0m\u001b[0m\n\u001b[1;32m      4\u001b[0m \u001b[0;32mimport\u001b[0m \u001b[0mzgoubidoo\u001b[0m\u001b[0;34m\u001b[0m\u001b[0m\n\u001b[1;32m      5\u001b[0m \u001b[0;32mfrom\u001b[0m \u001b[0mzgoubidoo\u001b[0m\u001b[0;34m.\u001b[0m\u001b[0mcommands\u001b[0m \u001b[0;32mimport\u001b[0m \u001b[0;34m*\u001b[0m\u001b[0;34m\u001b[0m\u001b[0m\n",
      "\u001b[0;31mModuleNotFoundError\u001b[0m: No module named 'matplotlib'"
     ],
     "output_type": "error"
    }
   ],
   "source": [
    "import matplotlib.pyplot as plt\n",
    "import pandas as pd\n",
    "import numpy as np\n",
    "import zgoubidoo\n",
    "from zgoubidoo.commands import *\n",
    "_ = zgoubidoo.ureg"
   ]
  },
  {
   "cell_type": "code",
   "execution_count": null,
   "metadata": {},
   "outputs": [
    {
     "ename": "PermissionError",
     "evalue": "[Errno 13] Permission denied: 'zgoubi.dat'",
     "traceback": [
      "\u001b[0;31m---------------------------------------------------------------------------\u001b[0m",
      "\u001b[0;31mPermissionError\u001b[0m                           Traceback (most recent call last)",
      "\u001b[0;32m<ipython-input-2-46e8cd735f4e>\u001b[0m in \u001b[0;36m<module>\u001b[0;34m\u001b[0m\n\u001b[1;32m    122\u001b[0m              )\n\u001b[1;32m    123\u001b[0m \u001b[0mz\u001b[0m \u001b[0;34m=\u001b[0m \u001b[0mzgoubidoo\u001b[0m\u001b[0;34m.\u001b[0m\u001b[0mZgoubi\u001b[0m\u001b[0;34m(\u001b[0m\u001b[0mpath\u001b[0m\u001b[0;34m=\u001b[0m\u001b[0;34m'/Users/chernals/reps/zgoubi-6.0.2/zgoubi'\u001b[0m\u001b[0;34m)\u001b[0m\u001b[0;34m\u001b[0m\u001b[0m\n\u001b[0;32m--> 124\u001b[0;31m \u001b[0mout\u001b[0m \u001b[0;34m=\u001b[0m \u001b[0mz\u001b[0m\u001b[0;34m(\u001b[0m\u001b[0mdi\u001b[0m\u001b[0;34m)\u001b[0m\u001b[0;34m\u001b[0m\u001b[0m\n\u001b[0m\u001b[1;32m    125\u001b[0m \u001b[0mprint\u001b[0m\u001b[0;34m(\u001b[0m\u001b[0;34m'\\n'\u001b[0m\u001b[0;34m.\u001b[0m\u001b[0mjoin\u001b[0m\u001b[0;34m(\u001b[0m\u001b[0mout\u001b[0m\u001b[0;34m[\u001b[0m\u001b[0;34m'result'\u001b[0m\u001b[0;34m]\u001b[0m\u001b[0;34m)\u001b[0m\u001b[0;34m)\u001b[0m\u001b[0;34m\u001b[0m\u001b[0m\n",
      "\u001b[0;32m~/reps/zgoubidoo/zgoubidoo/zgoubi.py\u001b[0m in \u001b[0;36m__call__\u001b[0;34m(self, _, debug)\u001b[0m\n\u001b[1;32m     46\u001b[0m \u001b[0;34m\u001b[0m\u001b[0m\n\u001b[1;32m     47\u001b[0m     \u001b[0;32mdef\u001b[0m \u001b[0m__call__\u001b[0m\u001b[0;34m(\u001b[0m\u001b[0mself\u001b[0m\u001b[0;34m,\u001b[0m \u001b[0m_\u001b[0m\u001b[0;34m,\u001b[0m \u001b[0mdebug\u001b[0m\u001b[0;34m=\u001b[0m\u001b[0;32mFalse\u001b[0m\u001b[0;34m)\u001b[0m\u001b[0;34m:\u001b[0m\u001b[0;34m\u001b[0m\u001b[0m\n\u001b[0;32m---> 48\u001b[0;31m         \u001b[0m_\u001b[0m\u001b[0;34m(\u001b[0m\u001b[0;34m)\u001b[0m\u001b[0;34m\u001b[0m\u001b[0m\n\u001b[0m\u001b[1;32m     49\u001b[0m         \u001b[0mstderr\u001b[0m \u001b[0;34m=\u001b[0m \u001b[0;32mNone\u001b[0m\u001b[0;34m\u001b[0m\u001b[0m\n\u001b[1;32m     50\u001b[0m         p = sub.Popen([self._get_exec()],\n",
      "\u001b[0;32m~/reps/zgoubidoo/zgoubidoo/input.py\u001b[0m in \u001b[0;36m__call__\u001b[0;34m(self, filename)\u001b[0m\n\u001b[1;32m     20\u001b[0m \u001b[0;34m\u001b[0m\u001b[0m\n\u001b[1;32m     21\u001b[0m     \u001b[0;32mdef\u001b[0m \u001b[0m__call__\u001b[0m\u001b[0;34m(\u001b[0m\u001b[0mself\u001b[0m\u001b[0;34m,\u001b[0m \u001b[0mfilename\u001b[0m\u001b[0;34m=\u001b[0m\u001b[0;34m'zgoubi.dat'\u001b[0m\u001b[0;34m)\u001b[0m \u001b[0;34m->\u001b[0m \u001b[0;32mNone\u001b[0m\u001b[0;34m:\u001b[0m\u001b[0;34m\u001b[0m\u001b[0m\n\u001b[0;32m---> 22\u001b[0;31m         \u001b[0mself\u001b[0m\u001b[0;34m.\u001b[0m\u001b[0mwrite\u001b[0m\u001b[0;34m(\u001b[0m\u001b[0mself\u001b[0m\u001b[0;34m,\u001b[0m \u001b[0mfilename\u001b[0m\u001b[0;34m)\u001b[0m\u001b[0;34m\u001b[0m\u001b[0m\n\u001b[0m\u001b[1;32m     23\u001b[0m \u001b[0;34m\u001b[0m\u001b[0m\n\u001b[1;32m     24\u001b[0m     \u001b[0;32mdef\u001b[0m \u001b[0m__len__\u001b[0m\u001b[0;34m(\u001b[0m\u001b[0mself\u001b[0m\u001b[0;34m)\u001b[0m \u001b[0;34m->\u001b[0m \u001b[0mint\u001b[0m\u001b[0;34m:\u001b[0m\u001b[0;34m\u001b[0m\u001b[0m\n",
      "\u001b[0;32m~/reps/zgoubidoo/zgoubidoo/input.py\u001b[0m in \u001b[0;36mwrite\u001b[0;34m(_, filename)\u001b[0m\n\u001b[1;32m     81\u001b[0m     \u001b[0;34m@\u001b[0m\u001b[0mstaticmethod\u001b[0m\u001b[0;34m\u001b[0m\u001b[0m\n\u001b[1;32m     82\u001b[0m     \u001b[0;32mdef\u001b[0m \u001b[0mwrite\u001b[0m\u001b[0;34m(\u001b[0m\u001b[0m_\u001b[0m\u001b[0;34m,\u001b[0m \u001b[0mfilename\u001b[0m\u001b[0;34m=\u001b[0m\u001b[0;34m'zgoubi.dat'\u001b[0m\u001b[0;34m)\u001b[0m \u001b[0;34m->\u001b[0m \u001b[0;32mNone\u001b[0m\u001b[0;34m:\u001b[0m\u001b[0;34m\u001b[0m\u001b[0m\n\u001b[0;32m---> 83\u001b[0;31m         \u001b[0;32mwith\u001b[0m \u001b[0mopen\u001b[0m\u001b[0;34m(\u001b[0m\u001b[0mfilename\u001b[0m\u001b[0;34m,\u001b[0m \u001b[0;34m'w'\u001b[0m\u001b[0;34m)\u001b[0m \u001b[0;32mas\u001b[0m \u001b[0mf\u001b[0m\u001b[0;34m:\u001b[0m\u001b[0;34m\u001b[0m\u001b[0m\n\u001b[0m\u001b[1;32m     84\u001b[0m             \u001b[0mf\u001b[0m\u001b[0;34m.\u001b[0m\u001b[0mwrite\u001b[0m\u001b[0;34m(\u001b[0m\u001b[0mstr\u001b[0m\u001b[0;34m(\u001b[0m\u001b[0m_\u001b[0m\u001b[0;34m)\u001b[0m\u001b[0;34m)\u001b[0m\u001b[0;34m\u001b[0m\u001b[0m\n\u001b[1;32m     85\u001b[0m \u001b[0;34m\u001b[0m\u001b[0m\n",
      "\u001b[0;31mPermissionError\u001b[0m: [Errno 13] Permission denied: 'zgoubi.dat'"
     ],
     "output_type": "error"
    }
   ],
   "source": [
    "XPAS = 1 * _.mm\n",
    "di = zgoubidoo.Input('test-line')\n",
    "di += Objet2('BUNCH', BORO=2149 * _.kilogauss * _.cm).add([[0.0, 0.0, 0.0, 0.0, 0.0, 1.0, 0.0]])    \n",
    "di += Proton()\n",
    "di += Ymy('INITIAL_YMY')\n",
    "di += Dipole('DIPOLE_1', RM=200 * _.cm, AT=30 * _.degree, B0=10.745 * _.kilogauss, N=0,\n",
    "             IL=2,\n",
    "             ACENT=30 * _.degree / 2,\n",
    "             IORDRE=25,\n",
    "             KPOS=2,\n",
    "             XPAS=0.1 * _.centimeter,\n",
    "             OMEGA_E=(30 * _.degree / 2),\n",
    "             OMEGA_S=(-30 * _.degree / 2),\n",
    "             R1_E=1e9 * _.centimeter,\n",
    "             U1_E=1e9 * _.centimeter,\n",
    "             U2_E=1e9 * _.centimeter,\n",
    "             R2_E=1e9 * _.centimeter,\n",
    "             RE=200 * _.centimeter,\n",
    "             TE=0 * _.radian,\n",
    "             RS=200 * _.centimeter,\n",
    "             TS=0 * _.radian)\n",
    "di += Quadrupole('QUAD_1',\n",
    "                 XL=15 * _.cm,\n",
    "                 B0=0.0001 * _.tesla,\n",
    "                 XCE=0.0 * _.centimeter,\n",
    "                 YCE=0.0 * _.centimeter,\n",
    "                 ALE=0. * _.degree,\n",
    "                 XPAS=XPAS,\n",
    "                 KPOS=2,\n",
    "                 )\n",
    "di += Dipole('DIPOLE_2', RM=200 * _.cm, AT=45 * _.degree, B0=10.745 * _.kilogauss, N=0,\n",
    "             IL=2,\n",
    "             ACENT=45 * _.degree / 2,\n",
    "             IORDRE=25,\n",
    "             KPOS=2,\n",
    "             XPAS=0.1 * _.centimeter,\n",
    "             OMEGA_E=(45 * _.degree / 2),\n",
    "             OMEGA_S=(-45 * _.degree / 2),\n",
    "             R1_E=1e9 * _.centimeter,\n",
    "             U1_E=1e9 * _.centimeter,\n",
    "             U2_E=1e9 * _.centimeter,\n",
    "             R2_E=1e9 * _.centimeter,\n",
    "             RE=200 * _.centimeter,\n",
    "             TE=0 * _.radian,\n",
    "             RS=200 * _.centimeter,\n",
    "             TS=0 * _.radian)\n",
    "di += Ymy('INNER_YMY')\n",
    "di += Quadrupole('QUAD_1',\n",
    "                 XL=15 * _.cm,\n",
    "                 B0=0.1 * _.tesla,\n",
    "                 XCE=0.0 * _.centimeter,\n",
    "                 YCE=-0.0 * _.centimeter,\n",
    "                 ALE=0. * _.degree,\n",
    "                 XPAS=XPAS,\n",
    "                 KPOS=2,\n",
    "                 )\n",
    "di += ChangeRef(\n",
    "    TRANSFORMATIONS=[('YS', 50 * _.cm), ('ZR', -15 * _.degree)]\n",
    ")\n",
    "di += Dipole('DIPOLE_3', RM=200 * _.cm, AT=30 * _.degree, B0=10.745 * _.kilogauss, N=0,\n",
    "             IL=2,\n",
    "             ACENT=30 * _.degree / 2,\n",
    "             IORDRE=25,\n",
    "             KPOS=2,\n",
    "             XPAS=0.1 * _.centimeter,\n",
    "             OMEGA_E=(30 * _.degree / 2),\n",
    "             OMEGA_S=(-30 * _.degree / 2),\n",
    "             R1_E=1e9 * _.centimeter,\n",
    "             U1_E=1e9 * _.centimeter,\n",
    "             U2_E=1e9 * _.centimeter,\n",
    "             R2_E=1e9 * _.centimeter,\n",
    "             RE=200 * _.centimeter,\n",
    "             TE=0 * _.radian,\n",
    "             RS=200 * _.centimeter,\n",
    "             TS=0 * _.radian)\n",
    "di += Ymy()\n",
    "di += Quadrupole('QUAD_2',\n",
    "                 XL=50 * _.cm,\n",
    "                 B0=0.00001 * _.tesla,\n",
    "                 XCE=0.0 * _.centimeter,\n",
    "                 YCE=0.0 * _.centimeter,\n",
    "                 ALE=0. * _.degree,\n",
    "                 XPAS=XPAS,\n",
    "                 KPOS=2,\n",
    "                 )\n",
    "di += Bend('BEND_1',\n",
    "           WIDTH=60 * _.cm,\n",
    "           XL=100 * _.cm,\n",
    "           B1=0.0001 * _.tesla,\n",
    "           KPOS=1,\n",
    "           X_E=1 * _.cm,\n",
    "           LAM_E=5 * _.cm,\n",
    "           X_S=1 * _.cm,\n",
    "           LAM_S=5 * _.cm,\n",
    "           )\n",
    "di += Decapole('DECA_1',\n",
    "               XL=50 * _.cm,\n",
    "               B0=0.0001 * _.gauss,\n",
    "               R0=20 * _.cm,\n",
    "               XCE=0.0 * _.centimeter,\n",
    "               YCE=-0.0 * _.centimeter,\n",
    "               ALE=0. * _.degree,\n",
    "               XPAS=XPAS,\n",
    "               KPOS=1,\n",
    "               )\n",
    "di += Dipole('DIPOLE_4', RM=200 * _.cm, AT=30 * _.degree, B0=10.745 * _.kilogauss, N=0,\n",
    "             IL=2,\n",
    "             ACENT=30 * _.degree / 2,\n",
    "             IORDRE=25,\n",
    "             KPOS=2,\n",
    "             XPAS=0.1 * _.centimeter,\n",
    "             OMEGA_E=(30 * _.degree / 2),\n",
    "             OMEGA_S=(-30 * _.degree / 2),\n",
    "             R1_E=1e9 * _.centimeter,\n",
    "             U1_E=1e9 * _.centimeter,\n",
    "             U2_E=1e9 * _.centimeter,\n",
    "             R2_E=1e9 * _.centimeter,\n",
    "             RE=200 * _.centimeter,\n",
    "             TE=0 * _.radian,\n",
    "             RS=200 * _.centimeter,\n",
    "             TS=0 * _.radian\n",
    "             )\n",
    "z = zgoubidoo.Zgoubi(path='/Users/chernals/reps/zgoubi-6.0.2/zgoubi')\n",
    "out = z(di)\n",
    "print('\\n'.join(out['result']))"
   ]
  },
  {
   "cell_type": "code",
   "execution_count": null,
   "metadata": {},
   "outputs": [
    {
     "data": {
      "image/png": "[encoded data removed]",
      "text/plain": [
       "<Figure size 864x576 with 1 Axes>"
      ]
     },
     "metadata": {},
     "output_type": "display_data"
    }
   ],
   "source": [
    "line = zgoubidoo.survey(beamline=di, reference_frame=Frame())\n",
    "fig = plt.figure(figsize=(12, 8))\n",
    "ax = fig.add_subplot(111)\n",
    "\n",
    "zmpl = zgoubidoo.plotting.ZgoubiMpl(ax, with_frames=True, with_boxes=True, with_centers=True, with_drifts=True, tracks_color='b')\n",
    "#tracks = zgoubidoo.read_plt_file()\n",
    "zgoubidoo.plotting.plot(beamline=line, \n",
    "                        artist=zmpl, \n",
    "                        tracks=None, \n",
    "                        )\n",
    "ax.set_aspect('equal', 'datalim')"
   ]
  },
  {
   "cell_type": "code",
   "execution_count": null,
   "metadata": {},
   "outputs": [],
   "source": []
  }
 ],
 "metadata": {
  "kernelspec": {
   "display_name": "Python 2",
   "language": "python",
   "name": "python2"
  },
  "language_info": {
   "codemirror_mode": {
    "name": "ipython",
    "version": 2
   },
   "file_extension": ".py",
   "mimetype": "text/x-python",
   "name": "python",
   "nbconvert_exporter": "python",
   "pygments_lexer": "ipython2",
   "version": "2.7.6"
  }
 },
 "nbformat": 4,
 "nbformat_minor": 0
}
