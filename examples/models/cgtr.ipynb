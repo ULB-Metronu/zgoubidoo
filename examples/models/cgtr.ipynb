{
 "cells": [
  {
   "cell_type": "code",
   "execution_count": null,
   "id": "e30107a1-26fc-46d0-8062-6ea36c035b49",
   "metadata": {},
   "outputs": [],
   "source": [
    "%load_ext autoreload\n",
    "%autoreload 2\n",
    "%matplotlib inline\n",
    "\n",
    "import os\n",
    "import numpy as np\n",
    "import zgoubidoo\n",
    "from zgoubidoo.commands import *\n",
    "from zgoubidoo import ureg as _ureg\n",
    "from zgoubidoo.commands.contrib.iba import *\n",
    "from zgoubidoo.commands.actions import Fit as _Fit\n",
    "from zgoubidoo.commands.actions import FitType as _FitType\n",
    "from zgoubidoo.zgoubi import Zgoubi as _Zgoubi\n",
    "from zgoubidoo.commands.actions import Fit2 as _Fit2\n",
    "from zgoubidoo.commands.magnetique import Multipol\n",
    "from zgoubidoo.commands.contrib.iba import *"
   ]
  },
  {
   "cell_type": "code",
   "execution_count": null,
   "id": "32f430a2-4e14-4097-91f0-d3de77b41c1a",
   "metadata": {},
   "outputs": [],
   "source": [
    "os.environ['ZGOUBI_EXECUTABLE_PATH'] = \"/Users/rtesse/packages/zgoubi-build-clion-develop_gnu9/install/bin/\""
   ]
  },
  {
   "cell_type": "markdown",
   "id": "be2a820f-1ef6-45a8-ac01-41e51fc7e77a",
   "metadata": {},
   "source": [
    "# Create CGTR line"
   ]
  },
  {
   "cell_type": "code",
   "execution_count": null,
   "id": "81dd88aa-f638-4e1a-93bc-922e8805ac1d",
   "metadata": {},
   "outputs": [],
   "source": [
    "cgtr = CGTR(with_fit=True, kinematics=zgoubidoo.Kinematics(140*_ureg.MeV))\n",
    "\n",
    "#Imposing the fringe field effect :\n",
    "cgtr.line.SMX.X_E = 0.0 * _ureg.centimeters # 3 times LAM_...\n",
    "cgtr.line.SMX.X_S = 0.0 * _ureg.centimeters\n",
    "cgtr.line.SMY.X_E = 0.0 * _ureg.centimeters\n",
    "cgtr.line.SMY.X_S = 0.0 * _ureg.centimeters\n",
    "\n",
    "\n",
    "#Modification of the integration path :\n",
    "cgtr.line.B1G.XPAS = 1.0 * _ureg.centimeters\n",
    "cgtr.line.B2G.XPAS = 1.0 * _ureg.centimeters\n",
    "cgtr.line.B3G.XPAS = 3.0 * _ureg.centimeters\n",
    "cgtr.line.Q1G.XPAS = 1.0 * _ureg.centimeters\n",
    "cgtr.line.Q2G.XPAS = 1.0 * _ureg.centimeters\n",
    "cgtr.line.Q3G.XPAS = 1.0 * _ureg.centimeters\n",
    "cgtr.line.Q4G.XPAS = 1.0 * _ureg.centimeters\n",
    "cgtr.line.Q5G.XPAS = 1.0 * _ureg.centimeters\n",
    "cgtr.line.Q6G.XPAS = 1.0 * _ureg.centimeters\n",
    "cgtr.line.Q7G.XPAS = 1.0 * _ureg.centimeters\n",
    "\n",
    "cgtr.line.IL = 2\n",
    "cgtr.line.survey(with_reference_trajectory=True);"
   ]
  },
  {
   "cell_type": "markdown",
   "id": "7f1c77dc-273b-41de-b8df-99e318fdd262",
   "metadata": {},
   "source": [
    "# Plot the CGTR with a tracks"
   ]
  },
  {
   "cell_type": "code",
   "execution_count": null,
   "id": "deb74714-01ae-4e4d-969b-a505cf1b89c6",
   "metadata": {},
   "outputs": [],
   "source": [
    "zr = zgoubidoo.Zgoubi()(cgtr.line).collect() #zgoubi results\n",
    "tracks_global = zr.tracks_global\n",
    "tracks_frenet = zr.tracks_frenet"
   ]
  },
  {
   "cell_type": "markdown",
   "id": "5ef86bb9-5b48-4169-bcaf-b97929cb60d1",
   "metadata": {},
   "source": [
    "### Make a spot @ (0,0)"
   ]
  },
  {
   "cell_type": "code",
   "execution_count": null,
   "id": "361c1b82-6e17-4078-9222-b623f75222ee",
   "metadata": {},
   "outputs": [],
   "source": [
    "tracks = cgtr.spots([[0,0]], with_tracks=True)\n",
    "zr = zgoubidoo.Zgoubi()(cgtr.line).collect() #zgoubi results\n",
    "\n",
    "tracks_global_centered = zr.tracks_global\n",
    "tracks_frenet_centered = zr.tracks_frenet"
   ]
  },
  {
   "cell_type": "markdown",
   "id": "9382fb48-450f-4de9-a142-77a596c09ec6",
   "metadata": {},
   "source": [
    "## Global coordinates"
   ]
  },
  {
   "cell_type": "code",
   "execution_count": null,
   "id": "f078bba4-1403-4f88-82b5-9e8896733220",
   "metadata": {},
   "outputs": [],
   "source": [
    "artist = zgoubidoo.vis.ZgoubidooPlotlyArtist(width=800, height=600)\n",
    "\n",
    "artist.scatter(\n",
    "    x=tracks_global['XG'],\n",
    "    y=tracks_global['YG'],\n",
    "    line={'width': 2, 'color': 'blue'},\n",
    "    mode='lines',\n",
    "    name='original',\n",
    "    )\n",
    "\n",
    "artist.scatter(\n",
    "    x=tracks_global_centered['XG'],\n",
    "    y=tracks_global_centered['YG'],\n",
    "    line={'width': 2, 'color': 'red'},\n",
    "    mode='lines',\n",
    "    name='centered',\n",
    "    )\n",
    "\n",
    "artist.plot_beamline(beamline=cgtr.line, with_frames=True, with_map=True)\n",
    "artist.render()"
   ]
  },
  {
   "cell_type": "markdown",
   "id": "bca9e38a-c3c4-4763-b800-08b294c0c8c9",
   "metadata": {},
   "source": [
    "## Frenet coordinates"
   ]
  },
  {
   "cell_type": "code",
   "execution_count": null,
   "id": "e666e245-2638-45cb-9a9c-434590f1b357",
   "metadata": {},
   "outputs": [],
   "source": [
    "artist = zgoubidoo.vis.ZgoubidooPlotlyArtist(width=800, height=600)\n",
    "\n",
    "artist.scatter(\n",
    "        x=tracks_frenet['SREF'],\n",
    "        y=tracks_frenet['YT'],\n",
    "        name='Original',\n",
    "        line={'width': 2, 'color': 'blue'},\n",
    "        mode='lines',\n",
    "    )\n",
    "\n",
    "artist.scatter(\n",
    "        x=tracks_frenet_centered['SREF'],\n",
    "        y=tracks_frenet_centered['YT'],\n",
    "        line={'width': 2, 'color': 'red'},\n",
    "        name='Centered',\n",
    "        mode='lines',\n",
    "    )\n",
    "\n",
    "artist.plot_cartouche(beamline=cgtr.line, vertical_position=1.2)\n",
    "artist.render()"
   ]
  },
  {
   "cell_type": "markdown",
   "id": "b4e31163-5504-4638-b80f-d8d5864ec89e",
   "metadata": {},
   "source": [
    "# Scanning on a grid"
   ]
  },
  {
   "cell_type": "code",
   "execution_count": null,
   "id": "8b7448a5-5cc0-4636-bd1c-e92306cb6a51",
   "metadata": {},
   "outputs": [],
   "source": [
    "sample_x = np.linspace(-5, 5, 11)\n",
    "sample_y = np.linspace(-5, 5, 11)\n",
    "\n",
    "spots = np.asarray(list(map(lambda y : list(map(lambda x : [x,y], sample_x)), sample_y))) #convert input as array\n",
    "spots = spots.reshape(sample_x.size * sample_y.size,2)\n",
    "\n",
    "tracks = cgtr.spots(spots, with_tracks=True)\n",
    "fields = np.asarray(list(map(lambda x : tracks.query(f'SPOT_X == {x[0]} and SPOT_Y == {x[1]}')[['SMX__B1', 'SMY__B1']].iloc[0].values, spots)))"
   ]
  },
  {
   "cell_type": "markdown",
   "id": "45447fc0-f399-4942-bffa-edf1e7ede2b7",
   "metadata": {},
   "source": [
    "## Plot the results"
   ]
  },
  {
   "cell_type": "code",
   "execution_count": null,
   "id": "b28ea340-99fa-41d5-b97c-69ce62e542b6",
   "metadata": {},
   "outputs": [],
   "source": [
    "artist = zgoubidoo.vis.ZgoubidooPlotlyArtist(width=800)\n",
    "artist.fig['layout']['xaxis']['title'] = \"X (cm)\"\n",
    "artist.fig['layout']['yaxis']['title'] = \"Y (cm)\"\n",
    "artist.scatter(\n",
    "        x=tracks.query(\"LABEL1 == 'ISO'\")['Y'] * 100,\n",
    "        y=tracks.query(\"LABEL1 == 'ISO'\")['Z'] * 100,\n",
    "        marker={'color': 'blue', 'symbol': 303, 'size': 5},\n",
    "        name='Nominal',\n",
    "        mode='markers',\n",
    "    )\n",
    "artist.render()"
   ]
  },
  {
   "cell_type": "markdown",
   "id": "4919824b-f217-4221-96d2-565f9427f933",
   "metadata": {},
   "source": [
    "## Plot the field in SMX - SMY"
   ]
  },
  {
   "cell_type": "code",
   "execution_count": null,
   "id": "0e95011a-94bc-458a-9b18-51cc244948d2",
   "metadata": {},
   "outputs": [],
   "source": [
    "artist = zgoubidoo.vis.ZgoubidooPlotlyArtist(width=800)\n",
    "artist.fig['layout']['xaxis']['title'] = \"Magnetic field in SMX (T)\"\n",
    "artist.fig['layout']['yaxis']['title'] = \"Magnetic field in SMY (T)\"\n",
    "artist.scatter(\n",
    "        x=fields[:,0],\n",
    "        y=fields[:,1],\n",
    "        marker={'color': 'blue', 'symbol': 303, 'size': 5},\n",
    "        name='Nominal',\n",
    "        mode='markers',\n",
    "    )\n",
    "artist.render()"
   ]
  }
 ],
 "metadata": {
  "kernelspec": {
   "display_name": "zgoubidoo",
   "language": "python",
   "name": "zgoubidoo"
  },
  "language_info": {
   "codemirror_mode": {
    "name": "ipython",
    "version": 3
   },
   "file_extension": ".py",
   "mimetype": "text/x-python",
   "name": "python",
   "nbconvert_exporter": "python",
   "pygments_lexer": "ipython3",
   "version": "3.8.10+"
  }
 },
 "nbformat": 4,
 "nbformat_minor": 5
}
