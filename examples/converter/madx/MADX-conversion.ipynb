{
 "cells": [
  {
   "cell_type": "code",
   "execution_count": null,
   "id": "0e540d85-273c-40e0-89f6-775bf1a0babc",
   "metadata": {},
   "outputs": [],
   "source": [
    "%load_ext autoreload\n",
    "%autoreload 2\n",
    "\n",
    "import os\n",
    "from georges_core.sequences import TwissSequence\n",
    "from georges_core import twiss\n",
    "import zgoubidoo\n",
    "from zgoubidoo.commands import *\n",
    "from zgoubidoo import ureg as _"
   ]
  },
  {
   "cell_type": "code",
   "execution_count": null,
   "id": "edaf2e84-874d-4b74-8e47-24f44e99a8c3",
   "metadata": {},
   "outputs": [],
   "source": [
    "os.environ['ZGOUBI_EXECUTABLE_PATH'] = \"/Users/rtesse/packages/zgoubi-build-clion-develop_gnu9/install/bin/\""
   ]
  },
  {
   "cell_type": "markdown",
   "id": "efb30516-8885-43d2-8523-d28b37c7bef8",
   "metadata": {},
   "source": [
    "# Load the MAD-X Twiss table and convert to Zgoubi input file"
   ]
  },
  {
   "cell_type": "code",
   "execution_count": null,
   "id": "38a9e54d-461e-4802-b57e-13bc32951360",
   "metadata": {},
   "outputs": [],
   "source": [
    "input_madx = TwissSequence(filename=f\"test45degspreader.outx\")\n",
    "zi = zgoubidoo.Input.from_sequence(sequence=input_madx,\n",
    "                                   beam=BeamInputDistribution,\n",
    "                                   with_survey=True,\n",
    "                                   with_survey_reference=True,\n",
    "                                   converters={'sbend': zgoubidoo.converters.sbend_to_zgoubi,\n",
    "                                               'quadrupole': zgoubidoo.converters.quadrupole_to_zgoubi},\n",
    "                                   options={\n",
    "                                       'sbend': {'command': Dipole}\n",
    "                                   }\n",
    "                                  )\n",
    "zi.XPAS = 5*_.cm\n",
    "zr_tracking = zgoubidoo.Zgoubi()(zi).collect()"
   ]
  },
  {
   "cell_type": "markdown",
   "id": "640b3cda-54cb-4432-b1e2-41eef9b3243c",
   "metadata": {},
   "source": [
    "# Make the Twiss"
   ]
  },
  {
   "cell_type": "code",
   "execution_count": null,
   "id": "6d095ae1-6474-47ae-9b60-059870d09aff",
   "metadata": {},
   "outputs": [],
   "source": [
    "twiss_beam = Objet5('BEAM', BORO=input_madx.kinematics.brho)"
   ]
  },
  {
   "cell_type": "code",
   "execution_count": null,
   "id": "dbf06e98-cdc5-40ba-805a-1a6c5034da93",
   "metadata": {},
   "outputs": [],
   "source": [
    "zi.replace('BEAM', twiss_beam)\n",
    "zi.XPAS=15*_.cm\n",
    "\n",
    "zr_twiss = zgoubidoo.Zgoubi()(zi).collect()\n",
    "M = zgoubidoo.twiss.compute_transfer_matrix(\n",
    "    beamline=zi,\n",
    "    tracks=zr_twiss.tracks_frenet)\n",
    "results_twiss = twiss.Twiss(twiss_init=input_madx.betablock)(matrix=M)"
   ]
  },
  {
   "cell_type": "markdown",
   "id": "9f8d8913-40cb-4544-8184-5c5f25c06301",
   "metadata": {},
   "source": [
    "# Plotting"
   ]
  },
  {
   "cell_type": "markdown",
   "id": "7a62a344-ae73-4f1a-8c46-9dea66ff6b60",
   "metadata": {},
   "source": [
    "## Global coordinates"
   ]
  },
  {
   "cell_type": "code",
   "execution_count": null,
   "id": "dfa02e08-f886-4068-9243-96ac4b992bf0",
   "metadata": {},
   "outputs": [],
   "source": [
    "artist=zgoubidoo.vis.ZgoubidooPlotlyArtist(width=1200)\n",
    "\n",
    "artist.fig['layout']['xaxis']['title'] = 'X (m)'\n",
    "artist.fig['layout']['yaxis']['title'] = 'Y (m)'\n",
    "\n",
    "artist.scatter(\n",
    "    x=zr_tracking.tracks_global['XG'], \n",
    "    y=zr_tracking.tracks_global['YG'],\n",
    "    marker={'color': 'red', 'size': 2},\n",
    "    mode='lines',\n",
    "    showlegend=False,\n",
    "    )\n",
    "\n",
    "artist.plot_beamline(beamline=zi, with_frames=True, with_apertures=True, with_map=True)\n",
    "artist.render()"
   ]
  },
  {
   "cell_type": "markdown",
   "id": "d22c17cc-5ea9-495e-8ec6-86178352ac7e",
   "metadata": {},
   "source": [
    "## Twiss"
   ]
  },
  {
   "cell_type": "markdown",
   "id": "cdad702f-b63e-42d1-a65a-2e80aa4276bf",
   "metadata": {},
   "source": [
    "### Beta function"
   ]
  },
  {
   "cell_type": "code",
   "execution_count": null,
   "id": "f35c513b-9584-4eeb-a96c-37f8a1d47667",
   "metadata": {},
   "outputs": [],
   "source": [
    "artist = zgoubidoo.vis.ZgoubidooPlotlyArtist()\n",
    "artist.fig['layout']['xaxis']['title'] = r'S (m)'\n",
    "artist.fig['layout']['yaxis']['title'] = r'$\\beta (m)$'\n",
    "artist.fig['layout']['width'] = 1200\n",
    "artist.fig['layout']['height'] = 800\n",
    "\n",
    "artist.scatter(\n",
    "    x=results_twiss['S'],\n",
    "    y=results_twiss['BETA11'],\n",
    "    marker={'color': 'darkblue', 'size': 2},\n",
    "    mode='lines',\n",
    "    name=f\"Horizontal\",\n",
    ")\n",
    "\n",
    "artist.scatter(\n",
    "    x=results_twiss['S'], \n",
    "    y=results_twiss['BETA22'],\n",
    "    marker={'color': 'darkred', 'size': 2},\n",
    "    mode='lines',\n",
    "    name=f\"Vertical\",\n",
    "    )\n",
    "\n",
    "\n",
    "artist.scatter(\n",
    "    x=input_madx.df['S'],\n",
    "    y=input_madx.df['BETX'],\n",
    "    marker={'color': 'black', 'symbol': '303'},\n",
    "    mode='markers',\n",
    "    name=f\"MAD-X\",\n",
    "    showlegend = True\n",
    ")\n",
    "\n",
    "artist.scatter(\n",
    "    x=input_madx.df['S'],\n",
    "    y=input_madx.df['BETY'],\n",
    "    marker={'color': 'black', 'symbol': '303'},\n",
    "    mode='markers',\n",
    "    name=f\"MAD-X\",\n",
    "    showlegend = False\n",
    ")\n",
    "\n",
    "\n",
    "artist.plot_cartouche(beamline=zi, vertical_position=1.12)\n",
    "artist.render()"
   ]
  },
  {
   "cell_type": "markdown",
   "id": "5f403b09-e11e-46c5-a348-1e1fed7ab055",
   "metadata": {},
   "source": [
    "### Dispersion"
   ]
  },
  {
   "cell_type": "code",
   "execution_count": null,
   "id": "5659223c-0778-4c6f-a88e-899002f01872",
   "metadata": {},
   "outputs": [],
   "source": [
    "artist = zgoubidoo.vis.ZgoubidooPlotlyArtist()\n",
    "artist.fig['layout']['xaxis']['title'] = r'S (m)'\n",
    "artist.fig['layout']['yaxis']['title'] = r'$D_x(m)$'\n",
    "artist.fig['layout']['width'] = 1200\n",
    "artist.fig['layout']['height'] = 800\n",
    "\n",
    "artist.scatter(\n",
    "    x=results_twiss['S'],\n",
    "    y=results_twiss['DISP1'],\n",
    "    marker={'color': 'darkorange', 'size': 2},\n",
    "    mode='lines',\n",
    "    name=f\"Horizontal\",\n",
    ")\n",
    "\n",
    "\n",
    "artist.scatter(\n",
    "    x=input_madx.df['S'],\n",
    "    y=input_madx.df['DX'],\n",
    "    marker={'color': 'black', 'symbol': '303'},\n",
    "    mode='markers',\n",
    "    name=f\"MAD-X\",\n",
    "    showlegend = True\n",
    ")\n",
    "\n",
    "\n",
    "artist.plot_cartouche(beamline=zi, vertical_position=1.12)\n",
    "artist.render()"
   ]
  }
 ],
 "metadata": {
  "kernelspec": {
   "display_name": "zgoubidoo",
   "language": "python",
   "name": "zgoubidoo"
  },
  "language_info": {
   "codemirror_mode": {
    "name": "ipython",
    "version": 3
   },
   "file_extension": ".py",
   "mimetype": "text/x-python",
   "name": "python",
   "nbconvert_exporter": "python",
   "pygments_lexer": "ipython3",
   "version": "3.8.10+"
  }
 },
 "nbformat": 4,
 "nbformat_minor": 5
}
