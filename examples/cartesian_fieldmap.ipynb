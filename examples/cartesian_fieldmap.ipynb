{
 "cells": [
  {
   "cell_type": "code",
   "execution_count": null,
   "id": "c10fe227-8e50-47b9-9357-bd0b18f3fe09",
   "metadata": {},
   "outputs": [],
   "source": [
    "%load_ext autoreload\n",
    "%autoreload 2\n",
    "\n",
    "import numpy as np\n",
    "import sympy as sp\n",
    "from itertools import product\n",
    "\n",
    "\n",
    "from zgoubidoo.commands import *\n",
    "from zgoubidoo.fieldmaps import *\n",
    "from zgoubidoo import ureg as _"
   ]
  },
  {
   "cell_type": "markdown",
   "id": "f3e31892-863e-4878-855c-cfdce3d82052",
   "metadata": {},
   "source": [
    "# Kinematics and magnet parameters"
   ]
  },
  {
   "cell_type": "code",
   "execution_count": null,
   "id": "7875df92-8444-4c4c-a4ed-bfad92651a5f",
   "metadata": {},
   "outputs": [],
   "source": [
    "kin = zgoubidoo.Kinematics(140 * _.MeV)\n",
    "B1 = (kin.brho / (1*_.m)) / 50\n",
    "g_val= 0.15 *_.m\n",
    "\n",
    "XL = 1 * _.m\n",
    "WE = 50 * _.degrees\n",
    "WS = 50 * _.degrees\n",
    "\n",
    "C0 = 0.1455\n",
    "C1 = 2.2670\n",
    "C2 = -0.6395\n",
    "C3 = 1.1558\n",
    "C4 = 0\n",
    "C5 = 0\n",
    "\n",
    "XE = 2 * g_val\n",
    "XS = 2 * g_val"
   ]
  },
  {
   "cell_type": "code",
   "execution_count": null,
   "id": "9cd5790e-69b9-4aca-a8fd-22eaebc64b1b",
   "metadata": {},
   "outputs": [],
   "source": [
    "ref_beam = Objet2('BUNCH', BORO=kin.brho)\n",
    "ref_beam.add(np.array([\n",
    "    [0, 0, 0, 0, 1.0],\n",
    "]))\n",
    "ref_beam;"
   ]
  },
  {
   "cell_type": "markdown",
   "id": "c47fe8a1-13a8-486f-93dc-8eb9e6c2bf02",
   "metadata": {},
   "source": [
    "# Create sympy expressions for the field"
   ]
  },
  {
   "cell_type": "markdown",
   "id": "8b40ad5e-6351-44d8-91d6-37c72260f103",
   "metadata": {},
   "source": [
    "## Symbols"
   ]
  },
  {
   "cell_type": "code",
   "execution_count": null,
   "id": "00182fd6-25cf-405f-9cd3-b238807874b5",
   "metadata": {},
   "outputs": [],
   "source": [
    "B0 = sp.symbols('B0')\n",
    "k = sp.symbols('k')\n",
    "y = sp.symbols('y')\n",
    "y0 = sp.symbols('y0')\n",
    "g = sp.symbols('g')\n",
    "x = sp.symbols('x')\n",
    "\n",
    "d_e = sp.symbols('d_e')\n",
    "d_s = sp.symbols('d_s')\n",
    "xe = sp.symbols('xe')\n",
    "xs = sp.symbols('xs')\n",
    "xl = sp.symbols('xl')\n",
    "\n",
    "\n",
    "C = sp.IndexedBase('C')\n",
    "L = sp.symbols('L')\n",
    "i = sp.symbols('i', integer=True)"
   ]
  },
  {
   "cell_type": "code",
   "execution_count": null,
   "id": "16b8bcc0-825a-4af5-bfe5-70cb4f23a9b3",
   "metadata": {},
   "outputs": [],
   "source": [
    "# Enge function \n",
    "FE = 1 / (1 + sp.exp(sp.Sum(C[i] * (d_e/g)**i,(i,0,5))))\n",
    "FS = 1 / (1 + sp.exp(sp.Sum(C[i] * (d_s/g)**i,(i,0,5))))"
   ]
  },
  {
   "cell_type": "markdown",
   "id": "e0cf52a5-e3bc-4ba4-ac1e-fcaaf436f5fd",
   "metadata": {
    "tags": []
   },
   "source": [
    "## Definition of the field"
   ]
  },
  {
   "cell_type": "code",
   "execution_count": null,
   "id": "57f2a37f-09ec-45cf-9b69-df583c939727",
   "metadata": {},
   "outputs": [],
   "source": [
    "Bx = 0\n",
    "By = 0\n",
    "Bz = B0 * FE * FS\n",
    "Bz"
   ]
  },
  {
   "cell_type": "code",
   "execution_count": null,
   "id": "26e95c38-4c7e-4171-a5cd-d9436eed4110",
   "metadata": {},
   "outputs": [],
   "source": [
    "Bz = Bz.replace(B0, B1.m_as('kG'))"
   ]
  },
  {
   "cell_type": "markdown",
   "id": "786c5dab-1c34-46a4-8da7-f5af2389a9a5",
   "metadata": {},
   "source": [
    "# Usage for Zgoubidoo"
   ]
  },
  {
   "cell_type": "markdown",
   "id": "7425cd94-349a-4b3a-ad7a-2e597fd3a45e",
   "metadata": {},
   "source": [
    "## Create the mesh"
   ]
  },
  {
   "cell_type": "code",
   "execution_count": null,
   "id": "7f6cdb1b-ba26-4931-a185-8dd2ba49c699",
   "metadata": {},
   "outputs": [],
   "source": [
    "x_val = np.linspace(0, XL.m_as('cm') + XE.m_as('cm') + XS.m_as('cm'), 201)\n",
    "y_val = np.linspace(-20, 20, 101)\n",
    "z_val = [0]\n",
    "\n",
    "mesh = np.array(list(product(x_val, y_val, z_val)))"
   ]
  },
  {
   "cell_type": "markdown",
   "id": "1a2d87a9-249b-4ca7-b6da-c3cb5a5ac902",
   "metadata": {},
   "source": [
    "## Create the field map"
   ]
  },
  {
   "cell_type": "code",
   "execution_count": null,
   "id": "14b4eb64-22ad-4790-9cbf-9485a3fe574d",
   "metadata": {},
   "outputs": [],
   "source": [
    "parameters_map = {g: g_val.m_as('cm'),\n",
    "                  C[0]: C0,\n",
    "                  C[1]: C1,\n",
    "                  C[2]: C2,\n",
    "                  C[3]: C3,\n",
    "                  C[4]: C4,\n",
    "                  C[5]: C5,\n",
    "                  d_e: (-(x - xe + y*np.tan(-WE.m_as('radians'))))*np.cos(WE.m_as('radians')),\n",
    "                  d_s: ((x - xl) - xe + y*np.tan(WS.m_as('radians')))*np.cos(WS.m_as('radians')),\n",
    "                  B0: B1.m_as('kG'),\n",
    "                  xe: XE.m_as('cm'),\n",
    "                  xs: XS.m_as('cm'),\n",
    "                  xl: XL.m_as('cm'),\n",
    "                 }\n",
    "Bz_val = Bz.doit().subs(parameters_map)"
   ]
  },
  {
   "cell_type": "code",
   "execution_count": null,
   "id": "d7b59a08-d8c4-4a19-ac45-d2a34a6f99db",
   "metadata": {
    "tags": []
   },
   "outputs": [],
   "source": [
    "fm = CartesianFieldMap.generate_from_cartesian_expression(bx_expression=Bx,\n",
    "                                                          by_expression=By,\n",
    "                                                          bz_expression=Bz_val, \n",
    "                                                          mesh=mesh)\n",
    "fmap = fm(label1='a', path='.', binary=False, MOD=0, MOD2=0, generator=ToscaCartesian2D, load_map=True)"
   ]
  },
  {
   "cell_type": "code",
   "execution_count": null,
   "id": "b5a72e52-9796-4aa1-8c10-b8b61ee84d21",
   "metadata": {},
   "outputs": [],
   "source": [
    "fmap.length"
   ]
  },
  {
   "cell_type": "markdown",
   "id": "bc207381-bbaa-40bb-bded-509632426028",
   "metadata": {},
   "source": [
    "# Use Zgoubi"
   ]
  },
  {
   "cell_type": "code",
   "execution_count": null,
   "id": "972e9c08-03a4-4581-ba55-2aa38556b6e3",
   "metadata": {},
   "outputs": [],
   "source": [
    "zi = zgoubidoo.Input(name='SPIRAL', line=\n",
    "               [ref_beam,\n",
    "                fmap,\n",
    "               ])\n",
    "zi.XPAS = 1*_.mm\n",
    "zi.survey(reference_frame=zgoubidoo.Frame(), with_reference_trajectory=True, reference_kinematics=kin);\n",
    "zi.IL = 2\n",
    "zr = zgoubidoo.Zgoubi()(zi).collect()"
   ]
  },
  {
   "cell_type": "code",
   "execution_count": null,
   "id": "6fc27eea-22a4-4c12-8833-e14d4cfc3b8d",
   "metadata": {},
   "outputs": [],
   "source": [
    "artist=zgoubidoo.vis.ZgoubidooPlotlyArtist()\n",
    "\n",
    "artist.fig['layout']['xaxis']['title'] = 'X (m)'\n",
    "artist.fig['layout']['yaxis']['title'] = 'Field (T)'\n",
    "artist.fig['layout']['legend'] = dict(\n",
    "    x=1.01,\n",
    "    y=1)\n",
    "\n",
    "artist.scatter(x=zr.tracks_frenet['X'][::5], \n",
    "               y=zr.tracks_frenet['BZ'][::5],\n",
    "               name='rbend', mode= 'markers')\n",
    "\n",
    "artist.plot_cartouche(beamline=zi)\n",
    "\n",
    "artist.render()"
   ]
  },
  {
   "cell_type": "code",
   "execution_count": null,
   "id": "3063b373-7ae2-4501-ba44-704b8a299fc1",
   "metadata": {},
   "outputs": [],
   "source": [
    "artist=zgoubidoo.vis.ZgoubidooPlotlyArtist(width=800, height=600)\n",
    "\n",
    "artist.fig['layout']['xaxis']['title'] = 'X (m)'\n",
    "artist.fig['layout']['yaxis']['title'] = 'Y (m)'\n",
    "artist.fig['layout']['legend'] = dict(\n",
    "    x=1.25,\n",
    "    y=1)\n",
    "\n",
    "\n",
    "artist.scatter(x=zr.tracks_frenet['X'][::5], \n",
    "               y=zr.tracks_frenet['YT'][::5],\n",
    "               mode= 'markers')\n",
    "\n",
    "artist.plot_cartouche(beamline=zi)\n",
    "\n",
    "artist.render()"
   ]
  },
  {
   "cell_type": "code",
   "execution_count": null,
   "id": "f40ca87c-d1ce-4f7c-bf0e-f3e43c5f1a55",
   "metadata": {},
   "outputs": [],
   "source": [
    "artist=zgoubidoo.vis.ZgoubidooPlotlyArtist(width=800, height=600)\n",
    "\n",
    "artist.fig['layout']['xaxis']['title'] = 'X (m)'\n",
    "artist.fig['layout']['yaxis']['title'] = 'Y (m)'\n",
    "artist.fig['layout']['legend'] = dict(\n",
    "    x=1.25,\n",
    "    y=1)\n",
    "\n",
    "artist.scatter(x=zr.tracks_global['XG'][::5], \n",
    "               y=zr.tracks_global['YG'][::5],\n",
    "               mode= 'markers')\n",
    "\n",
    "artist.plot_beamline(beamline=zi)\n",
    "\n",
    "artist.render()"
   ]
  }
 ],
 "metadata": {
  "kernelspec": {
   "display_name": "zgoubidoo",
   "language": "python",
   "name": "zgoubidoo"
  },
  "language_info": {
   "codemirror_mode": {
    "name": "ipython",
    "version": 3
   },
   "file_extension": ".py",
   "mimetype": "text/x-python",
   "name": "python",
   "nbconvert_exporter": "python",
   "pygments_lexer": "ipython3",
   "version": "3.8.12+"
  }
 },
 "nbformat": 4,
 "nbformat_minor": 5
}
