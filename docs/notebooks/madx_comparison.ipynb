{
 "cells": [
  {
   "cell_type": "markdown",
   "id": "a9b678b7-6292-4e87-a216-f18567e01a8f",
   "metadata": {},
   "source": [
    "# Conversion from MAD-X tfs file"
   ]
  },
  {
   "cell_type": "code",
   "execution_count": null,
   "id": "e5a237e4-24b5-4bb7-8c01-5c41d215910f",
   "metadata": {},
   "outputs": [],
   "source": [
    "import georges_core.twiss\n",
    "import zgoubidoo\n",
    "from zgoubidoo import sequences\n",
    "from zgoubidoo.commands import *\n",
    "from zgoubidoo import ureg as _ureg"
   ]
  },
  {
   "cell_type": "markdown",
   "id": "b68bb592-12a8-4343-9653-ebf77f4e3e6f",
   "metadata": {},
   "source": [
    "## Load the MAD-X Twiss table and convert to Zgoubi input file"
   ]
  },
  {
   "cell_type": "code",
   "execution_count": null,
   "id": "123a1fc5-096f-4327-a242-b35eb3dbd49e",
   "metadata": {
    "tags": []
   },
   "outputs": [],
   "source": [
    "input_madx = sequences.TwissSequence(filename=\"../ressources/test45degspreader.outx\")\n",
    "zi = zgoubidoo.Input.from_sequence(sequence=input_madx,\n",
    "                                   with_survey=True,\n",
    "                                   with_survey_reference=True,\n",
    "                                   converters={'sbend': zgoubidoo.converters.sbend_to_zgoubi,\n",
    "                                               'quadrupole': zgoubidoo.converters.quadrupole_to_zgoubi},\n",
    "                                   options={\n",
    "                                       'sbend': {'command': Dipole}\n",
    "                                   }\n",
    "                                  )\n",
    "zi.XPAS = 5*_ureg.cm\n",
    "zr_tracking = zgoubidoo.Zgoubi()(zi).collect()"
   ]
  },
  {
   "cell_type": "markdown",
   "id": "071cad08-d4eb-4b74-bfd0-56c64602486c",
   "metadata": {},
   "source": [
    "## Perform Twiss"
   ]
  },
  {
   "cell_type": "code",
   "execution_count": null,
   "id": "5e9c0a55-a066-41da-8845-21d406e76b3a",
   "metadata": {},
   "outputs": [],
   "source": [
    "zi.replace('BEAM', Objet5('BEAM', BORO=input_madx.kinematics.brho))\n",
    "zi.XPAS=15*_ureg.cm\n",
    "\n",
    "zr_twiss = zgoubidoo.Zgoubi()(zi).collect()\n",
    "M = zgoubidoo.twiss.compute_transfer_matrix(\n",
    "    beamline=zi,\n",
    "    tracks=zr_twiss.tracks_frenet)\n",
    "results_twiss = georges_core.twiss.Twiss(twiss_init=input_madx.betablock)(matrix=M)"
   ]
  },
  {
   "cell_type": "markdown",
   "id": "a9d5add6-69a6-4d14-8d95-ec73cd1d31da",
   "metadata": {},
   "source": [
    "## Plotting"
   ]
  },
  {
   "cell_type": "markdown",
   "id": "83e99ba6-b929-498e-998c-ba437ebbf614",
   "metadata": {},
   "source": [
    "### Global coordinates"
   ]
  },
  {
   "cell_type": "code",
   "execution_count": null,
   "id": "88d27fc1-0c7e-4190-9173-c08a20c9eb47",
   "metadata": {
    "tags": []
   },
   "outputs": [],
   "source": [
    "artist=zgoubidoo.vis.ZgoubidooPlotlyArtist(width=800)\n",
    "\n",
    "artist.fig['layout']['xaxis']['title'] = 'X (m)'\n",
    "artist.fig['layout']['yaxis']['title'] = 'Y (m)'\n",
    "\n",
    "artist.scatter(\n",
    "    x=zr_tracking.tracks_global['XG'],\n",
    "    y=zr_tracking.tracks_global['YG'],\n",
    "    marker={'color': 'red', 'size': 2},\n",
    "    mode='lines',\n",
    "    showlegend=False,\n",
    "    )\n",
    "\n",
    "artist.plot_beamline(beamline=zi, with_frames=True, with_apertures=True, with_map=True)\n",
    "artist.render()"
   ]
  },
  {
   "cell_type": "markdown",
   "id": "7254c52c-b297-436d-9ab6-ea630c96fa14",
   "metadata": {},
   "source": [
    "### Twiss"
   ]
  },
  {
   "cell_type": "markdown",
   "id": "beee4970-fab7-42e5-a29c-f64809065c2a",
   "metadata": {},
   "source": [
    "#### Beta function"
   ]
  },
  {
   "cell_type": "code",
   "execution_count": null,
   "id": "4f128448-7d15-4561-9d39-5c41a9ea08e9",
   "metadata": {},
   "outputs": [],
   "source": [
    "art = zgoubidoo.vis.ZgoubidooPlotlyArtist(width=600)\n",
    "artist = art.plot_twiss(beamline=zi, twiss=results_twiss, twiss_madx=input_madx.df, beta=True, dispersion=False)\n",
    "artist.render()"
   ]
  },
  {
   "cell_type": "markdown",
   "id": "c8339c71-5ee2-4056-b586-85a3086baf98",
   "metadata": {},
   "source": [
    "#### Alpha function \n"
   ]
  },
  {
   "cell_type": "code",
   "execution_count": null,
   "id": "2de89b8c-4bfd-435b-bb4b-7133d46f7c2e",
   "metadata": {},
   "outputs": [],
   "source": [
    "art = zgoubidoo.vis.ZgoubidooPlotlyArtist(width=600)\n",
    "artist = art.plot_twiss(beamline=zi, twiss=results_twiss, twiss_madx=input_madx.df, beta=False, alpha=True, dispersion=False)\n",
    "artist.render()"
   ]
  },
  {
   "cell_type": "markdown",
   "id": "b4e082a6-6c11-4a90-b4b8-1afb949c5a93",
   "metadata": {},
   "source": [
    "#### Dispersion"
   ]
  },
  {
   "cell_type": "code",
   "execution_count": null,
   "id": "8f6e7dd2-b04f-48b1-b964-e428db7b381d",
   "metadata": {},
   "outputs": [],
   "source": [
    "art = zgoubidoo.vis.ZgoubidooPlotlyArtist(width=600)\n",
    "artist = art.plot_twiss(beamline=zi, twiss=results_twiss, twiss_madx=input_madx.df, beta=False, alpha=False, dispersion=True)\n",
    "artist.render()"
   ]
  },
  {
   "cell_type": "markdown",
   "id": "1489bba6-a12c-4729-aae3-4c40d0ef9d59",
   "metadata": {},
   "source": [
    "#### Dispersion prime"
   ]
  },
  {
   "cell_type": "code",
   "execution_count": null,
   "id": "53b4aa3a-f443-41f4-bdd1-c0392e7ed005",
   "metadata": {},
   "outputs": [],
   "source": [
    "art = zgoubidoo.vis.ZgoubidooPlotlyArtist(width=600)\n",
    "artist = art.plot_twiss(beamline=zi, twiss=results_twiss, twiss_madx=input_madx.df, beta=False, alpha=False, dispersion=False, dispersion_prime=True)\n",
    "artist.render()"
   ]
  },
  {
   "cell_type": "markdown",
   "id": "041c7e92-8d39-40ab-99cf-1ec0a07cbf7f",
   "metadata": {},
   "source": [
    "#### Phase advance"
   ]
  },
  {
   "cell_type": "code",
   "execution_count": null,
   "id": "c51c0b19-e65f-4a3f-9e96-23f6bd05709b",
   "metadata": {},
   "outputs": [],
   "source": [
    "art = zgoubidoo.vis.ZgoubidooPlotlyArtist(width=600)\n",
    "artist = art.plot_twiss(beamline=zi, twiss=results_twiss, twiss_madx=input_madx.df, beta=False, alpha=False, dispersion=False, mu=True)\n",
    "artist.render()"
   ]
  }
 ],
 "metadata": {
  "kernelspec": {
   "display_name": "zgoubidoo",
   "language": "python",
   "name": "zgoubidoo"
  },
  "language_info": {
   "codemirror_mode": {
    "name": "ipython",
    "version": 3
   },
   "file_extension": ".py",
   "mimetype": "text/x-python",
   "name": "python",
   "nbconvert_exporter": "python",
   "pygments_lexer": "ipython3",
   "version": "3.10.8"
  }
 },
 "nbformat": 4,
 "nbformat_minor": 5
}
