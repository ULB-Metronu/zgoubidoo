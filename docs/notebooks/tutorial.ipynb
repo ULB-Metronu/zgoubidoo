{
 "cells": [
  {
   "cell_type": "code",
   "execution_count": 1,
   "metadata": {},
   "outputs": [],
   "source": [
    "%load_ext autoreload\n",
    "%autoreload 2"
   ]
  },
  {
   "cell_type": "markdown",
   "metadata": {},
   "source": [
    "# Zgoubidoo tutorial"
   ]
  },
  {
   "cell_type": "markdown",
   "metadata": {},
   "source": [
    "A gentle introduction to Zgoubidoo: a modern Python 3 interface to the Zgoubi ray-tracing code.\n",
    "\n",
    "Tutorial's objectives:\n",
    "- Build Zgoubi simulations from scratch with no advanced knowledge of Zgoubi or Python\n",
    "- Introduce key concepts usefull for a wide range of Zgoubi simulations\n",
    "- Highlights advantages of Zgoubidoo: ease of use, repeatability, speed (especially on multi-core computers, aka. any computers)"
   ]
  },
  {
   "cell_type": "markdown",
   "metadata": {},
   "source": [
    "## Getting started\n",
    "\n",
    "Assume you have the `zgoubi` executable located somewhere in your path."
   ]
  },
  {
   "cell_type": "markdown",
   "metadata": {},
   "source": [
    "### Import zgoubidoo"
   ]
  },
  {
   "cell_type": "code",
   "execution_count": 2,
   "metadata": {},
   "outputs": [],
   "source": [
    "import zgoubidoo\n",
    "from zgoubidoo.commands import *"
   ]
  },
  {
   "cell_type": "markdown",
   "metadata": {},
   "source": [
    "All physical quantities used by `zgoubidoo` have units. For simplicity the 'units registry' can get a short name:"
   ]
  },
  {
   "cell_type": "code",
   "execution_count": 3,
   "metadata": {},
   "outputs": [],
   "source": [
    "from zgoubidoo import ureg as _"
   ]
  },
  {
   "cell_type": "markdown",
   "metadata": {},
   "source": [
    "Let's have a first look at units:"
   ]
  },
  {
   "cell_type": "code",
   "execution_count": 4,
   "metadata": {},
   "outputs": [
    {
     "data": {
      "text/plain": [
       "0.021"
      ]
     },
     "execution_count": 4,
     "metadata": {},
     "output_type": "execute_result"
    }
   ],
   "source": [
    "a = 1 * _.m\n",
    "b = 1 * _.m + 10 * _.cm\n",
    "b += a\n",
    "b.to('hectometers').magnitude"
   ]
  },
  {
   "cell_type": "markdown",
   "metadata": {},
   "source": [
    "A bit more interesting:"
   ]
  },
  {
   "cell_type": "code",
   "execution_count": 5,
   "metadata": {},
   "outputs": [
    {
     "data": {
      "text/html": [
       "1.0 kilogauss meter"
      ],
      "text/latex": [
       "$1.0\\ \\mathrm{kilogauss} \\cdot \\mathrm{meter}$"
      ],
      "text/plain": [
       "1.0 <Unit('kilogauss * meter')>"
      ]
     },
     "execution_count": 5,
     "metadata": {},
     "output_type": "execute_result"
    }
   ],
   "source": [
    "brho = 1 * _.tesla * 10 * _.cm\n",
    "brho.to('kilogauss meter')"
   ]
  },
  {
   "cell_type": "markdown",
   "metadata": {},
   "source": [
    "**Exercice**: define quantities in other units of interest for Zgoubi simulations. In particular, try angles, energies, etc."
   ]
  },
  {
   "cell_type": "markdown",
   "metadata": {},
   "source": [
    "### Import additionnal very useful Python packages"
   ]
  },
  {
   "cell_type": "code",
   "execution_count": 6,
   "metadata": {},
   "outputs": [],
   "source": [
    "%matplotlib inline\n",
    "import matplotlib.pyplot as plt\n",
    "import numpy as np\n",
    "import pandas as pd"
   ]
  },
  {
   "cell_type": "markdown",
   "metadata": {},
   "source": [
    "**Exercice**: Have a look at what `matplotlib`, `numpy` and `pandas` are and what they can do."
   ]
  },
  {
   "cell_type": "markdown",
   "metadata": {},
   "source": [
    "### A first look at Zgoubi keywords and Zgoubidoo commands"
   ]
  },
  {
   "cell_type": "markdown",
   "metadata": {},
   "source": [
    "All `zgoubi` commands ('KEYWORDS') have their equivalent `zgoubidoo` class. They all inhereit from the `zgoubidoo.commands.Command` base class which overloads a bunch of \"special\" Python functions. Most notably the `__str__` function."
   ]
  },
  {
   "cell_type": "code",
   "execution_count": 7,
   "metadata": {},
   "outputs": [
    {
     "data": {
      "text/plain": [
       "zgoubidoo.commands.magnetique.Quadrupole"
      ]
     },
     "execution_count": 7,
     "metadata": {},
     "output_type": "execute_result"
    }
   ],
   "source": [
    "Quadrupole"
   ]
  },
  {
   "cell_type": "code",
   "execution_count": 8,
   "metadata": {},
   "outputs": [
    {
     "data": {
      "text/plain": [
       "zgoubidoo.commands.magnetique.Venus"
      ]
     },
     "execution_count": 8,
     "metadata": {},
     "output_type": "execute_result"
    }
   ],
   "source": [
    "Venus"
   ]
  },
  {
   "cell_type": "code",
   "execution_count": 9,
   "metadata": {},
   "outputs": [
    {
     "data": {
      "text/plain": [
       "zgoubidoo.commands.commands.ChangRef"
      ]
     },
     "execution_count": 9,
     "metadata": {},
     "output_type": "execute_result"
    }
   ],
   "source": [
    "ChangRef"
   ]
  },
  {
   "cell_type": "code",
   "execution_count": 10,
   "metadata": {},
   "outputs": [
    {
     "data": {
      "text/plain": [
       "zgoubidoo.commands.actions.Fit"
      ]
     },
     "execution_count": 10,
     "metadata": {},
     "output_type": "execute_result"
    }
   ],
   "source": [
    "Fit"
   ]
  },
  {
   "cell_type": "code",
   "execution_count": 11,
   "metadata": {},
   "outputs": [
    {
     "data": {
      "text/plain": [
       "zgoubidoo.commands.particules.Particule"
      ]
     },
     "execution_count": 11,
     "metadata": {},
     "output_type": "execute_result"
    }
   ],
   "source": [
    "Particule"
   ]
  },
  {
   "cell_type": "code",
   "execution_count": 12,
   "metadata": {},
   "outputs": [
    {
     "data": {
      "text/plain": [
       "zgoubidoo.commands.fieldmaps.Tosca"
      ]
     },
     "execution_count": 12,
     "metadata": {},
     "output_type": "execute_result"
    }
   ],
   "source": [
    "Tosca"
   ]
  },
  {
   "cell_type": "markdown",
   "metadata": {},
   "source": [
    "**Exercice**: Find your favorite command. Complain if it's not available. (*bonus*) Implement a new command, just to see how easy it is."
   ]
  },
  {
   "cell_type": "markdown",
   "metadata": {},
   "source": [
    "And so on."
   ]
  },
  {
   "cell_type": "markdown",
   "metadata": {},
   "source": [
    "To create a command one needs to instanciate an object from the corresponding class:"
   ]
  },
  {
   "cell_type": "code",
   "execution_count": 13,
   "metadata": {},
   "outputs": [
    {
     "data": {
      "text/plain": [
       "\n",
       "        \n",
       "        'QUADRUPO' MY_QUAD\n",
       "        0\n",
       "        0.000000000000e+00 1.000000000000e+00 0.000000000000e+00\n",
       "        2.000000000000e+00 0.000000000000e+00\n",
       "        6 0.000000000000e+00 1.000000000000e+00 0.000000000000e+00 0.000000000000e+00 0.000000000000e+00 0.000000000000e+00\n",
       "        2.000000000000e+00 0.000000000000e+00\n",
       "        6 0.000000000000e+00 1.000000000000e+00 0.000000000000e+00 0.000000000000e+00 0.000000000000e+00 0.000000000000e+00\n",
       "        0.1\n",
       "        1 0.000000000000e+00 0.000000000000e+00 0.000000000000e+00\n",
       "        "
      ]
     },
     "execution_count": 13,
     "metadata": {},
     "output_type": "execute_result"
    }
   ],
   "source": [
    "Quadrupole('MY_QUAD')"
   ]
  },
  {
   "cell_type": "markdown",
   "metadata": {},
   "source": [
    "All commands have sensible (at least I'm aiming for that) default values. This means that it is possible to create a working command without changing anything.\n",
    "\n",
    "Note that the *LABEL1* attribute gets an automatically created random value. This is useful, see later.\n",
    "\n",
    "Of course the next step is to look at the parameters of the command. The `PARAMETERS` attribute of each class provides the full list of available parameters, along with their default values and a documentation string."
   ]
  },
  {
   "cell_type": "code",
   "execution_count": 14,
   "metadata": {},
   "outputs": [
    {
     "data": {
      "text/plain": [
       "{'LABEL1': ('',\n",
       "  'Primary label for the Zgoubi command (default: auto-generated hash).'),\n",
       " 'LABEL2': ('', 'Secondary label for the Zgoubi command.'),\n",
       " 'HEIGHT': (20 <Unit('centimeter')>,\n",
       "  'Height of the magnet (distance between poles), used by plotting functions.'),\n",
       " 'REFERENCE_FIELD_COMPONENT': ('BZ',\n",
       "  'Orientation of the reference field (used by field maps)'),\n",
       " 'KINEMATICS': (None, 'A kinematics object.'),\n",
       " 'WIDTH': (50 <Unit('centimeter')>,\n",
       "  'Width of the magnetic poles (used for plotting only).'),\n",
       " 'APERTURE_LEFT': (10 <Unit('centimeter')>,\n",
       "  'Aperture size of the magnet, left side (used for plotting only).'),\n",
       " 'APERTURE_RIGHT': (10 <Unit('centimeter')>,\n",
       "  'Aperture size of the magnet, right side (used for plotting only).'),\n",
       " 'APERTURE_TOP': (10 <Unit('centimeter')>,\n",
       "  'Aperture size of the magnet, top side (used for plotting only).'),\n",
       " 'APERTURE_BOTTOM': (10 <Unit('centimeter')>,\n",
       "  'Aperture size of the magnet, bottom side (used for plotting only).'),\n",
       " 'COLOR': ('#FF0000', 'Magnet color for plotting.'),\n",
       " 'IL': (0, 'Print field and coordinates along trajectories', 1),\n",
       " 'XL': (0 <Unit('centimeter')>, 'Magnet length', 10),\n",
       " 'R0': (1.0 <Unit('centimeter')>, 'Radius of the pole tips', 11),\n",
       " 'B0': (0 <Unit('kilogauss')>, 'Field at pole tips', 12),\n",
       " 'XE': (0 <Unit('centimeter')>,\n",
       "  'Entrance face integration zone for the fringe field',\n",
       "  20),\n",
       " 'LAM_E': (0 <Unit('centimeter')>, 'Entrance face fringe field extent', 21),\n",
       " 'C0_E': (0,),\n",
       " 'C1_E': (1,),\n",
       " 'C2_E': (0,),\n",
       " 'C3_E': (0,),\n",
       " 'C4_E': (0,),\n",
       " 'C5_E': (0,),\n",
       " 'XS': (0 <Unit('centimeter')>,\n",
       "  'Exit face integration zone for the fringe field'),\n",
       " 'LAM_S': (0 <Unit('centimeter')>, 'Exit face fringe field extent'),\n",
       " 'C0_S': (0,),\n",
       " 'C1_S': (1,),\n",
       " 'C2_S': (0,),\n",
       " 'C3_S': (0,),\n",
       " 'C4_S': (0,),\n",
       " 'C5_S': (0,),\n",
       " 'XPAS': (0.1 <Unit('centimeter')>, 'Integration step', 60),\n",
       " 'KPOS': (1, 'Misalignment type', 70),\n",
       " 'XCE': (0 <Unit('centimeter')>, 'x offset', 71),\n",
       " 'YCE': (0 <Unit('centimeter')>, 'y offset', 72),\n",
       " 'ALE': (0 <Unit('radian')>,)}"
      ]
     },
     "execution_count": 14,
     "metadata": {},
     "output_type": "execute_result"
    }
   ],
   "source": [
    "Quadrupole.PARAMETERS"
   ]
  },
  {
   "cell_type": "markdown",
   "metadata": {},
   "source": [
    "When the command is created those parameters are instanciated as `attributes`:"
   ]
  },
  {
   "cell_type": "code",
   "execution_count": 15,
   "metadata": {},
   "outputs": [
    {
     "data": {
      "text/plain": [
       "{'LABEL1': '69e5f1520d574b8391de',\n",
       " 'LABEL2': '',\n",
       " 'HEIGHT': 20 <Unit('centimeter')>,\n",
       " 'REFERENCE_FIELD_COMPONENT': 'BZ',\n",
       " 'KINEMATICS': None,\n",
       " 'WIDTH': 50 <Unit('centimeter')>,\n",
       " 'APERTURE_LEFT': 10 <Unit('centimeter')>,\n",
       " 'APERTURE_RIGHT': 10 <Unit('centimeter')>,\n",
       " 'APERTURE_TOP': 10 <Unit('centimeter')>,\n",
       " 'APERTURE_BOTTOM': 10 <Unit('centimeter')>,\n",
       " 'COLOR': '#FF0000',\n",
       " 'IL': 0,\n",
       " 'XL': 0 <Unit('centimeter')>,\n",
       " 'R0': 1.0 <Unit('centimeter')>,\n",
       " 'B0': 0 <Unit('kilogauss')>,\n",
       " 'XE': 2.0 <Unit('centimeter')>,\n",
       " 'LAM_E': 0 <Unit('centimeter')>,\n",
       " 'C0_E': 0,\n",
       " 'C1_E': 1,\n",
       " 'C2_E': 0,\n",
       " 'C3_E': 0,\n",
       " 'C4_E': 0,\n",
       " 'C5_E': 0,\n",
       " 'XS': 2.0 <Unit('centimeter')>,\n",
       " 'LAM_S': 0 <Unit('centimeter')>,\n",
       " 'C0_S': 0,\n",
       " 'C1_S': 1,\n",
       " 'C2_S': 0,\n",
       " 'C3_S': 0,\n",
       " 'C4_S': 0,\n",
       " 'C5_S': 0,\n",
       " 'XPAS': 0.1 <Unit('centimeter')>,\n",
       " 'KPOS': 1,\n",
       " 'XCE': 0 <Unit('centimeter')>,\n",
       " 'YCE': 0 <Unit('centimeter')>,\n",
       " 'ALE': 0 <Unit('radian')>}"
      ]
     },
     "execution_count": 15,
     "metadata": {},
     "output_type": "execute_result"
    }
   ],
   "source": [
    "Quadrupole().attributes"
   ]
  },
  {
   "cell_type": "markdown",
   "metadata": {},
   "source": [
    "Some have default values:"
   ]
  },
  {
   "cell_type": "code",
   "execution_count": 16,
   "metadata": {},
   "outputs": [
    {
     "data": {
      "text/plain": [
       "{'LABEL2': '',\n",
       " 'HEIGHT': 20 <Unit('centimeter')>,\n",
       " 'REFERENCE_FIELD_COMPONENT': 'BZ',\n",
       " 'KINEMATICS': None,\n",
       " 'WIDTH': 50 <Unit('centimeter')>,\n",
       " 'APERTURE_LEFT': 10 <Unit('centimeter')>,\n",
       " 'APERTURE_RIGHT': 10 <Unit('centimeter')>,\n",
       " 'APERTURE_TOP': 10 <Unit('centimeter')>,\n",
       " 'APERTURE_BOTTOM': 10 <Unit('centimeter')>,\n",
       " 'COLOR': '#FF0000',\n",
       " 'IL': 0,\n",
       " 'XL': 0 <Unit('centimeter')>,\n",
       " 'R0': 1.0 <Unit('centimeter')>,\n",
       " 'B0': 0 <Unit('kilogauss')>,\n",
       " 'LAM_E': 0 <Unit('centimeter')>,\n",
       " 'C0_E': 0,\n",
       " 'C1_E': 1,\n",
       " 'C2_E': 0,\n",
       " 'C3_E': 0,\n",
       " 'C4_E': 0,\n",
       " 'C5_E': 0,\n",
       " 'LAM_S': 0 <Unit('centimeter')>,\n",
       " 'C0_S': 0,\n",
       " 'C1_S': 1,\n",
       " 'C2_S': 0,\n",
       " 'C3_S': 0,\n",
       " 'C4_S': 0,\n",
       " 'C5_S': 0,\n",
       " 'XPAS': 0.1 <Unit('centimeter')>,\n",
       " 'KPOS': 1,\n",
       " 'XCE': 0 <Unit('centimeter')>,\n",
       " 'YCE': 0 <Unit('centimeter')>,\n",
       " 'ALE': 0 <Unit('radian')>}"
      ]
     },
     "execution_count": 16,
     "metadata": {},
     "output_type": "execute_result"
    }
   ],
   "source": [
    "Quadrupole().defaults"
   ]
  },
  {
   "cell_type": "markdown",
   "metadata": {},
   "source": [
    "Others have non-default values:"
   ]
  },
  {
   "cell_type": "code",
   "execution_count": 17,
   "metadata": {},
   "outputs": [
    {
     "data": {
      "text/plain": [
       "{'LABEL1': '4bbab89706404eff8321',\n",
       " 'XE': 2.0 <Unit('centimeter')>,\n",
       " 'XS': 2.0 <Unit('centimeter')>}"
      ]
     },
     "execution_count": 17,
     "metadata": {},
     "output_type": "execute_result"
    }
   ],
   "source": [
    "Quadrupole().nondefaults"
   ]
  },
  {
   "cell_type": "markdown",
   "metadata": {},
   "source": [
    "Note that the initializer of `Quadrupole` is taking the initiative of setting `XE` and `XS` to twice the bore radius."
   ]
  },
  {
   "cell_type": "markdown",
   "metadata": {},
   "source": [
    "Specific values for the attributes can be defined at the creation of the object:"
   ]
  },
  {
   "cell_type": "code",
   "execution_count": 18,
   "metadata": {},
   "outputs": [
    {
     "data": {
      "text/plain": [
       "\n",
       "        \n",
       "        'QUADRUPO' COOL_QUAD\n",
       "        0\n",
       "        2.000000000000e+02 1.000000000000e+00 0.000000000000e+00\n",
       "        2.000000000000e+00 0.000000000000e+00\n",
       "        6 0.000000000000e+00 1.000000000000e+00 0.000000000000e+00 0.000000000000e+00 0.000000000000e+00 0.000000000000e+00\n",
       "        2.000000000000e+00 0.000000000000e+00\n",
       "        6 0.000000000000e+00 1.000000000000e+00 0.000000000000e+00 0.000000000000e+00 0.000000000000e+00 0.000000000000e+00\n",
       "        3.0\n",
       "        1 0.000000000000e+00 0.000000000000e+00 0.000000000000e+00\n",
       "        "
      ]
     },
     "execution_count": 18,
     "metadata": {},
     "output_type": "execute_result"
    }
   ],
   "source": [
    "Quadrupole('COOL_QUAD', XL=2*_.meter, XPAS=30*_.mm)"
   ]
  },
  {
   "cell_type": "markdown",
   "metadata": {},
   "source": [
    "Of course it is possible to change and access the attributes values at any time:"
   ]
  },
  {
   "cell_type": "code",
   "execution_count": 19,
   "metadata": {},
   "outputs": [
    {
     "name": "stdout",
     "output_type": "stream",
     "text": [
      "The field at the pole tips is now 2 tesla.\n"
     ]
    },
    {
     "data": {
      "text/plain": [
       "\n",
       "        \n",
       "        'QUADRUPO' COOL_QUAD\n",
       "        0\n",
       "        2.000000000000e+02 1.000000000000e+00 2.000000000000e+01\n",
       "        2.000000000000e+00 0.000000000000e+00\n",
       "        6 0.000000000000e+00 1.000000000000e+00 0.000000000000e+00 0.000000000000e+00 0.000000000000e+00 0.000000000000e+00\n",
       "        2.000000000000e+00 0.000000000000e+00\n",
       "        6 0.000000000000e+00 1.000000000000e+00 0.000000000000e+00 0.000000000000e+00 0.000000000000e+00 0.000000000000e+00\n",
       "        3.0\n",
       "        2 0.000000000000e+00 0.000000000000e+00 0.000000000000e+00\n",
       "        "
      ]
     },
     "execution_count": 19,
     "metadata": {},
     "output_type": "execute_result"
    }
   ],
   "source": [
    "my_quad = Quadrupole('COOL_QUAD', XL=2*_.m, XPAS=3*_.centimeter)\n",
    "my_quad.KPOS = 2\n",
    "my_quad.B0 = 2 * _.tesla\n",
    "print(f\"The field at the pole tips is now {my_quad.B0}.\")\n",
    "my_quad"
   ]
  },
  {
   "cell_type": "code",
   "execution_count": 20,
   "metadata": {},
   "outputs": [
    {
     "data": {
      "text/html": [
       "2 tesla"
      ],
      "text/latex": [
       "$2\\ \\mathrm{tesla}$"
      ],
      "text/plain": [
       "2 <Unit('tesla')>"
      ]
     },
     "execution_count": 20,
     "metadata": {},
     "output_type": "execute_result"
    }
   ],
   "source": [
    "my_quad.B0"
   ]
  },
  {
   "cell_type": "markdown",
   "metadata": {},
   "source": [
    "And look again at the nondefault attributes:"
   ]
  },
  {
   "cell_type": "code",
   "execution_count": 21,
   "metadata": {},
   "outputs": [
    {
     "data": {
      "text/plain": [
       "{'LABEL1': 'COOL_QUAD',\n",
       " 'XL': 2 <Unit('meter')>,\n",
       " 'B0': 2 <Unit('tesla')>,\n",
       " 'XE': 2.0 <Unit('centimeter')>,\n",
       " 'XS': 2.0 <Unit('centimeter')>,\n",
       " 'XPAS': 3 <Unit('centimeter')>,\n",
       " 'KPOS': 2}"
      ]
     },
     "execution_count": 21,
     "metadata": {},
     "output_type": "execute_result"
    }
   ],
   "source": [
    "my_quad.nondefaults"
   ]
  },
  {
   "cell_type": "markdown",
   "metadata": {},
   "source": [
    "**Exercice**: define other objects, explore the different Zgoubi keywords, change the attributes, etc. In particular: create a custom BEND, a custome DRIFT."
   ]
  },
  {
   "cell_type": "markdown",
   "metadata": {},
   "source": [
    "What if your favorite command is missing?\n",
    "\n",
    "Zgoubidoo provides different mechanisms to deal with that, maybe the easiest one is to use the `Fake` command:"
   ]
  },
  {
   "cell_type": "code",
   "execution_count": 22,
   "metadata": {},
   "outputs": [
    {
     "data": {
      "text/plain": [
       "zgoubidoo.commands.commands.Fake"
      ]
     },
     "execution_count": 22,
     "metadata": {},
     "output_type": "execute_result"
    }
   ],
   "source": [
    "Fake"
   ]
  },
  {
   "cell_type": "code",
   "execution_count": 23,
   "metadata": {},
   "outputs": [
    {
     "data": {
      "text/plain": [
       "\n",
       "    'FRANCOIS' FAKE1 \n",
       "    1.0 2.0 3.0"
      ]
     },
     "execution_count": 23,
     "metadata": {},
     "output_type": "execute_result"
    }
   ],
   "source": [
    "Fake('FAKE1', INPUT=\"\"\"\n",
    "    'FRANCOIS' {LABEL1} \n",
    "    1.0 2.0 3.0\n",
    "\"\"\"\n",
    ")"
   ]
  },
  {
   "cell_type": "code",
   "execution_count": 24,
   "metadata": {},
   "outputs": [
    {
     "data": {
      "text/plain": [
       "\n",
       "        \n",
       "        'QUADRUPO' MY_FANCYQ\n",
       "        0\n",
       "        0.000000000000e+00 1.000000000000e+00 1.000000000000e+02\n",
       "        2.000000000000e+00 0.000000000000e+00\n",
       "        6 3.330000000000e+01 1.000000000000e+00 0.000000000000e+00 0.000000000000e+00 0.000000000000e+00 0.000000000000e+00\n",
       "        2.000000000000e+00 0.000000000000e+00\n",
       "        6 0.000000000000e+00 1.000000000000e+00 0.000000000000e+00 0.000000000000e+00 0.000000000000e+00 0.000000000000e+00\n",
       "        0.1\n",
       "        1 0.000000000000e+00 0.000000000000e+00 0.000000000000e+00\n",
       "        "
      ]
     },
     "execution_count": 24,
     "metadata": {},
     "output_type": "execute_result"
    }
   ],
   "source": [
    "class FancyQuadrupole(Quadrupole):\n",
    "    PARAMETERS = {\n",
    "        'B0': 10 * _.tesla,\n",
    "        'C0_E': 33.3,\n",
    "    }\n",
    "    \n",
    "    def __post__init__(arg1):\n",
    "        pass\n",
    "\n",
    "FancyQuadrupole('MY_FANCYQ')"
   ]
  },
  {
   "cell_type": "markdown",
   "metadata": {},
   "source": [
    "### Creating a first Zgoubi input file"
   ]
  },
  {
   "cell_type": "markdown",
   "metadata": {},
   "source": [
    "To create a zgoubi input file `zgoubidoo` provides a dedicated class: `zgoubidoo.Input`. An input can have a name and will hold a list of `zgoubidoo.commands` objects.\n",
    "\n",
    "The `zgoubidoo.Input` objects also override the `__str__` method, which allows to automatically print them or save them to files."
   ]
  },
  {
   "cell_type": "code",
   "execution_count": 25,
   "metadata": {},
   "outputs": [
    {
     "data": {
      "text/plain": [
       "beamline\n",
       "        'END' 901b0d843c894e028e36 \n",
       "        "
      ]
     },
     "execution_count": 25,
     "metadata": {},
     "output_type": "execute_result"
    }
   ],
   "source": [
    "zgoubidoo.Input()"
   ]
  },
  {
   "cell_type": "markdown",
   "metadata": {},
   "source": [
    "To make life easier, `zgoubidoo` will automatically add a `End` command at the end of each input."
   ]
  },
  {
   "cell_type": "markdown",
   "metadata": {},
   "source": [
    "Let's get started and create a FODO sequence."
   ]
  },
  {
   "cell_type": "code",
   "execution_count": 26,
   "metadata": {},
   "outputs": [
    {
     "data": {
      "text/plain": [
       "FODO\n",
       "        \n",
       "        'QUADRUPO' QF\n",
       "        0\n",
       "        1.000000000000e+02 1.000000000000e+00 1.000000000000e+01\n",
       "        2.000000000000e+00 0.000000000000e+00\n",
       "        6 0.000000000000e+00 1.000000000000e+00 0.000000000000e+00 0.000000000000e+00 0.000000000000e+00 0.000000000000e+00\n",
       "        2.000000000000e+00 0.000000000000e+00\n",
       "        6 0.000000000000e+00 1.000000000000e+00 0.000000000000e+00 0.000000000000e+00 0.000000000000e+00 0.000000000000e+00\n",
       "        0.1\n",
       "        1 0.000000000000e+00 0.000000000000e+00 0.000000000000e+00\n",
       "        \n",
       "        \n",
       "        'DRIFT' 1d2a50cee63b493bb138\n",
       "        1.000000000000e+02 split 10 0\n",
       "        \n",
       "        \n",
       "        'QUADRUPO' QD\n",
       "        0\n",
       "        1.000000000000e+02 1.000000000000e+00 -1.000000000000e+01\n",
       "        2.000000000000e+00 0.000000000000e+00\n",
       "        6 0.000000000000e+00 1.000000000000e+00 0.000000000000e+00 0.000000000000e+00 0.000000000000e+00 0.000000000000e+00\n",
       "        2.000000000000e+00 0.000000000000e+00\n",
       "        6 0.000000000000e+00 1.000000000000e+00 0.000000000000e+00 0.000000000000e+00 0.000000000000e+00 0.000000000000e+00\n",
       "        0.1\n",
       "        1 0.000000000000e+00 0.000000000000e+00 0.000000000000e+00\n",
       "        \n",
       "        \n",
       "        'DRIFT' 55df48654b9d4a37b598\n",
       "        1.000000000000e+02 split 10 0\n",
       "        \n",
       "        'END' 1fdbf03c579d4331ab5e \n",
       "        "
      ]
     },
     "execution_count": 26,
     "metadata": {},
     "output_type": "execute_result"
    }
   ],
   "source": [
    "qf = Quadrupole('QF', XL=1*_.m, B0=1 * _.tesla)\n",
    "qd = Quadrupole('QD', XL=1*_.m, B0=-1 * _.tesla)\n",
    "\n",
    "zi = zgoubidoo.Input(name='FODO', line=[\n",
    "    qf,\n",
    "    Drift(XL=1 * _.m),\n",
    "    qd,\n",
    "    Drift(XL=1 * _.m),\n",
    "])  # zi stands for `zgoubi input`\n",
    "zi"
   ]
  },
  {
   "cell_type": "markdown",
   "metadata": {},
   "source": [
    "We are close to being able to run this with Zgoubi. But one more thing: let's define the particle type and add a beam (*ie.* a `zgoubi` objet).\n",
    "\n",
    "Zgoubidoo defines classes for a relatively large set of common particles:"
   ]
  },
  {
   "cell_type": "code",
   "execution_count": 27,
   "metadata": {},
   "outputs": [
    {
     "data": {
      "text/plain": [
       "[('AntiMuon', zgoubidoo.commands.particules.AntiMuon),\n",
       " ('AntiProton', zgoubidoo.commands.particules.AntiProton),\n",
       " ('CarbonIon', zgoubidoo.commands.particules.CarbonIon),\n",
       " ('Electron', zgoubidoo.commands.particules.Electron),\n",
       " ('HMinus', zgoubidoo.commands.particules.HMinus),\n",
       " ('HeliumIon', zgoubidoo.commands.particules.HeliumIon),\n",
       " ('ImmortalAntiMuon', zgoubidoo.commands.particules.ImmortalAntiMuon),\n",
       " ('ImmortalMuon', zgoubidoo.commands.particules.ImmortalMuon),\n",
       " ('Ion', zgoubidoo.commands.particules.Ion),\n",
       " ('LeadIon', zgoubidoo.commands.particules.LeadIon),\n",
       " ('Muon', zgoubidoo.commands.particules.Muon),\n",
       " ('NativeParticule', zgoubidoo.commands.particules.NativeParticule),\n",
       " ('NativeParticuleType', zgoubidoo.commands.particules.NativeParticuleType),\n",
       " ('OxygenIon', zgoubidoo.commands.particules.OxygenIon),\n",
       " ('Particule', zgoubidoo.commands.particules.Particule),\n",
       " ('ParticuleType', zgoubidoo.commands.particules.ParticuleType),\n",
       " ('Pion', zgoubidoo.commands.particules.Pion),\n",
       " ('Positron', zgoubidoo.commands.particules.Positron),\n",
       " ('Proton', zgoubidoo.commands.particules.Proton),\n",
       " ('SulfurIon', zgoubidoo.commands.particules.SulfurIon),\n",
       " ('XenonIon', zgoubidoo.commands.particules.XenonIon),\n",
       " ('_Command', zgoubidoo.commands.commands.Command),\n",
       " ('_MetaCommand', zgoubidoo.commands.commands.CommandType)]"
      ]
     },
     "execution_count": 27,
     "metadata": {},
     "output_type": "execute_result"
    }
   ],
   "source": [
    "import inspect\n",
    "inspect.getmembers(zgoubidoo.commands.particules, inspect.isclass)"
   ]
  },
  {
   "cell_type": "markdown",
   "metadata": {},
   "source": [
    "Let's use a proton:"
   ]
  },
  {
   "cell_type": "code",
   "execution_count": 29,
   "metadata": {},
   "outputs": [
    {
     "data": {
      "text/plain": [
       "\n",
       "        'PARTICUL' ELECTRON\n",
       "        ELECTRON\n",
       "            "
      ]
     },
     "execution_count": 29,
     "metadata": {},
     "output_type": "execute_result"
    }
   ],
   "source": [
    "Electron()"
   ]
  },
  {
   "cell_type": "code",
   "execution_count": 31,
   "metadata": {},
   "outputs": [
    {
     "data": {
      "text/plain": [
       "\n",
       "        'PARTICUL' PROTON\n",
       "        9.382720300000e+02 1.602176487000e-19 1.792847350500e+00 0.000000000000e+00 0.0\n",
       "        "
      ]
     },
     "execution_count": 31,
     "metadata": {},
     "output_type": "execute_result"
    }
   ],
   "source": [
    "Proton(NATIVE=False)"
   ]
  },
  {
   "cell_type": "markdown",
   "metadata": {},
   "source": [
    "We will also need to define the energy, momentum, etc. of the particles. To that end, `zgoubidoo` provides a very easy to use `Kinematics` class:"
   ]
  },
  {
   "cell_type": "code",
   "execution_count": 32,
   "metadata": {},
   "outputs": [
    {
     "data": {
      "text/plain": [
       "\n",
       "        Proton\n",
       "        Total energy: 1999.9999999999998 megaelectronvolt\n",
       "        Kinetic energy: 1061.7279699999997 megaelectronvolt\n",
       "        Momentum: 1.7662518500258333 gigaelectronvolt / speed_of_light\n",
       "        Magnetic rigidity: 5.891582002459293 meter * tesla\n",
       "        Range in water (protons only): 407.2585159114895 centimeter\n",
       "        Relativistic beta: 0.8831259250129166\n",
       "        Relativistic gamma: 2.1315779817075007\n",
       "        "
      ]
     },
     "execution_count": 32,
     "metadata": {},
     "output_type": "execute_result"
    }
   ],
   "source": [
    "k = zgoubidoo.Kinematics(2 * _.GeV)\n",
    "k"
   ]
  },
  {
   "cell_type": "markdown",
   "metadata": {},
   "source": [
    "The constructor will infer the quantity based on the units, and provide a bunch of conversions if needed:"
   ]
  },
  {
   "cell_type": "code",
   "execution_count": 33,
   "metadata": {},
   "outputs": [
    {
     "data": {
      "text/html": [
       "5891.582002459292 centimeter kilogauss"
      ],
      "text/latex": [
       "$5891.582002459292\\ \\mathrm{centimeter} \\cdot \\mathrm{kilogauss}$"
      ],
      "text/plain": [
       "5891.582002459292 <Unit('centimeter * kilogauss')>"
      ]
     },
     "execution_count": 33,
     "metadata": {},
     "output_type": "execute_result"
    }
   ],
   "source": [
    "k.brho.to('kilogauss centimeter')"
   ]
  },
  {
   "cell_type": "markdown",
   "metadata": {},
   "source": [
    "Next step is to define a `zgoubi` *Objet*. We can either directly use the objet classes or use an abstraction provided by `zgoubidoo`: `Beam`.\n",
    "    \n",
    "Let's start with `Objet2`."
   ]
  },
  {
   "cell_type": "code",
   "execution_count": 34,
   "metadata": {},
   "outputs": [
    {
     "data": {
      "text/plain": [
       "\n",
       "        'OBJET' BUNCH\n",
       "        5.891582002459e+03\n",
       "        2.00\n",
       "        1 1\n",
       "        0.000000000000e+00 0.000000000000e+00 0.000000000000e+00 0.000000000000e+00 0.000000000000e+00 1.000000000000e+00 A\n",
       "        1"
      ]
     },
     "execution_count": 34,
     "metadata": {},
     "output_type": "execute_result"
    }
   ],
   "source": [
    "Objet2('BUNCH', BORO=k.brho)"
   ]
  },
  {
   "cell_type": "markdown",
   "metadata": {},
   "source": [
    "We are all set, let's redfine the `zgoubi.Input`:"
   ]
  },
  {
   "cell_type": "code",
   "execution_count": 48,
   "metadata": {},
   "outputs": [
    {
     "data": {
      "text/plain": [
       "FODO\n",
       "        'OBJET' BUNCH\n",
       "        5.891582002459e+03\n",
       "        2.00\n",
       "        1 1\n",
       "        0.000000000000e+00 0.000000000000e+00 0.000000000000e+00 0.000000000000e+00 0.000000000000e+00 1.000000000000e+00 A\n",
       "        1\n",
       "\n",
       "        'PARTICUL' PROTON\n",
       "        PROTON\n",
       "            \n",
       "        \n",
       "        'QUADRUPO' QF\n",
       "        2\n",
       "        1.000000000000e+02 1.000000000000e+00 1.000000000000e+01\n",
       "        2.000000000000e+00 0.000000000000e+00\n",
       "        6 0.000000000000e+00 1.000000000000e+00 0.000000000000e+00 0.000000000000e+00 0.000000000000e+00 0.000000000000e+00\n",
       "        2.000000000000e+00 0.000000000000e+00\n",
       "        6 0.000000000000e+00 1.000000000000e+00 0.000000000000e+00 0.000000000000e+00 0.000000000000e+00 0.000000000000e+00\n",
       "        0.1\n",
       "        1 0.000000000000e+00 0.000000000000e+00 0.000000000000e+00\n",
       "        \n",
       "        \n",
       "        'DRIFT' e1b50046c0d34992adf4\n",
       "        1.000000000000e+02 split 10 2\n",
       "        \n",
       "        \n",
       "        'QUADRUPO' QD\n",
       "        2\n",
       "        1.000000000000e+02 1.000000000000e+00 -1.000000000000e+01\n",
       "        2.000000000000e+00 0.000000000000e+00\n",
       "        6 0.000000000000e+00 1.000000000000e+00 0.000000000000e+00 0.000000000000e+00 0.000000000000e+00 0.000000000000e+00\n",
       "        2.000000000000e+00 0.000000000000e+00\n",
       "        6 0.000000000000e+00 1.000000000000e+00 0.000000000000e+00 0.000000000000e+00 0.000000000000e+00 0.000000000000e+00\n",
       "        0.1\n",
       "        1 0.000000000000e+00 0.000000000000e+00 0.000000000000e+00\n",
       "        \n",
       "        \n",
       "        'DRIFT' ca00b7a8f381447ea522\n",
       "        1.000000000000e+02 split 10 2\n",
       "        \n",
       "        'END' 66444f442dfa4aca98ba \n",
       "        "
      ]
     },
     "execution_count": 48,
     "metadata": {},
     "output_type": "execute_result"
    }
   ],
   "source": [
    "qf = Quadrupole('QF', XL=1*_.m, B0=1 * _.tesla)\n",
    "qd = Quadrupole('QD', XL=1*_.m, B0=-1 * _.tesla)\n",
    "\n",
    "zi = zgoubidoo.Input(name='FODO', line=[\n",
    "    Objet2('BUNCH', BORO=k.brho),\n",
    "    Proton(),\n",
    "    qf,\n",
    "    Drift(XL=1 * _.m),\n",
    "    qd,\n",
    "    Drift(XL=1 * _.m),\n",
    "])  # zi stands for `zgoubi input`\n",
    "zi.IL = 2\n",
    "zi"
   ]
  },
  {
   "cell_type": "markdown",
   "metadata": {},
   "source": [
    "At this point you should be really impatient to run this with Zgoubi...\n",
    "\n",
    "As you guessed `zgoubidoo` provides a class `Zgoubi` which is an abstraction to the `zgoubi` executable:"
   ]
  },
  {
   "cell_type": "code",
   "execution_count": 49,
   "metadata": {},
   "outputs": [
    {
     "data": {
      "text/plain": [
       "<zgoubidoo.zgoubi.Zgoubi at 0x7ffcb17d8668>"
      ]
     },
     "execution_count": 49,
     "metadata": {},
     "output_type": "execute_result"
    }
   ],
   "source": [
    "z = zgoubidoo.Zgoubi()\n",
    "z"
   ]
  },
  {
   "cell_type": "markdown",
   "metadata": {},
   "source": [
    "It doesn't do much, but when you **call** it `zgoubi` will be run:"
   ]
  },
  {
   "cell_type": "code",
   "execution_count": 50,
   "metadata": {},
   "outputs": [
    {
     "data": {
      "text/plain": [
       "<zgoubidoo.zgoubi.Zgoubi at 0x7ffcb17d8668>"
      ]
     },
     "execution_count": 50,
     "metadata": {},
     "output_type": "execute_result"
    }
   ],
   "source": [
    "z(zi)"
   ]
  },
  {
   "cell_type": "markdown",
   "metadata": {},
   "source": [
    "Looked like nothing happened... but `zgoubi` has been executed.\n",
    "\n",
    "Now a little detour: `zgoubidoo` works beautifully with multi-threading, all in a transparent way. This means that you can launch multiple instances of `zgoubi` at the same time, even in an interactive session like this one, without blocking.\n",
    "\n",
    "The drawback is that you need to collect the results:"
   ]
  },
  {
   "cell_type": "code",
   "execution_count": 51,
   "metadata": {},
   "outputs": [
    {
     "data": {
      "text/plain": [
       "<zgoubidoo.zgoubi.ZgoubiResults at 0x7ffcb17f2208>"
      ]
     },
     "execution_count": 51,
     "metadata": {},
     "output_type": "execute_result"
    }
   ],
   "source": [
    "z.cleanup()\n",
    "zr = z(zi).collect()  # zr stands for 'zgoubi results'\n",
    "zr"
   ]
  },
  {
   "cell_type": "markdown",
   "metadata": {},
   "source": [
    "Once more, all the resutls are encapsulated in a `ZgoubiResults` class.\n",
    "\n",
    "It has many functionalities:"
   ]
  },
  {
   "cell_type": "code",
   "execution_count": 52,
   "metadata": {},
   "outputs": [
    {
     "name": "stdout",
     "output_type": "stream",
     "text": [
      "Results for mapping {}\n",
      "\n",
      "FODO\n",
      " 'OBJET' BUNCH                                                                                                1\n",
      "5.891582002459e+03\n",
      "2.00\n",
      "1 1\n",
      "0.000000000000e+00 0.000000000000e+00 0.000000000000e+00 0.000000000000e+00 0.000000000000e+00 1.000000000000e+00 A\n",
      "1\n",
      " \n",
      " 'PARTICUL' PROTON                                                                                            2\n",
      "PROTON\n",
      " \n",
      " \n",
      " 'QUADRUPO' QF                                                                                                3\n",
      "2\n",
      "1.000000000000e+02 1.000000000000e+00 1.000000000000e+01\n",
      "2.000000000000e+00 0.000000000000e+00\n",
      "6 0.000000000000e+00 1.000000000000e+00 0.000000000000e+00 0.000000000000e+00 0.000000000000e+00 0.000000000000e+00\n",
      "2.000000000000e+00 0.000000000000e+00\n",
      "6 0.000000000000e+00 1.000000000000e+00 0.000000000000e+00 0.000000000000e+00 0.000000000000e+00 0.000000000000e+00\n",
      "0.1\n",
      "1 0.000000000000e+00 0.000000000000e+00 0.000000000000e+00\n",
      " \n",
      " \n",
      " 'DRIFT' e1b50046c0d34992adf4                                                                                 4\n",
      "1.000000000000e+02 split 10 2\n",
      " \n",
      " \n",
      " 'QUADRUPO' QD                                                                                                5\n",
      "2\n",
      "1.000000000000e+02 1.000000000000e+00 -1.000000000000e+01\n",
      "2.000000000000e+00 0.000000000000e+00\n",
      "6 0.000000000000e+00 1.000000000000e+00 0.000000000000e+00 0.000000000000e+00 0.000000000000e+00 0.000000000000e+00\n",
      "2.000000000000e+00 0.000000000000e+00\n",
      "6 0.000000000000e+00 1.000000000000e+00 0.000000000000e+00 0.000000000000e+00 0.000000000000e+00 0.000000000000e+00\n",
      "0.1\n",
      "1 0.000000000000e+00 0.000000000000e+00 0.000000000000e+00\n",
      " \n",
      " \n",
      " 'DRIFT' ca00b7a8f381447ea522                                                                                 6\n",
      "1.000000000000e+02 split 10 2\n",
      " \n",
      " 'END' 13291a0cc5524eaa890e                                                                                   7\n",
      "\n",
      "************************************************************************************************************************************\n",
      "      1  Keyword, label(s) :  OBJET       BUNCH                                                                        IPASS= 1\n",
      "\n",
      "                          MAGNETIC  RIGIDITY =       5891.582 kG*cm\n",
      "\n",
      "                                         TRAJECTOIRY SETTING UP\n",
      "\n",
      "                              OBJET  (2)  BUILT  UP  FROM       1 POINTS \n",
      "\n",
      "\n",
      "\n",
      "************************************************************************************************************************************\n",
      "      2  Keyword, label(s) :  PARTICUL    PROTON                                                                       IPASS= 1\n",
      "\n",
      "     Particle  properties :\n",
      "     PROTON\n",
      "                     Mass          =    938.272        MeV/c2\n",
      "                     Charge        =   1.602176E-19    C     \n",
      "                     G  factor     =    1.79285              \n",
      "                     COM life-time =   1.000000E+99    s     \n",
      "\n",
      "              Reference  data :\n",
      "                    mag. rigidity (kG.cm)   :   5891.5820      =p/q, such that dev.=B*L/rigidity\n",
      "                    mass (MeV/c2)           :   938.27208    \n",
      "                    momentum (MeV/c)        :   1766.2519    \n",
      "                    energy, total (MeV)     :   2000.0000    \n",
      "                    energy, kinetic (MeV)   :   1061.7279    \n",
      "                    beta = v/c              :  0.8831259144    \n",
      "                    gamma                   :   2.131577891    \n",
      "                    beta*gamma              :   1.882451674    \n",
      "                    G*gamma                 :   3.821593773    \n",
      "                    electric rigidity (MeV) :   1559.822780    =T[eV]*(gamma+1)/gamma, such that dev.=E*L/rigidity\n",
      "  \n",
      " I, AMQ(1,I), AMQ(2,I)/QE, P/Pref, v/c, time, s :\n",
      "  \n",
      "     1   9.38272081E+02  1.00000000E+00  1.00000000E+00  8.83125914E-01  0.00000000E+00  0.00000000E+00\n",
      "\n",
      "************************************************************************************************************************************\n",
      "      3  Keyword, label(s) :  QUADRUPO    QF                                                                           IPASS= 1\n",
      "\n",
      "\n",
      "                OPEN FILE zgoubi.plt                                                                      \n",
      "                FOR PRINTING TRAJECTORIES\n",
      "\n",
      "\n",
      "      -----  QUADRUPOLE  : \n",
      "                Length  of  element  =    100.00000      cm\n",
      "                Bore  radius      RO =    1.0000      cm                              B/RO^IM/Brho (strength)\n",
      "               B-QUADRUPOLE  =  1.0000000E+01 kG   (i.e.,   1.0000000E+01 * SCAL)     1.6973370E+01\n",
      "\n",
      "               Entrance/exit field models are sharp edge\n",
      "               FINTE, FINTS, gap :    2.0000E+00   2.0000E+00   5.0000E-01\n",
      "\n",
      "                    Integration step :  0.1000     cm\n",
      "\n",
      "  A    1  1.0000     0.000     0.000     0.000     0.000          100.000     0.000     0.000     0.000     0.000            1\n",
      "\n",
      "\n",
      "                CONDITIONS  DE  MAXWELL  (     1001.  PAS )  :\n",
      "                       DIV(B)        LAPLACIEN(B)     ROTATIONNEL(B)\n",
      "                      0.000            0.000             0.000    \n",
      "                                       0.000             0.000    \n",
      "                                       0.000             0.000    \n",
      "                       LAPLACIEN SCALAIRE =   0.000    \n",
      "\n",
      "\n",
      "\n",
      "     KPOS =  1.  Change  of  frame  at  exit  of  element.\n",
      "          X =   0.000     CM   Y =   0.000     cm,  tilt  angle =   0.0000000     RAD\n",
      "\n",
      "\n",
      " Cumulative length of optical axis =    1.00000000     m ;  Time  (for ref. rigidity & particle) =   3.777084E-09 s \n",
      "\n",
      "************************************************************************************************************************************\n",
      "      4  Keyword, label(s) :  DRIFT       e1b50046c0d34992adf4                                                         IPASS= 1\n",
      "\n",
      "\n",
      "     zgoubi.plt                                                                      \n",
      "      already open...\n",
      "\n",
      "                              Drift,  length =   100.00000  cm\n",
      "\n",
      "TRAJ #1 IEX,D,Y,T,Z,P,S,time :  1  0.000000E+00  0.000000E+00  0.000000E+00  0.000000E+00  0.000000E+00  2.0000000E+02  7.55417E-03\n",
      "\n",
      " Cumulative length of optical axis =    2.00000000     m   ;  Time  (for reference rigidity & particle) =   7.554168E-09 s \n",
      "\n",
      "************************************************************************************************************************************\n",
      "      5  Keyword, label(s) :  QUADRUPO    QD                                                                           IPASS= 1\n",
      "\n",
      "\n",
      "     zgoubi.plt                                                                      \n",
      "      already open...\n",
      "\n",
      "      -----  QUADRUPOLE  : \n",
      "                Length  of  element  =    100.00000      cm\n",
      "                Bore  radius      RO =    1.0000      cm                              B/RO^IM/Brho (strength)\n",
      "               B-QUADRUPOLE  = -1.0000000E+01 kG   (i.e.,  -1.0000000E+01 * SCAL)    -1.6973370E+01\n",
      "\n",
      "               Entrance/exit field models are sharp edge\n",
      "               FINTE, FINTS, gap :    2.0000E+00   2.0000E+00   5.0000E-01\n",
      "\n",
      "                    Integration step :  0.1000     cm\n",
      "\n",
      "  A    1  1.0000     0.000     0.000     0.000     0.000          100.000     0.000     0.000     0.000     0.000            1\n",
      "\n",
      "\n",
      "                CONDITIONS  DE  MAXWELL  (     1001.  PAS )  :\n",
      "                       DIV(B)        LAPLACIEN(B)     ROTATIONNEL(B)\n",
      "                      0.000            0.000             0.000    \n",
      "                                       0.000             0.000    \n",
      "                                       0.000             0.000    \n",
      "                       LAPLACIEN SCALAIRE =   0.000    \n",
      "\n",
      "\n",
      "\n",
      "     KPOS =  1.  Change  of  frame  at  exit  of  element.\n",
      "          X =   0.000     CM   Y =   0.000     cm,  tilt  angle =   0.0000000     RAD\n",
      "\n",
      "\n",
      " Cumulative length of optical axis =    3.00000000     m ;  Time  (for ref. rigidity & particle) =   1.133125E-08 s \n",
      "\n",
      "************************************************************************************************************************************\n",
      "      6  Keyword, label(s) :  DRIFT       ca00b7a8f381447ea522                                                         IPASS= 1\n",
      "\n",
      "\n",
      "     zgoubi.plt                                                                      \n",
      "      already open...\n",
      "\n",
      "                              Drift,  length =   100.00000  cm\n",
      "\n",
      "TRAJ #1 IEX,D,Y,T,Z,P,S,time :  1  0.000000E+00  0.000000E+00  0.000000E+00  0.000000E+00  0.000000E+00  4.0000000E+02  1.51083E-02\n",
      "\n",
      " Cumulative length of optical axis =    4.00000000     m   ;  Time  (for reference rigidity & particle) =   1.510834E-08 s \n",
      "\n",
      "************************************************************************************************************************************\n",
      "      7  Keyword, label(s) :  END                                                                                      IPASS= 1\n",
      "\n",
      "\n",
      "                             1 particles have been launched\n",
      "                     Made  it  to  the  end :      1\n",
      "\n",
      "************************************************************************************************************************************\n",
      " Pgm zgoubi : Execution ended normally, upon keyword END or FIN\n",
      "   \n",
      "            ZGOUBI RUN COMPLETED. \n",
      "\n",
      "  Zgoubi, author's dvlpmnt version.\n",
      "  Job  started  on  21-07-2019,  at  08:45:21 \n",
      "  JOB  ENDED  ON    21-07-2019,  AT  08:45:21 \n",
      "\n",
      "   CPU time, total :     4.3270999999999997E-002\n",
      "\n",
      "================================================================================================\n",
      "================================================================================================\n",
      "================================================================================================\n"
     ]
    }
   ],
   "source": [
    "zr.print()"
   ]
  },
  {
   "cell_type": "markdown",
   "metadata": {},
   "source": [
    "The default behavior of `ZgoubiResults.print()` is to show the `zgoubi.res` file.\n",
    "\n",
    "It is possible to look at other results."
   ]
  },
  {
   "cell_type": "code",
   "execution_count": 53,
   "metadata": {},
   "outputs": [
    {
     "name": "stdout",
     "output_type": "stream",
     "text": [
      "Results for mapping {}\n",
      "\n",
      "\n",
      "  Zgoubi, author's dvlpmnt version.\n",
      "  Job  started  on  21-07-2019,  at  08:45:21 \n",
      "   Copying  zgoubi.dat  into  zgoubi.res,\n",
      "   numbering  and  labeling  elements...\n",
      "\n",
      " Title : FODO                                                                            \n",
      "\n",
      "\n",
      "    1/    7 OBJET     /BUNCH               /                                    \n",
      "    2/    7 PARTICUL  /PROTON              /                                    \n",
      "    3/    7 QUADRUPO  /QF                  /                                    \n",
      "    4/    7 DRIFT     /e1b50046c0d34992adf4/                                    \n",
      "    5/    7 QUADRUPO  /QD                  /                                    \n",
      "    6/    7 DRIFT     /ca00b7a8f381447ea522/                                    \n",
      "    7/    7 END       /                    /                                    \n",
      "\n",
      " Pgm zgoubi : Execution ended normally, upon keyword END or FIN.\n",
      "\n",
      "  Zgoubi, author's dvlpmnt version.\n",
      "  Job  started  on  21-07-2019,  at  08:45:21 \n",
      "  JOB  ENDED  ON    21-07-2019,  AT  08:45:21 \n",
      "\n",
      "   CPU time, total :     4.3270999999999997E-002\n",
      "\n",
      "================================================================================================\n",
      "================================================================================================\n",
      "================================================================================================\n"
     ]
    }
   ],
   "source": [
    "zr.print('stdout')"
   ]
  },
  {
   "cell_type": "markdown",
   "metadata": {},
   "source": [
    "OK, now this is really cool! Look at this:"
   ]
  },
  {
   "cell_type": "code",
   "execution_count": 80,
   "metadata": {},
   "outputs": [
    {
     "name": "stdout",
     "output_type": "stream",
     "text": [
      "/usr/local/bin/zgoubi\n"
     ]
    }
   ],
   "source": [
    "!which zgoubi"
   ]
  },
  {
   "cell_type": "code",
   "execution_count": 79,
   "metadata": {},
   "outputs": [
    {
     "name": "stdout",
     "output_type": "stream",
     "text": [
      "# TRAJECTORIES - STORAGE FILE, 21-07-2019 08:46:47. FODO                                                                                                                                                                                                                                                                                                                                    \n",
      "#  1 ,  2   , 3 ,  4 , 5 ,  6 , 7 ,  8  ,  9   , 10  ,  11, 12,  13, 14, 15  , 16  , 17,  18 , 19 , 20  ,  21 , 22, 23, 24, 25,  26  ,  27  ,  28  ,   29 ,  30 , 31  , 32   ,  33  ,  34 ,  35 , 36  ,  37, 38 , 39 ,  40  , 41   , 42  ,   43  , 44    , 45    ,   46                                                                                                                     \n",
      "# KEX,  Do-1, Yo,  To, Zo,  Po, So,   to,   D-1, Y-DY,   T,  Z,   P,  S, time, beta, DS, KART,  IT, IREP, SORT,  X, BX, BY, BZ,   RET,   DPR,    PS,   SXo,  SYo,  SZo, modSo,    SX,   SY,   SZ, modS,  EX,  EY,  EZ,  BORO, IPASS, NOEL,   KLEY, LABEL1, LABEL2,    LET                                                                                                                   \n",
      "# int, float, cm, mrd, cm, mrd, cm, mu_s, float,   cm, mrd, cm, mrd, cm, mu_s,  v/c, cm,  int, int,  int,   cm, cm, kG, kG, kG, float, float, float, float,float,float, float, float,float,float,float, V/m, V/m, V/m, kG.cm,   int,  int, string, string, string, string                                                                                                                   \n",
      "    1   0.00000000E+00   0.00000000E+00   0.00000000E+00   0.00000000E+00   0.00000000E+00   0.00000000E+00   0.00000000E+00   0.0000000000000000E+00   0.0000000000000000E+00   0.0000000000000000E+00   0.0000000000000000E+00   0.0000000000000000E+00   0.0000000000000000E+00   0.0000000000000000E+00   8.83125914E-01   1.00000000E-01 1      1      1   0.00000000E+00   0.00000000E+00   0.00000000E+00   0.00000000E+00   0.00000000E+00   0.00000000E+00   0.00000000E+00   0.00000000E+00   0.00000000E+00   0.00000000E+00   0.00000000E+00   0.00000000E+00   0.00000000E+00   0.00000000E+00   0.00000000E+00   0.00000000E+00   0.00000000E+00   0.00000000E+00   0.00000000E+00   5.89158200E+03        1      3 'QUADRUPO  ' 'QF                  ' '                    ' 'O'\n",
      "    1   0.00000000E+00   0.00000000E+00   0.00000000E+00   0.00000000E+00   0.00000000E+00   0.00000000E+00   0.00000000E+00   0.0000000000000000E+00   0.0000000000000000E+00   0.0000000000000000E+00   0.0000000000000000E+00   0.0000000000000000E+00   1.0000000000000001E-01   3.7770842160457957E-01   8.83125914E-01   1.00000000E-01 1      1      1   0.00000000E+00   1.00000000E-01   0.00000000E+00   0.00000000E+00   0.00000000E+00   0.00000000E+00   0.00000000E+00   0.00000000E+00   0.00000000E+00   0.00000000E+00   0.00000000E+00   0.00000000E+00   0.00000000E+00   0.00000000E+00   0.00000000E+00   0.00000000E+00   0.00000000E+00   0.00000000E+00   0.00000000E+00   5.89158200E+03        1      3 'QUADRUPO  ' 'QF                  ' '                    ' 'O'\n",
      "    1   0.00000000E+00   0.00000000E+00   0.00000000E+00   0.00000000E+00   0.00000000E+00   0.00000000E+00   0.00000000E+00   0.0000000000000000E+00   0.0000000000000000E+00   0.0000000000000000E+00   0.0000000000000000E+00   0.0000000000000000E+00   2.0000000000000001E-01   7.5541684320915914E-01   8.83125914E-01   1.00000000E-01 1      1      1   0.00000000E+00   2.00000000E-01   0.00000000E+00   0.00000000E+00   0.00000000E+00   0.00000000E+00   0.00000000E+00   0.00000000E+00   0.00000000E+00   0.00000000E+00   0.00000000E+00   0.00000000E+00   0.00000000E+00   0.00000000E+00   0.00000000E+00   0.00000000E+00   0.00000000E+00   0.00000000E+00   0.00000000E+00   5.89158200E+03        1      3 'QUADRUPO  ' 'QF                  ' '                    ' 'O'\n",
      "    1   0.00000000E+00   0.00000000E+00   0.00000000E+00   0.00000000E+00   0.00000000E+00   0.00000000E+00   0.00000000E+00   0.0000000000000000E+00   0.0000000000000000E+00   0.0000000000000000E+00   0.0000000000000000E+00   0.0000000000000000E+00   3.0000000000000004E-01   1.1331252648137387E+00   8.83125914E-01   1.00000000E-01 1      1      1   0.00000000E+00   3.00000000E-01   0.00000000E+00   0.00000000E+00   0.00000000E+00   0.00000000E+00   0.00000000E+00   0.00000000E+00   0.00000000E+00   0.00000000E+00   0.00000000E+00   0.00000000E+00   0.00000000E+00   0.00000000E+00   0.00000000E+00   0.00000000E+00   0.00000000E+00   0.00000000E+00   0.00000000E+00   5.89158200E+03        1      3 'QUADRUPO  ' 'QF                  ' '                    ' 'O'\n",
      "    1   0.00000000E+00   0.00000000E+00   0.00000000E+00   0.00000000E+00   0.00000000E+00   0.00000000E+00   0.00000000E+00   0.0000000000000000E+00   0.0000000000000000E+00   0.0000000000000000E+00   0.0000000000000000E+00   0.0000000000000000E+00   4.0000000000000002E-01   1.5108336864183183E+00   8.83125914E-01   1.00000000E-01 1      1      1   0.00000000E+00   4.00000000E-01   0.00000000E+00   0.00000000E+00   0.00000000E+00   0.00000000E+00   0.00000000E+00   0.00000000E+00   0.00000000E+00   0.00000000E+00   0.00000000E+00   0.00000000E+00   0.00000000E+00   0.00000000E+00   0.00000000E+00   0.00000000E+00   0.00000000E+00   0.00000000E+00   0.00000000E+00   5.89158200E+03        1      3 'QUADRUPO  ' 'QF                  ' '                    ' 'O'\n",
      "    1   0.00000000E+00   0.00000000E+00   0.00000000E+00   0.00000000E+00   0.00000000E+00   0.00000000E+00   0.00000000E+00   0.0000000000000000E+00   0.0000000000000000E+00   0.0000000000000000E+00   0.0000000000000000E+00   0.0000000000000000E+00   5.0000000000000000E-01   1.8885421080228979E+00   8.83125914E-01   1.00000000E-01 1      1      1   0.00000000E+00   5.00000000E-01   0.00000000E+00   0.00000000E+00   0.00000000E+00   0.00000000E+00   0.00000000E+00   0.00000000E+00   0.00000000E+00   0.00000000E+00   0.00000000E+00   0.00000000E+00   0.00000000E+00   0.00000000E+00   0.00000000E+00   0.00000000E+00   0.00000000E+00   0.00000000E+00   0.00000000E+00   5.89158200E+03        1      3 'QUADRUPO  ' 'QF                  ' '                    ' 'O'\n"
     ]
    }
   ],
   "source": [
    "!head /var/folders/r0/hjx4gm291nlgl0mk9wm703tm0000gn/T/tmpgbr19lpc/zgoubi.plt"
   ]
  },
  {
   "cell_type": "code",
   "execution_count": 78,
   "metadata": {},
   "outputs": [
    {
     "name": "stdout",
     "output_type": "stream",
     "text": [
      "/var/folders/r0/hjx4gm291nlgl0mk9wm703tm0000gn/T/tmpgbr19lpc/zgoubi.plt\n",
      "Index(['# KEX', 'Do-1', 'Yo', 'To', 'Zo', 'Po', 'So', 'to', 'D-1', 'Y-DY', 'T',\n",
      "       'Z', 'P', 'S', 'time', 'beta', 'DS', 'KART', 'IT', 'IREP', 'SORT', 'X',\n",
      "       'BX', 'BY', 'BZ', 'RET', 'DPR', 'PS', 'SXo', 'SYo', 'SZo', 'modSo',\n",
      "       'SX', 'SY', 'SZ', 'modS', 'EX', 'EY', 'EZ', 'BORO', 'IPASS', 'NOEL',\n",
      "       'KLEY', 'LABEL1', 'LABEL2', 'LET'],\n",
      "      dtype='object')\n"
     ]
    },
    {
     "data": {
      "text/html": [
       "<div>\n",
       "<style scoped>\n",
       "    .dataframe tbody tr th:only-of-type {\n",
       "        vertical-align: middle;\n",
       "    }\n",
       "\n",
       "    .dataframe tbody tr th {\n",
       "        vertical-align: top;\n",
       "    }\n",
       "\n",
       "    .dataframe thead th {\n",
       "        text-align: right;\n",
       "    }\n",
       "</style>\n",
       "<table border=\"1\" class=\"dataframe\">\n",
       "  <thead>\n",
       "    <tr style=\"text-align: right;\">\n",
       "      <th></th>\n",
       "      <th>Do-1</th>\n",
       "      <th>Yo</th>\n",
       "      <th>To</th>\n",
       "      <th>Zo</th>\n",
       "      <th>Po</th>\n",
       "      <th>So</th>\n",
       "      <th>to</th>\n",
       "      <th>D-1</th>\n",
       "      <th>T</th>\n",
       "      <th>Z</th>\n",
       "      <th>...</th>\n",
       "      <th>YR</th>\n",
       "      <th>ZR</th>\n",
       "      <th>XG</th>\n",
       "      <th>YG</th>\n",
       "      <th>ZG</th>\n",
       "      <th>XRG</th>\n",
       "      <th>YRG</th>\n",
       "      <th>ZRG</th>\n",
       "      <th>TG</th>\n",
       "      <th>PG</th>\n",
       "    </tr>\n",
       "  </thead>\n",
       "  <tbody>\n",
       "    <tr>\n",
       "      <th>0</th>\n",
       "      <td>0.0</td>\n",
       "      <td>0.0</td>\n",
       "      <td>0.0</td>\n",
       "      <td>0.0</td>\n",
       "      <td>0.0</td>\n",
       "      <td>0.0</td>\n",
       "      <td>0.0</td>\n",
       "      <td>0.0</td>\n",
       "      <td>0.0</td>\n",
       "      <td>0.0</td>\n",
       "      <td>...</td>\n",
       "      <td>0.0</td>\n",
       "      <td>0.0</td>\n",
       "      <td>0.000</td>\n",
       "      <td>0.0</td>\n",
       "      <td>0.0</td>\n",
       "      <td>1.000</td>\n",
       "      <td>0.0</td>\n",
       "      <td>0.0</td>\n",
       "      <td>0.0</td>\n",
       "      <td>0.0</td>\n",
       "    </tr>\n",
       "    <tr>\n",
       "      <th>1</th>\n",
       "      <td>0.0</td>\n",
       "      <td>0.0</td>\n",
       "      <td>0.0</td>\n",
       "      <td>0.0</td>\n",
       "      <td>0.0</td>\n",
       "      <td>0.0</td>\n",
       "      <td>0.0</td>\n",
       "      <td>0.0</td>\n",
       "      <td>0.0</td>\n",
       "      <td>0.0</td>\n",
       "      <td>...</td>\n",
       "      <td>0.0</td>\n",
       "      <td>0.0</td>\n",
       "      <td>0.001</td>\n",
       "      <td>0.0</td>\n",
       "      <td>0.0</td>\n",
       "      <td>1.001</td>\n",
       "      <td>0.0</td>\n",
       "      <td>0.0</td>\n",
       "      <td>0.0</td>\n",
       "      <td>0.0</td>\n",
       "    </tr>\n",
       "    <tr>\n",
       "      <th>2</th>\n",
       "      <td>0.0</td>\n",
       "      <td>0.0</td>\n",
       "      <td>0.0</td>\n",
       "      <td>0.0</td>\n",
       "      <td>0.0</td>\n",
       "      <td>0.0</td>\n",
       "      <td>0.0</td>\n",
       "      <td>0.0</td>\n",
       "      <td>0.0</td>\n",
       "      <td>0.0</td>\n",
       "      <td>...</td>\n",
       "      <td>0.0</td>\n",
       "      <td>0.0</td>\n",
       "      <td>0.002</td>\n",
       "      <td>0.0</td>\n",
       "      <td>0.0</td>\n",
       "      <td>1.002</td>\n",
       "      <td>0.0</td>\n",
       "      <td>0.0</td>\n",
       "      <td>0.0</td>\n",
       "      <td>0.0</td>\n",
       "    </tr>\n",
       "    <tr>\n",
       "      <th>3</th>\n",
       "      <td>0.0</td>\n",
       "      <td>0.0</td>\n",
       "      <td>0.0</td>\n",
       "      <td>0.0</td>\n",
       "      <td>0.0</td>\n",
       "      <td>0.0</td>\n",
       "      <td>0.0</td>\n",
       "      <td>0.0</td>\n",
       "      <td>0.0</td>\n",
       "      <td>0.0</td>\n",
       "      <td>...</td>\n",
       "      <td>0.0</td>\n",
       "      <td>0.0</td>\n",
       "      <td>0.003</td>\n",
       "      <td>0.0</td>\n",
       "      <td>0.0</td>\n",
       "      <td>1.003</td>\n",
       "      <td>0.0</td>\n",
       "      <td>0.0</td>\n",
       "      <td>0.0</td>\n",
       "      <td>0.0</td>\n",
       "    </tr>\n",
       "    <tr>\n",
       "      <th>4</th>\n",
       "      <td>0.0</td>\n",
       "      <td>0.0</td>\n",
       "      <td>0.0</td>\n",
       "      <td>0.0</td>\n",
       "      <td>0.0</td>\n",
       "      <td>0.0</td>\n",
       "      <td>0.0</td>\n",
       "      <td>0.0</td>\n",
       "      <td>0.0</td>\n",
       "      <td>0.0</td>\n",
       "      <td>...</td>\n",
       "      <td>0.0</td>\n",
       "      <td>0.0</td>\n",
       "      <td>0.004</td>\n",
       "      <td>0.0</td>\n",
       "      <td>0.0</td>\n",
       "      <td>1.004</td>\n",
       "      <td>0.0</td>\n",
       "      <td>0.0</td>\n",
       "      <td>0.0</td>\n",
       "      <td>0.0</td>\n",
       "    </tr>\n",
       "    <tr>\n",
       "      <th>5</th>\n",
       "      <td>0.0</td>\n",
       "      <td>0.0</td>\n",
       "      <td>0.0</td>\n",
       "      <td>0.0</td>\n",
       "      <td>0.0</td>\n",
       "      <td>0.0</td>\n",
       "      <td>0.0</td>\n",
       "      <td>0.0</td>\n",
       "      <td>0.0</td>\n",
       "      <td>0.0</td>\n",
       "      <td>...</td>\n",
       "      <td>0.0</td>\n",
       "      <td>0.0</td>\n",
       "      <td>0.005</td>\n",
       "      <td>0.0</td>\n",
       "      <td>0.0</td>\n",
       "      <td>1.005</td>\n",
       "      <td>0.0</td>\n",
       "      <td>0.0</td>\n",
       "      <td>0.0</td>\n",
       "      <td>0.0</td>\n",
       "    </tr>\n",
       "    <tr>\n",
       "      <th>6</th>\n",
       "      <td>0.0</td>\n",
       "      <td>0.0</td>\n",
       "      <td>0.0</td>\n",
       "      <td>0.0</td>\n",
       "      <td>0.0</td>\n",
       "      <td>0.0</td>\n",
       "      <td>0.0</td>\n",
       "      <td>0.0</td>\n",
       "      <td>0.0</td>\n",
       "      <td>0.0</td>\n",
       "      <td>...</td>\n",
       "      <td>0.0</td>\n",
       "      <td>0.0</td>\n",
       "      <td>0.006</td>\n",
       "      <td>0.0</td>\n",
       "      <td>0.0</td>\n",
       "      <td>1.006</td>\n",
       "      <td>0.0</td>\n",
       "      <td>0.0</td>\n",
       "      <td>0.0</td>\n",
       "      <td>0.0</td>\n",
       "    </tr>\n",
       "    <tr>\n",
       "      <th>7</th>\n",
       "      <td>0.0</td>\n",
       "      <td>0.0</td>\n",
       "      <td>0.0</td>\n",
       "      <td>0.0</td>\n",
       "      <td>0.0</td>\n",
       "      <td>0.0</td>\n",
       "      <td>0.0</td>\n",
       "      <td>0.0</td>\n",
       "      <td>0.0</td>\n",
       "      <td>0.0</td>\n",
       "      <td>...</td>\n",
       "      <td>0.0</td>\n",
       "      <td>0.0</td>\n",
       "      <td>0.007</td>\n",
       "      <td>0.0</td>\n",
       "      <td>0.0</td>\n",
       "      <td>1.007</td>\n",
       "      <td>0.0</td>\n",
       "      <td>0.0</td>\n",
       "      <td>0.0</td>\n",
       "      <td>0.0</td>\n",
       "    </tr>\n",
       "    <tr>\n",
       "      <th>8</th>\n",
       "      <td>0.0</td>\n",
       "      <td>0.0</td>\n",
       "      <td>0.0</td>\n",
       "      <td>0.0</td>\n",
       "      <td>0.0</td>\n",
       "      <td>0.0</td>\n",
       "      <td>0.0</td>\n",
       "      <td>0.0</td>\n",
       "      <td>0.0</td>\n",
       "      <td>0.0</td>\n",
       "      <td>...</td>\n",
       "      <td>0.0</td>\n",
       "      <td>0.0</td>\n",
       "      <td>0.008</td>\n",
       "      <td>0.0</td>\n",
       "      <td>0.0</td>\n",
       "      <td>1.008</td>\n",
       "      <td>0.0</td>\n",
       "      <td>0.0</td>\n",
       "      <td>0.0</td>\n",
       "      <td>0.0</td>\n",
       "    </tr>\n",
       "    <tr>\n",
       "      <th>9</th>\n",
       "      <td>0.0</td>\n",
       "      <td>0.0</td>\n",
       "      <td>0.0</td>\n",
       "      <td>0.0</td>\n",
       "      <td>0.0</td>\n",
       "      <td>0.0</td>\n",
       "      <td>0.0</td>\n",
       "      <td>0.0</td>\n",
       "      <td>0.0</td>\n",
       "      <td>0.0</td>\n",
       "      <td>...</td>\n",
       "      <td>0.0</td>\n",
       "      <td>0.0</td>\n",
       "      <td>0.009</td>\n",
       "      <td>0.0</td>\n",
       "      <td>0.0</td>\n",
       "      <td>1.009</td>\n",
       "      <td>0.0</td>\n",
       "      <td>0.0</td>\n",
       "      <td>0.0</td>\n",
       "      <td>0.0</td>\n",
       "    </tr>\n",
       "  </tbody>\n",
       "</table>\n",
       "<p>10 rows × 57 columns</p>\n",
       "</div>"
      ],
      "text/plain": [
       "   Do-1   Yo   To   Zo   Po   So   to  D-1    T    Z  ...   YR   ZR     XG  \\\n",
       "0   0.0  0.0  0.0  0.0  0.0  0.0  0.0  0.0  0.0  0.0  ...  0.0  0.0  0.000   \n",
       "1   0.0  0.0  0.0  0.0  0.0  0.0  0.0  0.0  0.0  0.0  ...  0.0  0.0  0.001   \n",
       "2   0.0  0.0  0.0  0.0  0.0  0.0  0.0  0.0  0.0  0.0  ...  0.0  0.0  0.002   \n",
       "3   0.0  0.0  0.0  0.0  0.0  0.0  0.0  0.0  0.0  0.0  ...  0.0  0.0  0.003   \n",
       "4   0.0  0.0  0.0  0.0  0.0  0.0  0.0  0.0  0.0  0.0  ...  0.0  0.0  0.004   \n",
       "5   0.0  0.0  0.0  0.0  0.0  0.0  0.0  0.0  0.0  0.0  ...  0.0  0.0  0.005   \n",
       "6   0.0  0.0  0.0  0.0  0.0  0.0  0.0  0.0  0.0  0.0  ...  0.0  0.0  0.006   \n",
       "7   0.0  0.0  0.0  0.0  0.0  0.0  0.0  0.0  0.0  0.0  ...  0.0  0.0  0.007   \n",
       "8   0.0  0.0  0.0  0.0  0.0  0.0  0.0  0.0  0.0  0.0  ...  0.0  0.0  0.008   \n",
       "9   0.0  0.0  0.0  0.0  0.0  0.0  0.0  0.0  0.0  0.0  ...  0.0  0.0  0.009   \n",
       "\n",
       "    YG   ZG    XRG  YRG  ZRG   TG   PG  \n",
       "0  0.0  0.0  1.000  0.0  0.0  0.0  0.0  \n",
       "1  0.0  0.0  1.001  0.0  0.0  0.0  0.0  \n",
       "2  0.0  0.0  1.002  0.0  0.0  0.0  0.0  \n",
       "3  0.0  0.0  1.003  0.0  0.0  0.0  0.0  \n",
       "4  0.0  0.0  1.004  0.0  0.0  0.0  0.0  \n",
       "5  0.0  0.0  1.005  0.0  0.0  0.0  0.0  \n",
       "6  0.0  0.0  1.006  0.0  0.0  0.0  0.0  \n",
       "7  0.0  0.0  1.007  0.0  0.0  0.0  0.0  \n",
       "8  0.0  0.0  1.008  0.0  0.0  0.0  0.0  \n",
       "9  0.0  0.0  1.009  0.0  0.0  0.0  0.0  \n",
       "\n",
       "[10 rows x 57 columns]"
      ]
     },
     "execution_count": 78,
     "metadata": {},
     "output_type": "execute_result"
    }
   ],
   "source": [
    "zr.tracks.head(10)"
   ]
  },
  {
   "cell_type": "markdown",
   "metadata": {},
   "source": [
    "The tracking results have been automatically extracted and collected in a nice look `pandas.DataFrame`.\n",
    "\n",
    "The other typicall \"results files\" of `zgoubi` can be read as well:"
   ]
  },
  {
   "cell_type": "code",
   "execution_count": null,
   "metadata": {},
   "outputs": [],
   "source": [
    "# ! read in zgoubi/*.f grep PRINT  for all the supported PRINT commands"
   ]
  },
  {
   "cell_type": "code",
   "execution_count": 57,
   "metadata": {},
   "outputs": [
    {
     "name": "stderr",
     "output_type": "stream",
     "text": [
      "Unable to read and load the Zgoubi SRLOSS files required to collect the SRLOSS data.\n"
     ]
    },
    {
     "data": {
      "text/html": [
       "<div>\n",
       "<style scoped>\n",
       "    .dataframe tbody tr th:only-of-type {\n",
       "        vertical-align: middle;\n",
       "    }\n",
       "\n",
       "    .dataframe tbody tr th {\n",
       "        vertical-align: top;\n",
       "    }\n",
       "\n",
       "    .dataframe thead th {\n",
       "        text-align: right;\n",
       "    }\n",
       "</style>\n",
       "<table border=\"1\" class=\"dataframe\">\n",
       "  <thead>\n",
       "    <tr style=\"text-align: right;\">\n",
       "      <th></th>\n",
       "    </tr>\n",
       "  </thead>\n",
       "  <tbody>\n",
       "  </tbody>\n",
       "</table>\n",
       "</div>"
      ],
      "text/plain": [
       "Empty DataFrame\n",
       "Columns: []\n",
       "Index: []"
      ]
     },
     "execution_count": 57,
     "metadata": {},
     "output_type": "execute_result"
    }
   ],
   "source": [
    "zr.srloss"
   ]
  },
  {
   "cell_type": "code",
   "execution_count": 58,
   "metadata": {},
   "outputs": [
    {
     "name": "stderr",
     "output_type": "stream",
     "text": [
      "Unable to read and load the Zgoubi MATRIX files required to collect the matrix data.\n"
     ]
    }
   ],
   "source": [
    "zr.matrix"
   ]
  },
  {
   "cell_type": "code",
   "execution_count": 59,
   "metadata": {},
   "outputs": [
    {
     "name": "stderr",
     "output_type": "stream",
     "text": [
      "Unable to read and load the Zgoubi OPTICS files required to collect the matrix data.\n"
     ]
    }
   ],
   "source": [
    "zr.optics"
   ]
  },
  {
   "cell_type": "markdown",
   "metadata": {},
   "source": [
    "But of course we'll have to work a bit harder for that.\n",
    "\n",
    "Let's try to get some Twiss parameters.\n",
    "\n",
    "Back to the input.\n",
    "\n",
    "The line is a list (actually a `deque`) of commands. Let's see how we can manipulate it."
   ]
  },
  {
   "cell_type": "code",
   "execution_count": null,
   "metadata": {},
   "outputs": [],
   "source": [
    "# ! zpop can read in .fai while zgoubi is running (for a long run). look at what's possible to do\n",
    "# FORTRAN flush command"
   ]
  },
  {
   "cell_type": "code",
   "execution_count": 60,
   "metadata": {},
   "outputs": [
    {
     "data": {
      "text/plain": [
       "6"
      ]
     },
     "execution_count": 60,
     "metadata": {},
     "output_type": "execute_result"
    }
   ],
   "source": [
    "len(zi)  # 6 commands at this point"
   ]
  },
  {
   "cell_type": "code",
   "execution_count": 61,
   "metadata": {},
   "outputs": [],
   "source": [
    "zi.line.append(Matrix())"
   ]
  },
  {
   "cell_type": "code",
   "execution_count": 62,
   "metadata": {},
   "outputs": [
    {
     "data": {
      "text/plain": [
       "[\n",
       "         \n",
       "         'QUADRUPO' QD\n",
       "         2\n",
       "         1.000000000000e+02 1.000000000000e+00 -1.000000000000e+01\n",
       "         2.000000000000e+00 0.000000000000e+00\n",
       "         6 0.000000000000e+00 1.000000000000e+00 0.000000000000e+00 0.000000000000e+00 0.000000000000e+00 0.000000000000e+00\n",
       "         2.000000000000e+00 0.000000000000e+00\n",
       "         6 0.000000000000e+00 1.000000000000e+00 0.000000000000e+00 0.000000000000e+00 0.000000000000e+00 0.000000000000e+00\n",
       "         0.1\n",
       "         1 0.000000000000e+00 0.000000000000e+00 0.000000000000e+00\n",
       "         ]"
      ]
     },
     "execution_count": 62,
     "metadata": {},
     "output_type": "execute_result"
    }
   ],
   "source": [
    "list(filter(lambda _: _.LABEL1 == 'QD', zi))"
   ]
  },
  {
   "cell_type": "code",
   "execution_count": 63,
   "metadata": {},
   "outputs": [
    {
     "data": {
      "text/plain": [
       "FODO\n",
       "        'OBJET' BUNCH\n",
       "        5.891582002459e+03\n",
       "        5.01\n",
       "        1.000000000000e-03 1.000000000000e-03 1.000000000000e-03 1.000000000000e-03 1.000000000000e-03 1.000000000000e-03\n",
       "        0.000000000000e+00 0.000000000000e+00 0.000000000000e+00 0.000000000000e+00 0.000000000000e+00 1.000000000000e+00\n",
       "        0.000000000000e+00 1.000000000000e+00 0.000000000000e+00 1.000000000000e+00 0.000000000000e+00 1.000000000000e+00 0.000000000000e+00 0.000000000000e+00 0.000000000000e+00 0.000000000000e+00\n",
       "\n",
       "        'PARTICUL' PROTON\n",
       "        PROTON\n",
       "            \n",
       "        \n",
       "        'QUADRUPO' QF\n",
       "        2\n",
       "        1.000000000000e+02 1.000000000000e+00 1.000000000000e+01\n",
       "        2.000000000000e+00 0.000000000000e+00\n",
       "        6 0.000000000000e+00 1.000000000000e+00 0.000000000000e+00 0.000000000000e+00 0.000000000000e+00 0.000000000000e+00\n",
       "        2.000000000000e+00 0.000000000000e+00\n",
       "        6 0.000000000000e+00 1.000000000000e+00 0.000000000000e+00 0.000000000000e+00 0.000000000000e+00 0.000000000000e+00\n",
       "        0.1\n",
       "        1 0.000000000000e+00 0.000000000000e+00 0.000000000000e+00\n",
       "        \n",
       "        \n",
       "        'DRIFT' e1b50046c0d34992adf4\n",
       "        1.000000000000e+02 split 10 2\n",
       "        \n",
       "        \n",
       "        'QUADRUPO' QD\n",
       "        2\n",
       "        1.000000000000e+02 1.000000000000e+00 -1.000000000000e+01\n",
       "        2.000000000000e+00 0.000000000000e+00\n",
       "        6 0.000000000000e+00 1.000000000000e+00 0.000000000000e+00 0.000000000000e+00 0.000000000000e+00 0.000000000000e+00\n",
       "        2.000000000000e+00 0.000000000000e+00\n",
       "        6 0.000000000000e+00 1.000000000000e+00 0.000000000000e+00 0.000000000000e+00 0.000000000000e+00 0.000000000000e+00\n",
       "        0.1\n",
       "        1 0.000000000000e+00 0.000000000000e+00 0.000000000000e+00\n",
       "        \n",
       "        \n",
       "        'DRIFT' ca00b7a8f381447ea522\n",
       "        1.000000000000e+02 split 10 2\n",
       "        \n",
       "        \n",
       "        'MATRIX' bdca931f19c641fd946d\n",
       "        1 11 PRINT\n",
       "        \n",
       "        'END' 8461b69026f64c23997f \n",
       "        "
      ]
     },
     "execution_count": 63,
     "metadata": {},
     "output_type": "execute_result"
    }
   ],
   "source": [
    "zi.replace('BUNCH', Objet5('BUNCH', BORO=k.brho))"
   ]
  },
  {
   "cell_type": "markdown",
   "metadata": {},
   "source": [
    "This worked as expected. Let's run it again."
   ]
  },
  {
   "cell_type": "code",
   "execution_count": 64,
   "metadata": {},
   "outputs": [],
   "source": [
    "z.cleanup()\n",
    "zr = z(zi).collect()"
   ]
  },
  {
   "cell_type": "markdown",
   "metadata": {},
   "source": [
    "We would like to see if this worked, but without scrolling through the entire output..."
   ]
  },
  {
   "cell_type": "code",
   "execution_count": 73,
   "metadata": {},
   "outputs": [
    {
     "data": {
      "text/plain": [
       "1"
      ]
     },
     "execution_count": 73,
     "metadata": {},
     "output_type": "execute_result"
    }
   ],
   "source": [
    "# BUGG zi.zgoubi_index('QD')"
   ]
  },
  {
   "cell_type": "code",
   "execution_count": 65,
   "metadata": {},
   "outputs": [
    {
     "name": "stdout",
     "output_type": "stream",
     "text": [
      "      7  Keyword, label(s) :  MATRIX      bdca931f19c641fd946d                                                         IPASS= 1\n",
      "  Matrix coefficients are printed in  zgoubi.MATRIX.out.\n",
      "  Reference, before change of frame (part #     1)  : \n",
      "   0.00000000E+00   0.00000000E+00   0.00000000E+00   0.00000000E+00   0.00000000E+00   4.00000000E+02   1.51083369E-02\n",
      "           Frame for MATRIX calculation moved by :\n",
      "            XC =    0.000 cm , YC =    0.000 cm ,   A =  0.00000 deg  ( = 0.000000 rad )\n",
      "  Reference, after change of frame (part #     1)  : \n",
      "   0.00000000E+00   0.00000000E+00   0.00000000E+00   0.00000000E+00   0.00000000E+00   4.00000000E+02   1.51083369E-02\n",
      "  Reference particle (#     1), path length :   400.00000     cm  relative momentum :    1.00000    \n",
      "                  TRANSFER  MATRIX  ORDRE  1  (MKSA units)\n",
      "           581.175        -141.063         0.00000         0.00000         0.00000         0.00000    \n",
      "           467.632        -113.502         0.00000         0.00000         0.00000         0.00000    \n",
      "           0.00000         0.00000         354.148         85.9786         0.00000         0.00000    \n",
      "           0.00000         0.00000         467.644         113.539         0.00000         0.00000    \n",
      "           0.00000         0.00000         0.00000         0.00000         1.00000         0.00000    \n",
      "           0.00000         0.00000         0.00000         0.00000         0.00000         1.00000    \n",
      "          DetY-1 =      -0.3749027335,    DetZ-1 =       1.1258239627\n",
      "          R12=0 at   -1.243     m,        R34=0 at  -0.7573     m\n",
      "      First order symplectic conditions (expected values = 0) :\n",
      "        -0.3749         1.126         0.000         0.000         0.000         0.000    \n",
      "                TWISS  parameters,  periodicity  of   1  is  assumed \n",
      "                                   - UNCOUPLED -\n",
      "       Beam  matrix  (beta/-alpha/-alpha/gamma) and  periodic  dispersion  (MKSA units)\n",
      "           0.000000     0.000000     0.000000     0.000000     0.000000     0.000000\n",
      "           0.000000     0.000000     0.000000     0.000000     0.000000     0.000000\n",
      "           0.000000     0.000000     0.000000     0.000000     0.000000     0.000000\n",
      "           0.000000     0.000000     0.000000     0.000000     0.000000     0.000000\n",
      "           0.000000     0.000000     0.000000     0.000000     0.000000     0.000000\n",
      "           0.000000     0.000000     0.000000     0.000000     0.000000     0.000000\n",
      "                                   Betatron  tunes\n",
      "                    NU_Y = undefined           NU_Z = undefined      \n"
     ]
    }
   ],
   "source": [
    "print('\\n'.join(zi[Matrix][0].output[0][1]))"
   ]
  },
  {
   "cell_type": "code",
   "execution_count": 66,
   "metadata": {},
   "outputs": [
    {
     "data": {
      "text/html": [
       "<div>\n",
       "<style scoped>\n",
       "    .dataframe tbody tr th:only-of-type {\n",
       "        vertical-align: middle;\n",
       "    }\n",
       "\n",
       "    .dataframe tbody tr th {\n",
       "        vertical-align: top;\n",
       "    }\n",
       "\n",
       "    .dataframe thead th {\n",
       "        text-align: right;\n",
       "    }\n",
       "</style>\n",
       "<table border=\"1\" class=\"dataframe\">\n",
       "  <thead>\n",
       "    <tr style=\"text-align: right;\">\n",
       "      <th></th>\n",
       "      <th>R11</th>\n",
       "      <th>R12</th>\n",
       "      <th>R13</th>\n",
       "      <th>R14</th>\n",
       "      <th>R15</th>\n",
       "      <th>R16</th>\n",
       "      <th>R21</th>\n",
       "      <th>R22</th>\n",
       "      <th>R23</th>\n",
       "      <th>R24</th>\n",
       "      <th>...</th>\n",
       "      <th>QZ</th>\n",
       "      <th>XCE</th>\n",
       "      <th>YCE</th>\n",
       "      <th>ALE</th>\n",
       "      <th>ALPHA11</th>\n",
       "      <th>BETA11</th>\n",
       "      <th>GAMMA11</th>\n",
       "      <th>ALPHA22</th>\n",
       "      <th>BETA22</th>\n",
       "      <th>GAMMA22</th>\n",
       "    </tr>\n",
       "  </thead>\n",
       "  <tbody>\n",
       "    <tr>\n",
       "      <th>0</th>\n",
       "      <td>581.174611</td>\n",
       "      <td>-141.062577</td>\n",
       "      <td>0.0</td>\n",
       "      <td>0.0</td>\n",
       "      <td>0.0</td>\n",
       "      <td>0.0</td>\n",
       "      <td>467.63198</td>\n",
       "      <td>-113.502458</td>\n",
       "      <td>0.0</td>\n",
       "      <td>0.0</td>\n",
       "      <td>...</td>\n",
       "      <td>undefined</td>\n",
       "      <td>0.0</td>\n",
       "      <td>0.0</td>\n",
       "      <td>0.0</td>\n",
       "      <td>-0.0</td>\n",
       "      <td>0.0</td>\n",
       "      <td>inf</td>\n",
       "      <td>-0.0</td>\n",
       "      <td>0.0</td>\n",
       "      <td>inf</td>\n",
       "    </tr>\n",
       "  </tbody>\n",
       "</table>\n",
       "<p>1 rows × 66 columns</p>\n",
       "</div>"
      ],
      "text/plain": [
       "          R11         R12  R13  R14  R15  R16        R21         R22  R23  \\\n",
       "0  581.174611 -141.062577  0.0  0.0  0.0  0.0  467.63198 -113.502458  0.0   \n",
       "\n",
       "   R24  ...         QZ  XCE  YCE  ALE  ALPHA11  BETA11  GAMMA11  ALPHA22  \\\n",
       "0  0.0  ...  undefined  0.0  0.0  0.0     -0.0     0.0      inf     -0.0   \n",
       "\n",
       "   BETA22  GAMMA22  \n",
       "0     0.0      inf  \n",
       "\n",
       "[1 rows x 66 columns]"
      ]
     },
     "execution_count": 66,
     "metadata": {},
     "output_type": "execute_result"
    }
   ],
   "source": [
    "zr.matrix#.at[0, 'R11']"
   ]
  },
  {
   "cell_type": "markdown",
   "metadata": {},
   "source": [
    "**Exercice**: go back and adapt the FODO example to obtain a stable solution."
   ]
  },
  {
   "cell_type": "markdown",
   "metadata": {},
   "source": [
    "### Visualization with Zgoubidoo"
   ]
  },
  {
   "cell_type": "markdown",
   "metadata": {},
   "source": [
    "Zgoubidoo offers default visualization to plot beamlines, tracking data, etc. Let's have a look."
   ]
  },
  {
   "cell_type": "code",
   "execution_count": 67,
   "metadata": {},
   "outputs": [
    {
     "ename": "ZgoubiInputException",
     "evalue": "The input must be surveyed explicitely before plotting.",
     "output_type": "error",
     "traceback": [
      "\u001b[0;31m---------------------------------------------------------------------------\u001b[0m",
      "\u001b[0;31mZgoubiInputException\u001b[0m                      Traceback (most recent call last)",
      "\u001b[0;32m<ipython-input-67-0756df44ff73>\u001b[0m in \u001b[0;36m<module>\u001b[0;34m\u001b[0m\n\u001b[0;32m----> 1\u001b[0;31m \u001b[0mzi\u001b[0m\u001b[0;34m.\u001b[0m\u001b[0mplot\u001b[0m\u001b[0;34m(\u001b[0m\u001b[0;34m)\u001b[0m\u001b[0;34m\u001b[0m\u001b[0;34m\u001b[0m\u001b[0m\n\u001b[0m",
      "\u001b[0;32m~/reps/zgoubidoo/zgoubidoo/input.py\u001b[0m in \u001b[0;36mplot\u001b[0;34m(self, ax, tracks, artist, start, stop, with_frames, with_elements, with_apertures, set_equal_aspect)\u001b[0m\n\u001b[1;32m    692\u001b[0m         \"\"\"\n\u001b[1;32m    693\u001b[0m         \u001b[0;32mif\u001b[0m \u001b[0mself\u001b[0m\u001b[0;34m.\u001b[0m\u001b[0m_reference_frame\u001b[0m \u001b[0;32mis\u001b[0m \u001b[0;32mNone\u001b[0m\u001b[0;34m:\u001b[0m\u001b[0;34m\u001b[0m\u001b[0;34m\u001b[0m\u001b[0m\n\u001b[0;32m--> 694\u001b[0;31m             \u001b[0;32mraise\u001b[0m \u001b[0mZgoubiInputException\u001b[0m\u001b[0;34m(\u001b[0m\u001b[0;34m\"The input must be surveyed explicitely before plotting.\"\u001b[0m\u001b[0;34m)\u001b[0m\u001b[0;34m\u001b[0m\u001b[0;34m\u001b[0m\u001b[0m\n\u001b[0m\u001b[1;32m    695\u001b[0m         \u001b[0;32mif\u001b[0m \u001b[0martist\u001b[0m \u001b[0;32mis\u001b[0m \u001b[0;32mNone\u001b[0m\u001b[0;34m:\u001b[0m\u001b[0;34m\u001b[0m\u001b[0;34m\u001b[0m\u001b[0m\n\u001b[1;32m    696\u001b[0m             \u001b[0martist\u001b[0m \u001b[0;34m=\u001b[0m \u001b[0mzgoubidoo\u001b[0m\u001b[0;34m.\u001b[0m\u001b[0mvis\u001b[0m\u001b[0;34m.\u001b[0m\u001b[0mZgoubiMpl\u001b[0m\u001b[0;34m(\u001b[0m\u001b[0max\u001b[0m\u001b[0;34m=\u001b[0m\u001b[0max\u001b[0m\u001b[0;34m,\u001b[0m \u001b[0mwith_frames\u001b[0m\u001b[0;34m=\u001b[0m\u001b[0mwith_frames\u001b[0m\u001b[0;34m)\u001b[0m\u001b[0;34m\u001b[0m\u001b[0;34m\u001b[0m\u001b[0m\n",
      "\u001b[0;31mZgoubiInputException\u001b[0m: The input must be surveyed explicitely before plotting."
     ]
    }
   ],
   "source": [
    "zi.plot()"
   ]
  },
  {
   "cell_type": "markdown",
   "metadata": {},
   "source": [
    "OK... what is this \"survey\" thing?\n",
    "\n",
    "All elements of a Zgoubidoo beamline are positionned with respect to a given coordinates frame. The survey operation consists in associating a global reference frame with the beamline."
   ]
  },
  {
   "cell_type": "code",
   "execution_count": 68,
   "metadata": {},
   "outputs": [],
   "source": [
    "zi.survey()"
   ]
  },
  {
   "cell_type": "code",
   "execution_count": 70,
   "metadata": {},
   "outputs": [
    {
     "data": {
      "text/html": [
       "2.0 meter"
      ],
      "text/latex": [
       "$2.0\\ \\mathrm{meter}$"
      ],
      "text/plain": [
       "2.0 <Unit('meter')>"
      ]
     },
     "execution_count": 70,
     "metadata": {},
     "output_type": "execute_result"
    }
   ],
   "source": [
    "zi.QD.entry.x"
   ]
  },
  {
   "cell_type": "code",
   "execution_count": 71,
   "metadata": {},
   "outputs": [
    {
     "data": {
      "text/plain": [
       "array([[1., 0., 0.],\n",
       "       [0., 1., 0.],\n",
       "       [0., 0., 1.]])"
      ]
     },
     "execution_count": 71,
     "metadata": {},
     "output_type": "execute_result"
    }
   ],
   "source": [
    "zi.QD.entry.get_rotation_matrix()"
   ]
  },
  {
   "cell_type": "markdown",
   "metadata": {},
   "source": [
    "Let's make some nice plots..."
   ]
  },
  {
   "cell_type": "code",
   "execution_count": 74,
   "metadata": {},
   "outputs": [
    {
     "ename": "AttributeError",
     "evalue": "module 'zgoubidoo.vis' has no attribute 'cartouche'",
     "output_type": "error",
     "traceback": [
      "\u001b[0;31m---------------------------------------------------------------------------\u001b[0m",
      "\u001b[0;31mAttributeError\u001b[0m                            Traceback (most recent call last)",
      "\u001b[0;32m<ipython-input-74-3904cd92c7eb>\u001b[0m in \u001b[0;36m<module>\u001b[0;34m\u001b[0m\n\u001b[1;32m      1\u001b[0m \u001b[0martist\u001b[0m \u001b[0;34m=\u001b[0m \u001b[0mzgoubidoo\u001b[0m\u001b[0;34m.\u001b[0m\u001b[0mvis\u001b[0m\u001b[0;34m.\u001b[0m\u001b[0mMatplotlibArtist\u001b[0m\u001b[0;34m(\u001b[0m\u001b[0;34m)\u001b[0m\u001b[0;34m\u001b[0m\u001b[0;34m\u001b[0m\u001b[0m\n\u001b[0;32m----> 2\u001b[0;31m \u001b[0mzgoubidoo\u001b[0m\u001b[0;34m.\u001b[0m\u001b[0mvis\u001b[0m\u001b[0;34m.\u001b[0m\u001b[0mcartouche\u001b[0m\u001b[0;34m(\u001b[0m\u001b[0mline\u001b[0m\u001b[0;34m=\u001b[0m\u001b[0mzi\u001b[0m\u001b[0;34m,\u001b[0m \u001b[0martist\u001b[0m\u001b[0;34m=\u001b[0m\u001b[0martist\u001b[0m\u001b[0;34m)\u001b[0m\u001b[0;34m\u001b[0m\u001b[0;34m\u001b[0m\u001b[0m\n\u001b[0m\u001b[1;32m      3\u001b[0m \u001b[0mzi\u001b[0m\u001b[0;34m.\u001b[0m\u001b[0mplot\u001b[0m\u001b[0;34m(\u001b[0m\u001b[0max\u001b[0m\u001b[0;34m=\u001b[0m\u001b[0martist\u001b[0m\u001b[0;34m.\u001b[0m\u001b[0max\u001b[0m\u001b[0;34m,\u001b[0m \u001b[0mtracks\u001b[0m\u001b[0;34m=\u001b[0m\u001b[0mzr\u001b[0m\u001b[0;34m.\u001b[0m\u001b[0mtracks\u001b[0m\u001b[0;34m)\u001b[0m\u001b[0;34m\u001b[0m\u001b[0;34m\u001b[0m\u001b[0m\n",
      "\u001b[0;31mAttributeError\u001b[0m: module 'zgoubidoo.vis' has no attribute 'cartouche'"
     ]
    },
    {
     "data": {
      "image/png": "[encoded data removed]",
      "text/plain": [
       "<Figure size 864x576 with 2 Axes>"
      ]
     },
     "metadata": {
      "needs_background": "light"
     },
     "output_type": "display_data"
    }
   ],
   "source": [
    "artist = zgoubidoo.vis.MatplotlibArtist()\n",
    "zgoubidoo.vis.cartouche(line=zi, artist=artist)\n",
    "zi.plot(ax=artist.ax, tracks=zr.tracks)"
   ]
  },
  {
   "cell_type": "markdown",
   "metadata": {},
   "source": [
    "Let's modify the input to improve the plotting. The following example will:\n",
    "\n",
    " - illustrate how to add more elements to the input;\n",
    " - illustrate how one can misalign elements."
   ]
  },
  {
   "cell_type": "code",
   "execution_count": 90,
   "metadata": {},
   "outputs": [
    {
     "data": {
      "text/plain": [
       "<zgoubidoo.vis.matplotlib.ZgoubiMpl at 0x122a9c128>"
      ]
     },
     "execution_count": 90,
     "metadata": {},
     "output_type": "execute_result"
    },
    {
     "data": {
      "image/png": "[encoded data removed]",
      "text/plain": [
       "<Figure size 864x576 with 3 Axes>"
      ]
     },
     "metadata": {
      "needs_background": "light"
     },
     "output_type": "display_data"
    }
   ],
   "source": [
    "qf = Quadrupole('QF', XL=1*_.m, B0=0.1 * _.tesla, ALE=5*_.degree, KPOS=1)\n",
    "qd = Quadrupole('QD', XL=1*_.m, B0=-0.05 * _.tesla, YCE=10*_.cm, KPOS=2)\n",
    "\n",
    "zi = zgoubidoo.Input(name='FODO', line=[\n",
    "    Objet2('BUNCH', BORO=k.brho),\n",
    "    Proton(),\n",
    "    qf,\n",
    "    FakeDrift(XL=1 * _.m),  # FakeDrift is actually a MULTIPOLE with a very small but non zero B0 field, forcing zgoubi to track\n",
    "    qd,\n",
    "    FakeDrift(XL=1 * _.m),  # FakeDrift is actually a MULTIPOLE with a very small but non zero B0 field, forcing zgoubi to track\n",
    "    Multipole(XL=1 * _.m, B1=5 * _.kilogauss),\n",
    "])\n",
    "zi.survey()\n",
    "\n",
    "#zi.XPAS = 0.01 * _.m  # Note that the parameters of all the elements in the input can be set with a single command\n",
    "z = zgoubidoo.Zgoubi()\n",
    "zr = z(zi).collect()\n",
    "\n",
    "artist = zgoubidoo.vis.ZgoubiMpl()\n",
    "zgoubidoo.vis.cartouche(line=zi, artist=artist)\n",
    "zi.plot(ax=artist.ax, tracks=zr.tracks)"
   ]
  },
  {
   "cell_type": "markdown",
   "metadata": {},
   "source": [
    "At the end of a Zgoubi run it is possible to save the input file and one or more output files to a permanent directory (by default Zgoubidoo runs everything in temporary directories)."
   ]
  },
  {
   "cell_type": "code",
   "execution_count": 69,
   "metadata": {},
   "outputs": [],
   "source": [
    "zr.save('.', ['zgoubi.dat', 'zgoubi.res', 'zgoubi.log'])"
   ]
  },
  {
   "cell_type": "markdown",
   "metadata": {},
   "source": [
    "## Tracking on multi-core machines"
   ]
  },
  {
   "cell_type": "markdown",
   "metadata": {},
   "source": [
    "`zgoubi` itself is purely single process, single thread. However, `zgoubidoo` makes it easy to track particles on multi-core machines. Doing so with `zgoubidoo` is totaly transparent for the user, at the time of the input preparation and at the time of the collection of the results.\n",
    "\n",
    "To illustrate this, let's reuse our previous input, but this time with a real bunch. This is so common that `zgoubidoo` provides an abstraction layer on top of the `zgoubi` *objets*."
   ]
  },
  {
   "cell_type": "markdown",
   "metadata": {},
   "source": [
    "### Using `zgoubidoo` beams"
   ]
  },
  {
   "cell_type": "markdown",
   "metadata": {},
   "source": [
    "`zgoubidoo` provides different subclasses of `zgoubidoo.commands.beam.Beam` to suit specific needs. Here we will use the `BeamZgoubiDistribution` "
   ]
  },
  {
   "cell_type": "code",
   "execution_count": 97,
   "metadata": {},
   "outputs": [
    {
     "data": {
      "text/plain": [
       "\n",
       "        ! Definition of BeamZgoubiDistribution\n",
       "    \n",
       "        'MCOBJET' BUNCH \n",
       "        5.891582002459e+01\n",
       "        3\n",
       "        10000\n",
       "        2 2 2 2 2 1\n",
       "        0.000000000000e+00 0.000000000000e+00 0.000000000000e+00 0.000000000000e+00 0.000000000000e+00 1.000000000000e+00\n",
       "        0.000000000000e+00 1.000000000000e+00 1.000000000000e-09 10  0.000000000000e+00 0.000000000000e+00\n",
       "        0.000000000000e+00 1.000000000000e+00 1.000000000000e-09 10  0.000000000000e+00 0.000000000000e+00\n",
       "        0.000000000000e+00 1.000000000000e+00 1.000000000000e-09 10 \n",
       "        877079 641140 486197\n",
       "    \n",
       "        'PARTICUL' PROTON\n",
       "        9.382720300000e+02 1.602176487000e-19 1.792847350500e+00 0.000000000000e+00 0.0\n",
       "        "
      ]
     },
     "execution_count": 97,
     "metadata": {},
     "output_type": "execute_result"
    }
   ],
   "source": [
    "my_bunch = BeamZgoubiDistribution('BUNCH', kinematics=k, particle=Proton, IMAX=1e4)\n",
    "my_bunch"
   ]
  },
  {
   "cell_type": "code",
   "execution_count": 99,
   "metadata": {},
   "outputs": [],
   "source": [
    "qf = Quadrupole('QF', XL=1*_.m, B0=0.1 * _.tesla, ALE=5*_.degree, KPOS=1)\n",
    "qd = Quadrupole('QD', XL=1*_.m, B0=-0.05 * _.tesla, YCE=10*_.cm, KPOS=2)\n",
    "\n",
    "zi = zgoubidoo.Input(name='FODO', line=[\n",
    "    my_bunch,\n",
    "    qf,\n",
    "    FakeDrift(XL=1 * _.m),  # FakeDrift is actually a MULTIPOLE with a very small but non zero B0 field, forcing zgoubi to track\n",
    "    qd,\n",
    "    FakeDrift(XL=1 * _.m),  # FakeDrift is actually a MULTIPOLE with a very small but non zero B0 field, forcing zgoubi to track\n",
    "])\n",
    "\n",
    "#zi.XPAS = 1.0 * _.cm  # Note that the parameters of all the elements in the input can be set with a single command"
   ]
  },
  {
   "cell_type": "markdown",
   "metadata": {},
   "source": [
    "Let's run `zgoubi` and track the distribution and check how long it takes."
   ]
  },
  {
   "cell_type": "code",
   "execution_count": 100,
   "metadata": {},
   "outputs": [
    {
     "ename": "KeyboardInterrupt",
     "evalue": "",
     "output_type": "error",
     "traceback": [
      "\u001b[0;31m---------------------------------------------------------------------------\u001b[0m",
      "\u001b[0;31mKeyboardInterrupt\u001b[0m                         Traceback (most recent call last)",
      "\u001b[0;32m<ipython-input-100-309ed2d8d778>\u001b[0m in \u001b[0;36m<module>\u001b[0;34m\u001b[0m\n\u001b[0;32m----> 1\u001b[0;31m \u001b[0mget_ipython\u001b[0m\u001b[0;34m(\u001b[0m\u001b[0;34m)\u001b[0m\u001b[0;34m.\u001b[0m\u001b[0mrun_cell_magic\u001b[0m\u001b[0;34m(\u001b[0m\u001b[0;34m'timeit'\u001b[0m\u001b[0;34m,\u001b[0m \u001b[0;34m'-n 1 -r 1'\u001b[0m\u001b[0;34m,\u001b[0m \u001b[0;34m'z = zgoubidoo.Zgoubi()\\nzr = z(zi).collect()\\n'\u001b[0m\u001b[0;34m)\u001b[0m\u001b[0;34m\u001b[0m\u001b[0;34m\u001b[0m\u001b[0m\n\u001b[0m",
      "\u001b[0;32m/usr/local/lib/python3.7/site-packages/IPython/core/interactiveshell.py\u001b[0m in \u001b[0;36mrun_cell_magic\u001b[0;34m(self, magic_name, line, cell)\u001b[0m\n\u001b[1;32m   2319\u001b[0m             \u001b[0mmagic_arg_s\u001b[0m \u001b[0;34m=\u001b[0m \u001b[0mself\u001b[0m\u001b[0;34m.\u001b[0m\u001b[0mvar_expand\u001b[0m\u001b[0;34m(\u001b[0m\u001b[0mline\u001b[0m\u001b[0;34m,\u001b[0m \u001b[0mstack_depth\u001b[0m\u001b[0;34m)\u001b[0m\u001b[0;34m\u001b[0m\u001b[0;34m\u001b[0m\u001b[0m\n\u001b[1;32m   2320\u001b[0m             \u001b[0;32mwith\u001b[0m \u001b[0mself\u001b[0m\u001b[0;34m.\u001b[0m\u001b[0mbuiltin_trap\u001b[0m\u001b[0;34m:\u001b[0m\u001b[0;34m\u001b[0m\u001b[0;34m\u001b[0m\u001b[0m\n\u001b[0;32m-> 2321\u001b[0;31m                 \u001b[0mresult\u001b[0m \u001b[0;34m=\u001b[0m \u001b[0mfn\u001b[0m\u001b[0;34m(\u001b[0m\u001b[0mmagic_arg_s\u001b[0m\u001b[0;34m,\u001b[0m \u001b[0mcell\u001b[0m\u001b[0;34m)\u001b[0m\u001b[0;34m\u001b[0m\u001b[0;34m\u001b[0m\u001b[0m\n\u001b[0m\u001b[1;32m   2322\u001b[0m             \u001b[0;32mreturn\u001b[0m \u001b[0mresult\u001b[0m\u001b[0;34m\u001b[0m\u001b[0;34m\u001b[0m\u001b[0m\n\u001b[1;32m   2323\u001b[0m \u001b[0;34m\u001b[0m\u001b[0m\n",
      "\u001b[0;32m<decorator-gen-61>\u001b[0m in \u001b[0;36mtimeit\u001b[0;34m(self, line, cell, local_ns)\u001b[0m\n",
      "\u001b[0;32m/usr/local/lib/python3.7/site-packages/IPython/core/magic.py\u001b[0m in \u001b[0;36m<lambda>\u001b[0;34m(f, *a, **k)\u001b[0m\n\u001b[1;32m    185\u001b[0m     \u001b[0;31m# but it's overkill for just that one bit of state.\u001b[0m\u001b[0;34m\u001b[0m\u001b[0;34m\u001b[0m\u001b[0;34m\u001b[0m\u001b[0m\n\u001b[1;32m    186\u001b[0m     \u001b[0;32mdef\u001b[0m \u001b[0mmagic_deco\u001b[0m\u001b[0;34m(\u001b[0m\u001b[0marg\u001b[0m\u001b[0;34m)\u001b[0m\u001b[0;34m:\u001b[0m\u001b[0;34m\u001b[0m\u001b[0;34m\u001b[0m\u001b[0m\n\u001b[0;32m--> 187\u001b[0;31m         \u001b[0mcall\u001b[0m \u001b[0;34m=\u001b[0m \u001b[0;32mlambda\u001b[0m \u001b[0mf\u001b[0m\u001b[0;34m,\u001b[0m \u001b[0;34m*\u001b[0m\u001b[0ma\u001b[0m\u001b[0;34m,\u001b[0m \u001b[0;34m**\u001b[0m\u001b[0mk\u001b[0m\u001b[0;34m:\u001b[0m \u001b[0mf\u001b[0m\u001b[0;34m(\u001b[0m\u001b[0;34m*\u001b[0m\u001b[0ma\u001b[0m\u001b[0;34m,\u001b[0m \u001b[0;34m**\u001b[0m\u001b[0mk\u001b[0m\u001b[0;34m)\u001b[0m\u001b[0;34m\u001b[0m\u001b[0;34m\u001b[0m\u001b[0m\n\u001b[0m\u001b[1;32m    188\u001b[0m \u001b[0;34m\u001b[0m\u001b[0m\n\u001b[1;32m    189\u001b[0m         \u001b[0;32mif\u001b[0m \u001b[0mcallable\u001b[0m\u001b[0;34m(\u001b[0m\u001b[0marg\u001b[0m\u001b[0;34m)\u001b[0m\u001b[0;34m:\u001b[0m\u001b[0;34m\u001b[0m\u001b[0;34m\u001b[0m\u001b[0m\n",
      "\u001b[0;32m/usr/local/lib/python3.7/site-packages/IPython/core/magics/execution.py\u001b[0m in \u001b[0;36mtimeit\u001b[0;34m(self, line, cell, local_ns)\u001b[0m\n\u001b[1;32m   1100\u001b[0m                     \u001b[0;32mbreak\u001b[0m\u001b[0;34m\u001b[0m\u001b[0;34m\u001b[0m\u001b[0m\n\u001b[1;32m   1101\u001b[0m \u001b[0;34m\u001b[0m\u001b[0m\n\u001b[0;32m-> 1102\u001b[0;31m         \u001b[0mall_runs\u001b[0m \u001b[0;34m=\u001b[0m \u001b[0mtimer\u001b[0m\u001b[0;34m.\u001b[0m\u001b[0mrepeat\u001b[0m\u001b[0;34m(\u001b[0m\u001b[0mrepeat\u001b[0m\u001b[0;34m,\u001b[0m \u001b[0mnumber\u001b[0m\u001b[0;34m)\u001b[0m\u001b[0;34m\u001b[0m\u001b[0;34m\u001b[0m\u001b[0m\n\u001b[0m\u001b[1;32m   1103\u001b[0m         \u001b[0mbest\u001b[0m \u001b[0;34m=\u001b[0m \u001b[0mmin\u001b[0m\u001b[0;34m(\u001b[0m\u001b[0mall_runs\u001b[0m\u001b[0;34m)\u001b[0m \u001b[0;34m/\u001b[0m \u001b[0mnumber\u001b[0m\u001b[0;34m\u001b[0m\u001b[0;34m\u001b[0m\u001b[0m\n\u001b[1;32m   1104\u001b[0m         \u001b[0mworst\u001b[0m \u001b[0;34m=\u001b[0m \u001b[0mmax\u001b[0m\u001b[0;34m(\u001b[0m\u001b[0mall_runs\u001b[0m\u001b[0;34m)\u001b[0m \u001b[0;34m/\u001b[0m \u001b[0mnumber\u001b[0m\u001b[0;34m\u001b[0m\u001b[0;34m\u001b[0m\u001b[0m\n",
      "\u001b[0;32m/usr/local/Cellar/python/3.7.3/Frameworks/Python.framework/Versions/3.7/lib/python3.7/timeit.py\u001b[0m in \u001b[0;36mrepeat\u001b[0;34m(self, repeat, number)\u001b[0m\n\u001b[1;32m    202\u001b[0m         \u001b[0mr\u001b[0m \u001b[0;34m=\u001b[0m \u001b[0;34m[\u001b[0m\u001b[0;34m]\u001b[0m\u001b[0;34m\u001b[0m\u001b[0;34m\u001b[0m\u001b[0m\n\u001b[1;32m    203\u001b[0m         \u001b[0;32mfor\u001b[0m \u001b[0mi\u001b[0m \u001b[0;32min\u001b[0m \u001b[0mrange\u001b[0m\u001b[0;34m(\u001b[0m\u001b[0mrepeat\u001b[0m\u001b[0;34m)\u001b[0m\u001b[0;34m:\u001b[0m\u001b[0;34m\u001b[0m\u001b[0;34m\u001b[0m\u001b[0m\n\u001b[0;32m--> 204\u001b[0;31m             \u001b[0mt\u001b[0m \u001b[0;34m=\u001b[0m \u001b[0mself\u001b[0m\u001b[0;34m.\u001b[0m\u001b[0mtimeit\u001b[0m\u001b[0;34m(\u001b[0m\u001b[0mnumber\u001b[0m\u001b[0;34m)\u001b[0m\u001b[0;34m\u001b[0m\u001b[0;34m\u001b[0m\u001b[0m\n\u001b[0m\u001b[1;32m    205\u001b[0m             \u001b[0mr\u001b[0m\u001b[0;34m.\u001b[0m\u001b[0mappend\u001b[0m\u001b[0;34m(\u001b[0m\u001b[0mt\u001b[0m\u001b[0;34m)\u001b[0m\u001b[0;34m\u001b[0m\u001b[0;34m\u001b[0m\u001b[0m\n\u001b[1;32m    206\u001b[0m         \u001b[0;32mreturn\u001b[0m \u001b[0mr\u001b[0m\u001b[0;34m\u001b[0m\u001b[0;34m\u001b[0m\u001b[0m\n",
      "\u001b[0;32m/usr/local/lib/python3.7/site-packages/IPython/core/magics/execution.py\u001b[0m in \u001b[0;36mtimeit\u001b[0;34m(self, number)\u001b[0m\n\u001b[1;32m    157\u001b[0m         \u001b[0mgc\u001b[0m\u001b[0;34m.\u001b[0m\u001b[0mdisable\u001b[0m\u001b[0;34m(\u001b[0m\u001b[0;34m)\u001b[0m\u001b[0;34m\u001b[0m\u001b[0;34m\u001b[0m\u001b[0m\n\u001b[1;32m    158\u001b[0m         \u001b[0;32mtry\u001b[0m\u001b[0;34m:\u001b[0m\u001b[0;34m\u001b[0m\u001b[0;34m\u001b[0m\u001b[0m\n\u001b[0;32m--> 159\u001b[0;31m             \u001b[0mtiming\u001b[0m \u001b[0;34m=\u001b[0m \u001b[0mself\u001b[0m\u001b[0;34m.\u001b[0m\u001b[0minner\u001b[0m\u001b[0;34m(\u001b[0m\u001b[0mit\u001b[0m\u001b[0;34m,\u001b[0m \u001b[0mself\u001b[0m\u001b[0;34m.\u001b[0m\u001b[0mtimer\u001b[0m\u001b[0;34m)\u001b[0m\u001b[0;34m\u001b[0m\u001b[0;34m\u001b[0m\u001b[0m\n\u001b[0m\u001b[1;32m    160\u001b[0m         \u001b[0;32mfinally\u001b[0m\u001b[0;34m:\u001b[0m\u001b[0;34m\u001b[0m\u001b[0;34m\u001b[0m\u001b[0m\n\u001b[1;32m    161\u001b[0m             \u001b[0;32mif\u001b[0m \u001b[0mgcold\u001b[0m\u001b[0;34m:\u001b[0m\u001b[0;34m\u001b[0m\u001b[0;34m\u001b[0m\u001b[0m\n",
      "\u001b[0;32m<magic-timeit>\u001b[0m in \u001b[0;36minner\u001b[0;34m(_it, _timer)\u001b[0m\n",
      "\u001b[0;32m~/reps/zgoubidoo/zgoubidoo/executable.py\u001b[0m in \u001b[0;36mcollect\u001b[0;34m(self, paths)\u001b[0m\n\u001b[1;32m    142\u001b[0m         \u001b[0mpaths\u001b[0m \u001b[0;34m=\u001b[0m \u001b[0mpaths\u001b[0m \u001b[0;32mor\u001b[0m \u001b[0mlist\u001b[0m\u001b[0;34m(\u001b[0m\u001b[0mself\u001b[0m\u001b[0;34m.\u001b[0m\u001b[0m_futures\u001b[0m\u001b[0;34m.\u001b[0m\u001b[0mkeys\u001b[0m\u001b[0;34m(\u001b[0m\u001b[0;34m)\u001b[0m\u001b[0;34m)\u001b[0m\u001b[0;34m\u001b[0m\u001b[0;34m\u001b[0m\u001b[0m\n\u001b[1;32m    143\u001b[0m         \u001b[0mfutures\u001b[0m \u001b[0;34m=\u001b[0m \u001b[0;34m[\u001b[0m\u001b[0mself\u001b[0m\u001b[0;34m.\u001b[0m\u001b[0m_futures\u001b[0m\u001b[0;34m[\u001b[0m\u001b[0mp\u001b[0m\u001b[0;34m]\u001b[0m \u001b[0;32mfor\u001b[0m \u001b[0mp\u001b[0m \u001b[0;32min\u001b[0m \u001b[0mpaths\u001b[0m\u001b[0;34m]\u001b[0m\u001b[0;34m\u001b[0m\u001b[0;34m\u001b[0m\u001b[0m\n\u001b[0;32m--> 144\u001b[0;31m         \u001b[0mself\u001b[0m\u001b[0;34m.\u001b[0m\u001b[0mwait\u001b[0m\u001b[0;34m(\u001b[0m\u001b[0;34m)\u001b[0m\u001b[0;34m\u001b[0m\u001b[0;34m\u001b[0m\u001b[0m\n\u001b[0m\u001b[1;32m    145\u001b[0m         \u001b[0;32mreturn\u001b[0m \u001b[0mself\u001b[0m\u001b[0;34m.\u001b[0m\u001b[0m_results_type\u001b[0m\u001b[0;34m(\u001b[0m\u001b[0mresults\u001b[0m\u001b[0;34m=\u001b[0m\u001b[0;34m[\u001b[0m\u001b[0m_\u001b[0m\u001b[0;34m.\u001b[0m\u001b[0mresult\u001b[0m\u001b[0;34m(\u001b[0m\u001b[0;34m)\u001b[0m \u001b[0;32mfor\u001b[0m \u001b[0m_\u001b[0m \u001b[0;32min\u001b[0m \u001b[0mfutures\u001b[0m\u001b[0;34m]\u001b[0m\u001b[0;34m)\u001b[0m\u001b[0;34m\u001b[0m\u001b[0;34m\u001b[0m\u001b[0m\n\u001b[1;32m    146\u001b[0m \u001b[0;34m\u001b[0m\u001b[0m\n",
      "\u001b[0;32m~/reps/zgoubidoo/zgoubidoo/executable.py\u001b[0m in \u001b[0;36mwait\u001b[0;34m(self)\u001b[0m\n\u001b[1;32m    131\u001b[0m \u001b[0;34m\u001b[0m\u001b[0m\n\u001b[1;32m    132\u001b[0m         \"\"\"\n\u001b[0;32m--> 133\u001b[0;31m         \u001b[0mself\u001b[0m\u001b[0;34m.\u001b[0m\u001b[0m_pool\u001b[0m\u001b[0;34m.\u001b[0m\u001b[0mshutdown\u001b[0m\u001b[0;34m(\u001b[0m\u001b[0;34m)\u001b[0m\u001b[0;34m\u001b[0m\u001b[0;34m\u001b[0m\u001b[0m\n\u001b[0m\u001b[1;32m    134\u001b[0m         \u001b[0mself\u001b[0m\u001b[0;34m.\u001b[0m\u001b[0m_pool\u001b[0m \u001b[0;34m=\u001b[0m \u001b[0m_ThreadPoolExecutor\u001b[0m\u001b[0;34m(\u001b[0m\u001b[0mmax_workers\u001b[0m\u001b[0;34m=\u001b[0m\u001b[0mself\u001b[0m\u001b[0;34m.\u001b[0m\u001b[0m_n_procs\u001b[0m\u001b[0;34m)\u001b[0m\u001b[0;34m\u001b[0m\u001b[0;34m\u001b[0m\u001b[0m\n\u001b[1;32m    135\u001b[0m \u001b[0;34m\u001b[0m\u001b[0m\n",
      "\u001b[0;32m/usr/local/Cellar/python/3.7.3/Frameworks/Python.framework/Versions/3.7/lib/python3.7/concurrent/futures/thread.py\u001b[0m in \u001b[0;36mshutdown\u001b[0;34m(self, wait)\u001b[0m\n\u001b[1;32m    202\u001b[0m         \u001b[0;32mif\u001b[0m \u001b[0mwait\u001b[0m\u001b[0;34m:\u001b[0m\u001b[0;34m\u001b[0m\u001b[0;34m\u001b[0m\u001b[0m\n\u001b[1;32m    203\u001b[0m             \u001b[0;32mfor\u001b[0m \u001b[0mt\u001b[0m \u001b[0;32min\u001b[0m \u001b[0mself\u001b[0m\u001b[0;34m.\u001b[0m\u001b[0m_threads\u001b[0m\u001b[0;34m:\u001b[0m\u001b[0;34m\u001b[0m\u001b[0;34m\u001b[0m\u001b[0m\n\u001b[0;32m--> 204\u001b[0;31m                 \u001b[0mt\u001b[0m\u001b[0;34m.\u001b[0m\u001b[0mjoin\u001b[0m\u001b[0;34m(\u001b[0m\u001b[0;34m)\u001b[0m\u001b[0;34m\u001b[0m\u001b[0;34m\u001b[0m\u001b[0m\n\u001b[0m\u001b[1;32m    205\u001b[0m     \u001b[0mshutdown\u001b[0m\u001b[0;34m.\u001b[0m\u001b[0m__doc__\u001b[0m \u001b[0;34m=\u001b[0m \u001b[0m_base\u001b[0m\u001b[0;34m.\u001b[0m\u001b[0mExecutor\u001b[0m\u001b[0;34m.\u001b[0m\u001b[0mshutdown\u001b[0m\u001b[0;34m.\u001b[0m\u001b[0m__doc__\u001b[0m\u001b[0;34m\u001b[0m\u001b[0;34m\u001b[0m\u001b[0m\n",
      "\u001b[0;32m/usr/local/Cellar/python/3.7.3/Frameworks/Python.framework/Versions/3.7/lib/python3.7/threading.py\u001b[0m in \u001b[0;36mjoin\u001b[0;34m(self, timeout)\u001b[0m\n\u001b[1;32m   1030\u001b[0m \u001b[0;34m\u001b[0m\u001b[0m\n\u001b[1;32m   1031\u001b[0m         \u001b[0;32mif\u001b[0m \u001b[0mtimeout\u001b[0m \u001b[0;32mis\u001b[0m \u001b[0;32mNone\u001b[0m\u001b[0;34m:\u001b[0m\u001b[0;34m\u001b[0m\u001b[0;34m\u001b[0m\u001b[0m\n\u001b[0;32m-> 1032\u001b[0;31m             \u001b[0mself\u001b[0m\u001b[0;34m.\u001b[0m\u001b[0m_wait_for_tstate_lock\u001b[0m\u001b[0;34m(\u001b[0m\u001b[0;34m)\u001b[0m\u001b[0;34m\u001b[0m\u001b[0;34m\u001b[0m\u001b[0m\n\u001b[0m\u001b[1;32m   1033\u001b[0m         \u001b[0;32melse\u001b[0m\u001b[0;34m:\u001b[0m\u001b[0;34m\u001b[0m\u001b[0;34m\u001b[0m\u001b[0m\n\u001b[1;32m   1034\u001b[0m             \u001b[0;31m# the behavior of a negative timeout isn't documented, but\u001b[0m\u001b[0;34m\u001b[0m\u001b[0;34m\u001b[0m\u001b[0;34m\u001b[0m\u001b[0m\n",
      "\u001b[0;32m/usr/local/Cellar/python/3.7.3/Frameworks/Python.framework/Versions/3.7/lib/python3.7/threading.py\u001b[0m in \u001b[0;36m_wait_for_tstate_lock\u001b[0;34m(self, block, timeout)\u001b[0m\n\u001b[1;32m   1046\u001b[0m         \u001b[0;32mif\u001b[0m \u001b[0mlock\u001b[0m \u001b[0;32mis\u001b[0m \u001b[0;32mNone\u001b[0m\u001b[0;34m:\u001b[0m  \u001b[0;31m# already determined that the C code is done\u001b[0m\u001b[0;34m\u001b[0m\u001b[0;34m\u001b[0m\u001b[0m\n\u001b[1;32m   1047\u001b[0m             \u001b[0;32massert\u001b[0m \u001b[0mself\u001b[0m\u001b[0;34m.\u001b[0m\u001b[0m_is_stopped\u001b[0m\u001b[0;34m\u001b[0m\u001b[0;34m\u001b[0m\u001b[0m\n\u001b[0;32m-> 1048\u001b[0;31m         \u001b[0;32melif\u001b[0m \u001b[0mlock\u001b[0m\u001b[0;34m.\u001b[0m\u001b[0macquire\u001b[0m\u001b[0;34m(\u001b[0m\u001b[0mblock\u001b[0m\u001b[0;34m,\u001b[0m \u001b[0mtimeout\u001b[0m\u001b[0;34m)\u001b[0m\u001b[0;34m:\u001b[0m\u001b[0;34m\u001b[0m\u001b[0;34m\u001b[0m\u001b[0m\n\u001b[0m\u001b[1;32m   1049\u001b[0m             \u001b[0mlock\u001b[0m\u001b[0;34m.\u001b[0m\u001b[0mrelease\u001b[0m\u001b[0;34m(\u001b[0m\u001b[0;34m)\u001b[0m\u001b[0;34m\u001b[0m\u001b[0;34m\u001b[0m\u001b[0m\n\u001b[1;32m   1050\u001b[0m             \u001b[0mself\u001b[0m\u001b[0;34m.\u001b[0m\u001b[0m_stop\u001b[0m\u001b[0;34m(\u001b[0m\u001b[0;34m)\u001b[0m\u001b[0;34m\u001b[0m\u001b[0;34m\u001b[0m\u001b[0m\n",
      "\u001b[0;31mKeyboardInterrupt\u001b[0m: "
     ]
    }
   ],
   "source": [
    "%%timeit -n 1 -r 1\n",
    "z = zgoubidoo.Zgoubi()\n",
    "zr = z(zi).collect()"
   ]
  },
  {
   "cell_type": "markdown",
   "metadata": {},
   "source": [
    "That's about 20 seconds for 1e4 particules. The results (in this case the tracking data) are collected automatically:"
   ]
  },
  {
   "cell_type": "code",
   "execution_count": 113,
   "metadata": {},
   "outputs": [
    {
     "name": "stdout",
     "output_type": "stream",
     "text": [
      "(754931, 58)\n"
     ]
    },
    {
     "data": {
      "text/html": [
       "<div>\n",
       "<style scoped>\n",
       "    .dataframe tbody tr th:only-of-type {\n",
       "        vertical-align: middle;\n",
       "    }\n",
       "\n",
       "    .dataframe tbody tr th {\n",
       "        vertical-align: top;\n",
       "    }\n",
       "\n",
       "    .dataframe thead th {\n",
       "        text-align: right;\n",
       "    }\n",
       "</style>\n",
       "<table border=\"1\" class=\"dataframe\">\n",
       "  <thead>\n",
       "    <tr style=\"text-align: right;\">\n",
       "      <th></th>\n",
       "      <th>Do-1</th>\n",
       "      <th>Yo</th>\n",
       "      <th>To</th>\n",
       "      <th>Zo</th>\n",
       "      <th>Po</th>\n",
       "      <th>So</th>\n",
       "      <th>to</th>\n",
       "      <th>D-1</th>\n",
       "      <th>T</th>\n",
       "      <th>Z</th>\n",
       "      <th>...</th>\n",
       "      <th>YR</th>\n",
       "      <th>ZR</th>\n",
       "      <th>XG</th>\n",
       "      <th>YG</th>\n",
       "      <th>ZG</th>\n",
       "      <th>XRG</th>\n",
       "      <th>YRG</th>\n",
       "      <th>ZRG</th>\n",
       "      <th>TG</th>\n",
       "      <th>PG</th>\n",
       "    </tr>\n",
       "  </thead>\n",
       "  <tbody>\n",
       "    <tr>\n",
       "      <th>0</th>\n",
       "      <td>0.000093</td>\n",
       "      <td>0.000002</td>\n",
       "      <td>-0.000061</td>\n",
       "      <td>-0.000011</td>\n",
       "      <td>3.412901e-07</td>\n",
       "      <td>-0.002725</td>\n",
       "      <td>-0.000005</td>\n",
       "      <td>0.000093</td>\n",
       "      <td>-0.087328</td>\n",
       "      <td>-0.000011</td>\n",
       "      <td>...</td>\n",
       "      <td>-0.087215</td>\n",
       "      <td>-0.000010</td>\n",
       "      <td>1.913613e-07</td>\n",
       "      <td>0.000002</td>\n",
       "      <td>-0.000011</td>\n",
       "      <td>0.984797</td>\n",
       "      <td>-0.173706</td>\n",
       "      <td>-0.000010</td>\n",
       "      <td>-0.174594</td>\n",
       "      <td>3.412901e-07</td>\n",
       "    </tr>\n",
       "    <tr>\n",
       "      <th>1</th>\n",
       "      <td>0.000093</td>\n",
       "      <td>0.000002</td>\n",
       "      <td>-0.000061</td>\n",
       "      <td>-0.000011</td>\n",
       "      <td>3.412901e-07</td>\n",
       "      <td>-0.002725</td>\n",
       "      <td>-0.000005</td>\n",
       "      <td>0.000093</td>\n",
       "      <td>-0.086591</td>\n",
       "      <td>-0.000011</td>\n",
       "      <td>...</td>\n",
       "      <td>-0.087351</td>\n",
       "      <td>-0.000029</td>\n",
       "      <td>9.848588e-03</td>\n",
       "      <td>-0.001732</td>\n",
       "      <td>-0.000011</td>\n",
       "      <td>0.994773</td>\n",
       "      <td>-0.174716</td>\n",
       "      <td>-0.000029</td>\n",
       "      <td>-0.173858</td>\n",
       "      <td>-1.778754e-05</td>\n",
       "    </tr>\n",
       "    <tr>\n",
       "      <th>2</th>\n",
       "      <td>0.000093</td>\n",
       "      <td>0.000002</td>\n",
       "      <td>-0.000061</td>\n",
       "      <td>-0.000011</td>\n",
       "      <td>3.412901e-07</td>\n",
       "      <td>-0.002725</td>\n",
       "      <td>-0.000005</td>\n",
       "      <td>0.000093</td>\n",
       "      <td>-0.084389</td>\n",
       "      <td>-0.000011</td>\n",
       "      <td>...</td>\n",
       "      <td>-0.086012</td>\n",
       "      <td>-0.000047</td>\n",
       "      <td>1.969952e-02</td>\n",
       "      <td>-0.003453</td>\n",
       "      <td>-0.000011</td>\n",
       "      <td>1.005003</td>\n",
       "      <td>-0.174267</td>\n",
       "      <td>-0.000047</td>\n",
       "      <td>-0.171656</td>\n",
       "      <td>-3.621966e-05</td>\n",
       "    </tr>\n",
       "    <tr>\n",
       "      <th>3</th>\n",
       "      <td>0.000093</td>\n",
       "      <td>0.000002</td>\n",
       "      <td>-0.000061</td>\n",
       "      <td>-0.000011</td>\n",
       "      <td>3.412901e-07</td>\n",
       "      <td>-0.002725</td>\n",
       "      <td>-0.000005</td>\n",
       "      <td>0.000093</td>\n",
       "      <td>-0.080759</td>\n",
       "      <td>-0.000012</td>\n",
       "      <td>...</td>\n",
       "      <td>-0.083220</td>\n",
       "      <td>-0.000067</td>\n",
       "      <td>2.955544e-02</td>\n",
       "      <td>-0.005144</td>\n",
       "      <td>-0.000012</td>\n",
       "      <td>1.015472</td>\n",
       "      <td>-0.172380</td>\n",
       "      <td>-0.000067</td>\n",
       "      <td>-0.168025</td>\n",
       "      <td>-5.526959e-05</td>\n",
       "    </tr>\n",
       "    <tr>\n",
       "      <th>4</th>\n",
       "      <td>0.000093</td>\n",
       "      <td>0.000002</td>\n",
       "      <td>-0.000061</td>\n",
       "      <td>-0.000011</td>\n",
       "      <td>3.412901e-07</td>\n",
       "      <td>-0.002725</td>\n",
       "      <td>-0.000005</td>\n",
       "      <td>0.000093</td>\n",
       "      <td>-0.075761</td>\n",
       "      <td>-0.000012</td>\n",
       "      <td>...</td>\n",
       "      <td>-0.079020</td>\n",
       "      <td>-0.000087</td>\n",
       "      <td>3.941856e-02</td>\n",
       "      <td>-0.006793</td>\n",
       "      <td>-0.000012</td>\n",
       "      <td>1.026159</td>\n",
       "      <td>-0.169099</td>\n",
       "      <td>-0.000087</td>\n",
       "      <td>-0.163027</td>\n",
       "      <td>-7.526242e-05</td>\n",
       "    </tr>\n",
       "  </tbody>\n",
       "</table>\n",
       "<p>5 rows × 58 columns</p>\n",
       "</div>"
      ],
      "text/plain": [
       "       Do-1        Yo        To        Zo            Po        So        to  \\\n",
       "0  0.000093  0.000002 -0.000061 -0.000011  3.412901e-07 -0.002725 -0.000005   \n",
       "1  0.000093  0.000002 -0.000061 -0.000011  3.412901e-07 -0.002725 -0.000005   \n",
       "2  0.000093  0.000002 -0.000061 -0.000011  3.412901e-07 -0.002725 -0.000005   \n",
       "3  0.000093  0.000002 -0.000061 -0.000011  3.412901e-07 -0.002725 -0.000005   \n",
       "4  0.000093  0.000002 -0.000061 -0.000011  3.412901e-07 -0.002725 -0.000005   \n",
       "\n",
       "        D-1         T         Z      ...             YR        ZR  \\\n",
       "0  0.000093 -0.087328 -0.000011      ...      -0.087215 -0.000010   \n",
       "1  0.000093 -0.086591 -0.000011      ...      -0.087351 -0.000029   \n",
       "2  0.000093 -0.084389 -0.000011      ...      -0.086012 -0.000047   \n",
       "3  0.000093 -0.080759 -0.000012      ...      -0.083220 -0.000067   \n",
       "4  0.000093 -0.075761 -0.000012      ...      -0.079020 -0.000087   \n",
       "\n",
       "             XG        YG        ZG       XRG       YRG       ZRG        TG  \\\n",
       "0  1.913613e-07  0.000002 -0.000011  0.984797 -0.173706 -0.000010 -0.174594   \n",
       "1  9.848588e-03 -0.001732 -0.000011  0.994773 -0.174716 -0.000029 -0.173858   \n",
       "2  1.969952e-02 -0.003453 -0.000011  1.005003 -0.174267 -0.000047 -0.171656   \n",
       "3  2.955544e-02 -0.005144 -0.000012  1.015472 -0.172380 -0.000067 -0.168025   \n",
       "4  3.941856e-02 -0.006793 -0.000012  1.026159 -0.169099 -0.000087 -0.163027   \n",
       "\n",
       "             PG  \n",
       "0  3.412901e-07  \n",
       "1 -1.778754e-05  \n",
       "2 -3.621966e-05  \n",
       "3 -5.526959e-05  \n",
       "4 -7.526242e-05  \n",
       "\n",
       "[5 rows x 58 columns]"
      ]
     },
     "execution_count": 113,
     "metadata": {},
     "output_type": "execute_result"
    }
   ],
   "source": [
    "print(zr.tracks.shape)\n",
    "zr.tracks.head(5)"
   ]
  },
  {
   "cell_type": "markdown",
   "metadata": {},
   "source": [
    "OK, now let's try again but using the true power of our multi-cores machines.\n",
    "\n",
    "To that end `zgoubidoo` introduces the concept of **slices**. A given bunch (beam) will be divided in multiple slices. Each slice will be run by its own instance of `zgoubi`, in parallel."
   ]
  },
  {
   "cell_type": "code",
   "execution_count": 114,
   "metadata": {},
   "outputs": [],
   "source": [
    "my_bunch.slices = 4"
   ]
  },
  {
   "cell_type": "code",
   "execution_count": null,
   "metadata": {},
   "outputs": [],
   "source": [
    "# Choice of the word 'slice'  ==> batch ?\n",
    "# Actually slicing"
   ]
  },
  {
   "cell_type": "code",
   "execution_count": 115,
   "metadata": {},
   "outputs": [],
   "source": [
    "%%timeit -n 1 -r 1\n",
    "z = zgoubidoo.Zgoubi()\n",
    "zr = z(zi).collect()"
   ]
  },
  {
   "cell_type": "markdown",
   "metadata": {},
   "source": [
    "As expected we gained almost a factor 4!\n",
    "\n",
    "And all the results from the 4 runs are collected together:"
   ]
  },
  {
   "cell_type": "code",
   "execution_count": 116,
   "metadata": {},
   "outputs": [
    {
     "name": "stdout",
     "output_type": "stream",
     "text": [
      "(753434, 58)\n"
     ]
    },
    {
     "data": {
      "text/html": [
       "<div>\n",
       "<style scoped>\n",
       "    .dataframe tbody tr th:only-of-type {\n",
       "        vertical-align: middle;\n",
       "    }\n",
       "\n",
       "    .dataframe tbody tr th {\n",
       "        vertical-align: top;\n",
       "    }\n",
       "\n",
       "    .dataframe thead th {\n",
       "        text-align: right;\n",
       "    }\n",
       "</style>\n",
       "<table border=\"1\" class=\"dataframe\">\n",
       "  <thead>\n",
       "    <tr style=\"text-align: right;\">\n",
       "      <th></th>\n",
       "      <th>Do-1</th>\n",
       "      <th>Yo</th>\n",
       "      <th>To</th>\n",
       "      <th>Zo</th>\n",
       "      <th>Po</th>\n",
       "      <th>So</th>\n",
       "      <th>to</th>\n",
       "      <th>D-1</th>\n",
       "      <th>T</th>\n",
       "      <th>Z</th>\n",
       "      <th>...</th>\n",
       "      <th>YR</th>\n",
       "      <th>ZR</th>\n",
       "      <th>XG</th>\n",
       "      <th>YG</th>\n",
       "      <th>ZG</th>\n",
       "      <th>XRG</th>\n",
       "      <th>YRG</th>\n",
       "      <th>ZRG</th>\n",
       "      <th>TG</th>\n",
       "      <th>PG</th>\n",
       "    </tr>\n",
       "  </thead>\n",
       "  <tbody>\n",
       "    <tr>\n",
       "      <th>0</th>\n",
       "      <td>0.000048</td>\n",
       "      <td>-0.000006</td>\n",
       "      <td>-0.000002</td>\n",
       "      <td>0.000075</td>\n",
       "      <td>-0.000074</td>\n",
       "      <td>0.000431</td>\n",
       "      <td>7.631593e-07</td>\n",
       "      <td>0.000048</td>\n",
       "      <td>-0.087268</td>\n",
       "      <td>0.000075</td>\n",
       "      <td>...</td>\n",
       "      <td>-0.087164</td>\n",
       "      <td>7.408181e-07</td>\n",
       "      <td>-5.681899e-07</td>\n",
       "      <td>-0.000006</td>\n",
       "      <td>0.000075</td>\n",
       "      <td>0.984807</td>\n",
       "      <td>-0.173656</td>\n",
       "      <td>7.408181e-07</td>\n",
       "      <td>-0.174535</td>\n",
       "      <td>-0.000074</td>\n",
       "    </tr>\n",
       "    <tr>\n",
       "      <th>1</th>\n",
       "      <td>0.000048</td>\n",
       "      <td>-0.000006</td>\n",
       "      <td>-0.000002</td>\n",
       "      <td>0.000075</td>\n",
       "      <td>-0.000074</td>\n",
       "      <td>0.000431</td>\n",
       "      <td>7.631593e-07</td>\n",
       "      <td>0.000048</td>\n",
       "      <td>-0.086517</td>\n",
       "      <td>0.000075</td>\n",
       "      <td>...</td>\n",
       "      <td>-0.087285</td>\n",
       "      <td>1.270739e-04</td>\n",
       "      <td>9.847944e-03</td>\n",
       "      <td>-0.001741</td>\n",
       "      <td>0.000075</td>\n",
       "      <td>0.994785</td>\n",
       "      <td>-0.174651</td>\n",
       "      <td>1.270739e-04</td>\n",
       "      <td>-0.173784</td>\n",
       "      <td>0.000052</td>\n",
       "    </tr>\n",
       "    <tr>\n",
       "      <th>2</th>\n",
       "      <td>0.000048</td>\n",
       "      <td>-0.000006</td>\n",
       "      <td>-0.000002</td>\n",
       "      <td>0.000075</td>\n",
       "      <td>-0.000074</td>\n",
       "      <td>0.000431</td>\n",
       "      <td>7.631593e-07</td>\n",
       "      <td>0.000048</td>\n",
       "      <td>-0.084302</td>\n",
       "      <td>0.000076</td>\n",
       "      <td>...</td>\n",
       "      <td>-0.085932</td>\n",
       "      <td>2.555735e-04</td>\n",
       "      <td>1.969902e-02</td>\n",
       "      <td>-0.003460</td>\n",
       "      <td>0.000076</td>\n",
       "      <td>1.005017</td>\n",
       "      <td>-0.174188</td>\n",
       "      <td>2.555735e-04</td>\n",
       "      <td>-0.171569</td>\n",
       "      <td>0.000180</td>\n",
       "    </tr>\n",
       "    <tr>\n",
       "      <th>3</th>\n",
       "      <td>0.000048</td>\n",
       "      <td>-0.000006</td>\n",
       "      <td>-0.000002</td>\n",
       "      <td>0.000075</td>\n",
       "      <td>-0.000074</td>\n",
       "      <td>0.000431</td>\n",
       "      <td>7.631593e-07</td>\n",
       "      <td>0.000048</td>\n",
       "      <td>-0.080660</td>\n",
       "      <td>0.000078</td>\n",
       "      <td>...</td>\n",
       "      <td>-0.083127</td>\n",
       "      <td>3.884320e-04</td>\n",
       "      <td>2.955509e-02</td>\n",
       "      <td>-0.005150</td>\n",
       "      <td>0.000078</td>\n",
       "      <td>1.015489</td>\n",
       "      <td>-0.172289</td>\n",
       "      <td>3.884320e-04</td>\n",
       "      <td>-0.167926</td>\n",
       "      <td>0.000310</td>\n",
       "    </tr>\n",
       "    <tr>\n",
       "      <th>4</th>\n",
       "      <td>0.000048</td>\n",
       "      <td>-0.000006</td>\n",
       "      <td>-0.000002</td>\n",
       "      <td>0.000075</td>\n",
       "      <td>-0.000074</td>\n",
       "      <td>0.000431</td>\n",
       "      <td>7.631593e-07</td>\n",
       "      <td>0.000048</td>\n",
       "      <td>-0.075652</td>\n",
       "      <td>0.000082</td>\n",
       "      <td>...</td>\n",
       "      <td>-0.078917</td>\n",
       "      <td>5.279160e-04</td>\n",
       "      <td>3.941839e-02</td>\n",
       "      <td>-0.006798</td>\n",
       "      <td>0.000082</td>\n",
       "      <td>1.026176</td>\n",
       "      <td>-0.168997</td>\n",
       "      <td>5.279160e-04</td>\n",
       "      <td>-0.162919</td>\n",
       "      <td>0.000446</td>\n",
       "    </tr>\n",
       "  </tbody>\n",
       "</table>\n",
       "<p>5 rows × 58 columns</p>\n",
       "</div>"
      ],
      "text/plain": [
       "       Do-1        Yo        To        Zo        Po        So            to  \\\n",
       "0  0.000048 -0.000006 -0.000002  0.000075 -0.000074  0.000431  7.631593e-07   \n",
       "1  0.000048 -0.000006 -0.000002  0.000075 -0.000074  0.000431  7.631593e-07   \n",
       "2  0.000048 -0.000006 -0.000002  0.000075 -0.000074  0.000431  7.631593e-07   \n",
       "3  0.000048 -0.000006 -0.000002  0.000075 -0.000074  0.000431  7.631593e-07   \n",
       "4  0.000048 -0.000006 -0.000002  0.000075 -0.000074  0.000431  7.631593e-07   \n",
       "\n",
       "        D-1         T         Z    ...           YR            ZR  \\\n",
       "0  0.000048 -0.087268  0.000075    ...    -0.087164  7.408181e-07   \n",
       "1  0.000048 -0.086517  0.000075    ...    -0.087285  1.270739e-04   \n",
       "2  0.000048 -0.084302  0.000076    ...    -0.085932  2.555735e-04   \n",
       "3  0.000048 -0.080660  0.000078    ...    -0.083127  3.884320e-04   \n",
       "4  0.000048 -0.075652  0.000082    ...    -0.078917  5.279160e-04   \n",
       "\n",
       "             XG        YG        ZG       XRG       YRG           ZRG  \\\n",
       "0 -5.681899e-07 -0.000006  0.000075  0.984807 -0.173656  7.408181e-07   \n",
       "1  9.847944e-03 -0.001741  0.000075  0.994785 -0.174651  1.270739e-04   \n",
       "2  1.969902e-02 -0.003460  0.000076  1.005017 -0.174188  2.555735e-04   \n",
       "3  2.955509e-02 -0.005150  0.000078  1.015489 -0.172289  3.884320e-04   \n",
       "4  3.941839e-02 -0.006798  0.000082  1.026176 -0.168997  5.279160e-04   \n",
       "\n",
       "         TG        PG  \n",
       "0 -0.174535 -0.000074  \n",
       "1 -0.173784  0.000052  \n",
       "2 -0.171569  0.000180  \n",
       "3 -0.167926  0.000310  \n",
       "4 -0.162919  0.000446  \n",
       "\n",
       "[5 rows x 58 columns]"
      ]
     },
     "execution_count": 116,
     "metadata": {},
     "output_type": "execute_result"
    }
   ],
   "source": [
    "print(zr.tracks.shape)\n",
    "zr.tracks.head(5)"
   ]
  },
  {
   "cell_type": "markdown",
   "metadata": {},
   "source": [
    "### Parametric scans"
   ]
  },
  {
   "cell_type": "markdown",
   "metadata": {},
   "source": [
    "TODO"
   ]
  },
  {
   "cell_type": "markdown",
   "metadata": {},
   "source": [
    "## Importing MAD-X sequences"
   ]
  },
  {
   "cell_type": "markdown",
   "metadata": {},
   "source": [
    "Zgoubidoo offers different interfaces to automatically load and convert MAD-X Twiss sequences. This section illustrates how this can be done using the LHeC as an example.\n",
    "\n",
    "Zgoubidoo provides a `sequences` module aimed at abstracting the concepts of 'sequences' and 'beamlines'. A `zgoubidoo.sequences.Sequence` object is *not* a Zgoubi input: it is a generic sequence holding information to recreate a beamline. It is also 'code-independent': the information contained in the sequence can be used by 'converters' to convert the sequence onto a valid Zgoubi or MAD-X sequence.\n",
    "\n",
    "The `Sequence` class provides different 'loaders' to initialize the sequence."
   ]
  },
  {
   "cell_type": "code",
   "execution_count": 101,
   "metadata": {},
   "outputs": [],
   "source": [
    "lhec_sequence = zgoubidoo.sequences.Sequence.from_madx_twiss(\n",
    "    filename='twiss.outx',\n",
    "    path='/Users/chernals/Downloads'\n",
    ")"
   ]
  },
  {
   "cell_type": "markdown",
   "metadata": {},
   "source": [
    "The loader create a specialized `TwissSequence` object:"
   ]
  },
  {
   "cell_type": "code",
   "execution_count": 102,
   "metadata": {},
   "outputs": [
    {
     "data": {
      "text/plain": [
       "zgoubidoo.sequences.sequence.TwissSequence"
      ]
     },
     "execution_count": 102,
     "metadata": {},
     "output_type": "execute_result"
    }
   ],
   "source": [
    "type(lhec_sequence)"
   ]
  },
  {
   "cell_type": "markdown",
   "metadata": {},
   "source": [
    "The loaders will load not only the main Twiss table, but will also read the metadata and instanciate other quantities. The main Twiss table can be used as a `pandas.DataFrame`."
   ]
  },
  {
   "cell_type": "code",
   "execution_count": 123,
   "metadata": {},
   "outputs": [
    {
     "data": {
      "text/html": [
       "<div>\n",
       "<style scoped>\n",
       "    .dataframe tbody tr th:only-of-type {\n",
       "        vertical-align: middle;\n",
       "    }\n",
       "\n",
       "    .dataframe tbody tr th {\n",
       "        vertical-align: top;\n",
       "    }\n",
       "\n",
       "    .dataframe thead th {\n",
       "        text-align: right;\n",
       "    }\n",
       "</style>\n",
       "<table border=\"1\" class=\"dataframe\">\n",
       "  <thead>\n",
       "    <tr style=\"text-align: right;\">\n",
       "      <th></th>\n",
       "      <th>KEYWORD</th>\n",
       "      <th>S</th>\n",
       "      <th>BETX</th>\n",
       "      <th>ALFX</th>\n",
       "      <th>MUX</th>\n",
       "      <th>BETY</th>\n",
       "      <th>ALFY</th>\n",
       "      <th>MUY</th>\n",
       "      <th>X</th>\n",
       "      <th>PX</th>\n",
       "      <th>...</th>\n",
       "      <th>SIG54</th>\n",
       "      <th>SIG55</th>\n",
       "      <th>SIG56</th>\n",
       "      <th>SIG61</th>\n",
       "      <th>SIG62</th>\n",
       "      <th>SIG63</th>\n",
       "      <th>SIG64</th>\n",
       "      <th>SIG65</th>\n",
       "      <th>SIG66</th>\n",
       "      <th>N1</th>\n",
       "    </tr>\n",
       "    <tr>\n",
       "      <th>NAME</th>\n",
       "      <th></th>\n",
       "      <th></th>\n",
       "      <th></th>\n",
       "      <th></th>\n",
       "      <th></th>\n",
       "      <th></th>\n",
       "      <th></th>\n",
       "      <th></th>\n",
       "      <th></th>\n",
       "      <th></th>\n",
       "      <th></th>\n",
       "      <th></th>\n",
       "      <th></th>\n",
       "      <th></th>\n",
       "      <th></th>\n",
       "      <th></th>\n",
       "      <th></th>\n",
       "      <th></th>\n",
       "      <th></th>\n",
       "      <th></th>\n",
       "      <th></th>\n",
       "    </tr>\n",
       "  </thead>\n",
       "  <tbody>\n",
       "    <tr>\n",
       "      <th>LEFTIR$START</th>\n",
       "      <td>MARKER</td>\n",
       "      <td>0.00000</td>\n",
       "      <td>873.128000</td>\n",
       "      <td>0.184470</td>\n",
       "      <td>0.000000</td>\n",
       "      <td>894.842000</td>\n",
       "      <td>0.153707</td>\n",
       "      <td>0.000000</td>\n",
       "      <td>0.0</td>\n",
       "      <td>0.0</td>\n",
       "      <td>...</td>\n",
       "      <td>0.000000e+00</td>\n",
       "      <td>0.000000e+00</td>\n",
       "      <td>0.0</td>\n",
       "      <td>0.0</td>\n",
       "      <td>0.0</td>\n",
       "      <td>0.0</td>\n",
       "      <td>0.0</td>\n",
       "      <td>0.0</td>\n",
       "      <td>0.0</td>\n",
       "      <td>0.0</td>\n",
       "    </tr>\n",
       "    <tr>\n",
       "      <th>B1S01</th>\n",
       "      <td>SBEND</td>\n",
       "      <td>4.00021</td>\n",
       "      <td>871.671113</td>\n",
       "      <td>0.248292</td>\n",
       "      <td>0.000730</td>\n",
       "      <td>893.349361</td>\n",
       "      <td>0.149129</td>\n",
       "      <td>0.000712</td>\n",
       "      <td>0.0</td>\n",
       "      <td>0.0</td>\n",
       "      <td>...</td>\n",
       "      <td>-2.685925e-12</td>\n",
       "      <td>2.812868e-10</td>\n",
       "      <td>0.0</td>\n",
       "      <td>0.0</td>\n",
       "      <td>0.0</td>\n",
       "      <td>0.0</td>\n",
       "      <td>0.0</td>\n",
       "      <td>0.0</td>\n",
       "      <td>0.0</td>\n",
       "      <td>0.0</td>\n",
       "    </tr>\n",
       "    <tr>\n",
       "      <th>DRIFT_0</th>\n",
       "      <td>DRIFT</td>\n",
       "      <td>6.00021</td>\n",
       "      <td>870.682815</td>\n",
       "      <td>0.245857</td>\n",
       "      <td>0.001095</td>\n",
       "      <td>892.757422</td>\n",
       "      <td>0.146841</td>\n",
       "      <td>0.001068</td>\n",
       "      <td>0.0</td>\n",
       "      <td>0.0</td>\n",
       "      <td>...</td>\n",
       "      <td>-2.685925e-12</td>\n",
       "      <td>2.812868e-10</td>\n",
       "      <td>0.0</td>\n",
       "      <td>0.0</td>\n",
       "      <td>0.0</td>\n",
       "      <td>0.0</td>\n",
       "      <td>0.0</td>\n",
       "      <td>0.0</td>\n",
       "      <td>0.0</td>\n",
       "      <td>0.0</td>\n",
       "    </tr>\n",
       "    <tr>\n",
       "      <th>B1S03</th>\n",
       "      <td>SBEND</td>\n",
       "      <td>10.00042</td>\n",
       "      <td>867.641175</td>\n",
       "      <td>0.514035</td>\n",
       "      <td>0.001828</td>\n",
       "      <td>891.601224</td>\n",
       "      <td>0.142254</td>\n",
       "      <td>0.001782</td>\n",
       "      <td>0.0</td>\n",
       "      <td>0.0</td>\n",
       "      <td>...</td>\n",
       "      <td>2.442131e-12</td>\n",
       "      <td>2.801806e-10</td>\n",
       "      <td>0.0</td>\n",
       "      <td>0.0</td>\n",
       "      <td>0.0</td>\n",
       "      <td>0.0</td>\n",
       "      <td>0.0</td>\n",
       "      <td>0.0</td>\n",
       "      <td>0.0</td>\n",
       "      <td>0.0</td>\n",
       "    </tr>\n",
       "    <tr>\n",
       "      <th>DRIFT_1</th>\n",
       "      <td>DRIFT</td>\n",
       "      <td>12.00042</td>\n",
       "      <td>865.590862</td>\n",
       "      <td>0.511121</td>\n",
       "      <td>0.002195</td>\n",
       "      <td>891.036783</td>\n",
       "      <td>0.139966</td>\n",
       "      <td>0.002139</td>\n",
       "      <td>0.0</td>\n",
       "      <td>0.0</td>\n",
       "      <td>...</td>\n",
       "      <td>2.442131e-12</td>\n",
       "      <td>2.801806e-10</td>\n",
       "      <td>0.0</td>\n",
       "      <td>0.0</td>\n",
       "      <td>0.0</td>\n",
       "      <td>0.0</td>\n",
       "      <td>0.0</td>\n",
       "      <td>0.0</td>\n",
       "      <td>0.0</td>\n",
       "      <td>0.0</td>\n",
       "    </tr>\n",
       "  </tbody>\n",
       "</table>\n",
       "<p>5 rows × 255 columns</p>\n",
       "</div>"
      ],
      "text/plain": [
       "             KEYWORD         S        BETX      ALFX       MUX        BETY  \\\n",
       "NAME                                                                         \n",
       "LEFTIR$START  MARKER   0.00000  873.128000  0.184470  0.000000  894.842000   \n",
       "B1S01          SBEND   4.00021  871.671113  0.248292  0.000730  893.349361   \n",
       "DRIFT_0        DRIFT   6.00021  870.682815  0.245857  0.001095  892.757422   \n",
       "B1S03          SBEND  10.00042  867.641175  0.514035  0.001828  891.601224   \n",
       "DRIFT_1        DRIFT  12.00042  865.590862  0.511121  0.002195  891.036783   \n",
       "\n",
       "                  ALFY       MUY    X   PX ...          SIG54         SIG55  \\\n",
       "NAME                                       ...                                \n",
       "LEFTIR$START  0.153707  0.000000  0.0  0.0 ...   0.000000e+00  0.000000e+00   \n",
       "B1S01         0.149129  0.000712  0.0  0.0 ...  -2.685925e-12  2.812868e-10   \n",
       "DRIFT_0       0.146841  0.001068  0.0  0.0 ...  -2.685925e-12  2.812868e-10   \n",
       "B1S03         0.142254  0.001782  0.0  0.0 ...   2.442131e-12  2.801806e-10   \n",
       "DRIFT_1       0.139966  0.002139  0.0  0.0 ...   2.442131e-12  2.801806e-10   \n",
       "\n",
       "              SIG56  SIG61  SIG62  SIG63  SIG64  SIG65  SIG66   N1  \n",
       "NAME                                                                \n",
       "LEFTIR$START    0.0    0.0    0.0    0.0    0.0    0.0    0.0  0.0  \n",
       "B1S01           0.0    0.0    0.0    0.0    0.0    0.0    0.0  0.0  \n",
       "DRIFT_0         0.0    0.0    0.0    0.0    0.0    0.0    0.0  0.0  \n",
       "B1S03           0.0    0.0    0.0    0.0    0.0    0.0    0.0  0.0  \n",
       "DRIFT_1         0.0    0.0    0.0    0.0    0.0    0.0    0.0  0.0  \n",
       "\n",
       "[5 rows x 255 columns]"
      ]
     },
     "execution_count": 123,
     "metadata": {},
     "output_type": "execute_result"
    }
   ],
   "source": [
    "lhec_sequence.df.head(5)"
   ]
  },
  {
   "cell_type": "markdown",
   "metadata": {},
   "source": [
    "The Twiss headers are also available in the form of a `pandas.Series`:"
   ]
  },
  {
   "cell_type": "code",
   "execution_count": 125,
   "metadata": {},
   "outputs": [
    {
     "data": {
      "text/plain": [
       "KEY\n",
       "NAME                   TWISS\n",
       "TYPE                   TWISS\n",
       "SEQUENCE              LEFTIR\n",
       "PARTICLE            ELECTRON\n",
       "MASS         0.0005109989461\n",
       "CHARGE                    -1\n",
       "ENERGY                    50\n",
       "PC                        50\n",
       "GAMMA            97847.55993\n",
       "KBUNCH                     1\n",
       "BCURRENT                   0\n",
       "SIGE                   0.001\n",
       "SIGT                       1\n",
       "NPART                      0\n",
       "EX                     1e-09\n",
       "EY                     1e-09\n",
       "ET                     0.001\n",
       "BV_FLAG                    1\n",
       "LENGTH           277.7075136\n",
       "ALFA                       0\n",
       "ORBIT5                    -0\n",
       "GAMMATR                    0\n",
       "Q1               1.944023321\n",
       "Q2               3.107694746\n",
       "DQ1                        0\n",
       "DQ2                        0\n",
       "DXMAX           0.5337412431\n",
       "DYMAX          0.07095231483\n",
       "XCOMAX                     0\n",
       "YCOMAX                     0\n",
       "BETXMAX          15149.82629\n",
       "BETYMAX          15986.00492\n",
       "XCORMS                     0\n",
       "YCORMS                     0\n",
       "DXRMS           0.2148832022\n",
       "DYRMS          0.01084526412\n",
       "DELTAP                     0\n",
       "SYNCH_1                    0\n",
       "SYNCH_2                    0\n",
       "SYNCH_3                    0\n",
       "SYNCH_4                    0\n",
       "SYNCH_5                    0\n",
       "TITLE               no-title\n",
       "ORIGIN      5.04.01 Linux 64\n",
       "DATE                14/05/19\n",
       "TIME                09.51.49\n",
       "Name: VALUE, dtype: object"
      ]
     },
     "execution_count": 125,
     "metadata": {},
     "output_type": "execute_result"
    }
   ],
   "source": [
    "lhec_sequence.metadata.data"
   ]
  },
  {
   "cell_type": "markdown",
   "metadata": {},
   "source": [
    "A `Kinematics` object is automatically infered from the Twiss headers."
   ]
  },
  {
   "cell_type": "code",
   "execution_count": 126,
   "metadata": {},
   "outputs": [
    {
     "data": {
      "text/plain": [
       "\n",
       "        Electron\n",
       "        Total energy: 50000.000002611196 megaelectronvolt\n",
       "        Kinetic energy: 49999.4890036651 megaelectronvolt\n",
       "        Momentum: 50.0 gigaelectronvolt_per_c\n",
       "        Magnetic rigidity: -166.78203367087505 meter * tesla\n",
       "        Range in water (protons only): nan\n",
       "        Relativistic beta: 0.999999999947776\n",
       "        Relativistic gamma: 97847.55992985248\n",
       "        "
      ]
     },
     "execution_count": 126,
     "metadata": {},
     "output_type": "execute_result"
    }
   ],
   "source": [
    "lhec_sequence.metadata.kinematics"
   ]
  },
  {
   "cell_type": "markdown",
   "metadata": {},
   "source": [
    "Same for the particle type."
   ]
  },
  {
   "cell_type": "code",
   "execution_count": 127,
   "metadata": {},
   "outputs": [
    {
     "data": {
      "text/plain": [
       "zgoubidoo.commands.particules.Electron"
      ]
     },
     "execution_count": 127,
     "metadata": {},
     "output_type": "execute_result"
    }
   ],
   "source": [
    "lhec_sequence.metadata.particle"
   ]
  },
  {
   "cell_type": "markdown",
   "metadata": {},
   "source": [
    "Also, Zgoubidoo provides a `BetaBlock` class that holds a set of Twiss parameters. The sequence will contain the 'beta0' block:"
   ]
  },
  {
   "cell_type": "code",
   "execution_count": 128,
   "metadata": {},
   "outputs": [
    {
     "data": {
      "text/plain": [
       "BetaBlock(beta11=873.128, alpha11=0.18447, gamma11=0.001184281320608204, beta22=894.842, alpha22=0.153707, gamma22=0.0011439179674724701, disp1=0.0, disp2=0.0, disp3=0.0, disp4=0.0)"
      ]
     },
     "execution_count": 128,
     "metadata": {},
     "output_type": "execute_result"
    }
   ],
   "source": [
    "lhec_sequence.betablock"
   ]
  },
  {
   "cell_type": "markdown",
   "metadata": {},
   "source": [
    "Finally, as this is a Twiss sequence, a `BeamTwiss` is also created. This is another type of `zgoubidoo.beam` that abstracts the concept of `OBJET 5` from Zgoubi."
   ]
  },
  {
   "cell_type": "code",
   "execution_count": 129,
   "metadata": {},
   "outputs": [
    {
     "data": {
      "text/plain": [
       "(\n",
       "         ! Definition of BeamTwiss\n",
       "     \n",
       "         'OBJET' 5ab21f5503\n",
       "         -1.667820336709e+05\n",
       "         5.01\n",
       "         1.000000000000e-03 1.000000000000e-03 1.000000000000e-03 1.000000000000e-03 1.000000000000e-03 1.000000000000e-03\n",
       "         0.000000000000e+00 0.000000000000e+00 0.000000000000e+00 0.000000000000e+00 0.000000000000e+00 1.000000000000e+00\n",
       "         1.844700000000e-01 8.731280000000e+02 1.537070000000e-01 8.948420000000e+02 0.000000000000e+00 1.000000000000e+00 0.000000000000e+00 0.000000000000e+00 0.000000000000e+00 0.000000000000e+00\n",
       " \n",
       "         'PARTICUL' PROTON\n",
       "         9.382720300000e+02 1.602176487000e-19 1.792847350500e+00 0.000000000000e+00 0.0\n",
       "         ,)"
      ]
     },
     "execution_count": 129,
     "metadata": {},
     "output_type": "execute_result"
    }
   ],
   "source": [
    "lhec_sequence.beam"
   ]
  },
  {
   "cell_type": "markdown",
   "metadata": {},
   "source": [
    "Now that we have the sequence, we need to convert it to a Zgoubi input. This is equallly easy to do.\n",
    "\n",
    "Note that the beam definition is automatically included, with the correct initial Twiss parameters, correct particle type and correct BRHO."
   ]
  },
  {
   "cell_type": "code",
   "execution_count": 104,
   "metadata": {},
   "outputs": [],
   "source": [
    "zi_twiss = zgoubidoo.Input.from_sequence(lhec_sequence)"
   ]
  },
  {
   "cell_type": "code",
   "execution_count": 106,
   "metadata": {},
   "outputs": [],
   "source": [
    "#zi_twiss"
   ]
  },
  {
   "cell_type": "markdown",
   "metadata": {},
   "source": [
    "## Real machine Twiss computations"
   ]
  },
  {
   "cell_type": "markdown",
   "metadata": {},
   "source": [
    "Let's add a Zgoubi 'OPTICS' keyword and see if we can reproduce the MAD-X Twiss."
   ]
  },
  {
   "cell_type": "code",
   "execution_count": 108,
   "metadata": {},
   "outputs": [],
   "source": [
    "#zi_twiss.XPAS = 20 * _.cm\n",
    "zi_twiss.insert_after(zi_twiss.beam, Optics())\n",
    "zi_twiss.survey(output=False)"
   ]
  },
  {
   "cell_type": "code",
   "execution_count": 109,
   "metadata": {},
   "outputs": [],
   "source": [
    "z = zgoubidoo.Zgoubi()\n",
    "zr_twiss = z(zi_twiss).collect()"
   ]
  },
  {
   "cell_type": "code",
   "execution_count": 153,
   "metadata": {},
   "outputs": [
    {
     "data": {
      "image/png": "[encoded data removed]",
      "text/plain": [
       "<Figure size 1080x504 with 3 Axes>"
      ]
     },
     "metadata": {
      "needs_background": "light"
     },
     "output_type": "display_data"
    }
   ],
   "source": [
    "fig = plt.figure(figsize=(15, 7))\n",
    "ax = fig.add_subplot(111)\n",
    "artist = zgoubidoo.vis.ZgoubiMpl(ax=ax)\n",
    "zgoubidoo.vis.cartouche(line=zi_twiss, artist=artist)\n",
    "\n",
    "ax.plot(lhec_ir.df['S'], lhec_ir.df['BETX'], 'b-', ms=10, label='MAD-X BETX')\n",
    "ax.plot(zr_twiss.optics['S'], zr_twiss.optics['BETA11'], 'bx', ms=7, label='Zgoubi BETA11')\n",
    "\n",
    "ax.plot(lhec_ir.df['S'], lhec_ir.df['BETY'], 'r-', ms=10, label='MAD-X BETY')\n",
    "ax.plot(zr_twiss.optics['S'], zr_twiss.optics['BETA22'], 'rx', ms=7, label='Zgoubi BETA22')\n",
    "\n",
    "\n",
    "ax2 = ax.twinx()\n",
    "ax2.plot(lhec_ir.df['S'], lhec_ir.df['DX'], 'g-', ms=10, label='MAD-X DX')\n",
    "ax2.plot(zr_twiss.optics['S'], zr_twiss.optics['DISP1'], 'gx', ms=7, label='Zgoubi DISP1')\n",
    "\n",
    "ax2.plot(lhec_ir.df['S'], lhec_ir.df['DY'], 'm-', ms=10, label='MAD-X DY')\n",
    "ax2.plot(zr_twiss.optics['S'], zr_twiss.optics['DISP3'], 'mx', ms=7, label='Zgoubi DISP3')\n",
    "\n",
    "ax.legend(loc=6, fontsize=12)\n",
    "ax2.legend(loc=5, fontsize=12)\n",
    "artist.ax.grid(True, alpha=0.2)\n",
    "artist.ax.set_xlabel(\"S (m)\", fontsize=20)\n",
    "artist.ax.set_ylabel(\"Beta function (m)\", fontsize=20)\n",
    "artist.ax.tick_params(axis='both', which='major', labelsize=18)\n",
    "ax2.set_ylabel(\"Dispersion (m)\", fontsize=20)\n",
    "ax2.tick_params(axis='both', which='major', labelsize=18)"
   ]
  },
  {
   "cell_type": "markdown",
   "metadata": {},
   "source": [
    "Encouraging but not fully correct.\n",
    "\n",
    "The yellow-colored magnets are vertical bends, rotated using a `CHANGREF` Zgoubi keyword. The Zgoubi tracking is done in a local coordinate system for each magnet. Therefore Zgoubi does not \"understand\" that the axes are swapped when rotating the magnet to make it a vertical bend. As a consequence, the reconstruction of the transfer matrix, and thus the computation of the Twiss parameters becomes incorrect.\n",
    "\n",
    "The same happens for the vertical and horizontal beta-functions.\n",
    "\n",
    "We can also observe what happens with the alpha-functions."
   ]
  },
  {
   "cell_type": "code",
   "execution_count": 154,
   "metadata": {},
   "outputs": [
    {
     "data": {
      "image/png": "[encoded data removed]",
      "text/plain": [
       "<Figure size 1080x504 with 2 Axes>"
      ]
     },
     "metadata": {
      "needs_background": "light"
     },
     "output_type": "display_data"
    }
   ],
   "source": [
    "fig = plt.figure(figsize=(15, 7))\n",
    "ax = fig.add_subplot(111)\n",
    "artist = zgoubidoo.vis.ZgoubiMpl(ax=ax)\n",
    "zgoubidoo.vis.cartouche(line=zi_twiss, artist=artist)\n",
    "\n",
    "ax.plot(lhec_ir.df['S'], lhec_ir.df['ALFX'], 'b-', ms=10, label='MAD-X ALPHAX')\n",
    "ax.plot(zr_twiss.optics['S'], zr_twiss.optics['BETA11'], 'bx', ms=7, label='Zgoubi ALPHA11')\n",
    "\n",
    "ax.plot(lhec_ir.df['S'], lhec_ir.df['ALFY'], 'b-', ms=10, label='MAD-X ALPHAY')\n",
    "ax.plot(zr_twiss.optics['S'], zr_twiss.optics['BETA22'], 'bx', ms=7, label='Zgoubi ALPHA22')\n",
    "\n",
    "ax.legend(loc=3, fontsize=12)\n",
    "artist.ax.grid(True, alpha=0.2)\n",
    "artist.ax.set_xlabel(\"S (m)\", fontsize=20)\n",
    "artist.ax.set_ylabel(\"Alpha function\", fontsize=20)\n",
    "artist.ax.tick_params(axis='both', which='major', labelsize=18)\n",
    "\n",
    "#ax.text(100.0, 1500.0, f\"{lhec_ir.table.loc['B0', 'ALFX']}\", fontsize=12)\n",
    "#ax.text(100.0, 1300.0, f\"\"\"{tw.query(\"LABEL1 == 'IP'\").iloc[-1]['ALPHA11']:.4f}\"\"\", fontsize=12)"
   ]
  },
  {
   "cell_type": "markdown",
   "metadata": {},
   "source": [
    "**Not cool!**\n",
    "\n",
    "Can we do better?\n",
    "\n",
    "Zgoubidoo is able to compute the Twiss parameters in the same way than Zgoubi:\n",
    "- the transfer matrix is computed using finite differences\n",
    "- the Twiss parameters are reconstructed\n",
    "\n",
    "However, because of the powerful `survey` module in Zgoubidoo, the location and orientation of every element is known. Therefore, when reading the tracking data, Zgoubidoo will automatically convert the coordinates to the global coordinate system (remember, that's the one that we defined when doing the survey). The angles are also converted, so in the end all the Twiss paraters will behave correctly; even for crazy lattices with arbitraty rotations.\n",
    "\n",
    "First we need to compute the transfer matrix."
   ]
  },
  {
   "cell_type": "code",
   "execution_count": 162,
   "metadata": {},
   "outputs": [
    {
     "data": {
      "text/html": [
       "<div>\n",
       "<style scoped>\n",
       "    .dataframe tbody tr th:only-of-type {\n",
       "        vertical-align: middle;\n",
       "    }\n",
       "\n",
       "    .dataframe tbody tr th {\n",
       "        vertical-align: top;\n",
       "    }\n",
       "\n",
       "    .dataframe thead th {\n",
       "        text-align: right;\n",
       "    }\n",
       "</style>\n",
       "<table border=\"1\" class=\"dataframe\">\n",
       "  <thead>\n",
       "    <tr style=\"text-align: right;\">\n",
       "      <th></th>\n",
       "      <th>index</th>\n",
       "      <th>R11</th>\n",
       "      <th>R21</th>\n",
       "      <th>R31</th>\n",
       "      <th>R41</th>\n",
       "      <th>R51</th>\n",
       "      <th>R12</th>\n",
       "      <th>R22</th>\n",
       "      <th>R32</th>\n",
       "      <th>R42</th>\n",
       "      <th>...</th>\n",
       "      <th>R15</th>\n",
       "      <th>R25</th>\n",
       "      <th>R35</th>\n",
       "      <th>R45</th>\n",
       "      <th>R55</th>\n",
       "      <th>S</th>\n",
       "      <th>LABEL1</th>\n",
       "      <th>XG</th>\n",
       "      <th>YG</th>\n",
       "      <th>ZG</th>\n",
       "    </tr>\n",
       "  </thead>\n",
       "  <tbody>\n",
       "    <tr>\n",
       "      <th>0</th>\n",
       "      <td>0</td>\n",
       "      <td>1.0</td>\n",
       "      <td>0.0</td>\n",
       "      <td>0.000000e+00</td>\n",
       "      <td>0.000000e+00</td>\n",
       "      <td>0.0</td>\n",
       "      <td>0.0</td>\n",
       "      <td>1.0</td>\n",
       "      <td>0.000000e+00</td>\n",
       "      <td>0.000000e+00</td>\n",
       "      <td>...</td>\n",
       "      <td>0.000000e+00</td>\n",
       "      <td>0.000000e+00</td>\n",
       "      <td>0.000000</td>\n",
       "      <td>0.000000</td>\n",
       "      <td>1.0</td>\n",
       "      <td>-8.868341e-08</td>\n",
       "      <td>LEFTIR$S_2</td>\n",
       "      <td>0.000000</td>\n",
       "      <td>0.000000e+00</td>\n",
       "      <td>0.000000</td>\n",
       "    </tr>\n",
       "    <tr>\n",
       "      <th>1</th>\n",
       "      <td>0</td>\n",
       "      <td>1.0</td>\n",
       "      <td>0.0</td>\n",
       "      <td>8.115387e-15</td>\n",
       "      <td>0.000000e+00</td>\n",
       "      <td>0.0</td>\n",
       "      <td>0.0</td>\n",
       "      <td>1.0</td>\n",
       "      <td>0.000000e+00</td>\n",
       "      <td>0.000000e+00</td>\n",
       "      <td>...</td>\n",
       "      <td>0.000000e+00</td>\n",
       "      <td>0.000000e+00</td>\n",
       "      <td>0.000000</td>\n",
       "      <td>0.000000</td>\n",
       "      <td>1.0</td>\n",
       "      <td>-8.868341e-08</td>\n",
       "      <td>B1S01</td>\n",
       "      <td>0.000000</td>\n",
       "      <td>0.000000e+00</td>\n",
       "      <td>0.000000</td>\n",
       "    </tr>\n",
       "    <tr>\n",
       "      <th>2</th>\n",
       "      <td>1</td>\n",
       "      <td>1.0</td>\n",
       "      <td>0.0</td>\n",
       "      <td>0.000000e+00</td>\n",
       "      <td>-8.673617e-14</td>\n",
       "      <td>0.0</td>\n",
       "      <td>0.2</td>\n",
       "      <td>1.0</td>\n",
       "      <td>1.084202e-13</td>\n",
       "      <td>1.734723e-12</td>\n",
       "      <td>...</td>\n",
       "      <td>1.818773e-14</td>\n",
       "      <td>1.818777e-13</td>\n",
       "      <td>-0.000089</td>\n",
       "      <td>-0.000887</td>\n",
       "      <td>1.0</td>\n",
       "      <td>1.999999e-01</td>\n",
       "      <td>B1S01</td>\n",
       "      <td>0.199993</td>\n",
       "      <td>3.455981e-13</td>\n",
       "      <td>-0.001685</td>\n",
       "    </tr>\n",
       "    <tr>\n",
       "      <th>3</th>\n",
       "      <td>2</td>\n",
       "      <td>1.0</td>\n",
       "      <td>0.0</td>\n",
       "      <td>0.000000e+00</td>\n",
       "      <td>0.000000e+00</td>\n",
       "      <td>0.0</td>\n",
       "      <td>0.4</td>\n",
       "      <td>1.0</td>\n",
       "      <td>0.000000e+00</td>\n",
       "      <td>8.673617e-13</td>\n",
       "      <td>...</td>\n",
       "      <td>7.275125e-14</td>\n",
       "      <td>3.637579e-13</td>\n",
       "      <td>-0.000355</td>\n",
       "      <td>-0.001774</td>\n",
       "      <td>1.0</td>\n",
       "      <td>3.999999e-01</td>\n",
       "      <td>B1S01</td>\n",
       "      <td>0.399987</td>\n",
       "      <td>6.548207e-13</td>\n",
       "      <td>-0.003193</td>\n",
       "    </tr>\n",
       "    <tr>\n",
       "      <th>4</th>\n",
       "      <td>3</td>\n",
       "      <td>1.0</td>\n",
       "      <td>0.0</td>\n",
       "      <td>4.336809e-14</td>\n",
       "      <td>-4.336809e-14</td>\n",
       "      <td>0.0</td>\n",
       "      <td>0.6</td>\n",
       "      <td>1.0</td>\n",
       "      <td>0.000000e+00</td>\n",
       "      <td>0.000000e+00</td>\n",
       "      <td>...</td>\n",
       "      <td>1.636910e-13</td>\n",
       "      <td>5.456400e-13</td>\n",
       "      <td>-0.000798</td>\n",
       "      <td>-0.002660</td>\n",
       "      <td>1.0</td>\n",
       "      <td>5.999999e-01</td>\n",
       "      <td>B1S01</td>\n",
       "      <td>0.599983</td>\n",
       "      <td>9.276675e-13</td>\n",
       "      <td>-0.004523</td>\n",
       "    </tr>\n",
       "  </tbody>\n",
       "</table>\n",
       "<p>5 rows × 31 columns</p>\n",
       "</div>"
      ],
      "text/plain": [
       "   index  R11  R21           R31           R41  R51  R12  R22           R32  \\\n",
       "0      0  1.0  0.0  0.000000e+00  0.000000e+00  0.0  0.0  1.0  0.000000e+00   \n",
       "1      0  1.0  0.0  8.115387e-15  0.000000e+00  0.0  0.0  1.0  0.000000e+00   \n",
       "2      1  1.0  0.0  0.000000e+00 -8.673617e-14  0.0  0.2  1.0  1.084202e-13   \n",
       "3      2  1.0  0.0  0.000000e+00  0.000000e+00  0.0  0.4  1.0  0.000000e+00   \n",
       "4      3  1.0  0.0  4.336809e-14 -4.336809e-14  0.0  0.6  1.0  0.000000e+00   \n",
       "\n",
       "            R42    ...              R15           R25       R35       R45  \\\n",
       "0  0.000000e+00    ...     0.000000e+00  0.000000e+00  0.000000  0.000000   \n",
       "1  0.000000e+00    ...     0.000000e+00  0.000000e+00  0.000000  0.000000   \n",
       "2  1.734723e-12    ...     1.818773e-14  1.818777e-13 -0.000089 -0.000887   \n",
       "3  8.673617e-13    ...     7.275125e-14  3.637579e-13 -0.000355 -0.001774   \n",
       "4  0.000000e+00    ...     1.636910e-13  5.456400e-13 -0.000798 -0.002660   \n",
       "\n",
       "   R55             S      LABEL1        XG            YG        ZG  \n",
       "0  1.0 -8.868341e-08  LEFTIR$S_2  0.000000  0.000000e+00  0.000000  \n",
       "1  1.0 -8.868341e-08       B1S01  0.000000  0.000000e+00  0.000000  \n",
       "2  1.0  1.999999e-01       B1S01  0.199993  3.455981e-13 -0.001685  \n",
       "3  1.0  3.999999e-01       B1S01  0.399987  6.548207e-13 -0.003193  \n",
       "4  1.0  5.999999e-01       B1S01  0.599983  9.276675e-13 -0.004523  \n",
       "\n",
       "[5 rows x 31 columns]"
      ]
     },
     "execution_count": 162,
     "metadata": {},
     "output_type": "execute_result"
    }
   ],
   "source": [
    "zr_twiss.tracks['T'] = zr_twiss.tracks['TG']\n",
    "zr_twiss.tracks['P'] = zr_twiss.tracks['PG']\n",
    "zr_twiss.tracks['X'] = zr_twiss.tracks['XG']\n",
    "zr_twiss.tracks['Y'] = zr_twiss.tracks['YG']\n",
    "zr_twiss.tracks['Z'] = zr_twiss.tracks['ZG']\n",
    "M = zgoubidoo.twiss.compute_transfer_matrix(beamline=zi_twiss, tracks=zr_twiss.tracks)\n",
    "M.head(5)"
   ]
  },
  {
   "cell_type": "markdown",
   "metadata": {},
   "source": [
    "Then we compute the Twiss parameters (note that the `BetaBlock` is used here):"
   ]
  },
  {
   "cell_type": "code",
   "execution_count": 163,
   "metadata": {},
   "outputs": [
    {
     "data": {
      "text/html": [
       "<div>\n",
       "<style scoped>\n",
       "    .dataframe tbody tr th:only-of-type {\n",
       "        vertical-align: middle;\n",
       "    }\n",
       "\n",
       "    .dataframe tbody tr th {\n",
       "        vertical-align: top;\n",
       "    }\n",
       "\n",
       "    .dataframe thead th {\n",
       "        text-align: right;\n",
       "    }\n",
       "</style>\n",
       "<table border=\"1\" class=\"dataframe\">\n",
       "  <thead>\n",
       "    <tr style=\"text-align: right;\">\n",
       "      <th></th>\n",
       "      <th>index</th>\n",
       "      <th>R11</th>\n",
       "      <th>R21</th>\n",
       "      <th>R31</th>\n",
       "      <th>R41</th>\n",
       "      <th>R51</th>\n",
       "      <th>R12</th>\n",
       "      <th>R22</th>\n",
       "      <th>R32</th>\n",
       "      <th>R42</th>\n",
       "      <th>...</th>\n",
       "      <th>GAMMA11</th>\n",
       "      <th>GAMMA22</th>\n",
       "      <th>MU1</th>\n",
       "      <th>MU2</th>\n",
       "      <th>DET1</th>\n",
       "      <th>DET2</th>\n",
       "      <th>DISP1</th>\n",
       "      <th>DISP2</th>\n",
       "      <th>DISP3</th>\n",
       "      <th>DISP4</th>\n",
       "    </tr>\n",
       "  </thead>\n",
       "  <tbody>\n",
       "    <tr>\n",
       "      <th>0</th>\n",
       "      <td>0</td>\n",
       "      <td>1.0</td>\n",
       "      <td>0.0</td>\n",
       "      <td>0.000000e+00</td>\n",
       "      <td>0.000000e+00</td>\n",
       "      <td>0.0</td>\n",
       "      <td>0.0</td>\n",
       "      <td>1.0</td>\n",
       "      <td>0.000000e+00</td>\n",
       "      <td>0.000000e+00</td>\n",
       "      <td>...</td>\n",
       "      <td>0.001184</td>\n",
       "      <td>0.001144</td>\n",
       "      <td>0.000000</td>\n",
       "      <td>0.000000</td>\n",
       "      <td>1.0</td>\n",
       "      <td>1.000000</td>\n",
       "      <td>0.000000e+00</td>\n",
       "      <td>0.000000e+00</td>\n",
       "      <td>0.000000</td>\n",
       "      <td>0.000000</td>\n",
       "    </tr>\n",
       "    <tr>\n",
       "      <th>1</th>\n",
       "      <td>0</td>\n",
       "      <td>1.0</td>\n",
       "      <td>0.0</td>\n",
       "      <td>8.115387e-15</td>\n",
       "      <td>0.000000e+00</td>\n",
       "      <td>0.0</td>\n",
       "      <td>0.0</td>\n",
       "      <td>1.0</td>\n",
       "      <td>0.000000e+00</td>\n",
       "      <td>0.000000e+00</td>\n",
       "      <td>...</td>\n",
       "      <td>0.001184</td>\n",
       "      <td>0.001144</td>\n",
       "      <td>0.000000</td>\n",
       "      <td>0.000000</td>\n",
       "      <td>1.0</td>\n",
       "      <td>0.999961</td>\n",
       "      <td>0.000000e+00</td>\n",
       "      <td>0.000000e+00</td>\n",
       "      <td>0.000000</td>\n",
       "      <td>0.000000</td>\n",
       "    </tr>\n",
       "    <tr>\n",
       "      <th>2</th>\n",
       "      <td>1</td>\n",
       "      <td>1.0</td>\n",
       "      <td>0.0</td>\n",
       "      <td>0.000000e+00</td>\n",
       "      <td>-8.673617e-14</td>\n",
       "      <td>0.0</td>\n",
       "      <td>0.2</td>\n",
       "      <td>1.0</td>\n",
       "      <td>1.084202e-13</td>\n",
       "      <td>1.734723e-12</td>\n",
       "      <td>...</td>\n",
       "      <td>0.001184</td>\n",
       "      <td>0.001144</td>\n",
       "      <td>0.000229</td>\n",
       "      <td>0.000224</td>\n",
       "      <td>1.0</td>\n",
       "      <td>0.999961</td>\n",
       "      <td>1.818773e-14</td>\n",
       "      <td>1.818777e-13</td>\n",
       "      <td>-0.000089</td>\n",
       "      <td>-0.000887</td>\n",
       "    </tr>\n",
       "    <tr>\n",
       "      <th>3</th>\n",
       "      <td>2</td>\n",
       "      <td>1.0</td>\n",
       "      <td>0.0</td>\n",
       "      <td>0.000000e+00</td>\n",
       "      <td>0.000000e+00</td>\n",
       "      <td>0.0</td>\n",
       "      <td>0.4</td>\n",
       "      <td>1.0</td>\n",
       "      <td>0.000000e+00</td>\n",
       "      <td>8.673617e-13</td>\n",
       "      <td>...</td>\n",
       "      <td>0.001184</td>\n",
       "      <td>0.001144</td>\n",
       "      <td>0.000458</td>\n",
       "      <td>0.000447</td>\n",
       "      <td>1.0</td>\n",
       "      <td>0.999961</td>\n",
       "      <td>7.275125e-14</td>\n",
       "      <td>3.637579e-13</td>\n",
       "      <td>-0.000355</td>\n",
       "      <td>-0.001774</td>\n",
       "    </tr>\n",
       "    <tr>\n",
       "      <th>4</th>\n",
       "      <td>3</td>\n",
       "      <td>1.0</td>\n",
       "      <td>0.0</td>\n",
       "      <td>4.336809e-14</td>\n",
       "      <td>-4.336809e-14</td>\n",
       "      <td>0.0</td>\n",
       "      <td>0.6</td>\n",
       "      <td>1.0</td>\n",
       "      <td>0.000000e+00</td>\n",
       "      <td>0.000000e+00</td>\n",
       "      <td>...</td>\n",
       "      <td>0.001184</td>\n",
       "      <td>0.001144</td>\n",
       "      <td>0.000687</td>\n",
       "      <td>0.000671</td>\n",
       "      <td>1.0</td>\n",
       "      <td>0.999961</td>\n",
       "      <td>1.636910e-13</td>\n",
       "      <td>5.456400e-13</td>\n",
       "      <td>-0.000798</td>\n",
       "      <td>-0.002660</td>\n",
       "    </tr>\n",
       "  </tbody>\n",
       "</table>\n",
       "<p>5 rows × 45 columns</p>\n",
       "</div>"
      ],
      "text/plain": [
       "   index  R11  R21           R31           R41  R51  R12  R22           R32  \\\n",
       "0      0  1.0  0.0  0.000000e+00  0.000000e+00  0.0  0.0  1.0  0.000000e+00   \n",
       "1      0  1.0  0.0  8.115387e-15  0.000000e+00  0.0  0.0  1.0  0.000000e+00   \n",
       "2      1  1.0  0.0  0.000000e+00 -8.673617e-14  0.0  0.2  1.0  1.084202e-13   \n",
       "3      2  1.0  0.0  0.000000e+00  0.000000e+00  0.0  0.4  1.0  0.000000e+00   \n",
       "4      3  1.0  0.0  4.336809e-14 -4.336809e-14  0.0  0.6  1.0  0.000000e+00   \n",
       "\n",
       "            R42    ...      GAMMA11   GAMMA22       MU1       MU2  DET1  \\\n",
       "0  0.000000e+00    ...     0.001184  0.001144  0.000000  0.000000   1.0   \n",
       "1  0.000000e+00    ...     0.001184  0.001144  0.000000  0.000000   1.0   \n",
       "2  1.734723e-12    ...     0.001184  0.001144  0.000229  0.000224   1.0   \n",
       "3  8.673617e-13    ...     0.001184  0.001144  0.000458  0.000447   1.0   \n",
       "4  0.000000e+00    ...     0.001184  0.001144  0.000687  0.000671   1.0   \n",
       "\n",
       "       DET2         DISP1         DISP2     DISP3     DISP4  \n",
       "0  1.000000  0.000000e+00  0.000000e+00  0.000000  0.000000  \n",
       "1  0.999961  0.000000e+00  0.000000e+00  0.000000  0.000000  \n",
       "2  0.999961  1.818773e-14  1.818777e-13 -0.000089 -0.000887  \n",
       "3  0.999961  7.275125e-14  3.637579e-13 -0.000355 -0.001774  \n",
       "4  0.999961  1.636910e-13  5.456400e-13 -0.000798 -0.002660  \n",
       "\n",
       "[5 rows x 45 columns]"
      ]
     },
     "execution_count": 163,
     "metadata": {},
     "output_type": "execute_result"
    }
   ],
   "source": [
    "zgoubidoo_twiss = zgoubidoo.twiss.compute_twiss(matrix=M, twiss_init=lhec_sequence.betablock)\n",
    "zgoubidoo_twiss.head(5)"
   ]
  },
  {
   "cell_type": "markdown",
   "metadata": {},
   "source": [
    "We should now be able to plot everything."
   ]
  },
  {
   "cell_type": "code",
   "execution_count": 164,
   "metadata": {},
   "outputs": [
    {
     "data": {
      "image/png": "[encoded data removed]",
      "text/plain": [
       "<Figure size 1080x504 with 3 Axes>"
      ]
     },
     "metadata": {
      "needs_background": "light"
     },
     "output_type": "display_data"
    }
   ],
   "source": [
    "fig = plt.figure(figsize=(15, 7))\n",
    "ax = fig.add_subplot(111)\n",
    "artist = zgoubidoo.vis.ZgoubiMpl(ax=ax)\n",
    "zgoubidoo.vis.cartouche(line=zi_twiss, artist=artist)\n",
    "\n",
    "ax.plot(zgoubidoo_twiss['S'], zgoubidoo_twiss['BETA11'], 'b-', ms=0.5, label='Zgoubidoo BETA11')\n",
    "ax.plot(lhec_ir.df['S'] + zgoubidoo_twiss['S'].min(), lhec_ir.df['BETX'], 'b+', ms=10, label='MAD-X BETX')\n",
    "#ax.plot(zr_twiss.optics['S'] + tw['S'].min(), zr_twiss.optics['BETA11'], 'bx', ms=7, label='Zgoubi BETA11')\n",
    "\n",
    "ax.plot(zgoubidoo_twiss['S'], zgoubidoo_twiss['BETA22'], 'r-', ms=0.5, label='Zgoubidoo BETA22')\n",
    "ax.plot(lhec_ir.df['S'] + zgoubidoo_twiss['S'].min(), lhec_ir.df['BETY'], 'r+', ms=10, label='MAD-X BETY')\n",
    "#ax.plot(zr_twiss.optics['S'] + tw['S'].min(), zr_twiss.optics['BETA22'], 'rx', ms=7, label='Zgoubi BETA22')\n",
    "\n",
    "\n",
    "ax2 = ax.twinx()\n",
    "ax2.plot(zgoubidoo_twiss['S'], zgoubidoo_twiss['DISP1'], 'g-.', ms=0.5, label='Zgoubidoo DISP1')\n",
    "ax2.plot(lhec_ir.df['S'] + zgoubidoo_twiss['S'].min(), lhec_ir.df['DX'], 'g+', ms=10, label='MAD-X DX')\n",
    "#ax2.plot(zr_twiss.optics['S'] + tw['S'].min(), zr_twiss.optics['DISP1'], 'gx', ms=7, label='Zgoubi DISP1')\n",
    "\n",
    "ax2.plot(zgoubidoo_twiss['S'], zgoubidoo_twiss['DISP3'], 'm-.', ms=0.5, label='Zgoubidoo DISP3')\n",
    "ax2.plot(lhec_ir.df['S'] + zgoubidoo_twiss['S'].min(), lhec_ir.df['DY'], 'm+', ms=10, label='MAD-X DY')\n",
    "#ax2.plot(zr_twiss.optics['S'] + tw['S'].min(), zr_twiss.optics['DISP3'], 'mx', ms=7, label='Zgoubi DISP3')\n",
    "\n",
    "ax.legend(loc=6, fontsize=12)\n",
    "ax2.legend(loc=5, fontsize=12)\n",
    "artist.ax.grid(True, alpha=0.2)\n",
    "artist.ax.set_xlabel(\"S (m)\", fontsize=20)\n",
    "artist.ax.set_ylabel(\"Beta function (m)\", fontsize=20)\n",
    "artist.ax.tick_params(axis='both', which='major', labelsize=18)\n",
    "ax2.set_ylabel(\"Dispersion (m)\", fontsize=20)\n",
    "ax2.tick_params(axis='both', which='major', labelsize=18)"
   ]
  },
  {
   "cell_type": "markdown",
   "metadata": {},
   "source": [
    "## backward tracking ! For transfer matrix in case of large fringe fields, etc. check with the S coordinate\n",
    "\n",
    "Lattices for the workshop : ESRF ? Or PSR ? Maybe PSR is easier. Then FFA.\n",
    "\n",
    "PSR\n",
    "FFA\n",
    "ESRF"
   ]
  },
  {
   "cell_type": "code",
   "execution_count": null,
   "metadata": {},
   "outputs": [],
   "source": []
  }
 ],
 "metadata": {
  "kernelspec": {
   "display_name": "Python 3",
   "language": "python",
   "name": "python3"
  },
  "language_info": {
   "codemirror_mode": {
    "name": "ipython",
    "version": 3
   },
   "file_extension": ".py",
   "mimetype": "text/x-python",
   "name": "python",
   "nbconvert_exporter": "python",
   "pygments_lexer": "ipython3",
   "version": "3.7.3"
  }
 },
 "nbformat": 4,
 "nbformat_minor": 2
}
