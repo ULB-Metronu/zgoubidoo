{
 "cells": [
  {
   "cell_type": "code",
   "execution_count": 2,
   "metadata": {},
   "outputs": [
    {
     "name": "stdout",
     "output_type": "stream",
     "text": [
      "The autoreload extension is already loaded. To reload it, use:\n",
      "  %reload_ext autoreload\n"
     ]
    }
   ],
   "source": [
    "%load_ext autoreload\n",
    "%autoreload 2"
   ]
  },
  {
   "cell_type": "markdown",
   "metadata": {},
   "source": [
    "# Zgoubidoo tutorial"
   ]
  },
  {
   "cell_type": "markdown",
   "metadata": {},
   "source": [
    "A gentle introduction to Zgoubidoo: a modern Python 3 interface to the Zgoubi ray-tracing code.\n",
    "\n",
    "Tutorial's objectives:\n",
    "- Build Zgoubi simulations from scratch with no advanced knowledge of Zgoubi or Python\n",
    "- Introduce key concepts usefull for a wide range of Zgoubi simulations\n",
    "- Highlights advantages of Zgoubidoo: ease of use, repeatability, speed (especially on multi-core computers, aka. any computers)"
   ]
  },
  {
   "cell_type": "markdown",
   "metadata": {},
   "source": [
    "## Getting started\n",
    "\n",
    "Assume you have the `zgoubi` executable located somewhere in your path."
   ]
  },
  {
   "cell_type": "markdown",
   "metadata": {},
   "source": [
    "### Import zgoubidoo"
   ]
  },
  {
   "cell_type": "code",
   "execution_count": 3,
   "metadata": {},
   "outputs": [
    {
     "name": "stderr",
     "output_type": "stream",
     "text": [
      "/Users/chernals/reps/pybdsim/pybdsim/Convert/_BdsimPrimaries2Inrays.py:7: UserWarning:\n",
      "\n",
      "ROOT not available - some functionality missing\n",
      "\n"
     ]
    }
   ],
   "source": [
    "import zgoubidoo\n",
    "from zgoubidoo.commands import *"
   ]
  },
  {
   "cell_type": "markdown",
   "metadata": {},
   "source": [
    "All physical quantities used by `zgoubidoo` have units. For simplicity the 'units registry' can get a short name:"
   ]
  },
  {
   "cell_type": "code",
   "execution_count": 5,
   "metadata": {},
   "outputs": [],
   "source": [
    "from zgoubidoo import ureg as _"
   ]
  },
  {
   "cell_type": "markdown",
   "metadata": {},
   "source": [
    "Let's have a first look at units:"
   ]
  },
  {
   "cell_type": "code",
   "execution_count": 10,
   "metadata": {},
   "outputs": [
    {
     "data": {
      "text/plain": [
       "0.021"
      ]
     },
     "execution_count": 10,
     "metadata": {},
     "output_type": "execute_result"
    }
   ],
   "source": [
    "a = 1 * _.m\n",
    "b = 1 * _.m + 10 * _.cm\n",
    "b += a\n",
    "b.to('hectometers').magnitude"
   ]
  },
  {
   "cell_type": "markdown",
   "metadata": {},
   "source": [
    "A bit more interesting:"
   ]
  },
  {
   "cell_type": "code",
   "execution_count": 11,
   "metadata": {},
   "outputs": [
    {
     "data": {
      "text/html": [
       "\\[1.0\\ kilogauss\\ meter\\]"
      ],
      "text/latex": [
       "$1.0\\ \\mathrm{kilogauss} \\cdot \\mathrm{meter}$"
      ],
      "text/plain": [
       "1.0 <Unit('kilogauss * meter')>"
      ]
     },
     "execution_count": 11,
     "metadata": {},
     "output_type": "execute_result"
    }
   ],
   "source": [
    "brho = 1 * _.tesla * 10 * _.cm\n",
    "brho.to('kilogauss meter')"
   ]
  },
  {
   "cell_type": "markdown",
   "metadata": {},
   "source": [
    "**Exercice**: define quantities in other units of interest for Zgoubi simulations. In particular, try angles, energies, etc."
   ]
  },
  {
   "cell_type": "markdown",
   "metadata": {},
   "source": [
    "### Import additionnal very useful Python packages"
   ]
  },
  {
   "cell_type": "code",
   "execution_count": 12,
   "metadata": {},
   "outputs": [],
   "source": [
    "%matplotlib notebook\n",
    "import matplotlib.pyplot as plt\n",
    "import numpy as np\n",
    "import pandas as pd"
   ]
  },
  {
   "cell_type": "markdown",
   "metadata": {},
   "source": [
    "**Exercice**: Have a look at what `matplotlib`, `numpy` and `pandas` are and what they can do."
   ]
  },
  {
   "cell_type": "markdown",
   "metadata": {},
   "source": [
    "### A first look at Zgoubi keywords and Zgoubidoo commands"
   ]
  },
  {
   "cell_type": "markdown",
   "metadata": {},
   "source": [
    "All `zgoubi` commands ('KEYWORDS') have their equivalent `zgoubidoo` class. They all inhereit from the `zgoubidoo.commands.Command` base class which overloads a bunch of \"special\" Python functions. Most notably the `__str__` function."
   ]
  },
  {
   "cell_type": "code",
   "execution_count": 13,
   "metadata": {},
   "outputs": [
    {
     "data": {
      "text/plain": [
       "zgoubidoo.commands.magnetique.Quadrupole"
      ]
     },
     "execution_count": 13,
     "metadata": {},
     "output_type": "execute_result"
    }
   ],
   "source": [
    "Quadrupole"
   ]
  },
  {
   "cell_type": "code",
   "execution_count": 14,
   "metadata": {},
   "outputs": [
    {
     "data": {
      "text/plain": [
       "zgoubidoo.commands.magnetique.Venus"
      ]
     },
     "execution_count": 14,
     "metadata": {},
     "output_type": "execute_result"
    }
   ],
   "source": [
    "Venus"
   ]
  },
  {
   "cell_type": "code",
   "execution_count": 15,
   "metadata": {},
   "outputs": [
    {
     "data": {
      "text/plain": [
       "zgoubidoo.commands.commands.ChangRef"
      ]
     },
     "execution_count": 15,
     "metadata": {},
     "output_type": "execute_result"
    }
   ],
   "source": [
    "ChangRef"
   ]
  },
  {
   "cell_type": "code",
   "execution_count": 16,
   "metadata": {},
   "outputs": [
    {
     "data": {
      "text/plain": [
       "zgoubidoo.commands.actions.Fit"
      ]
     },
     "execution_count": 16,
     "metadata": {},
     "output_type": "execute_result"
    }
   ],
   "source": [
    "Fit"
   ]
  },
  {
   "cell_type": "code",
   "execution_count": 17,
   "metadata": {},
   "outputs": [
    {
     "data": {
      "text/plain": [
       "zgoubidoo.commands.particules.Particule"
      ]
     },
     "execution_count": 17,
     "metadata": {},
     "output_type": "execute_result"
    }
   ],
   "source": [
    "Particule"
   ]
  },
  {
   "cell_type": "code",
   "execution_count": 18,
   "metadata": {},
   "outputs": [
    {
     "data": {
      "text/plain": [
       "zgoubidoo.commands.fieldmaps.Tosca"
      ]
     },
     "execution_count": 18,
     "metadata": {},
     "output_type": "execute_result"
    }
   ],
   "source": [
    "Tosca"
   ]
  },
  {
   "cell_type": "markdown",
   "metadata": {},
   "source": [
    "**Exercice**: Find your favorite command. Complain if it's not available. (*bonus*) Implement a new command, just to see how easy it is."
   ]
  },
  {
   "cell_type": "markdown",
   "metadata": {},
   "source": [
    "And so on."
   ]
  },
  {
   "cell_type": "markdown",
   "metadata": {},
   "source": [
    "To create a command one needs to instanciate an object from the corresponding class:"
   ]
  },
  {
   "cell_type": "code",
   "execution_count": 27,
   "metadata": {},
   "outputs": [
    {
     "data": {
      "text/plain": [
       "\n",
       "        \n",
       "        'QUADRUPO' MY_QUAD\n",
       "        0\n",
       "        0.000000000000e+00 1.000000000000e+00 0.000000000000e+00\n",
       "        0.000000000000e+00 0.000000000000e+00\n",
       "        6 0.000000000000e+00 1.000000000000e+00 0.000000000000e+00 0.000000000000e+00 0.000000000000e+00 0.000000000000e+00\n",
       "        0.000000000000e+00 0.000000000000e+00\n",
       "        6 0.000000000000e+00 1.000000000000e+00 0.000000000000e+00 0.000000000000e+00 0.000000000000e+00 0.000000000000e+00\n",
       "        0.1\n",
       "        1 0.000000000000e+00 0.000000000000e+00 0.000000000000e+00\n",
       "        "
      ]
     },
     "execution_count": 27,
     "metadata": {},
     "output_type": "execute_result"
    }
   ],
   "source": [
    "myquad = Quadrupole('MY_QUAD')\n",
    "myquad"
   ]
  },
  {
   "cell_type": "markdown",
   "metadata": {},
   "source": [
    "All commands have sensible (at least I'm aiming for that) default values. This means that it is possible to create a working command without changing anything.\n",
    "\n",
    "Note that the *LABEL1* attribute gets an automatically created random value. This is useful, see later.\n",
    "\n",
    "Of course the next step is to look at the parameters of the command. The `PARAMETERS` attribute of each class provides the full list of available parameters, along with their default values and a documentation string."
   ]
  },
  {
   "cell_type": "code",
   "execution_count": 23,
   "metadata": {},
   "outputs": [
    {
     "data": {
      "text/plain": [
       "{'LABEL1': ('',\n",
       "  'Primary label for the Zgoubi command (default: auto-generated hash).'),\n",
       " 'LABEL2': ('', 'Secondary label for the Zgoubi command.'),\n",
       " 'HEIGHT': (20 <Unit('centimeter')>,\n",
       "  'Height of the magnet (distance between poles), used by plotting functions.'),\n",
       " 'POLE_WIDTH': (30 <Unit('centimeter')>,\n",
       "  'Pole width (used for plotting only).'),\n",
       " 'PIPE_THICKNESS': (2 <Unit('centimeter')>,\n",
       "  'Thickness of the pipe, used by plotting functions.'),\n",
       " 'PIPE_COLOR': ('grey', 'Color of the pipe, used by plotting functions.'),\n",
       " 'REFERENCE_FIELD_COMPONENT': ('BZ',\n",
       "  'Orientation of the reference field (used by field maps)'),\n",
       " 'KINEMATICS': (None, 'A kinematics object.'),\n",
       " 'APERTURE_LEFT': (10 <Unit('centimeter')>,\n",
       "  'Aperture size of the magnet, left side (used for plotting only).'),\n",
       " 'APERTURE_RIGHT': (10 <Unit('centimeter')>,\n",
       "  'Aperture size of the magnet, right side (used for plotting only).'),\n",
       " 'APERTURE_TOP': (10 <Unit('centimeter')>,\n",
       "  'Aperture size of the magnet, top side (used for plotting only).'),\n",
       " 'APERTURE_BOTTOM': (10 <Unit('centimeter')>,\n",
       "  'Aperture size of the magnet, bottom side (used for plotting only).'),\n",
       " 'COLOR': ('#FF0000', 'Magnet color for plotting.'),\n",
       " 'LENGTH_IS_ARC_LENGTH': (False, ''),\n",
       " 'IL': (0, 'Print field and coordinates along trajectories', 0),\n",
       " 'XL': (0 <Unit('centimeter')>, 'Magnet length', 10),\n",
       " 'R0': (1.0 <Unit('centimeter')>, 'Radius of the pole tips', 11),\n",
       " 'B0': (0 <Unit('kilogauss')>, 'Field at pole tips', 12),\n",
       " 'X_E': (0 <Unit('centimeter')>,\n",
       "  'Entrance face integration zone for the fringe field',\n",
       "  20),\n",
       " 'LAM_E': (0 <Unit('centimeter')>, 'Entrance face fringe field extent', 21),\n",
       " 'C0_E': (0,),\n",
       " 'C1_E': (1,),\n",
       " 'C2_E': (0,),\n",
       " 'C3_E': (0,),\n",
       " 'C4_E': (0,),\n",
       " 'C5_E': (0,),\n",
       " 'X_S': (0 <Unit('centimeter')>,\n",
       "  'Exit face integration zone for the fringe field'),\n",
       " 'LAM_S': (0 <Unit('centimeter')>, 'Exit face fringe field extent'),\n",
       " 'C0_S': (0,),\n",
       " 'C1_S': (1,),\n",
       " 'C2_S': (0,),\n",
       " 'C3_S': (0,),\n",
       " 'C4_S': (0,),\n",
       " 'C5_S': (0,),\n",
       " 'XPAS': (0.1 <Unit('centimeter')>, 'Integration step', 60),\n",
       " 'KPOS': (1, 'Misalignment type', 70),\n",
       " 'XCE': (0 <Unit('centimeter')>, 'x offset', 71),\n",
       " 'YCE': (0 <Unit('centimeter')>, 'y offset', 72),\n",
       " 'ALE': (0 <Unit('radian')>, 'misalignment rotation', 73)}"
      ]
     },
     "execution_count": 23,
     "metadata": {},
     "output_type": "execute_result"
    }
   ],
   "source": [
    "Quadrupole.PARAMETERS"
   ]
  },
  {
   "cell_type": "markdown",
   "metadata": {},
   "source": [
    "When the command is created those parameters are instanciated as `attributes`:"
   ]
  },
  {
   "cell_type": "code",
   "execution_count": 29,
   "metadata": {},
   "outputs": [
    {
     "data": {
      "text/plain": [
       "{'LABEL1': 'MY_QUAD',\n",
       " 'LABEL2': '',\n",
       " 'HEIGHT': 20 <Unit('centimeter')>,\n",
       " 'POLE_WIDTH': 30 <Unit('centimeter')>,\n",
       " 'PIPE_THICKNESS': 2 <Unit('centimeter')>,\n",
       " 'PIPE_COLOR': 'grey',\n",
       " 'REFERENCE_FIELD_COMPONENT': 'BZ',\n",
       " 'KINEMATICS': None,\n",
       " 'APERTURE_LEFT': 10 <Unit('centimeter')>,\n",
       " 'APERTURE_RIGHT': 10 <Unit('centimeter')>,\n",
       " 'APERTURE_TOP': 10 <Unit('centimeter')>,\n",
       " 'APERTURE_BOTTOM': 10 <Unit('centimeter')>,\n",
       " 'COLOR': '#FF0000',\n",
       " 'LENGTH_IS_ARC_LENGTH': False,\n",
       " 'IL': 0,\n",
       " 'XL': 0 <Unit('centimeter')>,\n",
       " 'R0': 1.0 <Unit('centimeter')>,\n",
       " 'B0': 0 <Unit('kilogauss')>,\n",
       " 'X_E': 0 <Unit('centimeter')>,\n",
       " 'LAM_E': 0 <Unit('centimeter')>,\n",
       " 'C0_E': 0,\n",
       " 'C1_E': 1,\n",
       " 'C2_E': 0,\n",
       " 'C3_E': 0,\n",
       " 'C4_E': 0,\n",
       " 'C5_E': 0,\n",
       " 'X_S': 0 <Unit('centimeter')>,\n",
       " 'LAM_S': 0 <Unit('centimeter')>,\n",
       " 'C0_S': 0,\n",
       " 'C1_S': 1,\n",
       " 'C2_S': 0,\n",
       " 'C3_S': 0,\n",
       " 'C4_S': 0,\n",
       " 'C5_S': 0,\n",
       " 'XPAS': 0.1 <Unit('centimeter')>,\n",
       " 'KPOS': 1,\n",
       " 'XCE': 0 <Unit('centimeter')>,\n",
       " 'YCE': 0 <Unit('centimeter')>,\n",
       " 'ALE': 0 <Unit('radian')>}"
      ]
     },
     "execution_count": 29,
     "metadata": {},
     "output_type": "execute_result"
    }
   ],
   "source": [
    "myquad.attributes"
   ]
  },
  {
   "cell_type": "markdown",
   "metadata": {},
   "source": [
    "Some have default values:"
   ]
  },
  {
   "cell_type": "code",
   "execution_count": 25,
   "metadata": {},
   "outputs": [
    {
     "data": {
      "text/plain": [
       "{'LABEL2': '',\n",
       " 'HEIGHT': 20 <Unit('centimeter')>,\n",
       " 'POLE_WIDTH': 30 <Unit('centimeter')>,\n",
       " 'PIPE_THICKNESS': 2 <Unit('centimeter')>,\n",
       " 'PIPE_COLOR': 'grey',\n",
       " 'REFERENCE_FIELD_COMPONENT': 'BZ',\n",
       " 'KINEMATICS': None,\n",
       " 'APERTURE_LEFT': 10 <Unit('centimeter')>,\n",
       " 'APERTURE_RIGHT': 10 <Unit('centimeter')>,\n",
       " 'APERTURE_TOP': 10 <Unit('centimeter')>,\n",
       " 'APERTURE_BOTTOM': 10 <Unit('centimeter')>,\n",
       " 'COLOR': '#FF0000',\n",
       " 'LENGTH_IS_ARC_LENGTH': False,\n",
       " 'IL': 0,\n",
       " 'XL': 0 <Unit('centimeter')>,\n",
       " 'R0': 1.0 <Unit('centimeter')>,\n",
       " 'B0': 0 <Unit('kilogauss')>,\n",
       " 'X_E': 0 <Unit('centimeter')>,\n",
       " 'LAM_E': 0 <Unit('centimeter')>,\n",
       " 'C0_E': 0,\n",
       " 'C1_E': 1,\n",
       " 'C2_E': 0,\n",
       " 'C3_E': 0,\n",
       " 'C4_E': 0,\n",
       " 'C5_E': 0,\n",
       " 'X_S': 0 <Unit('centimeter')>,\n",
       " 'LAM_S': 0 <Unit('centimeter')>,\n",
       " 'C0_S': 0,\n",
       " 'C1_S': 1,\n",
       " 'C2_S': 0,\n",
       " 'C3_S': 0,\n",
       " 'C4_S': 0,\n",
       " 'C5_S': 0,\n",
       " 'XPAS': 0.1 <Unit('centimeter')>,\n",
       " 'KPOS': 1,\n",
       " 'XCE': 0 <Unit('centimeter')>,\n",
       " 'YCE': 0 <Unit('centimeter')>,\n",
       " 'ALE': 0 <Unit('radian')>}"
      ]
     },
     "execution_count": 25,
     "metadata": {},
     "output_type": "execute_result"
    }
   ],
   "source": [
    "Quadrupole().defaults"
   ]
  },
  {
   "cell_type": "markdown",
   "metadata": {},
   "source": [
    "Others have non-default values:"
   ]
  },
  {
   "cell_type": "code",
   "execution_count": 26,
   "metadata": {},
   "outputs": [
    {
     "data": {
      "text/plain": [
       "{'LABEL1': 'd5c913ff93a24321bd14'}"
      ]
     },
     "execution_count": 26,
     "metadata": {},
     "output_type": "execute_result"
    }
   ],
   "source": [
    "Quadrupole().nondefaults"
   ]
  },
  {
   "cell_type": "markdown",
   "metadata": {},
   "source": [
    "Note that the initializer of `Quadrupole` is taking the initiative of setting `XE` and `XS` to twice the bore radius."
   ]
  },
  {
   "cell_type": "markdown",
   "metadata": {},
   "source": [
    "Specific values for the attributes can be defined at the creation of the object:"
   ]
  },
  {
   "cell_type": "code",
   "execution_count": 30,
   "metadata": {},
   "outputs": [
    {
     "data": {
      "text/plain": [
       "\n",
       "        \n",
       "        'QUADRUPO' COOL_QUAD\n",
       "        0\n",
       "        2.000000000000e+02 1.000000000000e+00 0.000000000000e+00\n",
       "        0.000000000000e+00 0.000000000000e+00\n",
       "        6 0.000000000000e+00 1.000000000000e+00 0.000000000000e+00 0.000000000000e+00 0.000000000000e+00 0.000000000000e+00\n",
       "        0.000000000000e+00 0.000000000000e+00\n",
       "        6 0.000000000000e+00 1.000000000000e+00 0.000000000000e+00 0.000000000000e+00 0.000000000000e+00 0.000000000000e+00\n",
       "        3.0\n",
       "        1 0.000000000000e+00 0.000000000000e+00 0.000000000000e+00\n",
       "        "
      ]
     },
     "execution_count": 30,
     "metadata": {},
     "output_type": "execute_result"
    }
   ],
   "source": [
    "Quadrupole('COOL_QUAD', XL=2*_.meter, XPAS=30*_.mm)"
   ]
  },
  {
   "cell_type": "markdown",
   "metadata": {},
   "source": [
    "Of course it is possible to change and access the attributes values at any time:"
   ]
  },
  {
   "cell_type": "code",
   "execution_count": 31,
   "metadata": {},
   "outputs": [
    {
     "name": "stdout",
     "output_type": "stream",
     "text": [
      "The field at the pole tips is now 2 tesla.\n"
     ]
    },
    {
     "data": {
      "text/plain": [
       "\n",
       "        \n",
       "        'QUADRUPO' COOL_QUAD\n",
       "        0\n",
       "        2.000000000000e+02 1.000000000000e+00 2.000000000000e+01\n",
       "        0.000000000000e+00 0.000000000000e+00\n",
       "        6 0.000000000000e+00 1.000000000000e+00 0.000000000000e+00 0.000000000000e+00 0.000000000000e+00 0.000000000000e+00\n",
       "        0.000000000000e+00 0.000000000000e+00\n",
       "        6 0.000000000000e+00 1.000000000000e+00 0.000000000000e+00 0.000000000000e+00 0.000000000000e+00 0.000000000000e+00\n",
       "        3.0\n",
       "        2 0.000000000000e+00 0.000000000000e+00 0.000000000000e+00\n",
       "        "
      ]
     },
     "execution_count": 31,
     "metadata": {},
     "output_type": "execute_result"
    }
   ],
   "source": [
    "my_quad = Quadrupole('COOL_QUAD', XL=2*_.m, XPAS=3*_.centimeter)\n",
    "my_quad.KPOS = 2\n",
    "my_quad.B0 = 2 * _.tesla\n",
    "print(f\"The field at the pole tips is now {my_quad.B0}.\")\n",
    "my_quad"
   ]
  },
  {
   "cell_type": "code",
   "execution_count": 34,
   "metadata": {},
   "outputs": [
    {
     "data": {
      "text/html": [
       "\\[3\\ tesla\\]"
      ],
      "text/latex": [
       "$3\\ \\mathrm{tesla}$"
      ],
      "text/plain": [
       "3 <Unit('tesla')>"
      ]
     },
     "execution_count": 34,
     "metadata": {},
     "output_type": "execute_result"
    }
   ],
   "source": [
    "my_quad.B0"
   ]
  },
  {
   "cell_type": "markdown",
   "metadata": {},
   "source": [
    "And look again at the nondefault attributes:"
   ]
  },
  {
   "cell_type": "code",
   "execution_count": 35,
   "metadata": {},
   "outputs": [
    {
     "data": {
      "text/plain": [
       "{'LABEL1': 'COOL_QUAD',\n",
       " 'XL': 2 <Unit('meter')>,\n",
       " 'B0': 3 <Unit('tesla')>,\n",
       " 'XPAS': 3 <Unit('centimeter')>,\n",
       " 'KPOS': 2}"
      ]
     },
     "execution_count": 35,
     "metadata": {},
     "output_type": "execute_result"
    }
   ],
   "source": [
    "my_quad.nondefaults"
   ]
  },
  {
   "cell_type": "markdown",
   "metadata": {},
   "source": [
    "**Exercice**: define other objects, explore the different Zgoubi keywords, change the attributes, etc. In particular: create a custom BEND, a custome DRIFT."
   ]
  },
  {
   "cell_type": "markdown",
   "metadata": {},
   "source": [
    "What if your favorite command is missing?\n",
    "\n",
    "Zgoubidoo provides different mechanisms to deal with that, maybe the easiest one is to use the `Fake` command:"
   ]
  },
  {
   "cell_type": "code",
   "execution_count": 36,
   "metadata": {},
   "outputs": [
    {
     "data": {
      "text/plain": [
       "zgoubidoo.commands.commands.Fake"
      ]
     },
     "execution_count": 36,
     "metadata": {},
     "output_type": "execute_result"
    }
   ],
   "source": [
    "Fake"
   ]
  },
  {
   "cell_type": "code",
   "execution_count": null,
   "metadata": {},
   "outputs": [],
   "source": [
    "Fake('FAKE1', INPUT=\"\"\"\n",
    "    'FRANCOIS' {LABEL1} \n",
    "    1.0 2.0 3.0\n",
    "\"\"\"\n",
    ")"
   ]
  },
  {
   "cell_type": "code",
   "execution_count": 39,
   "metadata": {},
   "outputs": [
    {
     "data": {
      "text/html": [
       "\\[30\\ centimeter\\]"
      ],
      "text/latex": [
       "$30\\ \\mathrm{centimeter}$"
      ],
      "text/plain": [
       "30 <Unit('centimeter')>"
      ]
     },
     "execution_count": 39,
     "metadata": {},
     "output_type": "execute_result"
    }
   ],
   "source": [
    "class FancyQuadrupole(Quadrupole):\n",
    "    PARAMETERS = {\n",
    "        'B0': 10 * _.tesla,\n",
    "        'C0_E': 33.3,\n",
    "    }\n",
    "    \n",
    "    def __post__init__(arg1):\n",
    "        pass\n",
    "\n",
    "my_fancy_quad = FancyQuadrupole('MY_FANCYQ')\n",
    "my_fancy_quad.POLE_WIDTH"
   ]
  },
  {
   "cell_type": "markdown",
   "metadata": {},
   "source": [
    "### Creating a first Zgoubi input file"
   ]
  },
  {
   "cell_type": "markdown",
   "metadata": {},
   "source": [
    "To create a zgoubi input file `zgoubidoo` provides a dedicated class: `zgoubidoo.Input`. An input can have a name and will hold a list of `zgoubidoo.commands` objects.\n",
    "\n",
    "The `zgoubidoo.Input` objects also override the `__str__` method, which allows to automatically print them or save them to files."
   ]
  },
  {
   "cell_type": "code",
   "execution_count": 40,
   "metadata": {},
   "outputs": [
    {
     "data": {
      "text/plain": [
       "beamline\n",
       "        'END' 6e0a678659cd4fdf9ae4 \n",
       "        "
      ]
     },
     "execution_count": 40,
     "metadata": {},
     "output_type": "execute_result"
    }
   ],
   "source": [
    "zgoubidoo.Input()"
   ]
  },
  {
   "cell_type": "markdown",
   "metadata": {},
   "source": [
    "To make life easier, `zgoubidoo` will automatically add a `End` command at the end of each input."
   ]
  },
  {
   "cell_type": "markdown",
   "metadata": {},
   "source": [
    "Let's get started and create a FODO sequence."
   ]
  },
  {
   "cell_type": "code",
   "execution_count": 6,
   "metadata": {},
   "outputs": [
    {
     "data": {
      "text/plain": [
       "FODO\n",
       "        \n",
       "        'QUADRUPO' QF\n",
       "        0\n",
       "        1.000000000000e+02 1.000000000000e+00 1.000000000000e+01\n",
       "        0.000000000000e+00 0.000000000000e+00\n",
       "        6 0.000000000000e+00 1.000000000000e+00 0.000000000000e+00 0.000000000000e+00 0.000000000000e+00 0.000000000000e+00\n",
       "        0.000000000000e+00 0.000000000000e+00\n",
       "        6 0.000000000000e+00 1.000000000000e+00 0.000000000000e+00 0.000000000000e+00 0.000000000000e+00 0.000000000000e+00\n",
       "        0.1\n",
       "        1 0.000000000000e+00 0.000000000000e+00 0.000000000000e+00\n",
       "        \n",
       "        \n",
       "        'DRIFT' adefa694a4e04f728922\n",
       "        1.000000000000e+02 split 10 0\n",
       "            \n",
       "        \n",
       "        'QUADRUPO' QD\n",
       "        0\n",
       "        1.000000000000e+02 1.000000000000e+00 -1.000000000000e+01\n",
       "        0.000000000000e+00 0.000000000000e+00\n",
       "        6 0.000000000000e+00 1.000000000000e+00 0.000000000000e+00 0.000000000000e+00 0.000000000000e+00 0.000000000000e+00\n",
       "        0.000000000000e+00 0.000000000000e+00\n",
       "        6 0.000000000000e+00 1.000000000000e+00 0.000000000000e+00 0.000000000000e+00 0.000000000000e+00 0.000000000000e+00\n",
       "        0.1\n",
       "        1 0.000000000000e+00 0.000000000000e+00 0.000000000000e+00\n",
       "        \n",
       "        \n",
       "        'DRIFT' b664c381c5f0479ab376\n",
       "        1.000000000000e+02 split 10 0\n",
       "            \n",
       "        'END' 44ae8d8705a547f18463 \n",
       "        "
      ]
     },
     "execution_count": 6,
     "metadata": {},
     "output_type": "execute_result"
    }
   ],
   "source": [
    "qf = Quadrupole('QF', XL=1*_.m, B0=1 * _.tesla)\n",
    "qd = Quadrupole('QD', XL=1*_.m, B0=-1 * _.tesla)\n",
    "\n",
    "zi = zgoubidoo.Input(name='FODO', line=[\n",
    "    qf,\n",
    "    Drift(XL=1 * _.m),\n",
    "    qd,\n",
    "    Drift(XL=1 * _.m),\n",
    "])  # zi stands for `zgoubi input`\n",
    "zi"
   ]
  },
  {
   "cell_type": "markdown",
   "metadata": {},
   "source": [
    "We are close to being able to run this with Zgoubi. But one more thing: let's define the particle type and add a beam (*ie.* a `zgoubi` objet).\n",
    "\n",
    "Zgoubidoo defines classes for a relatively large set of common particles:"
   ]
  },
  {
   "cell_type": "code",
   "execution_count": 7,
   "metadata": {},
   "outputs": [
    {
     "data": {
      "text/plain": [
       "[('AntiMuon', zgoubidoo.commands.particules.AntiMuon),\n",
       " ('AntiProton', zgoubidoo.commands.particules.AntiProton),\n",
       " ('CarbonIon', zgoubidoo.commands.particules.CarbonIon),\n",
       " ('Electron', zgoubidoo.commands.particules.Electron),\n",
       " ('HMinus', zgoubidoo.commands.particules.HMinus),\n",
       " ('Helion', zgoubidoo.commands.particules.HeliumIon),\n",
       " ('HeliumIon', zgoubidoo.commands.particules.HeliumIon),\n",
       " ('ImmortalAntiMuon', zgoubidoo.commands.particules.ImmortalAntiMuon),\n",
       " ('ImmortalMuon', zgoubidoo.commands.particules.ImmortalMuon),\n",
       " ('Ion', zgoubidoo.commands.particules.Ion),\n",
       " ('LeadIon', zgoubidoo.commands.particules.LeadIon),\n",
       " ('Muon', zgoubidoo.commands.particules.Muon),\n",
       " ('NativeParticule', zgoubidoo.commands.particules.NativeParticule),\n",
       " ('NativeParticuleType', zgoubidoo.commands.particules.NativeParticuleType),\n",
       " ('NegativePion', zgoubidoo.commands.particules.NegativePion),\n",
       " ('OxygenIon', zgoubidoo.commands.particules.OxygenIon),\n",
       " ('Particule', zgoubidoo.commands.particules.Particule),\n",
       " ('ParticuleType', zgoubidoo.commands.particules.ParticuleType),\n",
       " ('Pion', zgoubidoo.commands.particules.Pion),\n",
       " ('PositivePion', zgoubidoo.commands.particules.PositivePion),\n",
       " ('Positron', zgoubidoo.commands.particules.Positron),\n",
       " ('Proton', zgoubidoo.commands.particules.Proton),\n",
       " ('SulfurIon', zgoubidoo.commands.particules.SulfurIon),\n",
       " ('XenonIon', zgoubidoo.commands.particules.XenonIon),\n",
       " ('_Command', zgoubidoo.commands.commands.Command),\n",
       " ('_MetaCommand', zgoubidoo.commands.commands.CommandType)]"
      ]
     },
     "execution_count": 7,
     "metadata": {},
     "output_type": "execute_result"
    }
   ],
   "source": [
    "import inspect\n",
    "inspect.getmembers(zgoubidoo.commands.particules, inspect.isclass)"
   ]
  },
  {
   "cell_type": "markdown",
   "metadata": {},
   "source": [
    "Let's use a proton:"
   ]
  },
  {
   "cell_type": "code",
   "execution_count": 8,
   "metadata": {},
   "outputs": [
    {
     "data": {
      "text/plain": [
       "\n",
       "        'PARTICUL' ELECTRON\n",
       "        ELECTRON\n",
       "            "
      ]
     },
     "execution_count": 8,
     "metadata": {},
     "output_type": "execute_result"
    }
   ],
   "source": [
    "Electron()"
   ]
  },
  {
   "cell_type": "code",
   "execution_count": 45,
   "metadata": {},
   "outputs": [
    {
     "data": {
      "text/plain": [
       "\n",
       "        'PARTICUL' PROTON\n",
       "        PROTON\n",
       "            "
      ]
     },
     "execution_count": 45,
     "metadata": {},
     "output_type": "execute_result"
    }
   ],
   "source": [
    "Proton()"
   ]
  },
  {
   "cell_type": "code",
   "execution_count": 9,
   "metadata": {},
   "outputs": [
    {
     "data": {
      "text/plain": [
       "\n",
       "        'PARTICUL' PROTON\n",
       "        9.382720881605e+02 1.602176634000e-19 1.792847344650e+00 0.000000000000e+00 0.0\n",
       "        "
      ]
     },
     "execution_count": 9,
     "metadata": {},
     "output_type": "execute_result"
    }
   ],
   "source": [
    "Proton(NATIVE=False)"
   ]
  },
  {
   "cell_type": "markdown",
   "metadata": {},
   "source": [
    "We will also need to define the energy, momentum, etc. of the particles. To that end, `zgoubidoo` provides a very easy to use `Kinematics` class:"
   ]
  },
  {
   "cell_type": "code",
   "execution_count": 10,
   "metadata": {},
   "outputs": [
    {
     "data": {
      "text/plain": [
       "\n",
       "        Proton\n",
       "        Total energy: 2000.0 megaelectronvolt\n",
       "        Kinetic energy: 1061.72797 megaelectronvolt\n",
       "        Momentum: 1766.251850025833 megaelectronvolt_per_c\n",
       "        Magnetic rigidity: 5.891582543013071 meter * tesla\n",
       "        Range in water (protons only): 407.2585159114895 centimeter\n",
       "        Relativistic pv: 1.5598227988598394 gigaelectronvolt\n",
       "        Relativistic beta: 0.8831259250129166\n",
       "        Relativistic gamma: 2.131577981707501\n",
       "        "
      ]
     },
     "execution_count": 10,
     "metadata": {},
     "output_type": "execute_result"
    }
   ],
   "source": [
    "k = zgoubidoo.Kinematics(2 * _.GeV)\n",
    "k"
   ]
  },
  {
   "cell_type": "markdown",
   "metadata": {},
   "source": [
    "The constructor will infer the quantity based on the units, and provide a bunch of conversions if needed:"
   ]
  },
  {
   "cell_type": "code",
   "execution_count": 59,
   "metadata": {},
   "outputs": [
    {
     "data": {
      "text/plain": [
       "\n",
       "        Proton\n",
       "        Total energy: 1083.423218187193 megaelectronvolt\n",
       "        Kinetic energy: 145.15118818719336 megaelectronvolt\n",
       "        Momentum: 541.711609093597 megaelectronvolt_per_c\n",
       "        Magnetic rigidity: 1.8069555932449144 meter * tesla\n",
       "        Range in water (protons only): 14.89678472721385 centimeter\n",
       "        Relativistic pv: 270.85580454679865 megaelectronvolt_per_c2 * speed_of_light ** 2\n",
       "        Relativistic beta: 0.5\n",
       "        Relativistic gamma: 1.1547005383792517\n",
       "        "
      ]
     },
     "execution_count": 59,
     "metadata": {},
     "output_type": "execute_result"
    }
   ],
   "source": [
    "k = zgoubidoo.Kinematics(0.5)\n",
    "k"
   ]
  },
  {
   "cell_type": "code",
   "execution_count": 67,
   "metadata": {},
   "outputs": [
    {
     "data": {
      "text/html": [
       "\\[1.8069555932449144\\ meter\\ tesla\\]"
      ],
      "text/latex": [
       "$1.8069555932449144\\ \\mathrm{meter} \\cdot \\mathrm{tesla}$"
      ],
      "text/plain": [
       "1.8069555932449144 <Unit('meter * tesla')>"
      ]
     },
     "execution_count": 67,
     "metadata": {},
     "output_type": "execute_result"
    }
   ],
   "source": [
    "k.brho"
   ]
  },
  {
   "cell_type": "markdown",
   "metadata": {},
   "source": [
    "Next step is to define a `zgoubi` *Objet*. We can either directly use the objet classes or use an abstraction provided by `zgoubidoo`: `Beam`.\n",
    "    \n",
    "Let's start with `Objet2`."
   ]
  },
  {
   "cell_type": "code",
   "execution_count": 70,
   "metadata": {},
   "outputs": [
    {
     "data": {
      "text/plain": [
       "\n",
       "        'OBJET' BUNCH\n",
       "        5.891582543013e+03\n",
       "        2.00\n",
       "        1 1\n",
       "        0.000000000000e+00 0.000000000000e+00 0.000000000000e+00 0.000000000000e+00 0.000000000000e+00 1.000000000000e+00 O\n",
       "        1"
      ]
     },
     "execution_count": 70,
     "metadata": {},
     "output_type": "execute_result"
    }
   ],
   "source": [
    "Objet2('BUNCH', BORO=k.brho)"
   ]
  },
  {
   "cell_type": "markdown",
   "metadata": {},
   "source": [
    "We are all set, let's redfine the `zgoubi.Input`:"
   ]
  },
  {
   "cell_type": "code",
   "execution_count": 11,
   "metadata": {},
   "outputs": [
    {
     "data": {
      "text/plain": [
       "FODO\n",
       "        'OBJET' BUNCH\n",
       "        5.891582543013e+03\n",
       "        2.00\n",
       "        1 1\n",
       "        0.000000000000e+00 0.000000000000e+00 0.000000000000e+00 0.000000000000e+00 0.000000000000e+00 1.000000000000e+00 O\n",
       "        1\n",
       "\n",
       "        'PARTICUL' PROTON\n",
       "        PROTON\n",
       "            \n",
       "        \n",
       "        'QUADRUPO' QF\n",
       "        2\n",
       "        1.000000000000e+02 1.000000000000e+00 1.000000000000e+01\n",
       "        0.000000000000e+00 0.000000000000e+00\n",
       "        6 0.000000000000e+00 1.000000000000e+00 0.000000000000e+00 0.000000000000e+00 0.000000000000e+00 0.000000000000e+00\n",
       "        0.000000000000e+00 0.000000000000e+00\n",
       "        6 0.000000000000e+00 1.000000000000e+00 0.000000000000e+00 0.000000000000e+00 0.000000000000e+00 0.000000000000e+00\n",
       "        2.0\n",
       "        1 0.000000000000e+00 0.000000000000e+00 0.000000000000e+00\n",
       "        \n",
       "        \n",
       "        'DRIFT' 6a53a8e59e264d3ebef6\n",
       "        1.000000000000e+02 split 10 2\n",
       "            \n",
       "        \n",
       "        'QUADRUPO' QD\n",
       "        2\n",
       "        1.000000000000e+02 1.000000000000e+00 -1.000000000000e+01\n",
       "        0.000000000000e+00 0.000000000000e+00\n",
       "        6 0.000000000000e+00 1.000000000000e+00 0.000000000000e+00 0.000000000000e+00 0.000000000000e+00 0.000000000000e+00\n",
       "        0.000000000000e+00 0.000000000000e+00\n",
       "        6 0.000000000000e+00 1.000000000000e+00 0.000000000000e+00 0.000000000000e+00 0.000000000000e+00 0.000000000000e+00\n",
       "        2.0\n",
       "        1 0.000000000000e+00 0.000000000000e+00 0.000000000000e+00\n",
       "        \n",
       "        \n",
       "        'DRIFT' d1dcc0119f29443b918b\n",
       "        1.000000000000e+02 split 10 2\n",
       "            \n",
       "        'END' 917cf630a87447129af1 \n",
       "        "
      ]
     },
     "execution_count": 11,
     "metadata": {},
     "output_type": "execute_result"
    }
   ],
   "source": [
    "qf = Quadrupole('QF', XL=1*_.m, B0=1 * _.tesla)\n",
    "qd = Quadrupole('QD', XL=1*_.m, B0=-1 * _.tesla)\n",
    "\n",
    "zi = zgoubidoo.Input(name='FODO', line=[\n",
    "    Objet2('BUNCH', BORO=k.brho),\n",
    "    Proton(),\n",
    "    qf,\n",
    "    Drift(XL=1 * _.m),\n",
    "    qd,\n",
    "    Drift(XL=1 * _.m),\n",
    "])  # zi stands for `zgoubi input`\n",
    "zi.IL = 2\n",
    "zi.XPAS = 2 * _.cm\n",
    "zi"
   ]
  },
  {
   "cell_type": "markdown",
   "metadata": {},
   "source": [
    "At this point you should be really impatient to run this with Zgoubi...\n",
    "\n",
    "As you guessed `zgoubidoo` provides a class `Zgoubi` which is an abstraction to the `zgoubi` executable:"
   ]
  },
  {
   "cell_type": "code",
   "execution_count": 12,
   "metadata": {},
   "outputs": [
    {
     "data": {
      "text/plain": [
       "<zgoubidoo.zgoubi.Zgoubi at 0x1481a7340>"
      ]
     },
     "execution_count": 12,
     "metadata": {},
     "output_type": "execute_result"
    }
   ],
   "source": [
    "z = zgoubidoo.Zgoubi()\n",
    "z"
   ]
  },
  {
   "cell_type": "markdown",
   "metadata": {},
   "source": [
    "It doesn't do much, but when you **call** it `zgoubi` will be run:"
   ]
  },
  {
   "cell_type": "code",
   "execution_count": 13,
   "metadata": {},
   "outputs": [
    {
     "data": {
      "text/plain": [
       "<zgoubidoo.zgoubi.Zgoubi at 0x1481a7340>"
      ]
     },
     "execution_count": 13,
     "metadata": {},
     "output_type": "execute_result"
    }
   ],
   "source": [
    "z(zi)"
   ]
  },
  {
   "cell_type": "markdown",
   "metadata": {},
   "source": [
    "Looked like nothing happened... but `zgoubi` has been executed.\n",
    "\n",
    "Now a little detour: `zgoubidoo` works beautifully with multi-threading, all in a transparent way. This means that you can launch multiple instances of `zgoubi` at the same time, even in an interactive session like this one, without blocking.\n",
    "\n",
    "The drawback is that you need to collect the results:"
   ]
  },
  {
   "cell_type": "code",
   "execution_count": 15,
   "metadata": {},
   "outputs": [
    {
     "data": {
      "text/plain": [
       "<zgoubidoo.zgoubi.ZgoubiResults at 0x1481be2e0>"
      ]
     },
     "execution_count": 15,
     "metadata": {},
     "output_type": "execute_result"
    }
   ],
   "source": [
    "z.cleanup()\n",
    "zr = z(zi).collect()  # zr stands for 'zgoubi results'\n",
    "zr"
   ]
  },
  {
   "cell_type": "markdown",
   "metadata": {},
   "source": [
    "Once more, all the resutls are encapsulated in a `ZgoubiResults` class.\n",
    "\n",
    "It has many functionalities:"
   ]
  },
  {
   "cell_type": "code",
   "execution_count": 16,
   "metadata": {},
   "outputs": [
    {
     "name": "stdout",
     "output_type": "stream",
     "text": [
      "Results for mapping {}\n",
      "\n",
      "FODO\n",
      "'OBJET' BUNCH                                                                                                1\n",
      "5.891582543013e+03\n",
      "2.00\n",
      "1 1\n",
      "0.000000000000e+00 0.000000000000e+00 0.000000000000e+00 0.000000000000e+00 0.000000000000e+00 1.000000000000e+00 O\n",
      "1\n",
      " \n",
      "'PARTICUL' PROTON                                                                                            2\n",
      "PROTON\n",
      " \n",
      " \n",
      "'QUADRUPO' QF                                                                                                3\n",
      "2\n",
      "1.000000000000e+02 1.000000000000e+00 1.000000000000e+01\n",
      "0.000000000000e+00 0.000000000000e+00\n",
      "6 0.000000000000e+00 1.000000000000e+00 0.000000000000e+00 0.000000000000e+00 0.000000000000e+00 0.000000000000e+00\n",
      "0.000000000000e+00 0.000000000000e+00\n",
      "6 0.000000000000e+00 1.000000000000e+00 0.000000000000e+00 0.000000000000e+00 0.000000000000e+00 0.000000000000e+00\n",
      "2.0\n",
      "1 0.000000000000e+00 0.000000000000e+00 0.000000000000e+00\n",
      " \n",
      " \n",
      "'DRIFT' 6a53a8e59e264d3ebef6                                                                                 4\n",
      "1.000000000000e+02 split 10 2\n",
      " \n",
      " \n",
      "'QUADRUPO' QD                                                                                                5\n",
      "2\n",
      "1.000000000000e+02 1.000000000000e+00 -1.000000000000e+01\n",
      "0.000000000000e+00 0.000000000000e+00\n",
      "6 0.000000000000e+00 1.000000000000e+00 0.000000000000e+00 0.000000000000e+00 0.000000000000e+00 0.000000000000e+00\n",
      "0.000000000000e+00 0.000000000000e+00\n",
      "6 0.000000000000e+00 1.000000000000e+00 0.000000000000e+00 0.000000000000e+00 0.000000000000e+00 0.000000000000e+00\n",
      "2.0\n",
      "1 0.000000000000e+00 0.000000000000e+00 0.000000000000e+00\n",
      " \n",
      " \n",
      "'DRIFT' d1dcc0119f29443b918b                                                                                 6\n",
      "1.000000000000e+02 split 10 2\n",
      " \n",
      "'END' 4a597c60f62145ff8ea3\n",
      "\n",
      "************************************************************************************************************************************\n",
      "      1  Keyword, label(s) :  OBJET       BUNCH                                                                        IPASS= 1\n",
      "\n",
      "                          MAGNETIC  RIGIDITY =       5891.583 kG*cm\n",
      "\n",
      "                                         TRAJECTOIRY SETTING UP\n",
      "\n",
      "                              OBJET  (2)  BUILT  UP  FROM       1 POINTS \n",
      "\n",
      "\n",
      "\n",
      "************************************************************************************************************************************\n",
      "      2  Keyword, label(s) :  PARTICUL    PROTON                                                                       IPASS= 1\n",
      "\n",
      "     Particle  properties :\n",
      "     PROTON\n",
      "                     Mass          =    938.272        MeV/c2\n",
      "                     Charge        =   1.602176E-19    C     \n",
      "                     G  factor     =    1.79285              \n",
      "                     COM life-time =   1.000000E+99    s     \n",
      "\n",
      "              Reference  data :\n",
      "                    mag. rigidity (kG.cm)   :   5891.5825      =p/q, such that dev.=B*L/rigidity\n",
      "                    mass (MeV/c2)           :   938.27208    \n",
      "                    momentum (MeV/c)        :   1766.2520    \n",
      "                    energy, total (MeV)     :   2000.0002    \n",
      "                    energy, kinetic (MeV)   :   1061.7281    \n",
      "                    beta = v/c              :  0.8831259322    \n",
      "                    gamma                   :   2.131578043    \n",
      "                    beta*gamma              :   1.882451847    \n",
      "                    G*gamma                 :   3.821594046    \n",
      "                    electric rigidity (MeV) :   1559.822955    =T[eV]*(gamma+1)/gamma, such that dev.=E*L/rigidity\n",
      "  \n",
      " I, AMQ(1,I), AMQ(2,I)/QE, P/Pref, v/c, time, s :\n",
      "  \n",
      "     1   9.38272081E+02  1.00000000E+00  1.00000000E+00  8.83125932E-01  0.00000000E+00  0.00000000E+00\n",
      "\n",
      "************************************************************************************************************************************\n",
      "      3  Keyword, label(s) :  QUADRUPO    QF                                                                           IPASS= 1\n",
      "\n",
      "\n",
      "                OPEN FILE zgoubi.plt                                                                      \n",
      "                FOR PRINTING TRAJECTORIES\n",
      "\n",
      "\n",
      "      -----  QUADRUPOLE  : \n",
      "                Length  of  element  =    100.00000      cm\n",
      "                Bore  radius      RO =    1.0000      cm                              B/RO^IM/Brho (strength)\n",
      "               B-QUADRUPOLE  =  1.0000000E+01 kG   (i.e.,   1.0000000E+01 * SCAL)     1.6973368E+01\n",
      "\n",
      "               Entrance/exit field models are sharp edge\n",
      "               FINTE, FINTS, gap :    0.0000E+00   0.0000E+00   5.0000E-01\n",
      "\n",
      "                    Integration step :   2.000     cm\n",
      "\n",
      "  A    1  1.0000     0.000     0.000     0.000     0.000          100.000     0.000     0.000     0.000     0.000            1\n",
      "\n",
      "\n",
      "                CONDITIONS  DE  MAXWELL  (       51.  PAS )  :\n",
      "                       DIV(B)        LAPLACIEN(B)     ROTATIONNEL(B)\n",
      "                      0.000            0.000             0.000    \n",
      "                                       0.000             0.000    \n",
      "                                       0.000             0.000    \n",
      "                       LAPLACIEN SCALAIRE =   0.000    \n",
      "\n",
      "\n",
      "\n",
      "     QUASEX - KPOS =  1 :  Change  of  frame  at  exit  of  element.\n",
      "          X =   0.000     CM   Y =   0.000     cm,  tilt  angle =   0.0000000     RAD\n",
      "\n",
      "\n",
      " Cumulative length of optical axis =    1.00000000     m ;  Time  (for ref. rigidity & particle) =   3.777084E-09 s \n",
      "\n",
      "************************************************************************************************************************************\n",
      "      4  Keyword, label(s) :  DRIFT       6a53a8e59e264d3ebef6                                                         IPASS= 1\n",
      "\n",
      "\n",
      "     zgoubi.plt                                                                      \n",
      "      already open...\n",
      "\n",
      "                              Drift,  length =   100.00000  cm\n",
      "\n",
      "TRAJ #1 IEX,D,Y,T,Z,P,S,time :  1  0.000000E+00  0.000000E+00  0.000000E+00  0.000000E+00  0.000000E+00  2.0000000E+02  7.55417E-03\n",
      "\n",
      " Cumulative length of optical axis =    2.00000000     m   ;  Time  (for reference rigidity & particle) =   7.554168E-09 s \n",
      "\n",
      "************************************************************************************************************************************\n",
      "      5  Keyword, label(s) :  QUADRUPO    QD                                                                           IPASS= 1\n",
      "\n",
      "\n",
      "     zgoubi.plt                                                                      \n",
      "      already open...\n",
      "\n",
      "      -----  QUADRUPOLE  : \n",
      "                Length  of  element  =    100.00000      cm\n",
      "                Bore  radius      RO =    1.0000      cm                              B/RO^IM/Brho (strength)\n",
      "               B-QUADRUPOLE  = -1.0000000E+01 kG   (i.e.,  -1.0000000E+01 * SCAL)    -1.6973368E+01\n",
      "\n",
      "               Entrance/exit field models are sharp edge\n",
      "               FINTE, FINTS, gap :    0.0000E+00   0.0000E+00   5.0000E-01\n",
      "\n",
      "                    Integration step :   2.000     cm\n",
      "\n",
      "  A    1  1.0000     0.000     0.000     0.000     0.000          100.000     0.000     0.000     0.000     0.000            1\n",
      "\n",
      "\n",
      "                CONDITIONS  DE  MAXWELL  (       51.  PAS )  :\n",
      "                       DIV(B)        LAPLACIEN(B)     ROTATIONNEL(B)\n",
      "                      0.000            0.000             0.000    \n",
      "                                       0.000             0.000    \n",
      "                                       0.000             0.000    \n",
      "                       LAPLACIEN SCALAIRE =   0.000    \n",
      "\n",
      "\n",
      "\n",
      "     QUASEX - KPOS =  1 :  Change  of  frame  at  exit  of  element.\n",
      "          X =   0.000     CM   Y =   0.000     cm,  tilt  angle =   0.0000000     RAD\n",
      "\n",
      "\n",
      " Cumulative length of optical axis =    3.00000000     m ;  Time  (for ref. rigidity & particle) =   1.133125E-08 s \n",
      "\n",
      "************************************************************************************************************************************\n",
      "      6  Keyword, label(s) :  DRIFT       d1dcc0119f29443b918b                                                         IPASS= 1\n",
      "\n",
      "\n",
      "     zgoubi.plt                                                                      \n",
      "      already open...\n",
      "\n",
      "                              Drift,  length =   100.00000  cm\n",
      "\n",
      "TRAJ #1 IEX,D,Y,T,Z,P,S,time :  1  0.000000E+00  0.000000E+00  0.000000E+00  0.000000E+00  0.000000E+00  4.0000000E+02  1.51083E-02\n",
      "\n",
      " Cumulative length of optical axis =    4.00000000     m   ;  Time  (for reference rigidity & particle) =   1.510834E-08 s \n",
      "\n",
      "************************************************************************************************************************************\n",
      "      7  Keyword, label(s) :  END                                                                                      IPASS= 1\n",
      "\n",
      "\n",
      "                             1 particles have been launched\n",
      "                     Made  it  to  the  end :      1\n",
      "\n",
      "************************************************************************************************************************************\n",
      " Pgm zgoubi : Execution ended normally, upon keyword END or FIN\n",
      "   \n",
      " File in:   zgoubi.dat\n",
      " File out:  zgoubi.res\n",
      "\n",
      "  Zgoubi, author's dvlpmnt version.\n",
      "  Job  started  on  14-07-2020,  at  17:19:04 \n",
      "  JOB  ENDED  ON    14-07-2020,  AT  17:19:04 \n",
      "\n",
      "   CPU time, total :     6.9730000000000018E-003\n",
      "\n",
      "================================================================================================\n",
      "================================================================================================\n",
      "================================================================================================\n"
     ]
    }
   ],
   "source": [
    "zr.print()"
   ]
  },
  {
   "cell_type": "markdown",
   "metadata": {},
   "source": [
    "The default behavior of `ZgoubiResults.print()` is to show the `zgoubi.res` file.\n",
    "\n",
    "It is possible to look at other results."
   ]
  },
  {
   "cell_type": "code",
   "execution_count": null,
   "metadata": {},
   "outputs": [],
   "source": [
    "zr.print('stdout')"
   ]
  },
  {
   "cell_type": "markdown",
   "metadata": {},
   "source": [
    "OK, now this is really cool! Look at this:"
   ]
  },
  {
   "cell_type": "code",
   "execution_count": null,
   "metadata": {},
   "outputs": [],
   "source": [
    "!which zgoubi"
   ]
  },
  {
   "cell_type": "code",
   "execution_count": null,
   "metadata": {},
   "outputs": [],
   "source": [
    "!head /var/folders/r0/hjx4gm291nlgl0mk9wm703tm0000gn/T/tmpgbr19lpc/zgoubi.plt"
   ]
  },
  {
   "cell_type": "code",
   "execution_count": null,
   "metadata": {},
   "outputs": [],
   "source": [
    "zr.tracks.head(10)"
   ]
  },
  {
   "cell_type": "markdown",
   "metadata": {},
   "source": [
    "The tracking results have been automatically extracted and collected in a nice look `pandas.DataFrame`.\n",
    "\n",
    "The other typicall \"results files\" of `zgoubi` can be read as well:"
   ]
  },
  {
   "cell_type": "code",
   "execution_count": null,
   "metadata": {},
   "outputs": [],
   "source": [
    "# ! read in zgoubi/*.f grep PRINT  for all the supported PRINT commands"
   ]
  },
  {
   "cell_type": "code",
   "execution_count": null,
   "metadata": {},
   "outputs": [],
   "source": [
    "zr.srloss"
   ]
  },
  {
   "cell_type": "code",
   "execution_count": null,
   "metadata": {},
   "outputs": [],
   "source": [
    "zr.matrix"
   ]
  },
  {
   "cell_type": "code",
   "execution_count": null,
   "metadata": {},
   "outputs": [],
   "source": [
    "zr.optics"
   ]
  },
  {
   "cell_type": "markdown",
   "metadata": {},
   "source": [
    "But of course we'll have to work a bit harder for that.\n",
    "\n",
    "Let's try to get some Twiss parameters.\n",
    "\n",
    "Back to the input.\n",
    "\n",
    "The line is a list (actually a `deque`) of commands. Let's see how we can manipulate it."
   ]
  },
  {
   "cell_type": "code",
   "execution_count": null,
   "metadata": {},
   "outputs": [],
   "source": [
    "# ! zpop can read in .fai while zgoubi is running (for a long run). look at what's possible to do\n",
    "# FORTRAN flush command"
   ]
  },
  {
   "cell_type": "code",
   "execution_count": null,
   "metadata": {},
   "outputs": [],
   "source": [
    "len(zi)  # 6 commands at this point"
   ]
  },
  {
   "cell_type": "code",
   "execution_count": null,
   "metadata": {},
   "outputs": [],
   "source": [
    "zi.line.append(Matrix())"
   ]
  },
  {
   "cell_type": "code",
   "execution_count": null,
   "metadata": {},
   "outputs": [],
   "source": [
    "list(filter(lambda _: _.LABEL1 == 'QD', zi))"
   ]
  },
  {
   "cell_type": "code",
   "execution_count": null,
   "metadata": {},
   "outputs": [],
   "source": [
    "zi.replace('BUNCH', Objet5('BUNCH', BORO=k.brho))"
   ]
  },
  {
   "cell_type": "markdown",
   "metadata": {},
   "source": [
    "This worked as expected. Let's run it again."
   ]
  },
  {
   "cell_type": "code",
   "execution_count": null,
   "metadata": {},
   "outputs": [],
   "source": [
    "z.cleanup()\n",
    "zr = z(zi).collect()"
   ]
  },
  {
   "cell_type": "markdown",
   "metadata": {},
   "source": [
    "We would like to see if this worked, but without scrolling through the entire output..."
   ]
  },
  {
   "cell_type": "code",
   "execution_count": null,
   "metadata": {},
   "outputs": [],
   "source": [
    "# BUGG zi.zgoubi_index('QD')"
   ]
  },
  {
   "cell_type": "code",
   "execution_count": null,
   "metadata": {},
   "outputs": [],
   "source": [
    "print('\\n'.join(zi[Matrix][0].output[0][1]))"
   ]
  },
  {
   "cell_type": "code",
   "execution_count": null,
   "metadata": {},
   "outputs": [],
   "source": [
    "zr.matrix#.at[0, 'R11']"
   ]
  },
  {
   "cell_type": "markdown",
   "metadata": {},
   "source": [
    "**Exercice**: go back and adapt the FODO example to obtain a stable solution."
   ]
  },
  {
   "cell_type": "markdown",
   "metadata": {},
   "source": [
    "### Visualization with Zgoubidoo"
   ]
  },
  {
   "cell_type": "markdown",
   "metadata": {},
   "source": [
    "Zgoubidoo offers default visualization to plot beamlines, tracking data, etc. Let's have a look."
   ]
  },
  {
   "cell_type": "code",
   "execution_count": null,
   "metadata": {},
   "outputs": [],
   "source": [
    "zi.plot()"
   ]
  },
  {
   "cell_type": "markdown",
   "metadata": {},
   "source": [
    "OK... what is this \"survey\" thing?\n",
    "\n",
    "All elements of a Zgoubidoo beamline are positionned with respect to a given coordinates frame. The survey operation consists in associating a global reference frame with the beamline."
   ]
  },
  {
   "cell_type": "code",
   "execution_count": null,
   "metadata": {},
   "outputs": [],
   "source": [
    "zi.survey()"
   ]
  },
  {
   "cell_type": "code",
   "execution_count": null,
   "metadata": {},
   "outputs": [],
   "source": [
    "zi.QD.entry.x"
   ]
  },
  {
   "cell_type": "code",
   "execution_count": null,
   "metadata": {},
   "outputs": [],
   "source": [
    "zi.QD.entry.get_rotation_matrix()"
   ]
  },
  {
   "cell_type": "markdown",
   "metadata": {},
   "source": [
    "Let's make some nice plots..."
   ]
  },
  {
   "cell_type": "code",
   "execution_count": null,
   "metadata": {},
   "outputs": [],
   "source": [
    "artist = zgoubidoo.vis.ZgoubidooPlotlyArtist()\n",
    "artist.plot_cartouche(beamline=zi, vertical_position=1.1)\n",
    "artist.render()"
   ]
  },
  {
   "cell_type": "markdown",
   "metadata": {},
   "source": [
    "Let's modify the input to improve the plotting. The following example will:\n",
    "\n",
    " - illustrate how to add more elements to the input;\n",
    " - illustrate how one can misalign elements."
   ]
  },
  {
   "cell_type": "code",
   "execution_count": null,
   "metadata": {},
   "outputs": [],
   "source": [
    "kin = zgoubidoo.Kinematics(130*_.MeV)\n",
    "zi.survey(with_reference_trajectory=True, reference_kinematics=kin)\n",
    "artist = zgoubidoo.vis.ZgoubidooPlotlyArtist()\n",
    "artist.plot_cartouche(beamline=zi, vertical_position=1.1)\n",
    "artist.render()"
   ]
  },
  {
   "cell_type": "code",
   "execution_count": null,
   "metadata": {},
   "outputs": [],
   "source": [
    "qf = Quadrupole('QF', XL=1*_.m, B0=0.1 * _.tesla, ALE=5*_.degree, KPOS=1)\n",
    "qd = Quadrupole('QD', XL=1*_.m, B0=-0.05 * _.tesla, YCE=10*_.cm, KPOS=2)\n",
    "\n",
    "zi = zgoubidoo.Input(name='FODO', line=[\n",
    "    Objet2('BUNCH', BORO=k.brho),\n",
    "    Proton(),\n",
    "    qf,\n",
    "    Drift(XL=1 * _.m),\n",
    "    qd,\n",
    "    Drift(XL=1 * _.m),\n",
    "    Multipole(XL=1 * _.m, B1=5 * _.kilogauss),\n",
    "])\n",
    "zi.survey()\n",
    "zi.IL=2\n",
    "#zi.XPAS = 0.01 * _.m  # Note that the parameters of all the elements in the input can be set with a single command\n",
    "z = zgoubidoo.Zgoubi()\n",
    "zr = z(zi).collect()\n",
    "\n",
    "kin = zgoubidoo.Kinematics(k.brho)\n",
    "d = zi.survey(with_reference_trajectory=True, reference_kinematics=kin, output=True)\n",
    "artist = zgoubidoo.vis.ZgoubidooPlotlyArtist()\n",
    "artist.plot_cartouche(beamline=zi, vertical_position=1.1)\n",
    "\n",
    "artist.scatter(x = zr.tracks_global['S'], \n",
    "               y = zr.tracks_global['YG'])\n",
    "artist.render()"
   ]
  },
  {
   "cell_type": "code",
   "execution_count": null,
   "metadata": {},
   "outputs": [],
   "source": [
    "artist = zgoubidoo.vis.ZgoubidooPlotlyArtist()\n",
    "artist.plot_beamline(beamline=zi)\n",
    "\n",
    "artist.scatter(x = zr.tracks_global['XG'], \n",
    "               y = zr.tracks_global['YG'])\n",
    "artist.render()"
   ]
  },
  {
   "cell_type": "markdown",
   "metadata": {},
   "source": [
    "At the end of a Zgoubi run it is possible to save the input file and one or more output files to a permanent directory (by default Zgoubidoo runs everything in temporary directories)."
   ]
  },
  {
   "cell_type": "code",
   "execution_count": null,
   "metadata": {},
   "outputs": [],
   "source": [
    "zr.save(destination='.', what=['zgoubi.dat', 'zgoubi.res', 'zgoubi.log'])"
   ]
  },
  {
   "cell_type": "markdown",
   "metadata": {},
   "source": [
    "## Tracking on multi-core machines"
   ]
  },
  {
   "cell_type": "markdown",
   "metadata": {},
   "source": [
    "`zgoubi` itself is purely single process, single thread. However, `zgoubidoo` makes it easy to track particles on multi-core machines. Doing so with `zgoubidoo` is totaly transparent for the user, at the time of the input preparation and at the time of the collection of the results.\n",
    "\n",
    "To illustrate this, let's reuse our previous input, but this time with a real bunch. This is so common that `zgoubidoo` provides an abstraction layer on top of the `zgoubi` *objets*."
   ]
  },
  {
   "cell_type": "markdown",
   "metadata": {},
   "source": [
    "### Using `zgoubidoo` beams"
   ]
  },
  {
   "cell_type": "markdown",
   "metadata": {},
   "source": [
    "`zgoubidoo` provides different subclasses of `zgoubidoo.commands.beam.Beam` to suit specific needs. Here we will use the `BeamZgoubiDistribution` "
   ]
  },
  {
   "cell_type": "code",
   "execution_count": null,
   "metadata": {},
   "outputs": [],
   "source": [
    "my_bunch = BeamZgoubiDistribution('BUNCH', kinematics=k, particle=Proton, IMAX=9990)\n",
    "my_bunch"
   ]
  },
  {
   "cell_type": "code",
   "execution_count": null,
   "metadata": {},
   "outputs": [],
   "source": [
    "qf = Quadrupole('QF', XL=1*_.m, B0=0.1 * _.tesla, ALE=5*_.degree, KPOS=1)\n",
    "qd = Quadrupole('QD', XL=1*_.m, B0=-0.05 * _.tesla, YCE=10*_.cm, KPOS=2)\n",
    "\n",
    "zi = zgoubidoo.Input(name='FODO', line=[\n",
    "    my_bunch,\n",
    "    qf,\n",
    "    Drift(XL=1 * _.m), \n",
    "    qd,\n",
    "    Drift(XL=1 * _.m),\n",
    "    Marker('M1')\n",
    "])\n",
    "\n",
    "zi.XPAS = 1.0 * _.cm  # Note that the parameters of all the elements in the input can be set with a single command"
   ]
  },
  {
   "cell_type": "markdown",
   "metadata": {},
   "source": [
    "Let's run `zgoubi` and track the distribution and check how long it takes."
   ]
  },
  {
   "cell_type": "code",
   "execution_count": null,
   "metadata": {},
   "outputs": [],
   "source": [
    "# %%timeit -n 1 -r 1\n",
    "z = zgoubidoo.Zgoubi()\n",
    "zr = z(zi).collect()"
   ]
  },
  {
   "cell_type": "markdown",
   "metadata": {},
   "source": [
    "That's about 20 seconds for 1e4 particules. The results (in this case the tracking data) are collected automatically:"
   ]
  },
  {
   "cell_type": "code",
   "execution_count": null,
   "metadata": {},
   "outputs": [],
   "source": [
    "print(zr.tracks.shape)\n",
    "zr.tracks.head(5)"
   ]
  },
  {
   "cell_type": "markdown",
   "metadata": {},
   "source": [
    "OK, now let's try again but using the true power of our multi-cores machines.\n",
    "\n",
    "To that end `zgoubidoo` introduces the concept of **slices**. A given bunch (beam) will be divided in multiple slices. Each slice will be run by its own instance of `zgoubi`, in parallel."
   ]
  },
  {
   "cell_type": "code",
   "execution_count": null,
   "metadata": {},
   "outputs": [],
   "source": [
    "my_bunch.slices = 4"
   ]
  },
  {
   "cell_type": "code",
   "execution_count": null,
   "metadata": {},
   "outputs": [],
   "source": [
    "# %%timeit -n 1 -r 1\n",
    "z = zgoubidoo.Zgoubi()\n",
    "zr = z(zi).collect()"
   ]
  },
  {
   "cell_type": "markdown",
   "metadata": {},
   "source": [
    "As expected we gained almost a factor 4!\n",
    "\n",
    "And all the results from the 4 runs are collected together:"
   ]
  },
  {
   "cell_type": "code",
   "execution_count": null,
   "metadata": {},
   "outputs": [],
   "source": [
    "print(zr.tracks.shape)\n",
    "zr.tracks.head(5)"
   ]
  },
  {
   "cell_type": "markdown",
   "metadata": {},
   "source": [
    "### Parametric scans"
   ]
  },
  {
   "cell_type": "markdown",
   "metadata": {},
   "source": [
    "TODO"
   ]
  },
  {
   "cell_type": "markdown",
   "metadata": {},
   "source": [
    "## Importing MAD-X sequences"
   ]
  },
  {
   "cell_type": "markdown",
   "metadata": {},
   "source": [
    "Zgoubidoo offers different interfaces to automatically load and convert MAD-X Twiss sequences. This section illustrates how this can be done using the LHeC as an example.\n",
    "\n",
    "Zgoubidoo provides a `sequences` module aimed at abstracting the concepts of 'sequences' and 'beamlines'. A `zgoubidoo.sequences.Sequence` object is *not* a Zgoubi input: it is a generic sequence holding information to recreate a beamline. It is also 'code-independent': the information contained in the sequence can be used by 'converters' to convert the sequence onto a valid Zgoubi or MAD-X sequence.\n",
    "\n",
    "The `Sequence` class provides different 'loaders' to initialize the sequence."
   ]
  },
  {
   "cell_type": "code",
   "execution_count": null,
   "metadata": {},
   "outputs": [],
   "source": [
    "lhec_sequence = zgoubidoo.sequences.Sequence.from_madx_twiss(\n",
    "    filename='test45degspreader.outx',\n",
    "    path='ressources/'\n",
    ")"
   ]
  },
  {
   "cell_type": "markdown",
   "metadata": {},
   "source": [
    "The loader create a specialized `TwissSequence` object:"
   ]
  },
  {
   "cell_type": "code",
   "execution_count": null,
   "metadata": {},
   "outputs": [],
   "source": [
    "type(lhec_sequence)"
   ]
  },
  {
   "cell_type": "markdown",
   "metadata": {},
   "source": [
    "The loaders will load not only the main Twiss table, but will also read the metadata and instanciate other quantities. The main Twiss table can be used as a `pandas.DataFrame`."
   ]
  },
  {
   "cell_type": "code",
   "execution_count": null,
   "metadata": {},
   "outputs": [],
   "source": [
    "lhec_sequence.df.head(5)"
   ]
  },
  {
   "cell_type": "markdown",
   "metadata": {},
   "source": [
    "The Twiss headers are also available in the form of a `pandas.Series`:"
   ]
  },
  {
   "cell_type": "code",
   "execution_count": null,
   "metadata": {},
   "outputs": [],
   "source": [
    "lhec_sequence.metadata.data"
   ]
  },
  {
   "cell_type": "markdown",
   "metadata": {},
   "source": [
    "A `Kinematics` object is automatically infered from the Twiss headers."
   ]
  },
  {
   "cell_type": "code",
   "execution_count": null,
   "metadata": {},
   "outputs": [],
   "source": [
    "lhec_sequence.metadata.kinematics"
   ]
  },
  {
   "cell_type": "markdown",
   "metadata": {},
   "source": [
    "Same for the particle type."
   ]
  },
  {
   "cell_type": "code",
   "execution_count": null,
   "metadata": {},
   "outputs": [],
   "source": [
    "lhec_sequence.metadata.particle"
   ]
  },
  {
   "cell_type": "markdown",
   "metadata": {},
   "source": [
    "Also, Zgoubidoo provides a `BetaBlock` class that holds a set of Twiss parameters. The sequence will contain the 'beta0' block:"
   ]
  },
  {
   "cell_type": "code",
   "execution_count": null,
   "metadata": {},
   "outputs": [],
   "source": [
    "lhec_sequence.betablock"
   ]
  },
  {
   "cell_type": "markdown",
   "metadata": {},
   "source": [
    "Now that we have the sequence, we need to convert it to a Zgoubi input. This is equallly easy to do.\n",
    "\n",
    "Note that the beam definition is automatically included, with the correct initial Twiss parameters, correct particle type and correct BRHO."
   ]
  },
  {
   "cell_type": "code",
   "execution_count": null,
   "metadata": {},
   "outputs": [],
   "source": [
    "zi_twiss = zgoubidoo.Input.from_sequence(lhec_sequence)"
   ]
  },
  {
   "cell_type": "code",
   "execution_count": null,
   "metadata": {},
   "outputs": [],
   "source": [
    "zi_twiss.beam"
   ]
  },
  {
   "cell_type": "markdown",
   "metadata": {},
   "source": [
    "## Real machine Twiss computations"
   ]
  },
  {
   "cell_type": "markdown",
   "metadata": {},
   "source": [
    "Let's add a Zgoubi 'OPTICS' keyword and see if we can reproduce the MAD-X Twiss."
   ]
  },
  {
   "cell_type": "code",
   "execution_count": null,
   "metadata": {},
   "outputs": [],
   "source": [
    "#zi_twiss.XPAS = 20 * _.cm\n",
    "zi_twiss.insert_after(zi_twiss.beam, Optics())\n",
    "zi_twiss.survey(output=False, with_reference_trajectory=True);"
   ]
  },
  {
   "cell_type": "code",
   "execution_count": null,
   "metadata": {},
   "outputs": [],
   "source": [
    "z = zgoubidoo.Zgoubi()\n",
    "zr_twiss = z(zi_twiss).collect()"
   ]
  },
  {
   "cell_type": "code",
   "execution_count": null,
   "metadata": {},
   "outputs": [],
   "source": [
    "artist = zgoubidoo.vis.ZgoubidooPlotlyArtist()\n",
    "artist.plot_twiss(zi_twiss, zr_twiss.optics, lhec_sequence.df)\n",
    "artist.plot_cartouche(zi_twiss)"
   ]
  },
  {
   "cell_type": "code",
   "execution_count": null,
   "metadata": {},
   "outputs": [],
   "source": [
    "# Same plot but using matplotlib (broken)\n",
    "\n",
    "# fig = plt.figure(figsize=(15, 7))\n",
    "# ax = fig.add_subplot(111)\n",
    "# artist = zgoubidoo.vis.ZgoubidooPlotlyArtist(ax=ax)\n",
    "# zgoubidoo.vis.cartouche(line=zi_twiss, artist=artist)\n",
    "\n",
    "# ax.plot(lhec_ir.df['S'], lhec_ir.df['BETX'], 'b-', ms=10, label='MAD-X BETX')\n",
    "# ax.plot(zr_twiss.optics['S'], zr_twiss.optics['BETA11'], 'bx', ms=7, label='Zgoubi BETA11')\n",
    "\n",
    "# ax.plot(lhec_ir.df['S'], lhec_ir.df['BETY'], 'r-', ms=10, label='MAD-X BETY')\n",
    "# ax.plot(zr_twiss.optics['S'], zr_twiss.optics['BETA22'], 'rx', ms=7, label='Zgoubi BETA22')\n",
    "\n",
    "\n",
    "# ax2 = ax.twinx()\n",
    "# ax2.plot(lhec_ir.df['S'], lhec_ir.df['DX'], 'g-', ms=10, label='MAD-X DX')\n",
    "# ax2.plot(zr_twiss.optics['S'], zr_twiss.optics['DISP1'], 'gx', ms=7, label='Zgoubi DISP1')\n",
    "\n",
    "# ax2.plot(lhec_ir.df['S'], lhec_ir.df['DY'], 'm-', ms=10, label='MAD-X DY')\n",
    "# ax2.plot(zr_twiss.optics['S'], zr_twiss.optics['DISP3'], 'mx', ms=7, label='Zgoubi DISP3')\n",
    "\n",
    "# ax.legend(loc=6, fontsize=12)\n",
    "# ax2.legend(loc=5, fontsize=12)\n",
    "# artist.ax.grid(True, alpha=0.2)\n",
    "# artist.ax.set_xlabel(\"S (m)\", fontsize=20)\n",
    "# artist.ax.set_ylabel(\"Beta function (m)\", fontsize=20)\n",
    "# artist.ax.tick_params(axis='both', which='major', labelsize=18)\n",
    "# ax2.set_ylabel(\"Dispersion (m)\", fontsize=20)\n",
    "# ax2.tick_params(axis='both', which='major', labelsize=18)"
   ]
  },
  {
   "cell_type": "markdown",
   "metadata": {},
   "source": [
    "Encouraging but not fully correct.\n",
    "\n",
    "The yellow-colored magnets are vertical bends, rotated using a `CHANGREF` Zgoubi keyword. The Zgoubi tracking is done in a local coordinate system for each magnet. Therefore Zgoubi does not \"understand\" that the axes are swapped when rotating the magnet to make it a vertical bend. As a consequence, the reconstruction of the transfer matrix, and thus the computation of the Twiss parameters becomes incorrect.\n",
    "\n",
    "The same happens for the vertical and horizontal beta-functions.\n",
    "\n",
    "We can also observe what happens with the alpha-functions."
   ]
  },
  {
   "cell_type": "code",
   "execution_count": null,
   "metadata": {},
   "outputs": [],
   "source": [
    "artist = zgoubidoo.vis.ZgoubidooPlotlyArtist()\n",
    "artist.plot_twiss(zi_twiss, zr_twiss.optics, lhec_sequence.df, alpha=True, beta=False)\n",
    "artist.plot_cartouche(zi_twiss)"
   ]
  },
  {
   "cell_type": "code",
   "execution_count": null,
   "metadata": {},
   "outputs": [],
   "source": [
    "# Same but using matplotlib (broken)\n",
    "\n",
    "\n",
    "# fig = plt.figure(figsize=(15, 7))\n",
    "# ax = fig.add_subplot(111)\n",
    "# artist = zgoubidoo.vis.ZgoubiMpl(ax=ax)\n",
    "# zgoubidoo.vis.cartouche(line=zi_twiss, artist=artist)\n",
    "\n",
    "# ax.plot(lhec_ir.df['S'], lhec_ir.df['ALFX'], 'b-', ms=10, label='MAD-X ALPHAX')\n",
    "# ax.plot(zr_twiss.optics['S'], zr_twiss.optics['BETA11'], 'bx', ms=7, label='Zgoubi ALPHA11')\n",
    "\n",
    "# ax.plot(lhec_ir.df['S'], lhec_ir.df['ALFY'], 'b-', ms=10, label='MAD-X ALPHAY')\n",
    "# ax.plot(zr_twiss.optics['S'], zr_twiss.optics['BETA22'], 'bx', ms=7, label='Zgoubi ALPHA22')\n",
    "\n",
    "# ax.legend(loc=3, fontsize=12)\n",
    "# artist.ax.grid(True, alpha=0.2)\n",
    "# artist.ax.set_xlabel(\"S (m)\", fontsize=20)\n",
    "# artist.ax.set_ylabel(\"Alpha function\", fontsize=20)\n",
    "# artist.ax.tick_params(axis='both', which='major', labelsize=18)\n",
    "\n",
    "# #ax.text(100.0, 1500.0, f\"{lhec_ir.table.loc['B0', 'ALFX']}\", fontsize=12)\n",
    "# #ax.text(100.0, 1300.0, f\"\"\"{tw.query(\"LABEL1 == 'IP'\").iloc[-1]['ALPHA11']:.4f}\"\"\", fontsize=12)"
   ]
  },
  {
   "cell_type": "markdown",
   "metadata": {},
   "source": [
    "**Not cool!**\n",
    "\n",
    "Can we do better?\n",
    "\n",
    "Zgoubidoo is able to compute the Twiss parameters in the same way than Zgoubi:\n",
    "- the transfer matrix is computed using finite differences\n",
    "- the Twiss parameters are reconstructed\n",
    "\n",
    "However, because of the powerful `survey` module in Zgoubidoo, the location and orientation of every element is known. Therefore, when reading the tracking data, Zgoubidoo will automatically convert the coordinates to the global coordinate system (remember, that's the one that we defined when doing the survey). The angles are also converted, so in the end all the Twiss paraters will behave correctly; even for crazy lattices with arbitraty rotations.\n",
    "\n",
    "First we need to compute the transfer matrix."
   ]
  },
  {
   "cell_type": "code",
   "execution_count": null,
   "metadata": {},
   "outputs": [],
   "source": [
    "zr_twiss.tracks.columns"
   ]
  },
  {
   "cell_type": "code",
   "execution_count": null,
   "metadata": {},
   "outputs": [],
   "source": [
    "M = zgoubidoo.twiss.compute_transfer_matrix(beamline=zi_twiss, tracks=zr_twiss.tracks_frenet)\n",
    "M.head(5)"
   ]
  },
  {
   "cell_type": "markdown",
   "metadata": {},
   "source": [
    "Then we compute the Twiss parameters (note that the `BetaBlock` is used here):"
   ]
  },
  {
   "cell_type": "code",
   "execution_count": null,
   "metadata": {},
   "outputs": [],
   "source": [
    "zgoubidoo_twiss = zgoubidoo.twiss.compute_twiss(matrix=M, twiss_init=lhec_sequence.betablock)\n",
    "zgoubidoo_twiss.head(5)"
   ]
  },
  {
   "cell_type": "markdown",
   "metadata": {},
   "source": [
    "We should now be able to plot everything."
   ]
  },
  {
   "cell_type": "code",
   "execution_count": null,
   "metadata": {},
   "outputs": [],
   "source": [
    "artist = zgoubidoo.vis.ZgoubidooPlotlyArtist()\n",
    "artist.plot_twiss(zi_twiss, zgoubidoo_twiss, lhec_sequence.df)\n",
    "artist.plot_cartouche(zi_twiss)"
   ]
  },
  {
   "cell_type": "code",
   "execution_count": null,
   "metadata": {},
   "outputs": [],
   "source": [
    "# Same plot but using matplotlib (broken)\n",
    "\n",
    "# fig = plt.figure(figsize=(15, 7))\n",
    "# ax = fig.add_subplot(111)\n",
    "# artist = zgoubidoo.vis.ZgoubiMpl(ax=ax)\n",
    "# zgoubidoo.vis.cartouche(line=zi_twiss, artist=artist)\n",
    "\n",
    "# ax.plot(zgoubidoo_twiss['S'], zgoubidoo_twiss['BETA11'], 'b-', ms=0.5, label='Zgoubidoo BETA11')\n",
    "# ax.plot(lhec_ir.df['S'] + zgoubidoo_twiss['S'].min(), lhec_ir.df['BETX'], 'b+', ms=10, label='MAD-X BETX')\n",
    "# #ax.plot(zr_twiss.optics['S'] + tw['S'].min(), zr_twiss.optics['BETA11'], 'bx', ms=7, label='Zgoubi BETA11')\n",
    "\n",
    "# ax.plot(zgoubidoo_twiss['S'], zgoubidoo_twiss['BETA22'], 'r-', ms=0.5, label='Zgoubidoo BETA22')\n",
    "# ax.plot(lhec_ir.df['S'] + zgoubidoo_twiss['S'].min(), lhec_ir.df['BETY'], 'r+', ms=10, label='MAD-X BETY')\n",
    "# #ax.plot(zr_twiss.optics['S'] + tw['S'].min(), zr_twiss.optics['BETA22'], 'rx', ms=7, label='Zgoubi BETA22')\n",
    "\n",
    "\n",
    "# ax2 = ax.twinx()\n",
    "# ax2.plot(zgoubidoo_twiss['S'], zgoubidoo_twiss['DISP1'], 'g-.', ms=0.5, label='Zgoubidoo DISP1')\n",
    "# ax2.plot(lhec_ir.df['S'] + zgoubidoo_twiss['S'].min(), lhec_ir.df['DX'], 'g+', ms=10, label='MAD-X DX')\n",
    "# #ax2.plot(zr_twiss.optics['S'] + tw['S'].min(), zr_twiss.optics['DISP1'], 'gx', ms=7, label='Zgoubi DISP1')\n",
    "\n",
    "# ax2.plot(zgoubidoo_twiss['S'], zgoubidoo_twiss['DISP3'], 'm-.', ms=0.5, label='Zgoubidoo DISP3')\n",
    "# ax2.plot(lhec_ir.df['S'] + zgoubidoo_twiss['S'].min(), lhec_ir.df['DY'], 'm+', ms=10, label='MAD-X DY')\n",
    "# #ax2.plot(zr_twiss.optics['S'] + tw['S'].min(), zr_twiss.optics['DISP3'], 'mx', ms=7, label='Zgoubi DISP3')\n",
    "\n",
    "# ax.legend(loc=6, fontsize=12)\n",
    "# ax2.legend(loc=5, fontsize=12)\n",
    "# artist.ax.grid(True, alpha=0.2)\n",
    "# artist.ax.set_xlabel(\"S (m)\", fontsize=20)\n",
    "# artist.ax.set_ylabel(\"Beta function (m)\", fontsize=20)\n",
    "# artist.ax.tick_params(axis='both', which='major', labelsize=18)\n",
    "# ax2.set_ylabel(\"Dispersion (m)\", fontsize=20)\n",
    "# ax2.tick_params(axis='both', which='major', labelsize=18)"
   ]
  },
  {
   "cell_type": "code",
   "execution_count": null,
   "metadata": {},
   "outputs": [],
   "source": []
  }
 ],
 "metadata": {
  "kernelspec": {
   "display_name": "Python 3 (Homebrew)",
   "language": "python",
   "name": "python3"
  },
  "language_info": {
   "codemirror_mode": {
    "name": "ipython",
    "version": 3
   },
   "file_extension": ".py",
   "mimetype": "text/x-python",
   "name": "python",
   "nbconvert_exporter": "python",
   "pygments_lexer": "ipython3",
   "version": "3.8.3"
  }
 },
 "nbformat": 4,
 "nbformat_minor": 4
}
