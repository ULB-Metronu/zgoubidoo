{
 "cells": [
  {
   "cell_type": "markdown",
   "id": "a33a2bb9",
   "metadata": {},
   "source": [
    "# RACCAM studies using Zgoubidoo"
   ]
  },
  {
   "cell_type": "code",
   "execution_count": null,
   "id": "c4a682fd-6c86-4c2d-9484-c7c6f0d9d9c2",
   "metadata": {},
   "outputs": [],
   "source": [
    "import copy\n",
    "import numpy as np\n",
    "from zgoubidoo.commands import *\n",
    "from zgoubidoo import ureg as _ureg"
   ]
  },
  {
   "cell_type": "markdown",
   "id": "f515b416-1e88-4bb5-92f4-b43bce49df6d",
   "metadata": {},
   "source": [
    "## Define the beam properties"
   ]
  },
  {
   "cell_type": "markdown",
   "id": "c2d37b32-e2c3-4973-9888-c39facc53a50",
   "metadata": {},
   "source": [
    "### Kinematics"
   ]
  },
  {
   "cell_type": "code",
   "execution_count": null,
   "id": "68b03eed-0104-48fe-b375-be4a3a20bbee",
   "metadata": {},
   "outputs": [],
   "source": [
    "kin_nom = zgoubidoo.Kinematics(180 * _ureg.MeV)\n",
    "\n",
    "kin_min = zgoubidoo.Kinematics(17 * _ureg.MeV)\n",
    "kin_max = zgoubidoo.Kinematics(180 * _ureg.MeV)\n",
    "\n",
    "DR_min = (kin_min.brho / kin_nom.brho).magnitude\n",
    "DR_max = (kin_max.brho / kin_nom.brho).magnitude"
   ]
  },
  {
   "cell_type": "markdown",
   "id": "345569d1-29de-4f64-a3a2-9ff1f3e917ac",
   "metadata": {},
   "source": [
    "### Beam"
   ]
  },
  {
   "cell_type": "code",
   "execution_count": null,
   "id": "d72540bf-f808-47cf-83a8-390932e56708",
   "metadata": {},
   "outputs": [],
   "source": [
    "ref_beam = Objet2(\"BUNCH\", BORO=kin_nom.brho)\n",
    "ref_beam.add(np.array([[0, 0, 0, 0, 1.0]]));"
   ]
  },
  {
   "cell_type": "markdown",
   "id": "bb11716d-36f4-4f8b-b31e-c984ddcb9f47",
   "metadata": {
    "tags": []
   },
   "source": [
    "## Create the spiral FFAG magnet"
   ]
  },
  {
   "cell_type": "markdown",
   "id": "2d8c51e4-ce49-49be-9f03-c6df879012b2",
   "metadata": {},
   "source": [
    "### Set the parameters as in the reference"
   ]
  },
  {
   "cell_type": "code",
   "execution_count": null,
   "id": "a2d1dba2-b8a9-4b5a-8e32-67359e55685c",
   "metadata": {},
   "outputs": [],
   "source": [
    "NCells = 8\n",
    "FieldIndex = 4.415\n",
    "SpiralAngle = 50.36\n",
    "Radius = 3.48 * _ureg.m\n",
    "BField = 1.5\n",
    "BendAngle = 45 * _ureg.degrees\n",
    "SectorAngle = 17.1\n",
    "Kappa = -1\n",
    "Gap = 3\n",
    "Omega_E = np.degrees(-0.6)\n",
    "Omega_S = BendAngle.m_as(\"degrees\")"
   ]
  },
  {
   "cell_type": "code",
   "execution_count": null,
   "id": "5728bbbb-adeb-45bc-b86e-23cc04f1a9db",
   "metadata": {},
   "outputs": [],
   "source": [
    "ffa_cell = FFAGSpirale(\n",
    "    \"MY-FFAG-SPI\",\n",
    "    IL=2,\n",
    "    N=1,  # One magnet in the Zgoubi element\n",
    "    AT=BendAngle,\n",
    "    RM=Radius,\n",
    "    BZ0=[BField] * _ureg.tesla,\n",
    "    ACN=[11.459155902616462] * _ureg.degrees,\n",
    "    K=[FieldIndex],\n",
    "    K_E=[Kappa],\n",
    "    K_S=[Kappa],\n",
    "    C0_E=[0.1455],\n",
    "    C1_E=[2.267],\n",
    "    C2_E=[-0.6395],\n",
    "    C3_E=[1.1558],\n",
    "    C0_S=[0.1455],\n",
    "    C1_S=[2.267],\n",
    "    C2_S=[-0.6395],\n",
    "    C3_S=[1.1558],\n",
    "    OMEGA_E=[SectorAngle / 2] * _ureg.degree,\n",
    "    XI_E=[SpiralAngle] * _ureg.degree,\n",
    "    OMEGA_S=[-SectorAngle / 2] * _ureg.degree,\n",
    "    XI_S=[SpiralAngle] * _ureg.degree,\n",
    "    G0_E=[Gap] * _ureg.cm,\n",
    "    G0_S=[Gap] * _ureg.cm,\n",
    "    KIRD=2,\n",
    "    APERTURE_LEFT=10 * _ureg.cm,\n",
    "    APERTURE_RIGHT=80 * _ureg.cm,\n",
    "    POLE_WIDTH=200 * _ureg.cm,\n",
    ")"
   ]
  },
  {
   "cell_type": "markdown",
   "id": "66886ee6",
   "metadata": {},
   "source": [
    "### Create the Zgoubi input"
   ]
  },
  {
   "cell_type": "code",
   "execution_count": null,
   "id": "a6736d10-72e7-4afd-b8ce-7110ec585bef",
   "metadata": {},
   "outputs": [],
   "source": [
    "zi = zgoubidoo.Input(\n",
    "    name=\"SPIRAL\",\n",
    "    line=[\n",
    "        ref_beam,\n",
    "        ffa_cell,\n",
    "    ],\n",
    ")\n",
    "zi.XPAS = 5 * _ureg.mm\n",
    "zi.survey(reference_frame=zgoubidoo.Frame(), with_reference_trajectory=True, reference_kinematics=kin_nom);"
   ]
  },
  {
   "cell_type": "markdown",
   "id": "64206b2a",
   "metadata": {},
   "source": [
    "### Plotting"
   ]
  },
  {
   "cell_type": "code",
   "execution_count": null,
   "id": "56cd0a4c-1fb2-42d0-87ce-d078f71556fe",
   "metadata": {},
   "outputs": [],
   "source": [
    "artist = zgoubidoo.vis.ZgoubidooPlotlyArtist()\n",
    "artist.fig[\"layout\"][\"xaxis\"][\"title\"] = \"X (m)\"\n",
    "artist.fig[\"layout\"][\"yaxis\"][\"title\"] = \"Y (m)\"\n",
    "artist.fig[\"layout\"][\"width\"] = 600\n",
    "artist.fig[\"layout\"][\"height\"] = 500\n",
    "\n",
    "artist.fig[\"layout\"][\"margin\"] = dict(l=0, r=0, b=0, t=0)\n",
    "artist.fig[\"layout\"][\"yaxis\"][\"scaleanchor\"] = \"x\"\n",
    "artist.fig[\"layout\"][\"yaxis\"][\"scaleratio\"] = 1\n",
    "\n",
    "artist.plot_beamline(beamline=zi, with_frames=True, with_apertures=True, with_map=True)\n",
    "artist.render()"
   ]
  },
  {
   "cell_type": "markdown",
   "id": "4d50f4d1-1b7b-4954-a5a1-859dbd54b5aa",
   "metadata": {},
   "source": [
    "## Perform a fit to find all closed orbits"
   ]
  },
  {
   "cell_type": "code",
   "execution_count": null,
   "id": "8cf0c71d-7187-4180-aa0d-4dbb108406ee",
   "metadata": {},
   "outputs": [],
   "source": [
    "fit = Fit2(\n",
    "    \"MY_FIT\",\n",
    "    PENALTY=1e-9,\n",
    "    ITERATIONS=9999,\n",
    "    PARAMS=[\n",
    "        Fit2.Parameter(line=zi, place=\"BUNCH\", parameter=Objet2.Y_, parameter_range=[-1000.0, 1000.0]),\n",
    "        Fit2.Parameter(line=zi, place=\"BUNCH\", parameter=Objet2.T_, parameter_range=[-1500.0, 1500.0]),\n",
    "    ],\n",
    "    CONSTRAINTS=[\n",
    "        Fit2.DifferenceEqualityConstraint(line=zi, place=\"#End\", variable=Fit2.FitCoordinates.Y, value=0.0),\n",
    "        Fit2.DifferenceEqualityConstraint(line=zi, place=\"#End\", variable=Fit2.FitCoordinates.T, value=0.0),\n",
    "    ],\n",
    ");"
   ]
  },
  {
   "cell_type": "code",
   "execution_count": null,
   "id": "dba89198-5224-480e-9379-29c3cab43bf8",
   "metadata": {},
   "outputs": [],
   "source": [
    "zi = zgoubidoo.Input(name=\"SPIRAL\", line=[ref_beam, ffa_cell, fit])\n",
    "zi.XPAS = 5 * _ureg.mm\n",
    "zi.survey(reference_frame=zgoubidoo.Frame(), with_reference_trajectory=True, reference_kinematics=kin_nom);"
   ]
  },
  {
   "cell_type": "markdown",
   "id": "dcb00857-7516-4539-858c-9f775269a532",
   "metadata": {
    "tags": []
   },
   "source": [
    "### Get the closed orbits"
   ]
  },
  {
   "cell_type": "code",
   "execution_count": null,
   "id": "bc7f9f56-50d2-49ee-b2a1-5c6a10dbd635",
   "metadata": {},
   "outputs": [],
   "source": [
    "energies = [17, 32, 60, 107, 180]\n",
    "dr_vals = [(zgoubidoo.Kinematics(i * _.MeV).brho / kin_nom.brho).magnitude for i in energies]"
   ]
  },
  {
   "cell_type": "code",
   "execution_count": null,
   "id": "ac468c2b-68c2-4e9b-9bc7-1c01dddd8b75",
   "metadata": {},
   "outputs": [],
   "source": [
    "orbits = []\n",
    "fit.clean_output_and_results()\n",
    "\n",
    "y0, t0 = -50 * _.cm, 100 * _.mrad\n",
    "\n",
    "i = 0\n",
    "for dr in dr_vals:\n",
    "    ref_beam = Objet2(\"BUNCH\", BORO=kin_nom.brho)\n",
    "    ref_beam.add(np.array([[y0.magnitude, t0.magnitude, 0, 0, dr]]))\n",
    "    zi.replace(\"BUNCH\", ref_beam)\n",
    "    zr = zgoubidoo.Zgoubi()(zi).collect()\n",
    "    # Use the previous values for the fit\n",
    "    y0 = fit.results[i][1].results.at[1, \"final\"]\n",
    "    t0 = fit.results[i][1].results.at[2, \"final\"]\n",
    "    orbits.append([y0.magnitude, t0.magnitude, 0, 0, dr])\n",
    "\n",
    "    res = float(fit.output[i][1][-1].replace(\" Fit reached penalty value   \", \"\"))\n",
    "\n",
    "    print(f\"Closed orbit for dr = {dr}: y={y0.magnitude}, t={t0.magnitude}, res={res}\")\n",
    "    i += 1"
   ]
  },
  {
   "cell_type": "code",
   "execution_count": null,
   "id": "567fa584-256a-4a18-a5c9-2d0a1852f527",
   "metadata": {},
   "outputs": [],
   "source": [
    "results_tracking = []\n",
    "zi = zgoubidoo.Input(name=\"SPIRAL\", line=[ref_beam, ffa_cell])\n",
    "zi.survey(reference_frame=zgoubidoo.Frame(), with_reference_trajectory=True, reference_kinematics=kin_nom);\n",
    "zi.XPAS = 5 * _ureg.mm\n",
    "for i, orb in enumerate(orbits):\n",
    "    ref_beam = Objet2(\"BUNCH\", BORO=kin_nom.brho)\n",
    "    ref_beam.add(np.array([orb]))\n",
    "    zi.replace(\"BUNCH\", ref_beam)\n",
    "    zr = zgoubidoo.Zgoubi()(zi).collect()\n",
    "\n",
    "    results_tracking.append([orbits[i][4], zr])"
   ]
  },
  {
   "cell_type": "markdown",
   "id": "3fabdda0",
   "metadata": {},
   "source": [
    "### Plotting"
   ]
  },
  {
   "cell_type": "code",
   "execution_count": null,
   "id": "5e2081b1-808b-4cf6-a0ea-5193a772b165",
   "metadata": {},
   "outputs": [],
   "source": [
    "layout = zgoubidoo.vis.ZgoubidooPlotlyArtist().layout\n",
    "colors = [\"red\", \"blue\", \"green\", \"magenta\", \"darkorange\"]"
   ]
  },
  {
   "cell_type": "code",
   "execution_count": null,
   "id": "1236ae2e-8cd6-4b89-a0d8-c16837fe6d8b",
   "metadata": {},
   "outputs": [],
   "source": [
    "artist = zgoubidoo.vis.ZgoubidooPlotlyArtist(layout=layout)\n",
    "\n",
    "artist.fig[\"layout\"][\"xaxis\"][\"title\"] = \"X (m)\"\n",
    "artist.fig[\"layout\"][\"yaxis\"][\"title\"] = \"Y (m)\"\n",
    "\n",
    "\n",
    "for i, results in enumerate(results_tracking):\n",
    "    ekin = np.round(zgoubidoo.Kinematics(kin_nom.brho * results[0]).ekin.m_as(\"MeV\"), 2)\n",
    "    artist.scatter(\n",
    "        x=results[1].tracks_global[\"XG\"],\n",
    "        y=results[1].tracks_global[\"YG\"],\n",
    "        line={\"width\": 2, \"color\": colors[i]},\n",
    "        mode=\"lines\",\n",
    "        name=f\"{np.round(ekin,2)} MeV\",\n",
    "    )\n",
    "\n",
    "artist.plot_beamline(beamline=zi, with_frames=False, with_apertures=True, with_map=False)\n",
    "artist.render()"
   ]
  },
  {
   "cell_type": "code",
   "execution_count": null,
   "id": "3ea597a0-0c48-46cd-bc34-acc7cdace67b",
   "metadata": {},
   "outputs": [],
   "source": [
    "artist = zgoubidoo.vis.ZgoubidooPlotlyArtist(layout=layout)\n",
    "\n",
    "artist.fig[\"layout\"][\"xaxis\"][\"title\"] = r\"$\\theta \\text{ (rad)}$\"\n",
    "artist.fig[\"layout\"][\"yaxis\"][\"title\"] = \"r (m)\"\n",
    "artist.fig[\"layout\"][\"xaxis\"][\"range\"] = [-0.6, 0.2]\n",
    "artist.fig[\"layout\"][\"yaxis\"][\"range\"] = [2.6, 3.55]\n",
    "\n",
    "\n",
    "for i, results in enumerate(results_tracking):\n",
    "    ekin = np.round(zgoubidoo.Kinematics(kin_nom.brho * results[0]).ekin.m_as(\"MeV\"), 2)\n",
    "    theta = results[1].tracks_frenet[\"ANGLE\"].values - 0.6\n",
    "    radius = results[1].tracks_frenet[\"R\"].values\n",
    "    radius = np.concatenate([radius, radius])\n",
    "\n",
    "    artist.scatter(\n",
    "        x=theta,\n",
    "        y=radius,\n",
    "        line={\"width\": 2, \"color\": colors[i]},\n",
    "        mode=\"lines\",\n",
    "        name=f\"{np.round(ekin,2)} MeV\",\n",
    "    )\n",
    "\n",
    "    artist.scatter(\n",
    "        x=[np.radians(0), np.radians(0)],\n",
    "        y=[2.6, 4],\n",
    "        line={\"color\": \"black\", \"dash\": \"dash\", \"width\": 1.2},\n",
    "        mode=\"lines\",\n",
    "        showlegend=False,\n",
    "    )\n",
    "\n",
    "artist.render()"
   ]
  },
  {
   "cell_type": "code",
   "execution_count": null,
   "id": "751860e0-b9a5-461d-b0d9-36d2a8e8f1e9",
   "metadata": {},
   "outputs": [],
   "source": [
    "artist = zgoubidoo.vis.ZgoubidooPlotlyArtist(layout=layout)\n",
    "\n",
    "artist.fig[\"layout\"][\"xaxis\"][\"title\"] = r\"$\\theta \\text{ (rad)}$\"\n",
    "artist.fig[\"layout\"][\"yaxis\"][\"title\"] = \"r (m)\"\n",
    "artist.fig[\"layout\"][\"xaxis\"][\"range\"] = [-0.6, 0.2]\n",
    "artist.fig[\"layout\"][\"yaxis\"][\"range\"] = [0, 1.6]\n",
    "\n",
    "\n",
    "for i, results in enumerate(results_tracking):\n",
    "    ekin = np.round(zgoubidoo.Kinematics(kin_nom.brho * results[0]).ekin.m_as(\"MeV\"), 2)\n",
    "    theta = results[1].tracks_frenet[\"ANGLE\"].values - 0.6\n",
    "\n",
    "    artist.scatter(\n",
    "        x=theta,\n",
    "        y=results[1].tracks_frenet[\"BZ\"] / 10,\n",
    "        line={\"width\": 2, \"color\": colors[i]},\n",
    "        mode=\"lines\",\n",
    "        name=f\"{np.round(ekin,2)} MeV\",\n",
    "    )\n",
    "\n",
    "    artist.scatter(\n",
    "        x=[0, 0], y=[0, 1.6], line={\"color\": \"black\", \"dash\": \"dash\", \"width\": 1.2}, mode=\"lines\", showlegend=False\n",
    "    )\n",
    "\n",
    "artist.render()"
   ]
  },
  {
   "cell_type": "markdown",
   "id": "d2233f94-f2f8-4885-8ac9-897d31faff40",
   "metadata": {
    "tags": []
   },
   "source": [
    "## Tracking in the ring"
   ]
  },
  {
   "cell_type": "markdown",
   "id": "4c590067-9b3a-45d2-8249-53d91fc3b051",
   "metadata": {},
   "source": [
    "### Create the ring"
   ]
  },
  {
   "cell_type": "code",
   "execution_count": null,
   "id": "36d14c10-c211-4042-b601-dac68521cdef",
   "metadata": {},
   "outputs": [],
   "source": [
    "zi = zgoubidoo.Input(\n",
    "    name=\"SPIRAL\",\n",
    "    line=[\n",
    "        ref_beam,\n",
    "        ffa_cell,\n",
    "        copy.copy(ffa_cell),\n",
    "        copy.copy(ffa_cell),\n",
    "        copy.copy(ffa_cell),\n",
    "        copy.copy(ffa_cell),\n",
    "        copy.copy(ffa_cell),\n",
    "        copy.copy(ffa_cell),\n",
    "        copy.copy(ffa_cell),\n",
    "    ],\n",
    ")\n",
    "zi.XPAS = 5 * _ureg.mm\n",
    "zi.IL = 2\n",
    "zi.survey(reference_frame=zgoubidoo.Frame(), with_reference_trajectory=True, reference_kinematics=kin_nom);"
   ]
  },
  {
   "cell_type": "code",
   "execution_count": null,
   "id": "65135f39-7e65-4fda-bd17-55636c2cc415",
   "metadata": {},
   "outputs": [],
   "source": [
    "results_ring = []\n",
    "for i, orb in enumerate(orbits):\n",
    "    ref_beam = Objet2(\"BUNCH\", BORO=kin_nom.brho)\n",
    "    ref_beam.add(np.array([orb]))\n",
    "    zi.replace(\"BUNCH\", ref_beam)\n",
    "    zr = zgoubidoo.Zgoubi()(zi).collect()\n",
    "\n",
    "    results_ring.append([orbits[i][4], zr])"
   ]
  },
  {
   "cell_type": "markdown",
   "id": "371fabf2",
   "metadata": {},
   "source": [
    "### Plotting"
   ]
  },
  {
   "cell_type": "code",
   "execution_count": null,
   "id": "e2fbce5b-9152-4f83-8fcd-6d3dc5fb01d5",
   "metadata": {},
   "outputs": [],
   "source": [
    "artist = zgoubidoo.vis.ZgoubidooPlotlyArtist(layout=layout)\n",
    "artist.fig[\"layout\"][\"xaxis\"][\"title\"] = \"X (m)\"\n",
    "artist.fig[\"layout\"][\"yaxis\"][\"title\"] = \"Y (m)\"\n",
    "artist.fig[\"layout\"][\"xaxis\"][\"range\"] = [-5, 5]\n",
    "artist.fig[\"layout\"][\"yaxis\"][\"range\"] = [-8, 1]\n",
    "\n",
    "for i, results in enumerate(results_ring):\n",
    "    ekin = np.round(zgoubidoo.Kinematics(kin_nom.brho * results[0]).ekin.m_as(\"MeV\"), 2)\n",
    "    artist.scatter(\n",
    "        x=results[1].tracks_global[\"XG\"][::20],\n",
    "        y=results[1].tracks_global[\"YG\"][::20],\n",
    "        line={\"width\": 2, \"color\": colors[i]},\n",
    "        mode=\"lines\",\n",
    "        name=f\"{np.round(ekin,2)} MeV\",\n",
    "    )\n",
    "\n",
    "artist.plot_beamline(beamline=zi, with_frames=False, with_apertures=True, with_map=False)\n",
    "artist.render()"
   ]
  },
  {
   "cell_type": "markdown",
   "id": "0f8da74b-5835-437e-842f-af88f294d2e8",
   "metadata": {},
   "source": [
    "## Multiple turns tracking"
   ]
  },
  {
   "cell_type": "code",
   "execution_count": null,
   "id": "f513fea6-556c-4036-b7f2-4519db9b72d5",
   "metadata": {},
   "outputs": [],
   "source": [
    "zi = zgoubidoo.Input(\n",
    "    name=\"SPIRAL\",\n",
    "    line=[\n",
    "        ref_beam,\n",
    "        Marker(\"A\"),\n",
    "        ffa_cell,\n",
    "        copy.copy(ffa_cell),\n",
    "        copy.copy(ffa_cell),\n",
    "        copy.copy(ffa_cell),\n",
    "        copy.copy(ffa_cell),\n",
    "        copy.copy(ffa_cell),\n",
    "        copy.copy(ffa_cell),\n",
    "        copy.copy(ffa_cell),\n",
    "        Rebelote(NPASS=125),\n",
    "    ],\n",
    ")\n",
    "zi.XPAS = 5 * _ureg.mm\n",
    "zi.IL = 0\n",
    "zi.survey(reference_frame=zgoubidoo.Frame(), with_reference_trajectory=True, reference_kinematics=kin_nom);"
   ]
  },
  {
   "cell_type": "markdown",
   "id": "75cb1256-549d-4746-8a9b-dd0508de6025",
   "metadata": {
    "tags": []
   },
   "source": [
    "### Horizontal dynamic aperture"
   ]
  },
  {
   "cell_type": "code",
   "execution_count": null,
   "id": "042d65fb-67fc-4aa7-8de4-500ed0e1de05",
   "metadata": {},
   "outputs": [],
   "source": [
    "delta_radius = np.array([2.5, 2.5, 2.5, 2.5, 2.5])"
   ]
  },
  {
   "cell_type": "code",
   "execution_count": null,
   "id": "900d2c6c-234c-4c71-8c13-b477a703b3f7",
   "metadata": {},
   "outputs": [],
   "source": [
    "hor_offset = np.array(\n",
    "    [\n",
    "        [orbits[0][0] + delta_radius[0], orbits[0][1], orbits[0][2], orbits[0][3], orbits[0][4]],\n",
    "        [orbits[1][0] + delta_radius[1], orbits[1][1], orbits[1][2], orbits[1][3], orbits[1][4]],\n",
    "        [orbits[2][0] + delta_radius[2], orbits[2][1], orbits[2][2], orbits[2][3], orbits[2][4]],\n",
    "        [orbits[3][0] + delta_radius[3], orbits[3][1], orbits[3][2], orbits[3][3], orbits[3][4]],\n",
    "        [orbits[4][0] + delta_radius[4], orbits[4][1], orbits[4][2], orbits[4][3], orbits[4][4]],\n",
    "    ]\n",
    ")"
   ]
  },
  {
   "cell_type": "code",
   "execution_count": null,
   "id": "bf4ce029-1586-4912-8355-afb03e41b700",
   "metadata": {},
   "outputs": [],
   "source": [
    "beam_offset = BeamInputDistribution(\"BUNCH\", distribution=hor_offset, kinematics=kin_nom, slices=5)"
   ]
  },
  {
   "cell_type": "code",
   "execution_count": null,
   "id": "99793ca1-1486-43fc-a96d-f56438f8ed0b",
   "metadata": {},
   "outputs": [],
   "source": [
    "zi.replace(\"BUNCH\", beam_offset)\n",
    "zr = zgoubidoo.Zgoubi()(zi).collect()"
   ]
  },
  {
   "cell_type": "markdown",
   "id": "c4c4a845",
   "metadata": {},
   "source": [
    "### Plotting"
   ]
  },
  {
   "cell_type": "code",
   "execution_count": null,
   "id": "8575ab80-87f8-4e6e-a801-0c8d1689d70c",
   "metadata": {},
   "outputs": [],
   "source": [
    "artist = zgoubidoo.vis.ZgoubidooPlotlyArtist(layout=layout)\n",
    "\n",
    "artist.fig[\"layout\"][\"xaxis\"][\"title\"] = \"R (m)\"\n",
    "artist.fig[\"layout\"][\"yaxis\"][\"title\"] = \"R´ (rad)\"\n",
    "artist.fig[\"layout\"][\"xaxis\"][\"range\"] = [2.6, 3.5]\n",
    "artist.fig[\"layout\"][\"yaxis\"][\"range\"] = [-0.3, 0.2]\n",
    "\n",
    "tracks = zr.tracks_frenet\n",
    "tracks.query(\"LABEL1 == 'A'\", inplace=True)\n",
    "idx = 0\n",
    "for i in tracks[\"D-1\"].unique():\n",
    "    ekin = zgoubidoo.Kinematics(kin_nom.brho * (i + 1)).ekin.m_as(\"MeV\")\n",
    "    artist.scatter(\n",
    "        x=ffa_cell.RM.m_as(\"m\") + tracks[tracks[\"D-1\"] == i][\"Y\"],\n",
    "        y=tracks[tracks[\"D-1\"] == i][\"T\"],\n",
    "        name=f\"{np.round(ekin,2)} MeV\",\n",
    "        mode=\"markers\",\n",
    "        marker={\"size\": 5, \"color\": colors[idx]},\n",
    "    )\n",
    "    idx += 1\n",
    "\n",
    "\n",
    "artist.render()"
   ]
  },
  {
   "cell_type": "markdown",
   "id": "2fd12633-e481-404d-9031-9c97f7fef45a",
   "metadata": {
    "tags": []
   },
   "source": [
    "### Vertical dynamic aperture"
   ]
  },
  {
   "cell_type": "code",
   "execution_count": null,
   "id": "43ce5ab6-bfba-4bfb-964a-750cf92981de",
   "metadata": {},
   "outputs": [],
   "source": [
    "ver_offset = np.array(\n",
    "    [\n",
    "        [orbits[0][0], orbits[0][1], orbits[0][2] + 0.7, orbits[0][3], orbits[0][4]],\n",
    "        [orbits[1][0], orbits[1][1], orbits[1][2] + 1.0, orbits[1][3], orbits[1][4]],\n",
    "        [orbits[2][0], orbits[2][1], orbits[2][2] + 1.0, orbits[2][3], orbits[2][4]],\n",
    "        [orbits[3][0], orbits[3][1], orbits[3][2] + 1.0, orbits[3][3], orbits[3][4]],\n",
    "        [orbits[4][0], orbits[4][1], orbits[4][2] + 1.0, orbits[4][3], orbits[4][4]],\n",
    "    ]\n",
    ")"
   ]
  },
  {
   "cell_type": "code",
   "execution_count": null,
   "id": "e7eab39b-c8c7-4963-9893-b14031976116",
   "metadata": {},
   "outputs": [],
   "source": [
    "beam_offset = BeamInputDistribution(\"BUNCH\", distribution=ver_offset, kinematics=kin_nom, slices=5)"
   ]
  },
  {
   "cell_type": "code",
   "execution_count": null,
   "id": "1ebb2690-878f-4c08-9dcf-6baf0e72eb5a",
   "metadata": {},
   "outputs": [],
   "source": [
    "zi.replace(\"BUNCH\", beam_offset)\n",
    "zr = zgoubidoo.Zgoubi()(zi).collect()"
   ]
  },
  {
   "cell_type": "code",
   "execution_count": null,
   "id": "0d2ae0bf-d4d7-4b4d-86ae-5e43fcbbeb21",
   "metadata": {},
   "outputs": [],
   "source": [
    "artist = zgoubidoo.vis.ZgoubidooPlotlyArtist(layout=layout)\n",
    "\n",
    "artist.fig[\"layout\"][\"xaxis\"][\"title\"] = \"Z (m)\"\n",
    "artist.fig[\"layout\"][\"yaxis\"][\"title\"] = \"Z´ (rad)\"\n",
    "artist.fig[\"layout\"][\"xaxis\"][\"range\"] = [-0.04, 0.04]\n",
    "artist.fig[\"layout\"][\"yaxis\"][\"range\"] = [-0.02, 0.02]\n",
    "\n",
    "tracks = zr.tracks_frenet\n",
    "tracks.query(\"LABEL1 == 'A'\", inplace=True)\n",
    "idx = 0\n",
    "for i in tracks[\"D-1\"].unique():\n",
    "    ekin = zgoubidoo.Kinematics(kin_nom.brho * (i + 1)).ekin.m_as(\"MeV\")\n",
    "    artist.scatter(\n",
    "        x=tracks[tracks[\"D-1\"] == i][\"ZT\"],\n",
    "        y=tracks[tracks[\"D-1\"] == i][\"P\"],\n",
    "        name=f\"{np.round(ekin,2)} MeV\",\n",
    "        mode=\"markers\",\n",
    "        marker={\"size\": 5, \"color\": colors[idx]},\n",
    "    )\n",
    "    idx += 1\n",
    "\n",
    "\n",
    "artist.render()"
   ]
  },
  {
   "cell_type": "markdown",
   "id": "1d99617a-fd43-4cfb-9055-a27dc51ef058",
   "metadata": {},
   "source": [
    "## Maximum stable amplitude @60 MeV"
   ]
  },
  {
   "cell_type": "code",
   "execution_count": null,
   "id": "576fd2f6-1f9f-4e82-81a6-369ec6ccff4d",
   "metadata": {},
   "outputs": [],
   "source": [
    "hor_offset = np.array(\n",
    "    [\n",
    "        [orbits[2][0] + 0.2, orbits[2][1], orbits[2][2], orbits[2][3], orbits[2][4]],\n",
    "        [orbits[2][0] + 0.5, orbits[2][1], orbits[2][2], orbits[2][3], orbits[2][4]],\n",
    "        [orbits[2][0] + 1.0, orbits[2][1], orbits[2][2], orbits[2][3], orbits[2][4]],\n",
    "        [orbits[2][0] + 1.5, orbits[2][1], orbits[2][2], orbits[2][3], orbits[2][4]],\n",
    "        [orbits[2][0] + 2, orbits[2][1], orbits[2][2], orbits[2][3], orbits[2][4]],\n",
    "        [orbits[2][0] + 2.5, orbits[2][1], orbits[2][2], orbits[2][3], orbits[2][4]],\n",
    "    ]\n",
    ")"
   ]
  },
  {
   "cell_type": "code",
   "execution_count": null,
   "id": "5d3ae0bd-4fc5-46de-a610-7fc62052c711",
   "metadata": {},
   "outputs": [],
   "source": [
    "beam_offset = BeamInputDistribution(\"BUNCH\", distribution=hor_offset, kinematics=kin_nom, slices=6)"
   ]
  },
  {
   "cell_type": "code",
   "execution_count": null,
   "id": "4e986628-d83c-4573-9382-3ee998240b48",
   "metadata": {},
   "outputs": [],
   "source": [
    "zi.replace(\"BUNCH\", beam_offset)\n",
    "zr = zgoubidoo.Zgoubi()(zi).collect()"
   ]
  },
  {
   "cell_type": "code",
   "execution_count": null,
   "id": "be2d4aea-5725-4bdd-93e5-87335e22e325",
   "metadata": {},
   "outputs": [],
   "source": [
    "artist = zgoubidoo.vis.ZgoubidooPlotlyArtist(layout=layout)\n",
    "\n",
    "artist.fig[\"layout\"][\"xaxis\"][\"title\"] = \"X (m)\"\n",
    "artist.fig[\"layout\"][\"yaxis\"][\"title\"] = \"X´ (rad)\"\n",
    "artist.fig[\"layout\"][\"xaxis\"][\"range\"] = [2.96, 3.04]\n",
    "artist.fig[\"layout\"][\"yaxis\"][\"range\"] = [-0.1, -0.02]\n",
    "\n",
    "tracks = zr.tracks_frenet\n",
    "tracks.query(\"LABEL1 == 'A'\", inplace=True)\n",
    "artist.scatter(\n",
    "    x=ffa_cell.RM.m_as(\"m\") + tracks[\"Y\"], y=tracks[\"T\"], mode=\"markers\", marker={\"size\": 5, \"color\": \"blue\"}\n",
    ")\n",
    "artist.render()"
   ]
  },
  {
   "cell_type": "code",
   "execution_count": null,
   "id": "ba04592e-c10c-4583-9873-28ced5722796",
   "metadata": {},
   "outputs": [],
   "source": [
    "ver_offset = np.array(\n",
    "    [\n",
    "        [orbits[2][0], orbits[2][1], orbits[2][2], orbits[2][3], orbits[2][4]],\n",
    "        [orbits[2][0], orbits[2][1], orbits[2][2] + 0.2, orbits[2][3], orbits[2][4]],\n",
    "        [orbits[2][0], orbits[2][1], orbits[2][2] + 0.5, orbits[2][3], orbits[2][4]],\n",
    "        [orbits[2][0], orbits[2][1], orbits[2][2] + 0.7, orbits[2][3], orbits[2][4]],\n",
    "        [orbits[2][0], orbits[2][1], orbits[2][2] + 1.0, orbits[2][3], orbits[2][4]],\n",
    "    ]\n",
    ")"
   ]
  },
  {
   "cell_type": "code",
   "execution_count": null,
   "id": "d68a9c38-2d7e-4902-8ef3-3b30721ac386",
   "metadata": {},
   "outputs": [],
   "source": [
    "beam_offset = BeamInputDistribution(\"BUNCH\", distribution=ver_offset, kinematics=kin_nom, slices=5)"
   ]
  },
  {
   "cell_type": "code",
   "execution_count": null,
   "id": "aebb5670-237c-4f64-b81f-987b1b2b0e85",
   "metadata": {},
   "outputs": [],
   "source": [
    "zi.replace(\"BUNCH\", beam_offset)\n",
    "zr = zgoubidoo.Zgoubi()(zi).collect()"
   ]
  },
  {
   "cell_type": "code",
   "execution_count": null,
   "id": "3bc87eb9-a4aa-49a7-94bb-4c08bd73a531",
   "metadata": {},
   "outputs": [],
   "source": [
    "artist = zgoubidoo.vis.ZgoubidooPlotlyArtist(layout=layout)\n",
    "\n",
    "artist.fig[\"layout\"][\"xaxis\"][\"title\"] = \"Z (m)\"\n",
    "artist.fig[\"layout\"][\"yaxis\"][\"title\"] = \"Z´ (rad)\"\n",
    "artist.fig[\"layout\"][\"xaxis\"][\"range\"] = [-0.03, 0.03]\n",
    "artist.fig[\"layout\"][\"yaxis\"][\"range\"] = [-0.015, 0.015]\n",
    "\n",
    "tracks = zr.tracks_frenet\n",
    "tracks.query(\"LABEL1 == 'A'\", inplace=True)\n",
    "artist.scatter(x=tracks[\"Z\"], y=tracks[\"P\"], mode=\"markers\", marker={\"size\": 5, \"color\": \"blue\"})\n",
    "artist.render()"
   ]
  }
 ],
 "metadata": {
  "kernelspec": {
   "display_name": "zgoubidoo",
   "language": "python",
   "name": "zgoubidoo"
  },
  "language_info": {
   "codemirror_mode": {
    "name": "ipython",
    "version": 3
   },
   "file_extension": ".py",
   "mimetype": "text/x-python",
   "name": "python",
   "nbconvert_exporter": "python",
   "pygments_lexer": "ipython3",
   "version": "3.10.8"
  }
 },
 "nbformat": 4,
 "nbformat_minor": 5
}
