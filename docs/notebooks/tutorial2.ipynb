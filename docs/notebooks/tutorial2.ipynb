{
 "cells": [
  {
   "cell_type": "code",
   "execution_count": null,
   "metadata": {},
   "outputs": [],
   "source": [
    "%load_ext autoreload\n",
    "%autoreload 2"
   ]
  },
  {
   "cell_type": "markdown",
   "metadata": {},
   "source": [
    "# Zgoubidoo tutorial"
   ]
  },
  {
   "cell_type": "markdown",
   "metadata": {},
   "source": [
    "A gentle introduction to Zgoubidoo: a modern Python 3 interface to the Zgoubi ray-tracing code.\n",
    "\n",
    "Tutorial's objectives:\n",
    "- Build Zgoubi simulations from scratch with no advanced knowledge of Zgoubi or Python\n",
    "- Introduce key concepts usefull for a wide range of Zgoubi simulations\n",
    "- Highlights advantages of Zgoubidoo: ease of use, repeatability, speed (especially on multi-core computers, aka. any computers)"
   ]
  },
  {
   "cell_type": "markdown",
   "metadata": {},
   "source": [
    "## Getting started\n",
    "\n",
    "Assume you have the `zgoubi` executable located somewhere in your path."
   ]
  },
  {
   "cell_type": "markdown",
   "metadata": {},
   "source": [
    "### Import zgoubidoo"
   ]
  },
  {
   "cell_type": "code",
   "execution_count": null,
   "metadata": {},
   "outputs": [],
   "source": [
    "import zgoubidoo\n",
    "from zgoubidoo.commands import *"
   ]
  },
  {
   "cell_type": "markdown",
   "metadata": {},
   "source": [
    "All physical quantities used by `zgoubidoo` have units. For simplicity the 'units registry' can get a short name:"
   ]
  },
  {
   "cell_type": "code",
   "execution_count": null,
   "metadata": {},
   "outputs": [],
   "source": [
    "from zgoubidoo import ureg as _\n"
   ]
  },
  {
   "cell_type": "markdown",
   "metadata": {},
   "source": [
    "Let's have a first look at units:"
   ]
  },
  {
   "cell_type": "code",
   "execution_count": null,
   "metadata": {},
   "outputs": [],
   "source": [
    "a = 1 * _.m\n",
    "b = 1 * _.m + 10 * _.cm\n",
    "b += a\n",
    "b.to('hectometers').magnitude"
   ]
  },
  {
   "cell_type": "markdown",
   "metadata": {},
   "source": [
    "A bit more interesting:"
   ]
  },
  {
   "cell_type": "code",
   "execution_count": null,
   "metadata": {},
   "outputs": [],
   "source": [
    "brho = 1 * _.tesla * 10 * _.cm\n",
    "brho.to('kilogauss meter')"
   ]
  },
  {
   "cell_type": "markdown",
   "metadata": {},
   "source": [
    "**Exercice**: define quantities in other units of interest for Zgoubi simulations. In particular, try angles, energies, etc."
   ]
  },
  {
   "cell_type": "markdown",
   "metadata": {},
   "source": [
    "### Import additionnal very useful Python packages"
   ]
  },
  {
   "cell_type": "code",
   "execution_count": null,
   "metadata": {},
   "outputs": [],
   "source": [
    "%matplotlib inline\n",
    "import matplotlib.pyplot as plt\n",
    "import numpy as np\n",
    "import pandas as pd"
   ]
  },
  {
   "cell_type": "markdown",
   "metadata": {},
   "source": [
    "**Exercice**: Have a look at what `matplotlib`, `numpy` and `pandas` are and what they can do."
   ]
  },
  {
   "cell_type": "markdown",
   "metadata": {},
   "source": [
    "### A first look at Zgoubi keywords and Zgoubidoo commands"
   ]
  },
  {
   "cell_type": "markdown",
   "metadata": {},
   "source": [
    "All `zgoubi` commands ('KEYWORDS') have their equivalent `zgoubidoo` class. They all inhereit from the `zgoubidoo.commands.Command` base class which overloads a bunch of \"special\" Python functions. Most notably the `__str__` function."
   ]
  },
  {
   "cell_type": "code",
   "execution_count": null,
   "metadata": {},
   "outputs": [],
   "source": [
    "Quadrupole"
   ]
  },
  {
   "cell_type": "code",
   "execution_count": null,
   "metadata": {},
   "outputs": [],
   "source": [
    "Venus"
   ]
  },
  {
   "cell_type": "code",
   "execution_count": null,
   "metadata": {},
   "outputs": [],
   "source": [
    "ChangRef"
   ]
  },
  {
   "cell_type": "code",
   "execution_count": null,
   "metadata": {},
   "outputs": [],
   "source": [
    "Fit"
   ]
  },
  {
   "cell_type": "code",
   "execution_count": null,
   "metadata": {},
   "outputs": [],
   "source": [
    "Particule"
   ]
  },
  {
   "cell_type": "code",
   "execution_count": null,
   "metadata": {},
   "outputs": [],
   "source": [
    "Tosca"
   ]
  },
  {
   "cell_type": "markdown",
   "metadata": {},
   "source": [
    "**Exercice**: Find your favorite command. Complain if it's not available. (*bonus*) Implement a new command, just to see how easy it is."
   ]
  },
  {
   "cell_type": "markdown",
   "metadata": {},
   "source": [
    "And so on."
   ]
  },
  {
   "cell_type": "markdown",
   "metadata": {},
   "source": [
    "To create a command one needs to instanciate an object from the corresponding class:"
   ]
  },
  {
   "cell_type": "code",
   "execution_count": null,
   "metadata": {},
   "outputs": [],
   "source": [
    "Quadrupole('Q1')"
   ]
  },
  {
   "cell_type": "markdown",
   "metadata": {},
   "source": [
    "All commands have sensible (at least I'm aiming for that) default values. This means that it is possible to create a working command without changing anything.\n",
    "\n",
    "Note that the *LABEL1* attribute gets an automatically created random value. This is useful, see later.\n",
    "\n",
    "Of course the next step is to look at the parameters of the command. The `PARAMETERS` attribute of each class provides the full list of available parameters, along with their default values and a documentation string."
   ]
  },
  {
   "cell_type": "code",
   "execution_count": null,
   "metadata": {},
   "outputs": [],
   "source": [
    "Quadrupole.PARAMETERS"
   ]
  },
  {
   "cell_type": "markdown",
   "metadata": {},
   "source": [
    "When the command is created those parameters are instanciated as `attributes`:"
   ]
  },
  {
   "cell_type": "code",
   "execution_count": null,
   "metadata": {},
   "outputs": [],
   "source": [
    "Quadrupole(XL=10 * _.cm).attributes"
   ]
  },
  {
   "cell_type": "markdown",
   "metadata": {},
   "source": [
    "Some have default values:"
   ]
  },
  {
   "cell_type": "code",
   "execution_count": null,
   "metadata": {},
   "outputs": [],
   "source": [
    "Quadrupole().defaults\n",
    "# Default value for R0 ==> set it to 10 cm"
   ]
  },
  {
   "cell_type": "markdown",
   "metadata": {},
   "source": [
    "Others have non-default values:"
   ]
  },
  {
   "cell_type": "code",
   "execution_count": null,
   "metadata": {},
   "outputs": [],
   "source": [
    "Quadrupole()"
   ]
  },
  {
   "cell_type": "code",
   "execution_count": null,
   "metadata": {},
   "outputs": [],
   "source": [
    "Quadrupole().nondefaults"
   ]
  },
  {
   "cell_type": "markdown",
   "metadata": {},
   "source": [
    "Note that the initializer of `Quadrupole` is taking the initiative of setting `XE` and `XS` to twice the bore radius."
   ]
  },
  {
   "cell_type": "markdown",
   "metadata": {},
   "source": [
    "Specific values for the attributes can be defined at the creation of the object:"
   ]
  },
  {
   "cell_type": "code",
   "execution_count": null,
   "metadata": {},
   "outputs": [],
   "source": [
    "Quadrupole('COOL_QUAD', XL=777*_.kilometers, XPAS=30*_.mm)"
   ]
  },
  {
   "cell_type": "markdown",
   "metadata": {},
   "source": [
    "Of course it is possible to change and access the attributes values at any time:"
   ]
  },
  {
   "cell_type": "code",
   "execution_count": null,
   "metadata": {},
   "outputs": [],
   "source": [
    "my_quad = Quadrupole('COOL_QUAD', XL=2*_.m, XPAS=3*_.centimeter)\n",
    "my_quad.KPOS = 2\n",
    "my_quad.B0 = 2 * _.tesla\n",
    "print(f\"The field at the pole tips is now {my_quad.B0}.\")\n",
    "my_quad"
   ]
  },
  {
   "cell_type": "code",
   "execution_count": null,
   "metadata": {},
   "outputs": [],
   "source": [
    "my_quad.XL"
   ]
  },
  {
   "cell_type": "markdown",
   "metadata": {},
   "source": [
    "And look again at the nondefault attributes:"
   ]
  },
  {
   "cell_type": "code",
   "execution_count": null,
   "metadata": {},
   "outputs": [],
   "source": [
    "my_quad.nondefaults"
   ]
  },
  {
   "cell_type": "markdown",
   "metadata": {},
   "source": [
    "**Exercice**: define other objects, explore the different Zgoubi keywords, change the attributes, etc. In particular: create a custom BEND, a custome DRIFT."
   ]
  },
  {
   "cell_type": "markdown",
   "metadata": {},
   "source": [
    "What if your favorite command is missing?\n",
    "\n",
    "Zgoubidoo provides different mechanisms to deal with that, maybe the easiest one is to use the `Fake` command:"
   ]
  },
  {
   "cell_type": "code",
   "execution_count": null,
   "metadata": {},
   "outputs": [],
   "source": [
    "Fake"
   ]
  },
  {
   "cell_type": "code",
   "execution_count": null,
   "metadata": {},
   "outputs": [],
   "source": [
    "Fake('FAKE1', INPUT=\"\"\"\n",
    "    'FRANCOIS' {LABEL1} \n",
    "    1.0 2.0 3.0\n",
    "\"\"\"\n",
    ")"
   ]
  },
  {
   "cell_type": "code",
   "execution_count": null,
   "metadata": {},
   "outputs": [],
   "source": [
    "class FancyQuadrupole(Quadrupole):\n",
    "    PARAMETERS = {\n",
    "        'B0': 77 * _.tesla,\n",
    "        'C0_E': 33.3,\n",
    "    }\n",
    "    \n",
    "    def __post__init__(arg1):\n",
    "        pass\n",
    "\n",
    "my_quad = FancyQuadrupole('MY_FANCYQ')\n",
    "print(my_quad.B0)\n",
    "my_quad"
   ]
  },
  {
   "cell_type": "markdown",
   "metadata": {},
   "source": [
    "### Creating a first Zgoubi input file"
   ]
  },
  {
   "cell_type": "markdown",
   "metadata": {},
   "source": [
    "To create a zgoubi input file `zgoubidoo` provides a dedicated class: `zgoubidoo.Input`. An input can have a name and will hold a list of `zgoubidoo.commands` objects.\n",
    "\n",
    "The `zgoubidoo.Input` objects also override the `__str__` method, which allows to automatically print them or save them to files."
   ]
  },
  {
   "cell_type": "code",
   "execution_count": null,
   "metadata": {},
   "outputs": [],
   "source": [
    "zgoubidoo.Input()"
   ]
  },
  {
   "cell_type": "code",
   "execution_count": null,
   "metadata": {},
   "outputs": [],
   "source": [
    "zgoubidoo.Input(name='MY_LINE')"
   ]
  },
  {
   "cell_type": "markdown",
   "metadata": {},
   "source": [
    "To make life easier, `zgoubidoo` will automatically add a `End` command at the end of each input."
   ]
  },
  {
   "cell_type": "markdown",
   "metadata": {},
   "source": [
    "Let's get started and create a FODO sequence."
   ]
  },
  {
   "cell_type": "code",
   "execution_count": null,
   "metadata": {},
   "outputs": [],
   "source": [
    "qf = Quadrupole('QF', XL=1*_.m, B0=1 * _.tesla)\n",
    "qd = Quadrupole('QD', XL=1*_.m, B0=-1 * _.tesla)\n",
    "\n",
    "zi = zgoubidoo.Input(name='FODO', line=[\n",
    "    qf,\n",
    "    Drift(XL=1 * _.m),\n",
    "    qd,\n",
    "    Drift(XL=1 * _.m),\n",
    "])  # zi stands for `zgoubi input`\n",
    "zi"
   ]
  },
  {
   "cell_type": "markdown",
   "metadata": {},
   "source": [
    "We are close to being able to run this with Zgoubi. But one more thing: let's define the particle type and add a beam (*ie.* a `zgoubi` objet).\n",
    "\n",
    "Zgoubidoo defines classes for a relatively large set of common particles:"
   ]
  },
  {
   "cell_type": "code",
   "execution_count": null,
   "metadata": {},
   "outputs": [],
   "source": [
    "import inspect\n",
    "inspect.getmembers(zgoubidoo.commands.particules, inspect.isclass)"
   ]
  },
  {
   "cell_type": "markdown",
   "metadata": {},
   "source": [
    "Let's use a proton:"
   ]
  },
  {
   "cell_type": "code",
   "execution_count": null,
   "metadata": {},
   "outputs": [],
   "source": [
    "Electron()"
   ]
  },
  {
   "cell_type": "code",
   "execution_count": null,
   "metadata": {},
   "outputs": [],
   "source": [
    "Proton()"
   ]
  },
  {
   "cell_type": "markdown",
   "metadata": {},
   "source": [
    "We will also need to define the energy, momentum, etc. of the particles. To that end, `zgoubidoo` provides a very easy to use `Kinematics` class:"
   ]
  },
  {
   "cell_type": "code",
   "execution_count": null,
   "metadata": {},
   "outputs": [],
   "source": [
    "k = zgoubidoo.Kinematics(2 * _.GeV)\n",
    "k"
   ]
  },
  {
   "cell_type": "markdown",
   "metadata": {},
   "source": [
    "The constructor will infer the quantity based on the units, and provide a bunch of conversions if needed:"
   ]
  },
  {
   "cell_type": "code",
   "execution_count": null,
   "metadata": {},
   "outputs": [],
   "source": [
    "k.brho.to('kilogauss centimeter')"
   ]
  },
  {
   "cell_type": "markdown",
   "metadata": {},
   "source": [
    "Next step is to define a `zgoubi` *Objet*. We can either directly use the objet classes or use an abstraction provided by `zgoubidoo`: `Beam`.\n",
    "    \n",
    "Let's start with `Objet2`."
   ]
  },
  {
   "cell_type": "code",
   "execution_count": null,
   "metadata": {},
   "outputs": [],
   "source": [
    "Objet2('BUNCH', BORO=k.brho)"
   ]
  },
  {
   "cell_type": "markdown",
   "metadata": {},
   "source": [
    "We are all set, let's redfine the `zgoubi.Input`:"
   ]
  },
  {
   "cell_type": "code",
   "execution_count": null,
   "metadata": {},
   "outputs": [],
   "source": [
    "qf = Quadrupole('QF', XL=1*_.m, B0=1 * _.tesla)\n",
    "qd = Quadrupole('QD', XL=1*_.m, B0=-1 * _.tesla)\n",
    "\n",
    "zi = zgoubidoo.Input(name='FODO', line=[\n",
    "    Objet2('BUNCH', BORO=k.brho),\n",
    "    Proton(),\n",
    "    qf,\n",
    "    Drift(XL=1 * _.m),\n",
    "    qd,\n",
    "    Drift(XL=1 * _.m),\n",
    "])  # zi stands for `zgoubi input`\n",
    "zi.IL = 2\n",
    "zi;"
   ]
  },
  {
   "cell_type": "markdown",
   "metadata": {},
   "source": [
    "At this point you should be really impatient to run this with Zgoubi...\n",
    "\n",
    "As you guessed `zgoubidoo` provides a class `Zgoubi` which is an abstraction to the `zgoubi` executable:"
   ]
  },
  {
   "cell_type": "code",
   "execution_count": null,
   "metadata": {},
   "outputs": [],
   "source": [
    "z = zgoubidoo.Zgoubi()\n",
    "z"
   ]
  },
  {
   "cell_type": "markdown",
   "metadata": {},
   "source": [
    "It doesn't do much, but when you **call** it `zgoubi` will be run:"
   ]
  },
  {
   "cell_type": "code",
   "execution_count": null,
   "metadata": {},
   "outputs": [],
   "source": [
    "z(zi)"
   ]
  },
  {
   "cell_type": "markdown",
   "metadata": {},
   "source": [
    "Looked like nothing happened... but `zgoubi` has been executed.\n",
    "\n",
    "Now a little detour: `zgoubidoo` works beautifully with multi-threading, all in a transparent way. This means that you can launch multiple instances of `zgoubi` at the same time, even in an interactive session like this one, without blocking.\n",
    "\n",
    "The drawback is that you need to collect the results:"
   ]
  },
  {
   "cell_type": "code",
   "execution_count": null,
   "metadata": {},
   "outputs": [],
   "source": [
    "z = zgoubidoo.Zgoubi()\n",
    "\n",
    "z(zi)\n",
    "\n",
    "zr = z.collect()\n",
    "\n",
    "z.cleanup()"
   ]
  },
  {
   "cell_type": "code",
   "execution_count": null,
   "metadata": {},
   "outputs": [],
   "source": [
    "type(zr)"
   ]
  },
  {
   "cell_type": "code",
   "execution_count": null,
   "metadata": {},
   "outputs": [],
   "source": [
    "z.cleanup()\n",
    "zr = z(zi).collect()  # zr stands for 'zgoubi results'\n",
    "zr"
   ]
  },
  {
   "cell_type": "markdown",
   "metadata": {},
   "source": [
    "Once more, all the resutls are encapsulated in a `ZgoubiResults` class.\n",
    "\n",
    "It has many functionalities:"
   ]
  },
  {
   "cell_type": "code",
   "execution_count": null,
   "metadata": {},
   "outputs": [],
   "source": [
    "zr.paths"
   ]
  },
  {
   "cell_type": "code",
   "execution_count": null,
   "metadata": {},
   "outputs": [],
   "source": [
    "!ls /var/folders/r0/hjx4gm291nlgl0mk9wm703tm0000gn/T/tmpu5x_wswu"
   ]
  },
  {
   "cell_type": "code",
   "execution_count": null,
   "metadata": {},
   "outputs": [],
   "source": [
    "zr.print()"
   ]
  },
  {
   "cell_type": "markdown",
   "metadata": {},
   "source": [
    "The default behavior of `ZgoubiResults.print()` is to show the `zgoubi.res` file.\n",
    "\n",
    "It is possible to look at other results."
   ]
  },
  {
   "cell_type": "code",
   "execution_count": null,
   "metadata": {},
   "outputs": [],
   "source": [
    "zr.print('stdout')"
   ]
  },
  {
   "cell_type": "markdown",
   "metadata": {},
   "source": [
    "OK, now this is really cool! Look at this:"
   ]
  },
  {
   "cell_type": "code",
   "execution_count": null,
   "metadata": {},
   "outputs": [],
   "source": [
    "zi[Drift][0].LABEL1"
   ]
  },
  {
   "cell_type": "code",
   "execution_count": null,
   "metadata": {},
   "outputs": [],
   "source": [
    "zr.tracks.query(\"LABEL1 == '63fcb8984e0040b5b602'\")"
   ]
  },
  {
   "cell_type": "markdown",
   "metadata": {},
   "source": [
    "The tracking results have been automatically extracted and collected in a nice look `pandas.DataFrame`.\n",
    "\n",
    "The other typicall \"results files\" of `zgoubi` can be read as well:"
   ]
  },
  {
   "cell_type": "code",
   "execution_count": null,
   "metadata": {},
   "outputs": [],
   "source": [
    "# ! read in zgoubi/*.f grep PRINT  for all the supported PRINT commands"
   ]
  },
  {
   "cell_type": "code",
   "execution_count": null,
   "metadata": {},
   "outputs": [],
   "source": [
    "zr.srloss"
   ]
  },
  {
   "cell_type": "code",
   "execution_count": null,
   "metadata": {},
   "outputs": [],
   "source": [
    "zr.matrix"
   ]
  },
  {
   "cell_type": "code",
   "execution_count": null,
   "metadata": {},
   "outputs": [],
   "source": [
    "zr.optics"
   ]
  },
  {
   "cell_type": "markdown",
   "metadata": {},
   "source": [
    "But of course we'll have to work a bit harder for that.\n",
    "\n",
    "Let's try to get some Twiss parameters.\n",
    "\n",
    "Back to the input.\n",
    "\n",
    "The line is a list (actually a `deque`) of commands. Let's see how we can manipulate it."
   ]
  },
  {
   "cell_type": "code",
   "execution_count": null,
   "metadata": {},
   "outputs": [],
   "source": [
    "# ! zpop can read in .fai while zgoubi is running (for a long run). look at what's possible to do\n",
    "# FORTRAN flush command"
   ]
  },
  {
   "cell_type": "code",
   "execution_count": null,
   "metadata": {},
   "outputs": [],
   "source": [
    "len(zi)  # 6 commands at this point"
   ]
  },
  {
   "cell_type": "code",
   "execution_count": null,
   "metadata": {},
   "outputs": [],
   "source": [
    "zi.line.append(Matrix())"
   ]
  },
  {
   "cell_type": "code",
   "execution_count": null,
   "metadata": {},
   "outputs": [],
   "source": [
    "zi.QD"
   ]
  },
  {
   "cell_type": "code",
   "execution_count": null,
   "metadata": {},
   "outputs": [],
   "source": [
    "list(filter(lambda _: _.LABEL1 == 'QD', zi))\n"
   ]
  },
  {
   "cell_type": "code",
   "execution_count": null,
   "metadata": {},
   "outputs": [],
   "source": [
    "# !! Could we access the commands using the LABEL2 ? Look at what can be done"
   ]
  },
  {
   "cell_type": "code",
   "execution_count": null,
   "metadata": {},
   "outputs": [],
   "source": [
    "zi.replace('BUNCH', Objet5('BUNCH', BORO=k.brho))"
   ]
  },
  {
   "cell_type": "markdown",
   "metadata": {},
   "source": [
    "This worked as expected. Let's run it again."
   ]
  },
  {
   "cell_type": "code",
   "execution_count": null,
   "metadata": {},
   "outputs": [],
   "source": [
    "z.cleanup()\n",
    "zr = z(zi).collect()"
   ]
  },
  {
   "cell_type": "markdown",
   "metadata": {},
   "source": [
    "We would like to see if this worked, but without scrolling through the entire output..."
   ]
  },
  {
   "cell_type": "code",
   "execution_count": null,
   "metadata": {},
   "outputs": [],
   "source": [
    "# BUGG zi.zgoubi_index('QD')"
   ]
  },
  {
   "cell_type": "code",
   "execution_count": null,
   "metadata": {},
   "outputs": [],
   "source": [
    "print('\\n'.join(zi[Matrix][0].output[0][1]))"
   ]
  },
  {
   "cell_type": "code",
   "execution_count": null,
   "metadata": {},
   "outputs": [],
   "source": [
    "zr.matrix#.at[0, 'R11']"
   ]
  },
  {
   "cell_type": "markdown",
   "metadata": {},
   "source": [
    "**Exercice**: go back and adapt the FODO example to obtain a stable solution."
   ]
  },
  {
   "cell_type": "markdown",
   "metadata": {},
   "source": [
    "### Visualization with Zgoubidoo"
   ]
  },
  {
   "cell_type": "markdown",
   "metadata": {},
   "source": [
    "Zgoubidoo offers default visualization to plot beamlines, tracking data, etc. Let's have a look."
   ]
  },
  {
   "cell_type": "code",
   "execution_count": null,
   "metadata": {},
   "outputs": [],
   "source": [
    "zi.plot()"
   ]
  },
  {
   "cell_type": "markdown",
   "metadata": {},
   "source": [
    "OK... what is this \"survey\" thing?\n",
    "\n",
    "All elements of a Zgoubidoo beamline are positionned with respect to a given coordinates frame. The survey operation consists in associating a global reference frame with the beamline."
   ]
  },
  {
   "cell_type": "code",
   "execution_count": null,
   "metadata": {},
   "outputs": [],
   "source": [
    "zi.survey()"
   ]
  },
  {
   "cell_type": "code",
   "execution_count": null,
   "metadata": {},
   "outputs": [],
   "source": [
    "10 * zi.QD.entry.x + 2 * _.m"
   ]
  },
  {
   "cell_type": "markdown",
   "metadata": {},
   "source": [
    "Let's make some nice plots..."
   ]
  },
  {
   "cell_type": "code",
   "execution_count": null,
   "metadata": {},
   "outputs": [],
   "source": [
    "artist = zgoubidoo.vis.ZgoubiMpl()\n",
    "zgoubidoo.vis.cartouche(line=zi, artist=artist)\n",
    "zi.plot(ax=artist.ax, tracks=zr.tracks)"
   ]
  },
  {
   "cell_type": "markdown",
   "metadata": {},
   "source": [
    "Let's modify the input to improve the plotting. The following example will:\n",
    "\n",
    " - use the `FakeDrift` command to force the continuous visualization of the tracks;\n",
    " - illustrate how to add more elements to the input;\n",
    " - illustrate how one can misalign elements."
   ]
  },
  {
   "cell_type": "code",
   "execution_count": null,
   "metadata": {},
   "outputs": [],
   "source": [
    "# There is an option to have many steps in drift.... LOOK AT THE MANUAL CEDRIC :) \n",
    "\n",
    "# Change the default behavior for MARKER ==> .plt ==> default = False"
   ]
  },
  {
   "cell_type": "code",
   "execution_count": null,
   "metadata": {},
   "outputs": [],
   "source": [
    "Marker(with_plt=False)"
   ]
  },
  {
   "cell_type": "code",
   "execution_count": null,
   "metadata": {},
   "outputs": [],
   "source": [
    "qf = Quadrupole('QF', XL=1*_.m, B0=0.1 * _.tesla, ALE=5*_.degree, KPOS=1)\n",
    "qd = Quadrupole('QD', XL=1*_.m, B0=-0.05 * _.tesla, YCE=10*_.cm, KPOS=2)\n",
    "\n",
    "zi = zgoubidoo.Input(name='FODO', line=[\n",
    "    Objet2('BUNCH', BORO=k.brho),\n",
    "    Proton(),\n",
    "    qf,\n",
    "    FakeDrift(XL=1 * _.m),  # FakeDrift is actually a MULTIPOLE with a very small but non zero B0 field, forcing zgoubi to track\n",
    "    qd,\n",
    "    FakeDrift(XL=1 * _.m),  # FakeDrift is actually a MULTIPOLE with a very small but non zero B0 field, forcing zgoubi to track\n",
    "    Multipole(XL=1 * _.m, B1=5 * _.kilogauss),\n",
    "])\n",
    "zi.survey()\n",
    "\n",
    "#zi.XPAS = 0.01 * _.m  # Note that the parameters of all the elements in the input can be set with a single command\n",
    "z = zgoubidoo.Zgoubi()\n",
    "zr = z(zi).collect()\n",
    "\n",
    "artist = zgoubidoo.vis.ZgoubiMpl()\n",
    "zgoubidoo.vis.cartouche(line=zi, artist=artist)\n",
    "zi.plot(ax=artist.ax, tracks=zr.tracks)"
   ]
  },
  {
   "cell_type": "markdown",
   "metadata": {},
   "source": [
    "At the end of a Zgoubi run it is possible to save the input file and one or more output files to a permanent directory (by default Zgoubidoo runs everything in temporary directories)."
   ]
  },
  {
   "cell_type": "code",
   "execution_count": null,
   "metadata": {},
   "outputs": [],
   "source": [
    "zr.save('.', ['zgoubi.dat', 'zgoubi.res', 'zgoubi.log'])"
   ]
  },
  {
   "cell_type": "markdown",
   "metadata": {},
   "source": [
    "## Tracking on multi-core machines"
   ]
  },
  {
   "cell_type": "markdown",
   "metadata": {},
   "source": [
    "`zgoubi` itself is purely single process, single thread. However, `zgoubidoo` makes it easy to track particles on multi-core machines. Doing so with `zgoubidoo` is totaly transparent for the user, at the time of the input preparation and at the time of the collection of the results.\n",
    "\n",
    "To illustrate this, let's reuse our previous input, but this time with a real bunch. This is so common that `zgoubidoo` provides an abstraction layer on top of the `zgoubi` *objets*."
   ]
  },
  {
   "cell_type": "markdown",
   "metadata": {},
   "source": [
    "### Using `zgoubidoo` beams"
   ]
  },
  {
   "cell_type": "markdown",
   "metadata": {},
   "source": [
    "`zgoubidoo` provides different subclasses of `zgoubidoo.commands.beam.Beam` to suit specific needs. Here we will use the `BeamZgoubiDistribution` "
   ]
  },
  {
   "cell_type": "code",
   "execution_count": null,
   "metadata": {},
   "outputs": [],
   "source": [
    "my_bunch = BeamZgoubiDistribution('BUNCH', kinematics=k, particle=Proton, IMAX=1e4)\n",
    "my_bunch"
   ]
  },
  {
   "cell_type": "code",
   "execution_count": null,
   "metadata": {},
   "outputs": [],
   "source": [
    "qf = Quadrupole('QF', XL=1*_.m, B0=0.1 * _.tesla, ALE=5*_.degree, KPOS=1)\n",
    "qd = Quadrupole('QD', XL=1*_.m, B0=-0.05 * _.tesla, YCE=10*_.cm, KPOS=2)\n",
    "\n",
    "zi = zgoubidoo.Input(name='FODO', line=[\n",
    "    my_bunch,\n",
    "    qf,\n",
    "    FakeDrift(XL=1 * _.m),  # FakeDrift is actually a MULTIPOLE with a very small but non zero B0 field, forcing zgoubi to track\n",
    "    qd,\n",
    "    FakeDrift(XL=1 * _.m),  # FakeDrift is actually a MULTIPOLE with a very small but non zero B0 field, forcing zgoubi to track\n",
    "])\n",
    "\n",
    "#zi.XPAS = 1.0 * _.cm  # Note that the parameters of all the elements in the input can be set with a single command"
   ]
  },
  {
   "cell_type": "markdown",
   "metadata": {},
   "source": [
    "Let's run `zgoubi` and track the distribution and check how long it takes."
   ]
  },
  {
   "cell_type": "code",
   "execution_count": null,
   "metadata": {},
   "outputs": [],
   "source": [
    "%%timeit -n 1 -r 1\n",
    "z = zgoubidoo.Zgoubi()\n",
    "zr = z(zi).collect()"
   ]
  },
  {
   "cell_type": "markdown",
   "metadata": {},
   "source": [
    "That's about 20 seconds for 1e4 particules. The results (in this case the tracking data) are collected automatically:"
   ]
  },
  {
   "cell_type": "code",
   "execution_count": null,
   "metadata": {},
   "outputs": [],
   "source": [
    "print(zr.tracks.shape)\n",
    "zr.tracks.head(5)"
   ]
  },
  {
   "cell_type": "markdown",
   "metadata": {},
   "source": [
    "OK, now let's try again but using the true power of our multi-cores machines.\n",
    "\n",
    "To that end `zgoubidoo` introduces the concept of **slices**. A given bunch (beam) will be divided in multiple slices. Each slice will be run by its own instance of `zgoubi`, in parallel."
   ]
  },
  {
   "cell_type": "code",
   "execution_count": null,
   "metadata": {},
   "outputs": [],
   "source": [
    "my_bunch.slices = 4"
   ]
  },
  {
   "cell_type": "code",
   "execution_count": null,
   "metadata": {},
   "outputs": [],
   "source": [
    "# Choice of the word 'slice'  ==> batch ?\n",
    "# Actually slicing"
   ]
  },
  {
   "cell_type": "code",
   "execution_count": null,
   "metadata": {},
   "outputs": [],
   "source": [
    "%%timeit -n 1 -r 1\n",
    "z = zgoubidoo.Zgoubi()\n",
    "zr = z(zi).collect()"
   ]
  },
  {
   "cell_type": "markdown",
   "metadata": {},
   "source": [
    "As expected we gained almost a factor 4!\n",
    "\n",
    "And all the results from the 4 runs are collected together:"
   ]
  },
  {
   "cell_type": "code",
   "execution_count": null,
   "metadata": {},
   "outputs": [],
   "source": [
    "print(zr.tracks.shape)\n",
    "zr.tracks.head(5)"
   ]
  },
  {
   "cell_type": "markdown",
   "metadata": {},
   "source": [
    "### Parametric scans"
   ]
  },
  {
   "cell_type": "markdown",
   "metadata": {},
   "source": [
    "TODO"
   ]
  },
  {
   "cell_type": "markdown",
   "metadata": {},
   "source": [
    "## Importing MAD-X sequences"
   ]
  },
  {
   "cell_type": "markdown",
   "metadata": {},
   "source": [
    "Zgoubidoo offers different interfaces to automatically load and convert MAD-X Twiss sequences. This section illustrates how this can be done using the LHeC as an example.\n",
    "\n",
    "Zgoubidoo provides a `sequences` module aimed at abstracting the concepts of 'sequences' and 'beamlines'. A `zgoubidoo.sequences.Sequence` object is *not* a Zgoubi input: it is a generic sequence holding information to recreate a beamline. It is also 'code-independent': the information contained in the sequence can be used by 'converters' to convert the sequence onto a valid Zgoubi or MAD-X sequence.\n",
    "\n",
    "The `Sequence` class provides different 'loaders' to initialize the sequence."
   ]
  },
  {
   "cell_type": "code",
   "execution_count": null,
   "metadata": {},
   "outputs": [],
   "source": [
    "lhec_sequence = zgoubidoo.sequences.Sequence.from_madx_twiss(\n",
    "    filename='twiss.outx',\n",
    "    path='/Users/chernals/Downloads'\n",
    ")"
   ]
  },
  {
   "cell_type": "markdown",
   "metadata": {},
   "source": [
    "The loader create a specialized `TwissSequence` object:"
   ]
  },
  {
   "cell_type": "code",
   "execution_count": null,
   "metadata": {},
   "outputs": [],
   "source": [
    "type(lhec_sequence)"
   ]
  },
  {
   "cell_type": "markdown",
   "metadata": {},
   "source": [
    "The loaders will load not only the main Twiss table, but will also read the metadata and instanciate other quantities. The main Twiss table can be used as a `pandas.DataFrame`."
   ]
  },
  {
   "cell_type": "code",
   "execution_count": null,
   "metadata": {},
   "outputs": [],
   "source": [
    "lhec_sequence.df.head(5)"
   ]
  },
  {
   "cell_type": "markdown",
   "metadata": {},
   "source": [
    "The Twiss headers are also available in the form of a `pandas.Series`:"
   ]
  },
  {
   "cell_type": "code",
   "execution_count": null,
   "metadata": {},
   "outputs": [],
   "source": [
    "lhec_sequence.metadata.data"
   ]
  },
  {
   "cell_type": "markdown",
   "metadata": {},
   "source": [
    "A `Kinematics` object is automatically infered from the Twiss headers."
   ]
  },
  {
   "cell_type": "code",
   "execution_count": null,
   "metadata": {},
   "outputs": [],
   "source": [
    "lhec_sequence.metadata.kinematics"
   ]
  },
  {
   "cell_type": "markdown",
   "metadata": {},
   "source": [
    "Same for the particle type."
   ]
  },
  {
   "cell_type": "code",
   "execution_count": null,
   "metadata": {},
   "outputs": [],
   "source": [
    "lhec_sequence.metadata.particle"
   ]
  },
  {
   "cell_type": "markdown",
   "metadata": {},
   "source": [
    "Also, Zgoubidoo provides a `BetaBlock` class that holds a set of Twiss parameters. The sequence will contain the 'beta0' block:"
   ]
  },
  {
   "cell_type": "code",
   "execution_count": null,
   "metadata": {},
   "outputs": [],
   "source": [
    "lhec_sequence.betablock"
   ]
  },
  {
   "cell_type": "markdown",
   "metadata": {},
   "source": [
    "Finally, as this is a Twiss sequence, a `BeamTwiss` is also created. This is another type of `zgoubidoo.beam` that abstracts the concept of `OBJET 5` from Zgoubi."
   ]
  },
  {
   "cell_type": "code",
   "execution_count": null,
   "metadata": {},
   "outputs": [],
   "source": [
    "lhec_sequence.beam"
   ]
  },
  {
   "cell_type": "markdown",
   "metadata": {},
   "source": [
    "Now that we have the sequence, we need to convert it to a Zgoubi input. This is equallly easy to do.\n",
    "\n",
    "Note that the beam definition is automatically included, with the correct initial Twiss parameters, correct particle type and correct BRHO."
   ]
  },
  {
   "cell_type": "code",
   "execution_count": null,
   "metadata": {},
   "outputs": [],
   "source": [
    "zi_twiss = zgoubidoo.Input.from_sequence(lhec_sequence)"
   ]
  },
  {
   "cell_type": "code",
   "execution_count": null,
   "metadata": {},
   "outputs": [],
   "source": [
    "#zi_twiss"
   ]
  },
  {
   "cell_type": "markdown",
   "metadata": {},
   "source": [
    "## Real machine Twiss computations"
   ]
  },
  {
   "cell_type": "markdown",
   "metadata": {},
   "source": [
    "Let's add a Zgoubi 'OPTICS' keyword and see if we can reproduce the MAD-X Twiss."
   ]
  },
  {
   "cell_type": "code",
   "execution_count": null,
   "metadata": {},
   "outputs": [],
   "source": [
    "#zi_twiss.XPAS = 20 * _.cm\n",
    "zi_twiss.insert_after(zi_twiss.beam, Optics())\n",
    "zi_twiss.survey(output=False)"
   ]
  },
  {
   "cell_type": "code",
   "execution_count": null,
   "metadata": {},
   "outputs": [],
   "source": [
    "z = zgoubidoo.Zgoubi()\n",
    "zr_twiss = z(zi_twiss).collect()"
   ]
  },
  {
   "cell_type": "code",
   "execution_count": null,
   "metadata": {},
   "outputs": [],
   "source": [
    "fig = plt.figure(figsize=(15, 7))\n",
    "ax = fig.add_subplot(111)\n",
    "artist = zgoubidoo.vis.ZgoubiMpl(ax=ax)\n",
    "zgoubidoo.vis.cartouche(line=zi_twiss, artist=artist)\n",
    "\n",
    "ax.plot(lhec_ir.df['S'], lhec_ir.df['BETX'], 'b-', ms=10, label='MAD-X BETX')\n",
    "ax.plot(zr_twiss.optics['S'], zr_twiss.optics['BETA11'], 'bx', ms=7, label='Zgoubi BETA11')\n",
    "\n",
    "ax.plot(lhec_ir.df['S'], lhec_ir.df['BETY'], 'r-', ms=10, label='MAD-X BETY')\n",
    "ax.plot(zr_twiss.optics['S'], zr_twiss.optics['BETA22'], 'rx', ms=7, label='Zgoubi BETA22')\n",
    "\n",
    "\n",
    "ax2 = ax.twinx()\n",
    "ax2.plot(lhec_ir.df['S'], lhec_ir.df['DX'], 'g-', ms=10, label='MAD-X DX')\n",
    "ax2.plot(zr_twiss.optics['S'], zr_twiss.optics['DISP1'], 'gx', ms=7, label='Zgoubi DISP1')\n",
    "\n",
    "ax2.plot(lhec_ir.df['S'], lhec_ir.df['DY'], 'm-', ms=10, label='MAD-X DY')\n",
    "ax2.plot(zr_twiss.optics['S'], zr_twiss.optics['DISP3'], 'mx', ms=7, label='Zgoubi DISP3')\n",
    "\n",
    "ax.legend(loc=6, fontsize=12)\n",
    "ax2.legend(loc=5, fontsize=12)\n",
    "artist.ax.grid(True, alpha=0.2)\n",
    "artist.ax.set_xlabel(\"S (m)\", fontsize=20)\n",
    "artist.ax.set_ylabel(\"Beta function (m)\", fontsize=20)\n",
    "artist.ax.tick_params(axis='both', which='major', labelsize=18)\n",
    "ax2.set_ylabel(\"Dispersion (m)\", fontsize=20)\n",
    "ax2.tick_params(axis='both', which='major', labelsize=18)"
   ]
  },
  {
   "cell_type": "markdown",
   "metadata": {},
   "source": [
    "Encouraging but not fully correct.\n",
    "\n",
    "The yellow-colored magnets are vertical bends, rotated using a `CHANGREF` Zgoubi keyword. The Zgoubi tracking is done in a local coordinate system for each magnet. Therefore Zgoubi does not \"understand\" that the axes are swapped when rotating the magnet to make it a vertical bend. As a consequence, the reconstruction of the transfer matrix, and thus the computation of the Twiss parameters becomes incorrect.\n",
    "\n",
    "The same happens for the vertical and horizontal beta-functions.\n",
    "\n",
    "We can also observe what happens with the alpha-functions."
   ]
  },
  {
   "cell_type": "code",
   "execution_count": null,
   "metadata": {},
   "outputs": [],
   "source": [
    "fig = plt.figure(figsize=(15, 7))\n",
    "ax = fig.add_subplot(111)\n",
    "artist = zgoubidoo.vis.ZgoubiMpl(ax=ax)\n",
    "zgoubidoo.vis.cartouche(line=zi_twiss, artist=artist)\n",
    "\n",
    "ax.plot(lhec_ir.df['S'], lhec_ir.df['ALFX'], 'b-', ms=10, label='MAD-X ALPHAX')\n",
    "ax.plot(zr_twiss.optics['S'], zr_twiss.optics['BETA11'], 'bx', ms=7, label='Zgoubi ALPHA11')\n",
    "\n",
    "ax.plot(lhec_ir.df['S'], lhec_ir.df['ALFY'], 'b-', ms=10, label='MAD-X ALPHAY')\n",
    "ax.plot(zr_twiss.optics['S'], zr_twiss.optics['BETA22'], 'bx', ms=7, label='Zgoubi ALPHA22')\n",
    "\n",
    "ax.legend(loc=3, fontsize=12)\n",
    "artist.ax.grid(True, alpha=0.2)\n",
    "artist.ax.set_xlabel(\"S (m)\", fontsize=20)\n",
    "artist.ax.set_ylabel(\"Alpha function\", fontsize=20)\n",
    "artist.ax.tick_params(axis='both', which='major', labelsize=18)\n",
    "\n",
    "#ax.text(100.0, 1500.0, f\"{lhec_ir.table.loc['B0', 'ALFX']}\", fontsize=12)\n",
    "#ax.text(100.0, 1300.0, f\"\"\"{tw.query(\"LABEL1 == 'IP'\").iloc[-1]['ALPHA11']:.4f}\"\"\", fontsize=12)"
   ]
  },
  {
   "cell_type": "markdown",
   "metadata": {},
   "source": [
    "**Not cool!**\n",
    "\n",
    "Can we do better?\n",
    "\n",
    "Zgoubidoo is able to compute the Twiss parameters in the same way than Zgoubi:\n",
    "- the transfer matrix is computed using finite differences\n",
    "- the Twiss parameters are reconstructed\n",
    "\n",
    "However, because of the powerful `survey` module in Zgoubidoo, the location and orientation of every element is known. Therefore, when reading the tracking data, Zgoubidoo will automatically convert the coordinates to the global coordinate system (remember, that's the one that we defined when doing the survey). The angles are also converted, so in the end all the Twiss paraters will behave correctly; even for crazy lattices with arbitraty rotations.\n",
    "\n",
    "First we need to compute the transfer matrix."
   ]
  },
  {
   "cell_type": "code",
   "execution_count": null,
   "metadata": {},
   "outputs": [],
   "source": [
    "zr_twiss.tracks['T'] = zr_twiss.tracks['TG']\n",
    "zr_twiss.tracks['P'] = zr_twiss.tracks['PG']\n",
    "zr_twiss.tracks['X'] = zr_twiss.tracks['XG']\n",
    "zr_twiss.tracks['Y'] = zr_twiss.tracks['YG']\n",
    "zr_twiss.tracks['Z'] = zr_twiss.tracks['ZG']\n",
    "M = zgoubidoo.twiss.compute_transfer_matrix(beamline=zi_twiss, tracks=zr_twiss.tracks)\n",
    "M.head(5)"
   ]
  },
  {
   "cell_type": "markdown",
   "metadata": {},
   "source": [
    "Then we compute the Twiss parameters (note that the `BetaBlock` is used here):"
   ]
  },
  {
   "cell_type": "code",
   "execution_count": null,
   "metadata": {},
   "outputs": [],
   "source": [
    "zgoubidoo_twiss = zgoubidoo.twiss.compute_twiss(matrix=M, twiss_init=lhec_sequence.betablock)\n",
    "zgoubidoo_twiss.head(5)"
   ]
  },
  {
   "cell_type": "markdown",
   "metadata": {},
   "source": [
    "We should now be able to plot everything."
   ]
  },
  {
   "cell_type": "code",
   "execution_count": null,
   "metadata": {},
   "outputs": [],
   "source": [
    "fig = plt.figure(figsize=(15, 7))\n",
    "ax = fig.add_subplot(111)\n",
    "artist = zgoubidoo.vis.ZgoubiMpl(ax=ax)\n",
    "zgoubidoo.vis.cartouche(line=zi_twiss, artist=artist)\n",
    "\n",
    "ax.plot(zgoubidoo_twiss['S'], zgoubidoo_twiss['BETA11'], 'b-', ms=0.5, label='Zgoubidoo BETA11')\n",
    "ax.plot(lhec_ir.df['S'] + zgoubidoo_twiss['S'].min(), lhec_ir.df['BETX'], 'b+', ms=10, label='MAD-X BETX')\n",
    "#ax.plot(zr_twiss.optics['S'] + tw['S'].min(), zr_twiss.optics['BETA11'], 'bx', ms=7, label='Zgoubi BETA11')\n",
    "\n",
    "ax.plot(zgoubidoo_twiss['S'], zgoubidoo_twiss['BETA22'], 'r-', ms=0.5, label='Zgoubidoo BETA22')\n",
    "ax.plot(lhec_ir.df['S'] + zgoubidoo_twiss['S'].min(), lhec_ir.df['BETY'], 'r+', ms=10, label='MAD-X BETY')\n",
    "#ax.plot(zr_twiss.optics['S'] + tw['S'].min(), zr_twiss.optics['BETA22'], 'rx', ms=7, label='Zgoubi BETA22')\n",
    "\n",
    "\n",
    "ax2 = ax.twinx()\n",
    "ax2.plot(zgoubidoo_twiss['S'], zgoubidoo_twiss['DISP1'], 'g-.', ms=0.5, label='Zgoubidoo DISP1')\n",
    "ax2.plot(lhec_ir.df['S'] + zgoubidoo_twiss['S'].min(), lhec_ir.df['DX'], 'g+', ms=10, label='MAD-X DX')\n",
    "#ax2.plot(zr_twiss.optics['S'] + tw['S'].min(), zr_twiss.optics['DISP1'], 'gx', ms=7, label='Zgoubi DISP1')\n",
    "\n",
    "ax2.plot(zgoubidoo_twiss['S'], zgoubidoo_twiss['DISP3'], 'm-.', ms=0.5, label='Zgoubidoo DISP3')\n",
    "ax2.plot(lhec_ir.df['S'] + zgoubidoo_twiss['S'].min(), lhec_ir.df['DY'], 'm+', ms=10, label='MAD-X DY')\n",
    "#ax2.plot(zr_twiss.optics['S'] + tw['S'].min(), zr_twiss.optics['DISP3'], 'mx', ms=7, label='Zgoubi DISP3')\n",
    "\n",
    "ax.legend(loc=6, fontsize=12)\n",
    "ax2.legend(loc=5, fontsize=12)\n",
    "artist.ax.grid(True, alpha=0.2)\n",
    "artist.ax.set_xlabel(\"S (m)\", fontsize=20)\n",
    "artist.ax.set_ylabel(\"Beta function (m)\", fontsize=20)\n",
    "artist.ax.tick_params(axis='both', which='major', labelsize=18)\n",
    "ax2.set_ylabel(\"Dispersion (m)\", fontsize=20)\n",
    "ax2.tick_params(axis='both', which='major', labelsize=18)"
   ]
  },
  {
   "cell_type": "markdown",
   "metadata": {},
   "source": [
    "## backward tracking ! For transfer matrix in case of large fringe fields, etc. check with the S coordinate\n",
    "\n",
    "Lattices for the workshop : ESRF ? Or PSR ? Maybe PSR is easier. Then FFA.\n",
    "\n",
    "PSR\n",
    "FFA\n",
    "ESRF"
   ]
  },
  {
   "cell_type": "code",
   "execution_count": null,
   "metadata": {},
   "outputs": [],
   "source": []
  }
 ],
 "metadata": {
  "kernelspec": {
   "display_name": "Python 3 (Homebrew)",
   "language": "python",
   "name": "python3"
  },
  "language_info": {
   "codemirror_mode": {
    "name": "ipython",
    "version": 3
   },
   "file_extension": ".py",
   "mimetype": "text/x-python",
   "name": "python",
   "nbconvert_exporter": "python",
   "pygments_lexer": "ipython3",
   "version": "3.7.7"
  }
 },
 "nbformat": 4,
 "nbformat_minor": 4
}
